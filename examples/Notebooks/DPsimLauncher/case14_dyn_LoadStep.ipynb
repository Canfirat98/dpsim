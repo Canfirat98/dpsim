{
 "cells": [
  {
   "attachments": {},
   "cell_type": "markdown",
   "metadata": {},
   "source": [
    "# IEEE14bus using DPsimLauncher"
   ]
  },
  {
   "attachments": {},
   "cell_type": "markdown",
   "metadata": {},
   "source": [
    "## Case 1: Different step sizes"
   ]
  },
  {
   "cell_type": "code",
   "execution_count": null,
   "metadata": {},
   "outputs": [],
   "source": [
    "import sys\n",
    "sys.path.insert(0,'/home/mmo/git/Can/dpsim/python/src/dpsim')\n",
    "sys.path.insert(0,'/home/mmo/git/Can/dpsim/build')\n",
    "\n",
    "import dpsimpy\n",
    "from DPsimLauncher import DPsimLauncher"
   ]
  },
  {
   "cell_type": "code",
   "execution_count": null,
   "metadata": {},
   "outputs": [],
   "source": [
    "launcher = DPsimLauncher('/home/mmo/git/Can/dpsim/python/src/dpsim/Config_IEEE14_LoadStep.json')\n",
    "launcher.start_pf_simulation()\n",
    "launcher.get_pf_results()"
   ]
  },
  {
   "cell_type": "code",
   "execution_count": null,
   "metadata": {},
   "outputs": [],
   "source": [
    "launcher.run_dynamic_simulations()"
   ]
  },
  {
   "cell_type": "code",
   "execution_count": null,
   "metadata": {},
   "outputs": [],
   "source": [
    "launcher.system"
   ]
  },
  {
   "attachments": {},
   "cell_type": "markdown",
   "metadata": {},
   "source": [
    "### Plot results"
   ]
  },
  {
   "cell_type": "code",
   "execution_count": null,
   "metadata": {},
   "outputs": [],
   "source": [
    "from villas.dataprocessing.readtools import *\n",
    "from villas.dataprocessing.timeseries import *\n",
    "import matplotlib.pyplot as plt\n",
    "\n",
    "#var_names = [\"Bus_0011.V\", \"Gen_0001.w_r\", \"Gen_0002.w_r\", \"Gen_0003.w_r\"]\n",
    "var_names = [\"Gen_0001.Te\", \"Gen_0002.Te\", \"Gen_0001.w_r\", \"Gen_0002.w_r\"]\n",
    "axes_pos = [(0,0), (0,1), (1,0), (1,1)]\n",
    "timestep = 1e-4\n",
    "label_y = [\"Electrical Torque SG - Bus 1 [pu]\", \"Electrical Torque SG - Bus 2 [pu]\", \"Mechanical Omega SG - Bus 1 [pu]\", \"Mechanical Omega SG - Bus 2 [pu]\"]\n",
    "\n",
    "fig, axes = plt.subplots(nrows=2, ncols=2, figsize=(15, 10))\n",
    "\n",
    "ts_dpsim_loaded = {}\n",
    "for elem in launcher.get_path_to_results():\n",
    "    for idx, domain in enumerate(elem[\"Domain\"]):\n",
    "        ts_dpsim_loaded[domain] = read_timeseries_csv(elem[\"Path\"][idx], print_status=False)\n",
    "        \n",
    "axes[0][0].plot(ts_dpsim_loaded[\"SP\"][var_names[0]].interpolate(timestep).time, ts_dpsim_loaded[\"SP\"][var_names[0]].interpolate(timestep).values, label='{}'.format(\"SP\"))\n",
    "axes[0][0].plot(ts_dpsim_loaded[\"DP\"][var_names[0]].interpolate(timestep).time, ts_dpsim_loaded[\"DP\"][var_names[0]].interpolate(timestep).values, '--', label='{}'.format(\"DP\"))\n",
    "axes[0][0].plot(ts_dpsim_loaded[\"EMT\"][var_names[0]].interpolate(timestep).time, ts_dpsim_loaded[\"EMT\"][var_names[0]].interpolate(timestep).values, ':', label='{}'.format(\"EMT\"))\n",
    "axes[0][0].set_xlabel(\"Time [s]\")\n",
    "axes[0][0].set_ylabel('{}'.format(label_y[0]))\n",
    "axes[0][0].set_xlim([0,30])\n",
    "#axes[0][0].legend(loc='lower right')\n",
    "axes[0][0].grid()\n",
    "\n",
    "axes[0][1].plot(ts_dpsim_loaded[\"SP\"][var_names[1]].interpolate(timestep).time, ts_dpsim_loaded[\"SP\"][var_names[1]].interpolate(timestep).values, label='{}'.format(\"SP\"))\n",
    "axes[0][1].plot(ts_dpsim_loaded[\"DP\"][var_names[1]].interpolate(timestep).time, ts_dpsim_loaded[\"DP\"][var_names[1]].interpolate(timestep).values, '--', label='{}'.format(\"DP\"))\n",
    "axes[0][1].plot(ts_dpsim_loaded[\"EMT\"][var_names[1]].interpolate(timestep).time, ts_dpsim_loaded[\"EMT\"][var_names[1]].interpolate(timestep).values, ':', label='{}'.format(\"EMT\"))\n",
    "axes[0][1].set_xlabel(\"Time [s]\")\n",
    "axes[0][1].set_ylabel('{}'.format(label_y[1]))\n",
    "#axes[0][1].set_xlim([0,30])\n",
    "axes[0][1].legend(loc='lower right')\n",
    "axes[0][1].grid()\n",
    "         \n",
    "axes[1][0].plot(ts_dpsim_loaded[\"SP\"][var_names[2]].interpolate(timestep).time, ts_dpsim_loaded[\"SP\"][var_names[2]].interpolate(timestep).values, label='{}'.format(\"SP\"))\n",
    "axes[1][0].plot(ts_dpsim_loaded[\"DP\"][var_names[2]].interpolate(timestep).time, ts_dpsim_loaded[\"DP\"][var_names[2]].interpolate(timestep).values, '--', label='{}'.format(\"DP\"))\n",
    "axes[1][0].plot(ts_dpsim_loaded[\"EMT\"][var_names[2]].interpolate(timestep).time, ts_dpsim_loaded[\"EMT\"][var_names[2]].interpolate(timestep).values, ':', label='{}'.format(\"EMT\"))\n",
    "axes[1][0].set_xlabel(\"Time [s]\")\n",
    "axes[1][0].set_ylabel('{}'.format(label_y[2]))\n",
    "#axes[1][0].set_xlim([0,30])\n",
    "axes[1][0].legend(loc='lower right')\n",
    "axes[1][0].grid()\n",
    "\n",
    "axes[1][1].plot(ts_dpsim_loaded[\"SP\"][var_names[3]].interpolate(timestep).time, ts_dpsim_loaded[\"SP\"][var_names[3]].interpolate(timestep).values, label='{}'.format(\"SP\"))\n",
    "axes[1][1].plot(ts_dpsim_loaded[\"DP\"][var_names[3]].interpolate(timestep).time, ts_dpsim_loaded[\"DP\"][var_names[3]].interpolate(timestep).values, '--', label='{}'.format(\"DP\"))\n",
    "axes[1][1].plot(ts_dpsim_loaded[\"EMT\"][var_names[3]].interpolate(timestep).time, ts_dpsim_loaded[\"EMT\"][var_names[3]].interpolate(timestep).values, ':', label='{}'.format(\"EMT\"))\n",
    "axes[1][1].set_xlabel(\"Time [s]\")\n",
    "axes[1][1].set_ylabel('{}'.format(label_y[3]))\n",
    "#axes[1][1].set_xlim([0,30])\n",
    "axes[1][1].legend(loc='lower right')\n",
    "axes[1][1].grid()\n",
    "     \n",
    "fig.show()\n",
    "plt.tight_layout()\n",
    "plt.savefig(\"./plotting/LoadStep.pdf\")"
   ]
  }
 ],
 "metadata": {
  "kernelspec": {
   "display_name": "Python 3",
   "language": "python",
   "name": "python3"
  },
  "language_info": {
   "codemirror_mode": {
    "name": "ipython",
    "version": 3
   },
   "file_extension": ".py",
   "mimetype": "text/x-python",
   "name": "python",
   "nbconvert_exporter": "python",
   "pygments_lexer": "ipython3",
   "version": "3.9.13"
  },
  "tests": {
   "skip": true
  },
  "vscode": {
   "interpreter": {
    "hash": "767d51c1340bd893661ea55ea3124f6de3c7a262a8b4abca0554b478b1e2ff90"
   }
  }
 },
 "nbformat": 4,
 "nbformat_minor": 4
}
