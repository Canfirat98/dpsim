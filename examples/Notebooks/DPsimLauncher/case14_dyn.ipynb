{
 "cells": [
  {
   "attachments": {},
   "cell_type": "markdown",
   "metadata": {},
   "source": [
    "# IEEE14bus using DPsimLauncher"
   ]
  },
  {
   "attachments": {},
   "cell_type": "markdown",
   "metadata": {},
   "source": [
    "## Case 1: Different step sizes"
   ]
  },
  {
   "cell_type": "code",
   "execution_count": null,
   "metadata": {},
   "outputs": [],
   "source": [
    "import sys\n",
    "sys.path.insert(0,'/home/mmo/git/Can/dpsim/python/src/dpsim')\n",
    "sys.path.insert(0,'/home/mmo/git/Can/dpsim/build')\n",
    "\n",
    "import dpsimpy\n",
    "from DPsimLauncher import DPsimLauncher"
   ]
  },
  {
   "cell_type": "code",
   "execution_count": null,
   "metadata": {},
   "outputs": [],
   "source": [
    "launcher = DPsimLauncher('/home/mmo/git/Can/dpsim/python/src/dpsim/Config_IEEE14_ShortCircuit.json')\n",
    "launcher.start_pf_simulation()\n",
    "launcher.get_pf_results()"
   ]
  },
  {
   "cell_type": "code",
   "execution_count": null,
   "metadata": {},
   "outputs": [],
   "source": [
    "launcher.run_dynamic_simulations()"
   ]
  },
  {
   "cell_type": "code",
   "execution_count": null,
   "metadata": {},
   "outputs": [],
   "source": [
    "launcher.system"
   ]
  },
  {
   "attachments": {},
   "cell_type": "markdown",
   "metadata": {},
   "source": [
    "### Plot results"
   ]
  },
  {
   "cell_type": "code",
   "execution_count": null,
   "metadata": {},
   "outputs": [],
   "source": [
    "from villas.dataprocessing.readtools import *\n",
    "from villas.dataprocessing.timeseries import *\n",
    "import matplotlib.pyplot as plt\n",
    "\n",
    "var_name = 'Bus_0014.V'\n",
    "timestep = 1e-6\n",
    "\n",
    "ts_ref_simulation = None\n",
    "for elem in launcher.get_path_to_results():\n",
    "    if (elem[\"TimeStep\"]==1e-4):\n",
    "        for idx, domain in enumerate(elem[\"Domain\"]):\n",
    "            if domain==\"EMT\":\n",
    "                ts_ref_simulation = read_timeseries_csv(elem[\"Path\"][idx], print_status=False)\n",
    "        \n",
    "for elem in launcher.get_path_to_results():\n",
    "    plt.figure()\n",
    "    plt.title('Time step = {}s'.format(elem[\"TimeStep\"]))\n",
    "    plt.xlabel(\"Time [s]\")\n",
    "    plt.ylabel(\"Voltage [kV]\")\n",
    "    plt.xlim([0,0.2])\n",
    "    plt.plot(ts_ref_simulation[var_name+\"_0\"].interpolate(timestep).time, ts_ref_simulation[var_name+\"_0\"].interpolate(timestep).values/1000, label='REF')\n",
    "    for idx, domain in enumerate(elem[\"Domain\"]):\n",
    "        ts_dpsim = read_timeseries_csv(elem[\"Path\"][idx], print_status=False)\n",
    "        if domain==\"EMT\":\n",
    "            #plt.plot(ts_dpsim[var_name+\"_0\"].interpolate(timestep).time, ts_dpsim[var_name+\"_0\"].interpolate(timestep).values/1000, label='{}'.format(domain))\n",
    "            pass\n",
    "        else:\n",
    "            plt.plot(ts_dpsim[var_name].interpolate(timestep).time, np.sqrt(2/3)*ts_dpsim[var_name].interpolate(timestep).frequency_shift(60).values/1000, '--', label='{} backshift'.format(domain))\n",
    "    plt.legend(loc=\"upper right\")\n",
    "    plt.grid()\n"
   ]
  },
  {
   "cell_type": "markdown",
   "metadata": {},
   "source": [
    "### Export to CIM"
   ]
  },
  {
   "cell_type": "code",
   "execution_count": null,
   "metadata": {},
   "outputs": [],
   "source": [
    "import cimpy\n",
    "from cimpy.DPsim2CIM import DPsimToCIMpy\n",
    "\n",
    "cim_topo = DPsimToCIMpy(launcher.system_pf, launcher.sim, launcher.system, frequency=60)\n",
    "activeProfileList = ['SV', 'EQ', 'TP', 'DY']\n",
    "cimpy.cim_export(cim_topo, 'test3', 'cgmes_v2_4_15', activeProfileList)"
   ]
  }
 ],
 "metadata": {
  "kernelspec": {
   "display_name": "Python 3",
   "language": "python",
   "name": "python3"
  },
  "language_info": {
   "codemirror_mode": {
    "name": "ipython",
    "version": 3
   },
   "file_extension": ".py",
   "mimetype": "text/x-python",
   "name": "python",
   "nbconvert_exporter": "python",
   "pygments_lexer": "ipython3",
   "version": "3.9.13"
  },
  "tests": {
   "skip": true
  },
  "vscode": {
   "interpreter": {
    "hash": "767d51c1340bd893661ea55ea3124f6de3c7a262a8b4abca0554b478b1e2ff90"
   }
  }
 },
 "nbformat": 4,
 "nbformat_minor": 4
}
