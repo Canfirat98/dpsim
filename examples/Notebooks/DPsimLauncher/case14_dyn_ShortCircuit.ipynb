{
 "cells": [
  {
   "attachments": {},
   "cell_type": "markdown",
   "metadata": {},
   "source": [
    "# IEEE14bus using DPsimLauncher"
   ]
  },
  {
   "attachments": {},
   "cell_type": "markdown",
   "metadata": {},
   "source": [
    "## Case 1: Different step sizes"
   ]
  },
  {
   "cell_type": "code",
   "execution_count": null,
   "metadata": {},
   "outputs": [],
   "source": [
    "import sys\n",
    "sys.path.insert(0,'/home/mmo/git/Can/dpsim/python/src/dpsim')\n",
    "sys.path.insert(0,'/home/mmo/git/Can/dpsim/build')\n",
    "\n",
    "import dpsimpy\n",
    "from DPsimLauncher import DPsimLauncher"
   ]
  },
  {
   "cell_type": "code",
   "execution_count": null,
   "metadata": {},
   "outputs": [],
   "source": [
    "launcher = DPsimLauncher('/home/mmo/git/Can/dpsim/python/src/dpsim/Config_IEEE14_ShortCircuit.json')\n",
    "launcher.start_pf_simulation()\n",
    "launcher.get_pf_results()"
   ]
  },
  {
   "cell_type": "code",
   "execution_count": null,
   "metadata": {},
   "outputs": [],
   "source": [
    "launcher.run_dynamic_simulations()"
   ]
  },
  {
   "cell_type": "code",
   "execution_count": null,
   "metadata": {},
   "outputs": [],
   "source": [
    "launcher.system"
   ]
  },
  {
   "attachments": {},
   "cell_type": "markdown",
   "metadata": {},
   "source": [
    "### Plot results"
   ]
  },
  {
   "cell_type": "code",
   "execution_count": null,
   "metadata": {},
   "outputs": [],
   "source": [
    "from villas.dataprocessing.readtools import *\n",
    "from villas.dataprocessing.timeseries import *\n",
    "import matplotlib.pyplot as plt\n",
    "\n",
    "var_names = [\"Bus_0014.V\", \"Bus_0014.V\", \"Bus_0014.V\", \"Bus_0014.V\"]\n",
    "axes_pos = [(0,0), (0,1), (1,0), (1,1)]\n",
    "timestep = 1e-4\n",
    "label_y = [\"Voltage [kV]\", \"Voltage [kV]\", \"Voltage [kV]\", \"Voltage [kV]\"]\n",
    "\n",
    "fig, axes = plt.subplots(nrows=2, ncols=2, figsize=(15, 10))\n",
    "\n",
    "ts_dpsim_loaded = {}\n",
    "for elem in launcher.get_path_to_results():\n",
    "    for idx, domain in enumerate(elem[\"Domain\"]):\n",
    "        ts_dpsim_loaded[domain] = read_timeseries_csv(elem[\"Path\"][idx], print_status=False)\n",
    "\n",
    "time_step_str = launcher.get_path_to_results()[0][\"TimeStep\"]\n",
    "domains = launcher.get_path_to_results()[0][\"Domain\"]\n",
    "path = launcher.get_path_to_results()[0][\"Path\"]\n",
    "ts_dpsim0 = read_timeseries_csv(path[0], print_status=False)\n",
    "ts_dpsim1 = read_timeseries_csv(path[1], print_status=False)\n",
    "ts_dpsim2 = read_timeseries_csv(path[2], print_status=False)\n",
    "axes[0][0].plot(ts_dpsim0[\"Bus_0014.V\"].interpolate(timestep).time, ts_dpsim0[\"Bus_0014.V\"].interpolate(timestep).values/1000, label='{}'.format(domains[0]))\n",
    "axes[0][0].plot(ts_dpsim1[\"Bus_0014.V\"].interpolate(timestep).time, ts_dpsim1[\"Bus_0014.V\"].interpolate(timestep).values/1000, '--', label='{}'.format(domains[1]))\n",
    "axes[0][0].plot(ts_dpsim2[\"Bus_0014.V_0\"].interpolate(timestep).time, ts_dpsim2[\"Bus_0014.V_0\"].interpolate(timestep).values/1000, label='{}'.format(domains[2]))\n",
    "axes[0][0].set_xlabel(\"Time [s]\")\n",
    "axes[0][0].set_ylabel('{}'.format(label_y[0]))\n",
    "axes[0][0].set_xlim([0,0.6])\n",
    "axes[0][0].legend(loc='lower right')\n",
    "axes[0][0].grid()\n",
    "axes[0][0].set_title('Timestep={}s'.format(time_step_str))\n",
    "\n",
    "time_step_str = launcher.get_path_to_results()[1][\"TimeStep\"]\n",
    "domains = launcher.get_path_to_results()[1][\"Domain\"]\n",
    "path = launcher.get_path_to_results()[1][\"Path\"]\n",
    "ts_dpsim0 = read_timeseries_csv(path[0], print_status=False)\n",
    "ts_dpsim1 = read_timeseries_csv(path[1], print_status=False)\n",
    "ts_dpsim2 = read_timeseries_csv(path[2], print_status=False)\n",
    "axes[0][1].plot(ts_dpsim0[\"Bus_0014.V\"].interpolate(timestep).time, np.sqrt(2/3)*ts_dpsim0[\"Bus_0014.V\"].interpolate(timestep).values/1000, label='{}'.format(domains[0]))\n",
    "axes[0][1].plot(ts_dpsim1[\"Bus_0014.V\"].interpolate(timestep).time, np.sqrt(2/3)*ts_dpsim1[\"Bus_0014.V\"].interpolate(timestep).values/1000, '--', label='{}'.format(domains[1]))\n",
    "axes[0][1].plot(ts_dpsim2[\"Bus_0014.V_0\"].interpolate(timestep).time, ts_dpsim2[\"Bus_0014.V_0\"].interpolate(timestep).values/1000, label='{}'.format(domains[2]))\n",
    "axes[0][1].set_xlabel(\"Time [s]\")\n",
    "axes[0][1].set_ylabel('{}'.format(label_y[0]))\n",
    "axes[0][1].set_xlim([0,0.6])\n",
    "axes[0][1].legend(loc='lower right')\n",
    "axes[0][1].grid()\n",
    "axes[0][1].set_title('Timestep={}s'.format(time_step_str))\n",
    "         \n",
    "time_step_str = launcher.get_path_to_results()[2][\"TimeStep\"]\n",
    "domains = launcher.get_path_to_results()[2][\"Domain\"]\n",
    "path = launcher.get_path_to_results()[2][\"Path\"]\n",
    "ts_dpsim0 = read_timeseries_csv(path[0], print_status=False)\n",
    "ts_dpsim1 = read_timeseries_csv(path[1], print_status=False)\n",
    "ts_dpsim2 = read_timeseries_csv(path[2], print_status=False)\n",
    "axes[1][0].plot(ts_dpsim0[\"Bus_0014.V\"].interpolate(timestep).time, np.sqrt(2/3)*ts_dpsim0[\"Bus_0014.V\"].interpolate(timestep).values/1000, label='{}'.format(domains[0]))\n",
    "axes[1][0].plot(ts_dpsim1[\"Bus_0014.V\"].interpolate(timestep).time, np.sqrt(2/3)*ts_dpsim1[\"Bus_0014.V\"].interpolate(timestep).values/1000, '--', label='{}'.format(domains[1]))\n",
    "axes[1][0].plot(ts_dpsim2[\"Bus_0014.V_0\"].interpolate(timestep).time, ts_dpsim2[\"Bus_0014.V_0\"].interpolate(timestep).values/1000, label='{}'.format(domains[2]))\n",
    "axes[1][0].set_xlabel(\"Time [s]\")\n",
    "axes[1][0].set_ylabel('{}'.format(label_y[0]))\n",
    "axes[1][0].set_xlim([0,0.6])\n",
    "axes[1][0].legend(loc='lower right')\n",
    "axes[1][0].grid()\n",
    "axes[1][0].set_title('Timestep={}s'.format(time_step_str))\n",
    "\n",
    "time_step_str = launcher.get_path_to_results()[3][\"TimeStep\"]\n",
    "domains = launcher.get_path_to_results()[3][\"Domain\"]\n",
    "path = launcher.get_path_to_results()[3][\"Path\"]\n",
    "ts_dpsim0 = read_timeseries_csv(path[0], print_status=False)\n",
    "ts_dpsim1 = read_timeseries_csv(path[1], print_status=False)\n",
    "ts_dpsim2 = read_timeseries_csv(path[2], print_status=False)\n",
    "axes[1][1].plot(ts_dpsim0[\"Bus_0014.V\"].interpolate(timestep).time, np.sqrt(2/3)*ts_dpsim0[\"Bus_0014.V\"].interpolate(timestep).values/1000, label='{}'.format(domains[0]))\n",
    "axes[1][1].plot(ts_dpsim1[\"Bus_0014.V\"].interpolate(timestep).time, np.sqrt(2/3)*ts_dpsim1[\"Bus_0014.V\"].interpolate(timestep).values/1000, '--', label='{}'.format(domains[1]))\n",
    "axes[1][1].plot(ts_dpsim2[\"Bus_0014.V_0\"].interpolate(timestep).time, ts_dpsim2[\"Bus_0014.V_0\"].interpolate(timestep).values/1000, label='{}'.format(domains[2]))\n",
    "axes[1][1].set_xlabel(\"Time [s]\")\n",
    "axes[1][1].set_ylabel('{}'.format(label_y[0]))\n",
    "axes[1][1].set_xlim([0,0.6])\n",
    "axes[1][1].legend(loc='lower right')\n",
    "axes[1][1].grid()\n",
    "axes[1][1].set_title('Timestep={}s'.format(time_step_str))\n",
    "     \n",
    "fig.show()\n",
    "plt.tight_layout()\n",
    "plt.savefig(\"./plotting/ShortCircuit.pdf\")"
   ]
  },
  {
   "cell_type": "markdown",
   "metadata": {},
   "source": [
    "### Export to CIM"
   ]
  },
  {
   "cell_type": "code",
   "execution_count": null,
   "metadata": {},
   "outputs": [],
   "source": [
    "import DPsim2CIM\n",
    "import cimpy\n",
    "\n",
    "cim_topo = DPsim2CIM.DPsimToCIMpy(launcher.system_pf, launcher.sim, launcher.system, frequency=60)\n",
    "activeProfileList = ['SV', 'EQ', 'TP', 'DY']\n",
    "cimpy.cim_export(cim_topo, 'test3', 'cgmes_v2_4_15', activeProfileList)"
   ]
  }
 ],
 "metadata": {
  "kernelspec": {
   "display_name": "Python 3",
   "language": "python",
   "name": "python3"
  },
  "language_info": {
   "codemirror_mode": {
    "name": "ipython",
    "version": 3
   },
   "file_extension": ".py",
   "mimetype": "text/x-python",
   "name": "python",
   "nbconvert_exporter": "python",
   "pygments_lexer": "ipython3",
   "version": "3.9.13"
  },
  "tests": {
   "skip": true
  },
  "vscode": {
   "interpreter": {
    "hash": "767d51c1340bd893661ea55ea3124f6de3c7a262a8b4abca0554b478b1e2ff90"
   }
  }
 },
 "nbformat": 4,
 "nbformat_minor": 4
}
