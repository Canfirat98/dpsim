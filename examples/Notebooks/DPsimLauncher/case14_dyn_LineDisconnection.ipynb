{
 "cells": [
  {
   "attachments": {},
   "cell_type": "markdown",
   "metadata": {},
   "source": [
    "# IEEE14bus using DPsimLauncher"
   ]
  },
  {
   "attachments": {},
   "cell_type": "markdown",
   "metadata": {},
   "source": [
    "## Case 1: Different step sizes"
   ]
  },
  {
   "cell_type": "code",
   "execution_count": null,
   "metadata": {},
   "outputs": [],
   "source": [
    "from DPsimLauncher import DPsimLauncher"
   ]
  },
  {
   "cell_type": "code",
   "execution_count": null,
   "metadata": {},
   "outputs": [],
   "source": [
    "launcher = DPsimLauncher('./json/Config_IEEE14_LineDisconnection.json')\n",
    "launcher.start_pf_simulation()\n",
    "launcher.get_pf_results()"
   ]
  },
  {
   "cell_type": "code",
   "execution_count": null,
   "metadata": {},
   "outputs": [],
   "source": [
    "launcher.run_dynamic_simulations()"
   ]
  },
  {
   "cell_type": "code",
   "execution_count": null,
   "metadata": {},
   "outputs": [],
   "source": [
    "launcher.system"
   ]
  },
  {
   "attachments": {},
   "cell_type": "markdown",
   "metadata": {},
   "source": [
    "### Plot results"
   ]
  },
  {
   "cell_type": "code",
   "execution_count": null,
   "metadata": {},
   "outputs": [],
   "source": [
    "from villas.dataprocessing.readtools import *\n",
    "from villas.dataprocessing.timeseries import *\n",
    "import matplotlib.pyplot as plt\n",
    "\n",
    "var_names = [\"Line_0006_0011.I\", \"Line_0010_0011.I\", \"Line_0006_0013.I\", \"Line_0009_0010.I\"]\n",
    "axes_pos = [(0,0), (0,1), (1,0), (1,1)]\n",
    "timestep = 1e-6\n",
    "label_y = [\"Line N6-N11\", \"Line N9-N14\", \"Line N6-N13\", \"Line N9-N10\"]\n",
    "\n",
    "fig, axes = plt.subplots(nrows=2, ncols=2, figsize=(15, 10))\n",
    "\n",
    "for idx_, var_name in enumerate(var_names):\n",
    "    for elem in launcher.get_path_to_results():\n",
    "        for idx, domain in enumerate(elem[\"Domain\"]):\n",
    "            ts_dpsim = read_timeseries_csv(elem[\"Path\"][idx], print_status=False)\n",
    "            if domain==\"EMT\":\n",
    "                axes[axes_pos[idx_]].plot(ts_dpsim[var_name+\"_0\"].interpolate(timestep).time, ts_dpsim[var_name+\"_0\"].interpolate(timestep).values, label='{}'.format(domain))\n",
    "            elif domain==\"SP\":\n",
    "                axes[axes_pos[idx_]].plot(ts_dpsim[var_name].interpolate(timestep).time, np.sqrt(2/3)*ts_dpsim[var_name].interpolate(timestep).abs().values, label='{}'.format(domain))\n",
    "            elif domain==\"DP\":\n",
    "                axes[axes_pos[idx_]].plot(ts_dpsim[var_name].interpolate(timestep).time, np.sqrt(2/3)*ts_dpsim[var_name].interpolate(timestep).abs().values, '--', label='{}'.format(domain))\n",
    "            #plt.legend(loc=\"upper right\")\n",
    "            #plt.grid()\n",
    "            axes[axes_pos[idx_]].set_xlabel(\"Time [s]\")\n",
    "            axes[axes_pos[idx_]].set_ylabel('Current {} [A]'.format(label_y[idx_]))\n",
    "            axes[axes_pos[idx_]].set_xlim([0.9,1.1])\n",
    "            axes[axes_pos[idx_]].legend(loc='lower right')\n",
    "            axes[axes_pos[idx_]].grid()\n",
    "            \n",
    "fig.show()\n",
    "plt.tight_layout()\n",
    "#plt.savefig(\"./plotting/LineDisconnection.pdf\")"
   ]
  }
 ],
 "metadata": {
  "kernelspec": {
   "display_name": "Python 3",
   "language": "python",
   "name": "python3"
  },
  "language_info": {
   "codemirror_mode": {
    "name": "ipython",
    "version": 3
   },
   "file_extension": ".py",
   "mimetype": "text/x-python",
   "name": "python",
   "nbconvert_exporter": "python",
   "pygments_lexer": "ipython3",
   "version": "3.9.13"
  },
  "tests": {
   "skip": true
  },
  "vscode": {
   "interpreter": {
    "hash": "767d51c1340bd893661ea55ea3124f6de3c7a262a8b4abca0554b478b1e2ff90"
   }
  }
 },
 "nbformat": 4,
 "nbformat_minor": 4
}
