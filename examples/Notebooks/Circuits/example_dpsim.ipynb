{
 "cells": [
  {
   "attachments": {},
   "cell_type": "markdown",
   "metadata": {},
   "source": [
    "# Validation Reduced-Order SG VBR models & controllers with SMIB System"
   ]
  },
  {
   "attachments": {},
   "cell_type": "markdown",
   "metadata": {},
   "source": [
    "## Import dpsimpy"
   ]
  },
  {
   "cell_type": "code",
   "execution_count": 2,
   "metadata": {},
   "outputs": [],
   "source": [
    "import sys\n",
    "sys.path.insert(0,'/home/mmo-cya/dpsim/build')\n",
    "#sys.path.remove('/home/mmo/git/lund-anm-control')\n",
    "import dpsimpy"
   ]
  },
  {
   "attachments": {},
   "cell_type": "markdown",
   "metadata": {},
   "source": [
    "## Load PSAT Results"
   ]
  },
  {
   "cell_type": "code",
   "execution_count": 3,
   "metadata": {},
   "outputs": [
    {
     "name": "stdout",
     "output_type": "stream",
     "text": [
      "column number: 11\n",
      "results length: 20003\n",
      "real column names: ['delta', 'omega', 'eq_t', 'theta_bus1', 'theta_bus3', 'V_Bus1', 'V_Bus3', 'vf', 'pm', 'p', 'q']\n",
      "complex column names: []\n",
      "column number: 12\n",
      "results length: 20003\n",
      "real column names: ['delta', 'omega', 'eq_t', 'ed_t', 'theta_bus1', 'theta_bus3', 'V_Bus1', 'V_Bus3', 'vf', 'pm', 'p', 'q']\n",
      "complex column names: []\n",
      "column number: 14\n",
      "results length: 20003\n",
      "real column names: ['delta', 'omega', 'eq_t', 'ed_t', 'eq_s', 'ed_s', 'theta_bus1', 'theta_bus3', 'V_Bus1', 'V_Bus3', 'vf', 'pm', 'p', 'q']\n",
      "complex column names: []\n"
     ]
    }
   ],
   "source": [
    "from villas.dataprocessing.readtools import *\n",
    "from villas.dataprocessing.timeseries import *\n",
    "import os\n",
    "import urllib.request\n",
    "\n",
    "if not os.path.exists('reference-results'):\n",
    "    os.mkdir('reference-results')\n",
    "\n",
    "url = 'https://raw.githubusercontent.com/dpsim-simulator/reference-results/master/PSAT/SMIB-Fault/PSAT_3OrderSyGen_SMIB_Fault_100mS_TS_1mS.out.txt'\n",
    "local_file_3Order = 'reference-results/PSAT_3OrderSyGen_SMIB_Fault_100mS_TS_1mS.out'\n",
    "urllib.request.urlretrieve(url, local_file_3Order) \n",
    "ts_psat_3Order = read_timeseries_dpsim(local_file_3Order)\n",
    "\n",
    "url = 'https://raw.githubusercontent.com/dpsim-simulator/reference-results/master/PSAT/SMIB-Fault/PSAT_4OrderSyGen_SMIB_Fault_100mS_TS_1mS.out.txt'\n",
    "local_file_4Order = 'reference-results/PSAT_4OrderSyGen_SMIB_Fault_100mS_TS_1mS.out'\n",
    "urllib.request.urlretrieve(url, local_file_4Order)\n",
    "ts_psat_4Order = read_timeseries_dpsim(local_file_4Order)\n",
    "\n",
    "url = 'https://raw.githubusercontent.com/dpsim-simulator/reference-results/master/PSAT/SMIB-Fault/PSAT_6OrderSyGen_SMIB_Fault_100mS_TS_1mS.out.txt'\n",
    "local_file_6Order = 'reference-results/PSAT_6OrderSyGen_SMIB_Fault_100mS_TS_1mS.out'\n",
    "urllib.request.urlretrieve(url, local_file_6Order)\n",
    "ts_psat_6Order = read_timeseries_dpsim(local_file_6Order)"
   ]
  },
  {
   "attachments": {},
   "cell_type": "markdown",
   "metadata": {},
   "source": [
    "## Calculate $V_d$, $V_q$, $I_d$ and $I_q$ in PSAT"
   ]
  },
  {
   "attachments": {},
   "cell_type": "markdown",
   "metadata": {},
   "source": [
    "### 3th Order Model"
   ]
  },
  {
   "cell_type": "code",
   "execution_count": 4,
   "metadata": {},
   "outputs": [],
   "source": [
    "#calculate vd and vq\n",
    "angle = ts_psat_3Order['delta'].values - ts_psat_3Order['theta_bus1'].values\n",
    "V_bus1 = ts_psat_3Order['V_Bus1'].values\n",
    "vd = V_bus1 * np.sin(angle)\n",
    "ts_psat_3Order['vd'] = TimeSeries('vd', ts_psat_3Order['V_Bus1'].time, vd)\n",
    "vq = V_bus1 * np.cos(angle)\n",
    "ts_psat_3Order['vq'] = TimeSeries('vq', ts_psat_3Order['V_Bus1'].time, vq)\n",
    "\n",
    "#calculate id and iq in PSAT\n",
    "Xd_t = 0.299900\n",
    "Xq = 1.7600\n",
    "i_d = (ts_psat_3Order['eq_t'].values - ts_psat_3Order['vq'].values) / Xd_t\n",
    "ts_psat_3Order['id'] = TimeSeries('id', ts_psat_3Order['eq_t'].time, i_d)\n",
    "i_q = ts_psat_3Order['vd'].values / Xq\n",
    "ts_psat_3Order['iq'] = TimeSeries('iq', ts_psat_3Order['vd'].time, i_q)"
   ]
  },
  {
   "attachments": {},
   "cell_type": "markdown",
   "metadata": {},
   "source": [
    "### 4th Order Model"
   ]
  },
  {
   "cell_type": "code",
   "execution_count": 5,
   "metadata": {},
   "outputs": [],
   "source": [
    "#calculate vd and vq\n",
    "angle = ts_psat_4Order['delta'].values - ts_psat_4Order['theta_bus1'].values\n",
    "V_bus1 = ts_psat_4Order['V_Bus1'].values\n",
    "vd = V_bus1 * np.sin(angle)\n",
    "ts_psat_4Order['vd'] = TimeSeries('vd', ts_psat_4Order['V_Bus1'].time, vd)\n",
    "vq = V_bus1 * np.cos(angle)\n",
    "ts_psat_4Order['vq'] = TimeSeries('vq', ts_psat_4Order['V_Bus1'].time, vq)\n",
    "    \n",
    "#calculate id and iq in PSAT\n",
    "Xd = 0.299900\n",
    "Xq = 0.650000\n",
    "i_d = (ts_psat_4Order['eq_t'].values - ts_psat_4Order['vq'].values) / Xd\n",
    "ts_psat_4Order['id'] = TimeSeries('id', ts_psat_4Order['eq_t'].time, i_d)\n",
    "i_q = -(ts_psat_4Order['ed_t'].values - ts_psat_4Order['vd'].values) / Xq\n",
    "ts_psat_4Order['iq'] = TimeSeries('iq', ts_psat_4Order['ed_t'].time, i_q)"
   ]
  },
  {
   "attachments": {},
   "cell_type": "markdown",
   "metadata": {},
   "source": [
    "### 6th Order Model (Marconato's model)"
   ]
  },
  {
   "cell_type": "code",
   "execution_count": 6,
   "metadata": {},
   "outputs": [],
   "source": [
    "#calculate vd and vq\n",
    "angle = ts_psat_6Order['delta'].values - ts_psat_6Order['theta_bus1'].values\n",
    "V_bus1 = ts_psat_6Order['V_Bus1'].values\n",
    "vd = V_bus1 * np.sin(angle)\n",
    "ts_psat_6Order['vd'] = TimeSeries('vd', ts_psat_6Order['V_Bus1'].time, vd)\n",
    "vq = V_bus1 * np.cos(angle)\n",
    "ts_psat_6Order['vq'] = TimeSeries('vq', ts_psat_6Order['V_Bus1'].time, vq)\n",
    "\n",
    "#calculate id and iq in PSAT\\n\",\n",
    "Xd_s = 0.2299\n",
    "Xq_s = 0.2500\n",
    "i_d = (ts_psat_6Order['eq_s'].values - ts_psat_6Order['vq'].values) / Xd_s\n",
    "ts_psat_6Order['id'] = TimeSeries('id', ts_psat_6Order['eq_s'].time, i_d)\n",
    "i_q = -(ts_psat_6Order['ed_s'].values - ts_psat_6Order['vd'].values) / Xq_s\n",
    "ts_psat_6Order['iq'] = TimeSeries('iq', ts_psat_6Order['ed_s'].time, i_q)"
   ]
  },
  {
   "attachments": {},
   "cell_type": "markdown",
   "metadata": {},
   "source": [
    "## Define nominal values"
   ]
  },
  {
   "cell_type": "code",
   "execution_count": 7,
   "metadata": {},
   "outputs": [],
   "source": [
    "# nominal values (per unit)\n",
    "nominal_values = {}\n",
    "nominal_values['Te'] = 0.540541\n",
    "nominal_values['Edq0_0'] = 0.403062     #4th order model\n",
    "nominal_values['Edq0_1'] = 0.944802     #3th and 4th order model\n",
    "nominal_values['Edq0_t_0'] = 0.392200   #6 order model\n",
    "nominal_values['Edq0_t_1'] = 0.946405   #6 order model\n",
    "nominal_values['Edq0_s_0'] = 0.548309   #6 order model\n",
    "nominal_values['Edq0_s_1'] = 0.918731   #6 order model\n",
    "nominal_values['Vdq0_0'] = 0.639089\n",
    "nominal_values['Vdq0_1'] = 0.833106\n",
    "nominal_values['Idq0_0'] = 0.372443\n",
    "nominal_values['Idq0_1'] = 0.363119\n",
    "nominal_values['delta'] = 0.909230\n",
    "nominal_values['w_r'] = 1.0\n",
    "\n",
    "nominal_grid_voltage = 24e3\n",
    "\n",
    "#\n",
    "titles = {}\n",
    "titles['Te'] = 'Electrical Torque'\n",
    "titles['Edq0_0'] = 'd-component of the voltage behind the transient reactance'\n",
    "titles['Edq0_1'] = 'q-component of the voltage behind the transient reactance'\n",
    "titles['Edq0_t_0'] = 'd-component of the voltage behind the transient reactance'\n",
    "titles['Edq0_t_1'] = 'd-component of the voltage behind the transient reactance'\n",
    "titles['Edq0_s_0'] = 'd-component of the voltage behind the sub-transient reactance'\n",
    "titles['Edq0_s_1'] = 'd-component of the voltage behind the sub-transient reactance'\n",
    "titles['Vdq0_0'] = 'd-component of the terminal voltage'\n",
    "titles['Vdq0_1'] = 'q-component of the terminal voltage'\n",
    "titles['Idq0_0'] = 'd-component of the terminal current'\n",
    "titles['Idq0_1'] = 'q-component of the terminal current'\n",
    "titles['delta'] = 'Delta'\n",
    "titles['w_r'] = 'Mechanical Omega'\n",
    "\n",
    "#\n",
    "ylabels = {}\n",
    "ylabels['Te'] = 'Torque (p.u.)'\n",
    "ylabels['Edq0_0'] = 'Ed_t (p.u.)'\n",
    "ylabels['Edq0_1'] = 'Eq_t (p.u.)'\n",
    "ylabels['Edq0_t_0'] = 'Ed_t (p.u.)'\n",
    "ylabels['Edq0_t_1'] = 'Eq_t (p.u.)'\n",
    "ylabels['Edq0_s_0'] = 'Ed_s (p.u.)'\n",
    "ylabels['Edq0_s_1'] = 'Eq_s (p.u.)'\n",
    "ylabels['Vdq0_0'] = 'Vd (p.u.)'\n",
    "ylabels['Vdq0_1'] = 'Vq (p.u.)'\n",
    "ylabels['Idq0_0'] = 'Id (p.u.)'\n",
    "ylabels['Idq0_1'] = 'Iq (p.u.)'\n",
    "ylabels['delta'] = 'Delta (rad)'\n",
    "ylabels['w_r'] = 'w_r (p.u.)'"
   ]
  },
  {
   "attachments": {},
   "cell_type": "markdown",
   "metadata": {},
   "source": [
    "## Declare plot function"
   ]
  },
  {
   "cell_type": "code",
   "execution_count": 8,
   "metadata": {},
   "outputs": [],
   "source": [
    "import matplotlib.pyplot as plt\n",
    "\n",
    "timestep_common = 10e-6\n",
    "t_begin = 0\n",
    "t_end = 10\n",
    "begin_idx = int(t_begin/timestep_common)\n",
    "end_idx= int(t_end/timestep_common)\n",
    "time = np.linspace(t_begin, t_end, num=end_idx-begin_idx)\n",
    "\n",
    "#plot parameters\n",
    "width = 12\n",
    "height = 4\n",
    "\n",
    "def plot_variable(title, varname_dpsim, varname_psat, ts_dpsim, ts_psat, nominal_values, ylabels):\n",
    "    fig1 = plt.figure(figsize=(width, height))\n",
    "    dpsim_values = ts_dpsim[varname_dpsim].interpolate(timestep_common).values[begin_idx:end_idx]\n",
    "    psat_values = ts_psat[varname_psat].interpolate(timestep_common).values[begin_idx:end_idx]\n",
    "    plt.plot(time, dpsim_values, label='DPSim')\n",
    "    plt.plot(time, psat_values, '--', label='PSAT')\n",
    "    plt.legend(loc='lower right')\n",
    "    plt.xlabel('time (s)')\n",
    "    plt.ylabel(ylabels[varname_dpsim])\n",
    "    plt.grid()\n",
    "    plt.xlim([t_begin, t_end])\n",
    "    plt.show\n",
    "    \n",
    "    #calculate RMSE\n",
    "    nom_value = nominal_values[varname_dpsim]\n",
    "    rmse = np.sqrt(((dpsim_values - psat_values) ** 2).mean())\n",
    "    print('RMSE {:s}  = {:.6f} (pu), which is {:.3f}% of the nominal value = {:.3f} (pu) '.format(varname_dpsim, rmse, rmse/nom_value*100, nom_value))\n",
    "        \n",
    "    return rmse/nom_value*100\n",
    "\n",
    "def plot_node_volt_abs(varname_dpsim, varname_psat, ts_dpsim, ts_psat, nominal_voltage, ylabels):\n",
    "    \n",
    "    #convert dpsim voltage to magnitude value and per-unit for comparison with psat\n",
    "    dpsim_values_abs_pu = ts_dpsim[varname_dpsim].interpolate(timestep_common).abs().values[begin_idx:end_idx]/nominal_voltage\n",
    "    psat_values = ts_psat[varname_psat].interpolate(timestep_common).values[begin_idx:end_idx]\n",
    "    \n",
    "    fig1 = plt.figure(figsize=(width, height))\n",
    "    plt.plot(time, dpsim_values_abs_pu, label='DPSim')\n",
    "    plt.plot(time, psat_values, '--', label='PSAT')\n",
    "    plt.legend(loc='lower right')\n",
    "    plt.xlabel('time (s)')\n",
    "    plt.show\n",
    "      \n",
    "     #calculate RMSE\n",
    "    rmse = np.sqrt(((dpsim_values_abs_pu - psat_values) ** 2).mean())\n",
    "    print('RMSE {:s}  = {:.6f} (pu), which is {:.3f}% of the nominal value = {:.3f} (pu) '.format(varname_dpsim, rmse, rmse/1.0*100, 1.0))\n",
    "        \n",
    "    return rmse/1.0*100\n",
    "\n",
    "\n",
    "def plot_node_volt_angle(varname_dpsim, varname_psat, ts_dpsim, ts_psat, nominal_voltage, ylabels):\n",
    "    #limit rmse to post-fault evaluation\n",
    "    t_post_begin=1.1\n",
    "    t_post_end=t_end\n",
    "    begin_post_idx = int(t_post_begin/timestep_common)\n",
    "    end_post_idx= int(t_post_end/timestep_common)\n",
    "    time_post = np.linspace(begin_post_idx, end_post_idx, num=end_post_idx-begin_post_idx)\n",
    "    \n",
    "    dpsim_values = ts_dpsim[varname_dpsim].interpolate(timestep_common).phase().values[begin_idx:end_idx]\n",
    "    dpsim_values_post = dpsim_values[begin_post_idx:end_post_idx]\n",
    "    psat_values = ts_psat[varname_psat].interpolate(timestep_common).values[begin_idx:end_idx]/np.pi*180\n",
    "    psat_values_post = psat_values[begin_post_idx:end_post_idx]\n",
    "    \n",
    "    fig2 = plt.figure(figsize=(width, height))\n",
    "    plt.plot(time, dpsim_values, label='DPSim')\n",
    "    plt.plot(time, psat_values, '--', label='PSAT')\n",
    "    plt.legend(loc='lower right')\n",
    "    plt.xlabel('time (s)')\n",
    "    plt.show\n",
    "    \n",
    "     #calculate RMSE\n",
    "    rmse = np.sqrt(((dpsim_values_post - psat_values_post) ** 2).mean())\n",
    "    print('RMSE Post-Fault {:s}  = {:.6f} (deg)'.format(varname_dpsim, rmse))\n",
    "        \n",
    "    return rmse"
   ]
  },
  {
   "attachments": {},
   "cell_type": "markdown",
   "metadata": {},
   "source": [
    "## Parametrization"
   ]
  },
  {
   "cell_type": "code",
   "execution_count": 9,
   "metadata": {},
   "outputs": [],
   "source": [
    "from math import sqrt, pi\n",
    "\n",
    "### Power System\n",
    "nominal_voltage_hv = 230e3\n",
    "nominal_voltage_mv = 24e3\n",
    "ratio = nominal_voltage_mv/nominal_voltage_hv\n",
    "frequency = 60\n",
    "omega = 2 * pi * frequency\n",
    "\n",
    "### Generator\n",
    "nom_power = 555e6\n",
    "set_point_active_power = 300e6\n",
    "set_point_voltage = 1.05*nominal_voltage_mv\n",
    "H = 3.7\n",
    "Td0_t = 8.0669\n",
    "Td0_s = 0.0300\n",
    "Td_t = 1.3368\n",
    "Td_s = 0.0230\n",
    "Ld_t = 0.2999\n",
    "Ld_s = 0.2299\n",
    "Tq0_t = 0.9991\n",
    "Tq0_s = 0.0700\n",
    "Lq_t = 0.6500\n",
    "Lq_s = 0.2500\n",
    "Ld = 1.8099\n",
    "Lq = 1.7600\n",
    "L0 = 0.15\n",
    "Taa = 0\n",
    "\n",
    "### Excitation system\n",
    "Ka = 46\n",
    "Ta = 0.06\n",
    "Ke = -0.0435\n",
    "Te = 0.46\n",
    "Kf = 0.1\n",
    "Tf = 1\n",
    "Tr = 0.02\n",
    "\n",
    "### Turbine Goverour\n",
    "OmegaRef = 1.0\n",
    "R = 0.02\n",
    "Tmax = 1.2\n",
    "Tmin = 0.3\n",
    "Ts = 0.1\n",
    "Tc = 0.45\n",
    "T3 = 0.0\n",
    "T4 = 12.0\n",
    "T5 = 50.0\n",
    "        \n",
    "### PiLine parameters calculated from CIGRE Benchmark system\n",
    "line_length = 100\n",
    "line_resistance = 1.27e-4 * 529 * line_length * pow(ratio,2)\n",
    "line_inductance = 9.05e-4 * 529 / omega * line_length * pow(ratio,2)\n",
    "line_capacitance = (1.81e-3 / 529) / omega * line_length / pow(ratio,2)\n",
    "line_conductance = 0\n",
    "\n",
    "### Switch\n",
    "switch_closed = 0.001 * (24*24/555)\n",
    "switch_open = 1e6"
   ]
  },
  {
   "attachments": {},
   "cell_type": "markdown",
   "metadata": {},
   "source": [
    "## Run powerflow for Initialization"
   ]
  },
  {
   "cell_type": "code",
   "execution_count": 10,
   "metadata": {},
   "outputs": [
    {
     "name": "stderr",
     "output_type": "stream",
     "text": [
      "[12:33:55.068979 Pi_Line_pf warning] Zero value for Conductance, setting default value of G=1e-06 [S]\n",
      "[12:33:55.070328 SP_ReducedOrderSG_SMIB_PF_ info] Initialize simulation: SP_ReducedOrderSG_SMIB_PF_\n",
      "[12:33:55.072009 SP_ReducedOrderSG_SMIB_PF_ info] Scheduling tasks.\n",
      "[12:33:55.072244 SP_ReducedOrderSG_SMIB_PF_ info] Scheduling done.\n",
      "[12:33:55.072249 SP_ReducedOrderSG_SMIB_PF_ info] Opening interfaces.\n",
      "[12:33:55.072251 SP_ReducedOrderSG_SMIB_PF_ info] Start synchronization with remotes on interfaces\n",
      "[12:33:55.072253 SP_ReducedOrderSG_SMIB_PF_ info] Synchronized simulation start with remotes\n",
      "[12:33:55.072257 SP_ReducedOrderSG_SMIB_PF_ info] Start simulation: SP_ReducedOrderSG_SMIB_PF_\n",
      "[12:33:55.072264 SP_ReducedOrderSG_SMIB_PF_ info] Time step: 1.000000e-01\n",
      "[12:33:55.072269 SP_ReducedOrderSG_SMIB_PF_ info] Final time: 5.000000e-01\n",
      "[12:33:55.074137 SP_ReducedOrderSG_SMIB_PF_ info] Simulation calculation time: 0.001862\n",
      "[12:33:55.074188 SP_ReducedOrderSG_SMIB_PF_ info] Simulation finished.\n"
     ]
    }
   ],
   "source": [
    "sim_name_pf = \"SP_ReducedOrderSG_SMIB_\" + \"PF_\"\n",
    "dpsimpy.Logger.set_log_dir(\"logs/\" + sim_name_pf)\n",
    "\n",
    "### Nodes\n",
    "gnd_pf = dpsimpy.sp.SimNode.gnd\n",
    "n1_pf  = dpsimpy.sp.SimNode('n1_pf', dpsimpy.PhaseType.Single)\n",
    "n2_pf  = dpsimpy.sp.SimNode('n2_pf', dpsimpy.PhaseType.Single)\n",
    "\n",
    "### Components\n",
    "\n",
    "# syncrhon generator\n",
    "gen_pf = dpsimpy.sp.ph1.SynchronGenerator('gen_pf', dpsimpy.LogLevel.debug)\n",
    "gen_pf.set_parameters(rated_apparent_power=nom_power, rated_voltage=nominal_voltage_mv, \n",
    "                      set_point_active_power=set_point_active_power, set_point_voltage=set_point_voltage, \n",
    "                      powerflow_bus_type=dpsimpy.PowerflowBusType.PV)\n",
    "\n",
    "gen_pf.set_base_voltage(nominal_voltage_mv)\n",
    "gen_pf.modify_power_flow_bus_type(dpsimpy.PowerflowBusType.PV)\n",
    "\n",
    "# Grid bus as Slack\n",
    "extnet_pf = dpsimpy.sp.ph1.NetworkInjection(\"Slack\", dpsimpy.LogLevel.debug)\n",
    "extnet_pf.set_parameters(nominal_voltage_mv)\n",
    "extnet_pf.set_base_voltage(nominal_voltage_mv)\n",
    "extnet_pf.modify_power_flow_bus_type(dpsimpy.PowerflowBusType.VD)\n",
    "\n",
    "# PiLine\n",
    "pi_line_pf = dpsimpy.sp.ph1.PiLine('Pi_Line_pf', dpsimpy.LogLevel.debug)\n",
    "pi_line_pf.set_parameters(R=line_resistance, L=line_inductance, C=line_capacitance, G=line_conductance)\n",
    "pi_line_pf.set_base_voltage(nominal_voltage_mv)\n",
    "\n",
    "### Connections\n",
    "gen_pf.connect([n1_pf])\n",
    "pi_line_pf.connect([n2_pf, n1_pf])\n",
    "extnet_pf.connect([n2_pf])\n",
    "\n",
    "### Define system topology\n",
    "system_pf = dpsimpy.SystemTopology(frequency, [n1_pf, n2_pf], [gen_pf, pi_line_pf, extnet_pf])\n",
    "\n",
    "# Logging\n",
    "logger_pf = dpsimpy.Logger(sim_name_pf)\n",
    "logger_pf.log_attribute('n1.v', 'v', n1_pf)\n",
    "logger_pf.log_attribute('n2.v', 'v', n2_pf)\n",
    "logger_pf.log_attribute('p_inj', 'p_inj', extnet_pf)\n",
    "logger_pf.log_attribute('q_inj', 'q_inj', extnet_pf)\n",
    "\n",
    "sim_pf = dpsimpy.Simulation(sim_name_pf, dpsimpy.LogLevel.debug)\n",
    "sim_pf.set_system(system_pf)\n",
    "sim_pf.set_domain(dpsimpy.Domain.SP)\n",
    "sim_pf.set_solver(dpsimpy.Solver.NRP)\n",
    "sim_pf.set_solver_component_behaviour(dpsimpy.SolverBehaviour.Initialization)\n",
    "sim_pf.set_time_step(0.1)\n",
    "sim_pf.set_final_time(0.5)\n",
    "sim_pf.add_logger(logger_pf)\n",
    "sim_pf.run()"
   ]
  },
  {
   "cell_type": "code",
   "execution_count": 11,
   "metadata": {},
   "outputs": [
    {
     "data": {
      "image/svg+xml": [
       "<?xml version=\"1.0\" encoding=\"UTF-8\" standalone=\"no\"?>\n",
       "<!DOCTYPE svg PUBLIC \"-//W3C//DTD SVG 1.1//EN\"\n",
       " \"http://www.w3.org/Graphics/SVG/1.1/DTD/svg11.dtd\">\n",
       "<!-- Generated by graphviz version 2.44.0 (0)\n",
       " -->\n",
       "<!-- Title: topology Pages: 1 -->\n",
       "<svg width=\"322pt\" height=\"276pt\"\n",
       " viewBox=\"0.00 0.00 322.42 276.28\" xmlns=\"http://www.w3.org/2000/svg\" xmlns:xlink=\"http://www.w3.org/1999/xlink\">\n",
       "<g id=\"graph0\" class=\"graph\" transform=\"scale(1 1) rotate(0) translate(4 272.28)\">\n",
       "<title>topology</title>\n",
       "<polygon fill=\"white\" stroke=\"transparent\" points=\"-4,4 -4,-272.28 318.42,-272.28 318.42,4 -4,4\"/>\n",
       "<!-- n1_pf -->\n",
       "<g id=\"node1\" class=\"node\">\n",
       "<title>n1_pf</title>\n",
       "<g id=\"a_node1\"><a xlink:title=\"n1_pf\">\n",
       "<ellipse fill=\"red\" stroke=\"black\" cx=\"105.83\" cy=\"-83.9\" rx=\"5.4\" ry=\"5.4\"/>\n",
       "</a>\n",
       "</g>\n",
       "<text text-anchor=\"start\" x=\"63.43\" y=\"-93.7\" font-family=\"Times-Roman\" font-weight=\"bold\" font-size=\"12.00\">n1_pf</text>\n",
       "</g>\n",
       "<!-- n2_pf -->\n",
       "<g id=\"node2\" class=\"node\">\n",
       "<title>n2_pf</title>\n",
       "<g id=\"a_node2\"><a xlink:title=\"n2_pf\">\n",
       "<ellipse fill=\"red\" stroke=\"black\" cx=\"202.05\" cy=\"-191.14\" rx=\"5.4\" ry=\"5.4\"/>\n",
       "</a>\n",
       "</g>\n",
       "<text text-anchor=\"start\" x=\"159.65\" y=\"-200.94\" font-family=\"Times-Roman\" font-weight=\"bold\" font-size=\"12.00\">n2_pf</text>\n",
       "</g>\n",
       "<!-- gen_pf -->\n",
       "<g id=\"node3\" class=\"node\">\n",
       "<title>gen_pf</title>\n",
       "<g id=\"a_node3\"><a xlink:title=\"Attributes:&#10;P_set: 300000000.000000&#10;P_set_pu: 0.300000&#10;Q_set: 43411881.878627&#10;Q_set_pu: 0.043412&#10;V_set: 25200.000000&#10;V_set_pu: 1.050000&#10;base_Voltage: 24000.000000&#10;i_intf: (0,0)&#10;name: gen_pf&#10;uid: gen_pf&#10;v_intf: (0,0)\">\n",
       "<path fill=\"#ededed\" stroke=\"black\" stroke-width=\"2\" d=\"M140,-36C140,-36 12,-36 12,-36 6,-36 0,-30 0,-24 0,-24 0,-12 0,-12 0,-6 6,0 12,0 12,0 140,0 140,0 146,0 152,-6 152,-12 152,-12 152,-24 152,-24 152,-30 146,-36 140,-36\"/>\n",
       "<text text-anchor=\"start\" x=\"53.5\" y=\"-20.4\" font-family=\"Times-Roman\" font-weight=\"bold\" font-size=\"12.00\">gen_pf</text>\n",
       "<text text-anchor=\"start\" x=\"8\" y=\"-10\" font-family=\"Times-Roman\" font-size=\"10.00\" fill=\"#474747\">SP::Ph1::SynchronGenerator</text>\n",
       "</a>\n",
       "</g>\n",
       "</g>\n",
       "<!-- gen_pf&#45;&#45;n1_pf -->\n",
       "<g id=\"edge1\" class=\"edge\">\n",
       "<title>gen_pf&#45;&#45;n1_pf</title>\n",
       "<path fill=\"none\" stroke=\"black\" d=\"M84.15,-36.01C90.71,-50.49 99.48,-69.86 103.56,-78.88\"/>\n",
       "</g>\n",
       "<!-- Pi_Line_pf -->\n",
       "<g id=\"node4\" class=\"node\">\n",
       "<title>Pi_Line_pf</title>\n",
       "<g id=\"a_node4\"><a xlink:title=\"Attributes:&#10;C_parallel: 0.000083&#10;G_parallel: 0.000001&#10;L_series: 0.001383&#10;R_series: 0.073152&#10;base_Voltage: 24000.000000&#10;current_vector: (&#45;6959.57,&#45;331.44)&#10; (6901.95,770.362)&#10;i_intf: (0,0)&#10;name: Pi_Line_pf&#10;p_branch_vector: &#45;2.89304e+08&#10; &#160;&#160;&#160;&#160;&#160;&#160;3e+08&#10;p_inj: &#45;289303719.546237&#10;q_branch_vector: 1.37777e+07&#10;4.34119e+07&#10;q_inj: 13777704.263525&#10;right_vector: &#10;uid: Pi_Line_pf&#10;v_intf: (0,0)\">\n",
       "<path fill=\"transparent\" stroke=\"transparent\" stroke-width=\"2\" d=\"M181.11,-159.85C181.11,-159.85 117.11,-159.85 117.11,-159.85 111.11,-159.85 105.11,-153.85 105.11,-147.85 105.11,-147.85 105.11,-135.85 105.11,-135.85 105.11,-129.85 111.11,-123.85 117.11,-123.85 117.11,-123.85 181.11,-123.85 181.11,-123.85 187.11,-123.85 193.11,-129.85 193.11,-135.85 193.11,-135.85 193.11,-147.85 193.11,-147.85 193.11,-153.85 187.11,-159.85 181.11,-159.85\"/>\n",
       "<text text-anchor=\"start\" x=\"115.61\" y=\"-144.25\" font-family=\"Times-Roman\" font-weight=\"bold\" font-size=\"12.00\">Pi_Line_pf</text>\n",
       "<text text-anchor=\"start\" x=\"113.11\" y=\"-133.85\" font-family=\"Times-Roman\" font-size=\"10.00\" fill=\"#474747\">SP::Ph1::PiLine</text>\n",
       "</a>\n",
       "</g>\n",
       "</g>\n",
       "<!-- Pi_Line_pf&#45;&#45;n1_pf -->\n",
       "<g id=\"edge3\" class=\"edge\">\n",
       "<title>Pi_Line_pf&#45;&#45;n1_pf</title>\n",
       "<path fill=\"none\" stroke=\"black\" d=\"M135.65,-123.83C126.52,-111.61 115.11,-96.33 109.42,-88.7\"/>\n",
       "</g>\n",
       "<!-- Pi_Line_pf&#45;&#45;n2_pf -->\n",
       "<g id=\"edge2\" class=\"edge\">\n",
       "<title>Pi_Line_pf&#45;&#45;n2_pf</title>\n",
       "<path fill=\"none\" stroke=\"black\" d=\"M168.52,-159.92C179.14,-169.82 191.4,-181.23 197.74,-187.14\"/>\n",
       "</g>\n",
       "<!-- Slack -->\n",
       "<g id=\"node5\" class=\"node\">\n",
       "<title>Slack</title>\n",
       "<g id=\"a_node5\"><a xlink:title=\"Attributes:&#10;V_ref: 0+0i&#10;V_set: 24000.000000&#10;V_set_pu: 1.000000&#10;f_src: 0.000000&#10;i_intf: (0,0)&#10;name: Slack&#10;p_inj: &#45;289303719.546237&#10;q_inj: 13777704.263525&#10;right_vector: &#10;uid: Slack&#10;v_intf: (0,0)\">\n",
       "<path fill=\"#ededed\" stroke=\"black\" stroke-width=\"2\" d=\"M302.42,-268.28C302.42,-268.28 184.42,-268.28 184.42,-268.28 178.42,-268.28 172.42,-262.28 172.42,-256.28 172.42,-256.28 172.42,-244.28 172.42,-244.28 172.42,-238.28 178.42,-232.28 184.42,-232.28 184.42,-232.28 302.42,-232.28 302.42,-232.28 308.42,-232.28 314.42,-238.28 314.42,-244.28 314.42,-244.28 314.42,-256.28 314.42,-256.28 314.42,-262.28 308.42,-268.28 302.42,-268.28\"/>\n",
       "<text text-anchor=\"start\" x=\"224.92\" y=\"-252.68\" font-family=\"Times-Roman\" font-weight=\"bold\" font-size=\"12.00\">Slack</text>\n",
       "<text text-anchor=\"start\" x=\"180.42\" y=\"-242.28\" font-family=\"Times-Roman\" font-size=\"10.00\" fill=\"#474747\">SP::Ph1::NetworkInjection</text>\n",
       "</a>\n",
       "</g>\n",
       "</g>\n",
       "<!-- Slack&#45;&#45;n2_pf -->\n",
       "<g id=\"edge4\" class=\"edge\">\n",
       "<title>Slack&#45;&#45;n2_pf</title>\n",
       "<path fill=\"none\" stroke=\"black\" d=\"M230.78,-232.22C221.85,-219.45 210.54,-203.28 205.16,-195.59\"/>\n",
       "</g>\n",
       "</g>\n",
       "</svg>\n"
      ],
      "text/plain": [
       "<dpsimpy.SystemTopology at 0x7f92ebdd69f0>"
      ]
     },
     "execution_count": 11,
     "metadata": {},
     "output_type": "execute_result"
    }
   ],
   "source": [
    "system_pf"
   ]
  },
  {
   "cell_type": "code",
   "execution_count": 12,
   "metadata": {},
   "outputs": [
    {
     "data": {
      "text/plain": [
       "{'Pi_Line_pf': 'SP::Ph1::PiLine',\n",
       " 'Slack': 'SP::Ph1::NetworkInjection',\n",
       " 'gen_pf': 'SP::Ph1::SynchronGenerator',\n",
       " 'n1_pf': 'SimNode<std::complex<double> >',\n",
       " 'n2_pf': 'SimNode<std::complex<double> >'}"
      ]
     },
     "execution_count": 12,
     "metadata": {},
     "output_type": "execute_result"
    }
   ],
   "source": [
    "system_pf.list_idobjects()\n",
    "\n"
   ]
  },
  {
   "cell_type": "code",
   "execution_count": 13,
   "metadata": {},
   "outputs": [
    {
     "name": "stdout",
     "output_type": "stream",
     "text": [
      "SP::Ph1::PiLine\n",
      "<class 'str'>\n"
     ]
    }
   ],
   "source": [
    "print(system_pf.list_idobjects()['Pi_Line_pf'])\n",
    "print(type(system_pf.list_idobjects()['Pi_Line_pf']))"
   ]
  },
  {
   "cell_type": "code",
   "execution_count": 14,
   "metadata": {},
   "outputs": [
    {
     "data": {
      "text/plain": [
       "[<dpsimpy.sp.ph1.SynchronGenerator at 0x7f92ebde1f30>,\n",
       " <dpsimpy.sp.ph1.PiLine at 0x7f92ebe36bf0>,\n",
       " <dpsimpy.sp.ph1.NetworkInjection at 0x7f934e7ce8b0>]"
      ]
     },
     "execution_count": 14,
     "metadata": {},
     "output_type": "execute_result"
    }
   ],
   "source": [
    "system_pf.components"
   ]
  },
  {
   "cell_type": "code",
   "execution_count": 15,
   "metadata": {},
   "outputs": [
    {
     "name": "stdout",
     "output_type": "stream",
     "text": [
      "Attribute list for object with name gen_pf:\n",
      "name                          type                size           value                         \n",
      "-----------------------------------------------------------------------------------------------\n",
      "P_set                         Real                               300000000.000000              \n",
      "P_set_pu                      Real                               0.300000                      \n",
      "Q_set                         Real                               43411881.878627               \n",
      "Q_set_pu                      Real                               0.043412                      \n",
      "V_set                         Real                               25200.000000                  \n",
      "V_set_pu                      Real                               1.050000                      \n",
      "base_Voltage                  Real                               24000.000000                  \n",
      "i_intf                        MatrixComplex       1x1            [...]                         \n",
      "name                          String                             \"gen_pf\"                      \n",
      "uid                           String                             \"gen_pf\"                      \n",
      "v_intf                        MatrixComplex       1x1            [...]                         \n",
      "\n"
     ]
    }
   ],
   "source": [
    "print(system_pf.components[0])"
   ]
  },
  {
   "cell_type": "code",
   "execution_count": 16,
   "metadata": {},
   "outputs": [
    {
     "data": {
      "text/plain": [
       "0.073152"
      ]
     },
     "execution_count": 16,
     "metadata": {},
     "output_type": "execute_result"
    }
   ],
   "source": [
    "system_pf.components[1].attr(\"R_series\")"
   ]
  },
  {
   "cell_type": "code",
   "execution_count": 17,
   "metadata": {},
   "outputs": [
    {
     "data": {
      "text/plain": [
       "0.073152"
      ]
     },
     "execution_count": 17,
     "metadata": {},
     "output_type": "execute_result"
    }
   ],
   "source": [
    "sim_pf.get_idobj_attr('Pi_Line_pf', 'R_series')"
   ]
  },
  {
   "cell_type": "code",
   "execution_count": 18,
   "metadata": {},
   "outputs": [
    {
     "name": "stdout",
     "output_type": "stream",
     "text": [
      "Attribute list for object with name n1_pf:\n",
      "name                          type                size           value                         \n",
      "-----------------------------------------------------------------------------------------------\n",
      "name                          String                             \"n1_pf\"                       \n",
      "s                             MatrixComplex       1x1            [...]                         \n",
      "uid                           String                             \"n1_pf\"                       \n",
      "v                             MatrixComplex       1x1            [...]                         \n",
      "voltage_init                  MatrixComplex       1x1            [...]                         \n",
      "\n"
     ]
    }
   ],
   "source": [
    "# sim_pf.get_idobj_attr(comp_name, 'P').get() * w_mw\n",
    "print(system_pf.nodes[0])"
   ]
  },
  {
   "cell_type": "code",
   "execution_count": 19,
   "metadata": {},
   "outputs": [
    {
     "name": "stdout",
     "output_type": "stream",
     "text": [
      "Attribute list for object with name Name:\n",
      "name                          type                size           value                         \n",
      "-----------------------------------------------------------------------------------------------\n",
      "L                             Real                               0.000000                      \n",
      "R                             Real                               0.000000                      \n",
      "S                             Real                               0.000000                      \n",
      "base_Voltage                  Real                               0.000000                      \n",
      "current_vector                MatrixComplex       2x1            [...]                         \n",
      "i_intf                        MatrixComplex       1x1            [...]                         \n",
      "name                          String                             \"Name\"                        \n",
      "nominal_voltage_end1          Real                               0.000000                      \n",
      "nominal_voltage_end2          Real                               0.000000                      \n",
      "p_branch_vector               MatrixReal          2x1            [...]                         \n",
      "p_inj                         Real                               0.000000                      \n",
      "q_branch_vector               MatrixReal          2x1            [...]                         \n",
      "q_inj                         Real                               0.000000                      \n",
      "ratio                         Complex                            0.000000<0.000000             \n",
      "right_vector                  MatrixReal          0x0            [...]                         \n",
      "uid                           String                             \"Name\"                        \n",
      "v_intf                        MatrixComplex       1x1            [...]                         \n",
      "\n"
     ]
    }
   ],
   "source": [
    "system_pf.components_at_node\n",
    "T = dpsimpy.sp.ph1.Transformer(\"Name\")\n",
    "print(T)"
   ]
  },
  {
   "cell_type": "code",
   "execution_count": 20,
   "metadata": {},
   "outputs": [
    {
     "name": "stdout",
     "output_type": "stream",
     "text": [
      "{'Pi_Line_pf': 'SP::Ph1::PiLine', 'Slack': 'SP::Ph1::NetworkInjection', 'gen_pf': 'SP::Ph1::SynchronGenerator', 'n1_pf': 'SimNode<std::complex<double> >', 'n2_pf': 'SimNode<std::complex<double> >'}\n",
      "[24385.9808784+6353.2618865j]\n"
     ]
    },
    {
     "data": {
      "text/plain": [
       "0.7853981633974483"
      ]
     },
     "execution_count": 20,
     "metadata": {},
     "output_type": "execute_result"
    }
   ],
   "source": [
    "print(system_pf.list_idobjects())\n",
    "cv = sim_pf.get_idobj_attr(n1_pf.name(), 'v').get()[0]\n",
    "import numpy as np\n",
    "print(cv)\n",
    "np.linalg.norm(cv)\n",
    "type(cv)\n",
    "cmath.phase(cv)\n",
    "cmath.phase(complex(1,1))\n"
   ]
  },
  {
   "cell_type": "code",
   "execution_count": 21,
   "metadata": {},
   "outputs": [
    {
     "data": {
      "text/plain": [
       "(-6959.57,-331.44)\n",
       " (6901.95,770.362)"
      ]
     },
     "execution_count": 21,
     "metadata": {},
     "output_type": "execute_result"
    }
   ],
   "source": [
    "system_pf.components[1].attr(\"current_vector\")"
   ]
  },
  {
   "cell_type": "markdown",
   "metadata": {},
   "source": [
    "### Validation DPSim to CIM\n"
   ]
  },
  {
   "cell_type": "code",
   "execution_count": 22,
   "metadata": {},
   "outputs": [
    {
     "data": {
      "text/plain": [
       "{'meta_info': {'namespaces': {'rdf': 'http://www.w3.org/1999/02/22-rdf-syntax-ns#',\n",
       "   'cim': 'http://iec.ch/TC57/2013/CIM-schema-cim16#',\n",
       "   'md': 'http://iec.ch/TC57/61970-552/ModelDescription/1#',\n",
       "   'entsoe': 'http://entsoe.eu/CIM/SchemaExtension/3/1#'},\n",
       "  'urls': {},\n",
       "  'author': 'DPsim'},\n",
       " 'topology': {'n1_pf': <cimpy.cgmes_v2_4_15.TopologicalNode.TopologicalNode at 0x7f92ede24580>,\n",
       "  'n1_pf-sv': <cimpy.cgmes_v2_4_15.SvVoltage.SvVoltage at 0x7f92ede243a0>,\n",
       "  'n2_pf': <cimpy.cgmes_v2_4_15.TopologicalNode.TopologicalNode at 0x7f92ede24fa0>,\n",
       "  'n2_pf-sv': <cimpy.cgmes_v2_4_15.SvVoltage.SvVoltage at 0x7f92ede247c0>,\n",
       "  'Terminal_gen_pf': <cimpy.cgmes_v2_4_15.Terminal.Terminal at 0x7f92ede24910>,\n",
       "  'RegulatingControlgen_pf': <cimpy.cgmes_v2_4_15.RegulatingControl.RegulatingControl at 0x7f92ede240a0>,\n",
       "  'GeneratingUnit_gen_pf': <cimpy.cgmes_v2_4_15.GeneratingUnit.GeneratingUnit at 0x7f92e8e94b50>,\n",
       "  'gen_pf': <cimpy.cgmes_v2_4_15.SynchronousMachine.SynchronousMachine at 0x7f92e8e946a0>,\n",
       "  'Terminal_1_Pi_Line_pf': <cimpy.cgmes_v2_4_15.Terminal.Terminal at 0x7f92e8e94a30>,\n",
       "  'Terminal_2_Pi_Line_pf': <cimpy.cgmes_v2_4_15.Terminal.Terminal at 0x7f92e8e94af0>,\n",
       "  'Pi_Line_pf': <cimpy.cgmes_v2_4_15.ACLineSegment.ACLineSegment at 0x7f92e8e946d0>,\n",
       "  'Terminal Injection 1': <cimpy.cgmes_v2_4_15.Terminal.Terminal at 0x7f92e8e94e20>,\n",
       "  'Regulating Control 1': <cimpy.cgmes_v2_4_15.RegulatingControl.RegulatingControl at 0x7f92e8e94580>,\n",
       "  'Injection 1': <cimpy.cgmes_v2_4_15.ExternalNetworkInjection.ExternalNetworkInjection at 0x7f92e8e945b0>}}"
      ]
     },
     "execution_count": 22,
     "metadata": {},
     "output_type": "execute_result"
    }
   ],
   "source": [
    "from cimpy import DPsimToCIMpy              ## Für Martin\n",
    "from cimpy import CIMpyToDPsim\n",
    "\n",
    "network2test = DPsimToCIMpy.DPsimToCIMpy(system_pf, sim_pf)\n",
    "network2test"
   ]
  },
  {
   "cell_type": "code",
   "execution_count": 23,
   "metadata": {},
   "outputs": [
    {
     "data": {
      "image/svg+xml": [
       "<?xml version=\"1.0\" encoding=\"UTF-8\" standalone=\"no\"?>\n",
       "<!DOCTYPE svg PUBLIC \"-//W3C//DTD SVG 1.1//EN\"\n",
       " \"http://www.w3.org/Graphics/SVG/1.1/DTD/svg11.dtd\">\n",
       "<!-- Generated by graphviz version 2.44.0 (0)\n",
       " -->\n",
       "<!-- Title: topology Pages: 1 -->\n",
       "<svg width=\"322pt\" height=\"276pt\"\n",
       " viewBox=\"0.00 0.00 322.42 276.28\" xmlns=\"http://www.w3.org/2000/svg\" xmlns:xlink=\"http://www.w3.org/1999/xlink\">\n",
       "<g id=\"graph0\" class=\"graph\" transform=\"scale(1 1) rotate(0) translate(4 272.28)\">\n",
       "<title>topology</title>\n",
       "<polygon fill=\"white\" stroke=\"transparent\" points=\"-4,4 -4,-272.28 318.42,-272.28 318.42,4 -4,4\"/>\n",
       "<!-- n1_pf -->\n",
       "<g id=\"node1\" class=\"node\">\n",
       "<title>n1_pf</title>\n",
       "<g id=\"a_node1\"><a xlink:title=\"n1_pf\">\n",
       "<ellipse fill=\"red\" stroke=\"black\" cx=\"105.83\" cy=\"-83.9\" rx=\"5.4\" ry=\"5.4\"/>\n",
       "</a>\n",
       "</g>\n",
       "<text text-anchor=\"start\" x=\"63.43\" y=\"-93.7\" font-family=\"Times-Roman\" font-weight=\"bold\" font-size=\"12.00\">n1_pf</text>\n",
       "</g>\n",
       "<!-- n2_pf -->\n",
       "<g id=\"node2\" class=\"node\">\n",
       "<title>n2_pf</title>\n",
       "<g id=\"a_node2\"><a xlink:title=\"n2_pf\">\n",
       "<ellipse fill=\"red\" stroke=\"black\" cx=\"202.05\" cy=\"-191.14\" rx=\"5.4\" ry=\"5.4\"/>\n",
       "</a>\n",
       "</g>\n",
       "<text text-anchor=\"start\" x=\"159.65\" y=\"-200.94\" font-family=\"Times-Roman\" font-weight=\"bold\" font-size=\"12.00\">n2_pf</text>\n",
       "</g>\n",
       "<!-- gen_pf -->\n",
       "<g id=\"node3\" class=\"node\">\n",
       "<title>gen_pf</title>\n",
       "<g id=\"a_node3\"><a xlink:title=\"Attributes:&#10;P_set: 0.300000&#10;P_set_pu: 0.000000&#10;Q_set: 43411881.878627&#10;Q_set_pu: 0.000000&#10;V_set: 25200.000000&#10;V_set_pu: 0.000000&#10;base_Voltage: 0.000000&#10;i_intf: (0,0)&#10;name: gen_pf&#10;uid: gen_pf&#10;v_intf: (0,0)\">\n",
       "<path fill=\"#ededed\" stroke=\"black\" stroke-width=\"2\" d=\"M140,-36C140,-36 12,-36 12,-36 6,-36 0,-30 0,-24 0,-24 0,-12 0,-12 0,-6 6,0 12,0 12,0 140,0 140,0 146,0 152,-6 152,-12 152,-12 152,-24 152,-24 152,-30 146,-36 140,-36\"/>\n",
       "<text text-anchor=\"start\" x=\"53.5\" y=\"-20.4\" font-family=\"Times-Roman\" font-weight=\"bold\" font-size=\"12.00\">gen_pf</text>\n",
       "<text text-anchor=\"start\" x=\"8\" y=\"-10\" font-family=\"Times-Roman\" font-size=\"10.00\" fill=\"#474747\">SP::Ph1::SynchronGenerator</text>\n",
       "</a>\n",
       "</g>\n",
       "</g>\n",
       "<!-- gen_pf&#45;&#45;n1_pf -->\n",
       "<g id=\"edge1\" class=\"edge\">\n",
       "<title>gen_pf&#45;&#45;n1_pf</title>\n",
       "<path fill=\"none\" stroke=\"black\" d=\"M84.15,-36.01C90.71,-50.49 99.48,-69.86 103.56,-78.88\"/>\n",
       "</g>\n",
       "<!-- Pi_Line_pf -->\n",
       "<g id=\"node4\" class=\"node\">\n",
       "<title>Pi_Line_pf</title>\n",
       "<g id=\"a_node4\"><a xlink:title=\"Attributes:&#10;C_parallel: 0.000083&#10;G_parallel: 0.000001&#10;L_series: 0.001383&#10;R_series: 0.073152&#10;base_Voltage: 24000.000000&#10;current_vector: (0,0)&#10;(0,0)&#10;i_intf: (0,0)&#10;name: Pi_Line_pf&#10;p_branch_vector: 0&#10;0&#10;p_inj: 0.000000&#10;q_branch_vector: 0&#10;0&#10;q_inj: 0.000000&#10;right_vector: &#10;uid: Pi_Line_pf&#10;v_intf: (0,0)\">\n",
       "<path fill=\"transparent\" stroke=\"transparent\" stroke-width=\"2\" d=\"M181.11,-159.85C181.11,-159.85 117.11,-159.85 117.11,-159.85 111.11,-159.85 105.11,-153.85 105.11,-147.85 105.11,-147.85 105.11,-135.85 105.11,-135.85 105.11,-129.85 111.11,-123.85 117.11,-123.85 117.11,-123.85 181.11,-123.85 181.11,-123.85 187.11,-123.85 193.11,-129.85 193.11,-135.85 193.11,-135.85 193.11,-147.85 193.11,-147.85 193.11,-153.85 187.11,-159.85 181.11,-159.85\"/>\n",
       "<text text-anchor=\"start\" x=\"115.61\" y=\"-144.25\" font-family=\"Times-Roman\" font-weight=\"bold\" font-size=\"12.00\">Pi_Line_pf</text>\n",
       "<text text-anchor=\"start\" x=\"113.11\" y=\"-133.85\" font-family=\"Times-Roman\" font-size=\"10.00\" fill=\"#474747\">SP::Ph1::PiLine</text>\n",
       "</a>\n",
       "</g>\n",
       "</g>\n",
       "<!-- Pi_Line_pf&#45;&#45;n1_pf -->\n",
       "<g id=\"edge2\" class=\"edge\">\n",
       "<title>Pi_Line_pf&#45;&#45;n1_pf</title>\n",
       "<path fill=\"none\" stroke=\"black\" d=\"M135.65,-123.83C126.52,-111.61 115.11,-96.33 109.42,-88.7\"/>\n",
       "</g>\n",
       "<!-- Pi_Line_pf&#45;&#45;n2_pf -->\n",
       "<g id=\"edge3\" class=\"edge\">\n",
       "<title>Pi_Line_pf&#45;&#45;n2_pf</title>\n",
       "<path fill=\"none\" stroke=\"black\" d=\"M168.52,-159.92C179.14,-169.82 191.4,-181.23 197.74,-187.14\"/>\n",
       "</g>\n",
       "<!-- Injection 1 -->\n",
       "<g id=\"node5\" class=\"node\">\n",
       "<title>Injection 1</title>\n",
       "<g id=\"a_node5\"><a xlink:title=\"Attributes:&#10;V_ref: 0+0i&#10;V_set: 1.000000&#10;V_set_pu: 1.000000&#10;f_src: 0.000000&#10;i_intf: (0,0)&#10;name: Injection 1&#10;p_inj: 0.000000&#10;q_inj: 0.000000&#10;right_vector: &#10;uid: Injection 1&#10;v_intf: (0,0)\">\n",
       "<path fill=\"#ededed\" stroke=\"black\" stroke-width=\"2\" d=\"M302.42,-268.28C302.42,-268.28 184.42,-268.28 184.42,-268.28 178.42,-268.28 172.42,-262.28 172.42,-256.28 172.42,-256.28 172.42,-244.28 172.42,-244.28 172.42,-238.28 178.42,-232.28 184.42,-232.28 184.42,-232.28 302.42,-232.28 302.42,-232.28 308.42,-232.28 314.42,-238.28 314.42,-244.28 314.42,-244.28 314.42,-256.28 314.42,-256.28 314.42,-262.28 308.42,-268.28 302.42,-268.28\"/>\n",
       "<text text-anchor=\"start\" x=\"207.92\" y=\"-252.68\" font-family=\"Times-Roman\" font-weight=\"bold\" font-size=\"12.00\">Injection 1</text>\n",
       "<text text-anchor=\"start\" x=\"180.42\" y=\"-242.28\" font-family=\"Times-Roman\" font-size=\"10.00\" fill=\"#474747\">SP::Ph1::NetworkInjection</text>\n",
       "</a>\n",
       "</g>\n",
       "</g>\n",
       "<!-- Injection 1&#45;&#45;n2_pf -->\n",
       "<g id=\"edge4\" class=\"edge\">\n",
       "<title>Injection 1&#45;&#45;n2_pf</title>\n",
       "<path fill=\"none\" stroke=\"black\" d=\"M230.78,-232.22C221.85,-219.45 210.54,-203.28 205.16,-195.59\"/>\n",
       "</g>\n",
       "</g>\n",
       "</svg>\n"
      ],
      "text/plain": [
       "<dpsimpy.SystemTopology at 0x7f92e8e210f0>"
      ]
     },
     "execution_count": 23,
     "metadata": {},
     "output_type": "execute_result"
    }
   ],
   "source": [
    "\n",
    "CIMpyToDPsim.CIMpyToDPsim(network2test, 1)"
   ]
  },
  {
   "cell_type": "code",
   "execution_count": null,
   "metadata": {},
   "outputs": [],
   "source": []
  },
  {
   "cell_type": "code",
   "execution_count": 24,
   "metadata": {},
   "outputs": [
    {
     "data": {
      "text/plain": [
       "'n1_pf'"
      ]
     },
     "execution_count": 24,
     "metadata": {},
     "output_type": "execute_result"
    }
   ],
   "source": [
    "DPsimToCIMpy.node_of_comp(system_pf, \"Pi_Line_pf\")\n",
    "\n"
   ]
  },
  {
   "cell_type": "markdown",
   "metadata": {},
   "source": []
  },
  {
   "attachments": {},
   "cell_type": "markdown",
   "metadata": {},
   "source": [
    "### DPSim to CIMpy"
   ]
  },
  {
   "cell_type": "code",
   "execution_count": 25,
   "metadata": {},
   "outputs": [
    {
     "data": {
      "text/plain": [
       "{'meta_info': {},\n",
       " 'topology': {'n1_pf': <cimpy.cgmes_v2_4_15.TopologicalNode.TopologicalNode at 0x7f92e8e2a430>,\n",
       "  'n1_pf-sv': <cimpy.cgmes_v2_4_15.SvVoltage.SvVoltage at 0x7f92e8e2a4f0>,\n",
       "  'n2_pf': <cimpy.cgmes_v2_4_15.TopologicalNode.TopologicalNode at 0x7f92e8e2a460>,\n",
       "  'n2_pf-sv': <cimpy.cgmes_v2_4_15.SvVoltage.SvVoltage at 0x7f92e8e2a520>,\n",
       "  'Terminal_1_Pi_Line_pf': <cimpy.cgmes_v2_4_15.Terminal.Terminal at 0x7f92e8e2a5b0>,\n",
       "  'Terminal_2_Pi_Line_pf': <cimpy.cgmes_v2_4_15.Terminal.Terminal at 0x7f92e8e2a580>,\n",
       "  'Pi_Line_pf': <cimpy.cgmes_v2_4_15.ACLineSegment.ACLineSegment at 0x7f92e8e2a5e0>,\n",
       "  'Terminal Injection 1': <cimpy.cgmes_v2_4_15.Terminal.Terminal at 0x7f92e8e2a490>,\n",
       "  'Regulating Control 1': <cimpy.cgmes_v2_4_15.RegulatingControl.RegulatingControl at 0x7f92e8e2aca0>,\n",
       "  'Injection 1': <cimpy.cgmes_v2_4_15.ExternalNetworkInjection.ExternalNetworkInjection at 0x7f92e8e2acd0>,\n",
       "  'Terminal_gen_pf': <cimpy.cgmes_v2_4_15.Terminal.Terminal at 0x7f92e8e2ad00>,\n",
       "  'RegulatingControlgen_pf': <cimpy.cgmes_v2_4_15.RegulatingControl.RegulatingControl at 0x7f92e8e2ad30>,\n",
       "  'GeneratingUnit_gen_pf': <cimpy.cgmes_v2_4_15.GeneratingUnit.GeneratingUnit at 0x7f92e8e2ad60>,\n",
       "  'gen_pf': <cimpy.cgmes_v2_4_15.SynchronousMachine.SynchronousMachine at 0x7f92e8e2ad90>}}"
      ]
     },
     "execution_count": 25,
     "metadata": {},
     "output_type": "execute_result"
    }
   ],
   "source": [
    "network = dict(meta_info={}, topology={})\n",
    "import numpy\n",
    "from cimpy import CIMpyToDPsim\n",
    "from cimpy import utils\n",
    "from cimpy.cgmes_v2_4_15 import BaseVoltage\n",
    "\n",
    "B1 = utils.create_BaseVoltage(24000)\n",
    "\n",
    "network = utils.add_TopologicalNode(network, \"cgmes_v2_4_15\", B1,0,0, \"n1_pf\")\n",
    "network = utils.add_TopologicalNode(network, \"cgmes_v2_4_15\", B1,0,0, \"n2_pf\")\n",
    "\n",
    "# PiLine Parameters\n",
    "name = system_pf.components[1].name()\n",
    "\n",
    "r = float(str(system_pf.components[1].attr(\"R_series\")))\n",
    "x= float(str(system_pf.components[1].attr(\"L_series\"))) * (2*numpy.pi*frequency)\n",
    "bch= float(str(system_pf.components[1].attr(\"C_parallel\"))) * (2*numpy.pi*frequency)\n",
    "gch = float(str(system_pf.components[1].attr(\"G_parallel\")))\n",
    "\n",
    "\n",
    "network = utils.add_ACLineSegment(network, \"cgmes_v2_4_15\", \"n1_pf\", \"n2_pf\", r, x, bch, gch, B1,name)\n",
    "\n",
    "network = utils.add_external_network_injection(network, \"cgmes_v2_4_15\", \"n2_pf\", 1)\n",
    "\n",
    "# Generator Parameters\n",
    "p = float(str(system_pf.components[0].attr(\"P_set\")))\n",
    "q = float(str(system_pf.components[0].attr(\"Q_set\")))\n",
    "\n",
    "ratedS = sqrt(p*p+q*q)\n",
    "ratedU = float(str(system_pf.components[0].attr(\"base_Voltage\")))\n",
    "targetValue = float(str(system_pf.components[0].attr(\"V_set\")))\n",
    "initialP = float(str(system_pf.components[0].attr(\"P_set_pu\")))\n",
    "\n",
    "name = system_pf.components[0].name()\n",
    "network = utils.add_SynchronousMachine(network, \"cgmes_v2_4_15\", \"n1_pf\", p, q, ratedS, ratedU, targetValue, initialP, name)\n",
    "network "
   ]
  },
  {
   "cell_type": "code",
   "execution_count": 26,
   "metadata": {},
   "outputs": [
    {
     "name": "stdout",
     "output_type": "stream",
     "text": [
      "class=SynchronousMachine\n",
      "DiagramObjects=list\n",
      "mRID=gen_pf\n",
      "name=gen_pf\n",
      "description=\n",
      "energyIdentCodeEic=\n",
      "shortName=\n",
      "Controls=list\n",
      "Measurements=list\n",
      "Location=None\n",
      "aggregate=False\n",
      "EquipmentContainer=None\n",
      "OperationalLimitSet=list\n",
      "BaseVoltage=None\n",
      "Terminals=[<cimpy.cgmes_v2_4_15.Terminal.Terminal object at 0x7f92e8e2ad00>]\n",
      "SvStatus=None\n",
      "RegulatingControl=class=RegulatingControl\n",
      "DiagramObjects=list\n",
      "mRID=RegulatingControlgen_pf\n",
      "name=RegulatingControlgen_pf\n",
      "description=\n",
      "energyIdentCodeEic=\n",
      "shortName=\n",
      "Controls=list\n",
      "Measurements=list\n",
      "Location=None\n",
      "Terminal=None\n",
      "RegulatingCondEq=list\n",
      "mode=None\n",
      "RegulationSchedule=list\n",
      "discrete=False\n",
      "enabled=False\n",
      "targetDeadband=0.0\n",
      "targetValue=25200.0\n",
      "targetValueUnitMultiplier=None\n",
      "\n",
      "controlEnabled=False\n",
      "GeneratingUnit=class=GeneratingUnit\n",
      "DiagramObjects=list\n",
      "mRID=GeneratingUnit_gen_pf\n",
      "name=GeneratingUnit_gen_pf\n",
      "description=\n",
      "energyIdentCodeEic=\n",
      "shortName=\n",
      "Controls=list\n",
      "Measurements=list\n",
      "Location=None\n",
      "aggregate=False\n",
      "EquipmentContainer=None\n",
      "OperationalLimitSet=list\n",
      "genControlSource=None\n",
      "governorSCD=0.0\n",
      "initialP=0.3\n",
      "longPF=0.0\n",
      "maximumAllowableSpinningReserve=0.0\n",
      "maxOperatingP=0.0\n",
      "minOperatingP=0.0\n",
      "nominalP=0.0\n",
      "ratedGrossMaxP=0.0\n",
      "ratedGrossMinP=0.0\n",
      "ratedNetMaxP=0.0\n",
      "shortPF=0.0\n",
      "startupCost=0.0\n",
      "variableCost=0.0\n",
      "totalEfficiency=0.0\n",
      "ControlAreaGeneratingUnit=list\n",
      "RotatingMachine=list\n",
      "GrossToNetActivePowerCurves=list\n",
      "normalPF=0.0\n",
      "\n",
      "HydroPump=None\n",
      "ratedPowerFactor=0.0\n",
      "ratedS=303124712.76397747\n",
      "ratedU=24000.0\n",
      "p=300000000.0\n",
      "q=43411881.878627\n",
      "InitialReactiveCapabilityCurve=None\n",
      "maxQ=0.0\n",
      "minQ=0.0\n",
      "qPercent=0.0\n",
      "type=None\n",
      "earthing=False\n",
      "earthingStarPointR=0.0\n",
      "earthingStarPointX=0.0\n",
      "ikk=0.0\n",
      "mu=0.0\n",
      "r0=0.0\n",
      "r2=0.0\n",
      "satDirectSubtransX=0.0\n",
      "satDirectSyncX=0.0\n",
      "satDirectTransX=0.0\n",
      "shortCircuitRotorType=None\n",
      "voltageRegulationRange=0.0\n",
      "r=0.0\n",
      "x0=0.0\n",
      "x2=0.0\n",
      "operatingMode=None\n",
      "referencePriority=0\n",
      "SynchronousMachineDynamics=None\n",
      "\n"
     ]
    }
   ],
   "source": [
    "print(network[\"topology\"][\"n1_pf\"].Terminal[1].ConductingEquipment)"
   ]
  },
  {
   "cell_type": "code",
   "execution_count": 27,
   "metadata": {},
   "outputs": [
    {
     "data": {
      "image/svg+xml": [
       "<?xml version=\"1.0\" encoding=\"UTF-8\" standalone=\"no\"?>\n",
       "<!DOCTYPE svg PUBLIC \"-//W3C//DTD SVG 1.1//EN\"\n",
       " \"http://www.w3.org/Graphics/SVG/1.1/DTD/svg11.dtd\">\n",
       "<!-- Generated by graphviz version 2.44.0 (0)\n",
       " -->\n",
       "<!-- Title: topology Pages: 1 -->\n",
       "<svg width=\"322pt\" height=\"276pt\"\n",
       " viewBox=\"0.00 0.00 322.42 276.28\" xmlns=\"http://www.w3.org/2000/svg\" xmlns:xlink=\"http://www.w3.org/1999/xlink\">\n",
       "<g id=\"graph0\" class=\"graph\" transform=\"scale(1 1) rotate(0) translate(4 272.28)\">\n",
       "<title>topology</title>\n",
       "<polygon fill=\"white\" stroke=\"transparent\" points=\"-4,4 -4,-272.28 318.42,-272.28 318.42,4 -4,4\"/>\n",
       "<!-- n1_pf -->\n",
       "<g id=\"node1\" class=\"node\">\n",
       "<title>n1_pf</title>\n",
       "<g id=\"a_node1\"><a xlink:title=\"n1_pf\">\n",
       "<ellipse fill=\"red\" stroke=\"black\" cx=\"105.83\" cy=\"-83.9\" rx=\"5.4\" ry=\"5.4\"/>\n",
       "</a>\n",
       "</g>\n",
       "<text text-anchor=\"start\" x=\"63.43\" y=\"-93.7\" font-family=\"Times-Roman\" font-weight=\"bold\" font-size=\"12.00\">n1_pf</text>\n",
       "</g>\n",
       "<!-- n2_pf -->\n",
       "<g id=\"node2\" class=\"node\">\n",
       "<title>n2_pf</title>\n",
       "<g id=\"a_node2\"><a xlink:title=\"n2_pf\">\n",
       "<ellipse fill=\"red\" stroke=\"black\" cx=\"202.05\" cy=\"-191.14\" rx=\"5.4\" ry=\"5.4\"/>\n",
       "</a>\n",
       "</g>\n",
       "<text text-anchor=\"start\" x=\"159.65\" y=\"-200.94\" font-family=\"Times-Roman\" font-weight=\"bold\" font-size=\"12.00\">n2_pf</text>\n",
       "</g>\n",
       "<!-- gen_pf -->\n",
       "<g id=\"node3\" class=\"node\">\n",
       "<title>gen_pf</title>\n",
       "<g id=\"a_node3\"><a xlink:title=\"Attributes:&#10;P_set: 300000000.000000&#10;P_set_pu: 0.300000&#10;Q_set: 43411881.878627&#10;Q_set_pu: 0.043412&#10;V_set: 25200.000000&#10;V_set_pu: 1.050000&#10;base_Voltage: 24000.000000&#10;i_intf: (0,0)&#10;name: gen_pf&#10;uid: gen_pf&#10;v_intf: (0,0)\">\n",
       "<path fill=\"#ededed\" stroke=\"black\" stroke-width=\"2\" d=\"M140,-36C140,-36 12,-36 12,-36 6,-36 0,-30 0,-24 0,-24 0,-12 0,-12 0,-6 6,0 12,0 12,0 140,0 140,0 146,0 152,-6 152,-12 152,-12 152,-24 152,-24 152,-30 146,-36 140,-36\"/>\n",
       "<text text-anchor=\"start\" x=\"53.5\" y=\"-20.4\" font-family=\"Times-Roman\" font-weight=\"bold\" font-size=\"12.00\">gen_pf</text>\n",
       "<text text-anchor=\"start\" x=\"8\" y=\"-10\" font-family=\"Times-Roman\" font-size=\"10.00\" fill=\"#474747\">SP::Ph1::SynchronGenerator</text>\n",
       "</a>\n",
       "</g>\n",
       "</g>\n",
       "<!-- gen_pf&#45;&#45;n1_pf -->\n",
       "<g id=\"edge1\" class=\"edge\">\n",
       "<title>gen_pf&#45;&#45;n1_pf</title>\n",
       "<path fill=\"none\" stroke=\"black\" d=\"M84.15,-36.01C90.71,-50.49 99.48,-69.86 103.56,-78.88\"/>\n",
       "</g>\n",
       "<!-- Pi_Line_pf -->\n",
       "<g id=\"node4\" class=\"node\">\n",
       "<title>Pi_Line_pf</title>\n",
       "<g id=\"a_node4\"><a xlink:title=\"Attributes:&#10;C_parallel: 0.000083&#10;G_parallel: 0.000001&#10;L_series: 0.001383&#10;R_series: 0.073152&#10;base_Voltage: 24000.000000&#10;current_vector: (&#45;6959.57,&#45;331.44)&#10; (6901.95,770.362)&#10;i_intf: (0,0)&#10;name: Pi_Line_pf&#10;p_branch_vector: &#45;2.89304e+08&#10; &#160;&#160;&#160;&#160;&#160;&#160;3e+08&#10;p_inj: &#45;289303719.546237&#10;q_branch_vector: 1.37777e+07&#10;4.34119e+07&#10;q_inj: 13777704.263525&#10;right_vector: &#10;uid: Pi_Line_pf&#10;v_intf: (0,0)\">\n",
       "<path fill=\"transparent\" stroke=\"transparent\" stroke-width=\"2\" d=\"M181.11,-159.85C181.11,-159.85 117.11,-159.85 117.11,-159.85 111.11,-159.85 105.11,-153.85 105.11,-147.85 105.11,-147.85 105.11,-135.85 105.11,-135.85 105.11,-129.85 111.11,-123.85 117.11,-123.85 117.11,-123.85 181.11,-123.85 181.11,-123.85 187.11,-123.85 193.11,-129.85 193.11,-135.85 193.11,-135.85 193.11,-147.85 193.11,-147.85 193.11,-153.85 187.11,-159.85 181.11,-159.85\"/>\n",
       "<text text-anchor=\"start\" x=\"115.61\" y=\"-144.25\" font-family=\"Times-Roman\" font-weight=\"bold\" font-size=\"12.00\">Pi_Line_pf</text>\n",
       "<text text-anchor=\"start\" x=\"113.11\" y=\"-133.85\" font-family=\"Times-Roman\" font-size=\"10.00\" fill=\"#474747\">SP::Ph1::PiLine</text>\n",
       "</a>\n",
       "</g>\n",
       "</g>\n",
       "<!-- Pi_Line_pf&#45;&#45;n1_pf -->\n",
       "<g id=\"edge3\" class=\"edge\">\n",
       "<title>Pi_Line_pf&#45;&#45;n1_pf</title>\n",
       "<path fill=\"none\" stroke=\"black\" d=\"M135.65,-123.83C126.52,-111.61 115.11,-96.33 109.42,-88.7\"/>\n",
       "</g>\n",
       "<!-- Pi_Line_pf&#45;&#45;n2_pf -->\n",
       "<g id=\"edge2\" class=\"edge\">\n",
       "<title>Pi_Line_pf&#45;&#45;n2_pf</title>\n",
       "<path fill=\"none\" stroke=\"black\" d=\"M168.52,-159.92C179.14,-169.82 191.4,-181.23 197.74,-187.14\"/>\n",
       "</g>\n",
       "<!-- Slack -->\n",
       "<g id=\"node5\" class=\"node\">\n",
       "<title>Slack</title>\n",
       "<g id=\"a_node5\"><a xlink:title=\"Attributes:&#10;V_ref: 0+0i&#10;V_set: 24000.000000&#10;V_set_pu: 1.000000&#10;f_src: 0.000000&#10;i_intf: (0,0)&#10;name: Slack&#10;p_inj: &#45;289303719.546237&#10;q_inj: 13777704.263525&#10;right_vector: &#10;uid: Slack&#10;v_intf: (0,0)\">\n",
       "<path fill=\"#ededed\" stroke=\"black\" stroke-width=\"2\" d=\"M302.42,-268.28C302.42,-268.28 184.42,-268.28 184.42,-268.28 178.42,-268.28 172.42,-262.28 172.42,-256.28 172.42,-256.28 172.42,-244.28 172.42,-244.28 172.42,-238.28 178.42,-232.28 184.42,-232.28 184.42,-232.28 302.42,-232.28 302.42,-232.28 308.42,-232.28 314.42,-238.28 314.42,-244.28 314.42,-244.28 314.42,-256.28 314.42,-256.28 314.42,-262.28 308.42,-268.28 302.42,-268.28\"/>\n",
       "<text text-anchor=\"start\" x=\"224.92\" y=\"-252.68\" font-family=\"Times-Roman\" font-weight=\"bold\" font-size=\"12.00\">Slack</text>\n",
       "<text text-anchor=\"start\" x=\"180.42\" y=\"-242.28\" font-family=\"Times-Roman\" font-size=\"10.00\" fill=\"#474747\">SP::Ph1::NetworkInjection</text>\n",
       "</a>\n",
       "</g>\n",
       "</g>\n",
       "<!-- Slack&#45;&#45;n2_pf -->\n",
       "<g id=\"edge4\" class=\"edge\">\n",
       "<title>Slack&#45;&#45;n2_pf</title>\n",
       "<path fill=\"none\" stroke=\"black\" d=\"M230.78,-232.22C221.85,-219.45 210.54,-203.28 205.16,-195.59\"/>\n",
       "</g>\n",
       "</g>\n",
       "</svg>\n"
      ],
      "text/plain": [
       "<dpsimpy.SystemTopology at 0x7f92ebdd69f0>"
      ]
     },
     "execution_count": 27,
     "metadata": {},
     "output_type": "execute_result"
    }
   ],
   "source": [
    "system_pf"
   ]
  },
  {
   "cell_type": "code",
   "execution_count": 28,
   "metadata": {},
   "outputs": [
    {
     "data": {
      "image/svg+xml": [
       "<?xml version=\"1.0\" encoding=\"UTF-8\" standalone=\"no\"?>\n",
       "<!DOCTYPE svg PUBLIC \"-//W3C//DTD SVG 1.1//EN\"\n",
       " \"http://www.w3.org/Graphics/SVG/1.1/DTD/svg11.dtd\">\n",
       "<!-- Generated by graphviz version 2.44.0 (0)\n",
       " -->\n",
       "<!-- Title: topology Pages: 1 -->\n",
       "<svg width=\"322pt\" height=\"276pt\"\n",
       " viewBox=\"0.00 0.00 322.42 276.28\" xmlns=\"http://www.w3.org/2000/svg\" xmlns:xlink=\"http://www.w3.org/1999/xlink\">\n",
       "<g id=\"graph0\" class=\"graph\" transform=\"scale(1 1) rotate(0) translate(4 272.28)\">\n",
       "<title>topology</title>\n",
       "<polygon fill=\"white\" stroke=\"transparent\" points=\"-4,4 -4,-272.28 318.42,-272.28 318.42,4 -4,4\"/>\n",
       "<!-- n1_pf -->\n",
       "<g id=\"node1\" class=\"node\">\n",
       "<title>n1_pf</title>\n",
       "<g id=\"a_node1\"><a xlink:title=\"n1_pf\">\n",
       "<ellipse fill=\"red\" stroke=\"black\" cx=\"105.83\" cy=\"-83.9\" rx=\"5.4\" ry=\"5.4\"/>\n",
       "</a>\n",
       "</g>\n",
       "<text text-anchor=\"start\" x=\"63.43\" y=\"-93.7\" font-family=\"Times-Roman\" font-weight=\"bold\" font-size=\"12.00\">n1_pf</text>\n",
       "</g>\n",
       "<!-- n2_pf -->\n",
       "<g id=\"node2\" class=\"node\">\n",
       "<title>n2_pf</title>\n",
       "<g id=\"a_node2\"><a xlink:title=\"n2_pf\">\n",
       "<ellipse fill=\"red\" stroke=\"black\" cx=\"202.05\" cy=\"-191.14\" rx=\"5.4\" ry=\"5.4\"/>\n",
       "</a>\n",
       "</g>\n",
       "<text text-anchor=\"start\" x=\"159.65\" y=\"-200.94\" font-family=\"Times-Roman\" font-weight=\"bold\" font-size=\"12.00\">n2_pf</text>\n",
       "</g>\n",
       "<!-- gen_pf -->\n",
       "<g id=\"node3\" class=\"node\">\n",
       "<title>gen_pf</title>\n",
       "<g id=\"a_node3\"><a xlink:title=\"Attributes:&#10;P_set: 0.300000&#10;P_set_pu: 0.000000&#10;Q_set: 43411881.878627&#10;Q_set_pu: 0.000000&#10;V_set: 25200.000000&#10;V_set_pu: 0.000000&#10;base_Voltage: 0.000000&#10;i_intf: (0,0)&#10;name: gen_pf&#10;uid: gen_pf&#10;v_intf: (0,0)\">\n",
       "<path fill=\"#ededed\" stroke=\"black\" stroke-width=\"2\" d=\"M140,-36C140,-36 12,-36 12,-36 6,-36 0,-30 0,-24 0,-24 0,-12 0,-12 0,-6 6,0 12,0 12,0 140,0 140,0 146,0 152,-6 152,-12 152,-12 152,-24 152,-24 152,-30 146,-36 140,-36\"/>\n",
       "<text text-anchor=\"start\" x=\"53.5\" y=\"-20.4\" font-family=\"Times-Roman\" font-weight=\"bold\" font-size=\"12.00\">gen_pf</text>\n",
       "<text text-anchor=\"start\" x=\"8\" y=\"-10\" font-family=\"Times-Roman\" font-size=\"10.00\" fill=\"#474747\">SP::Ph1::SynchronGenerator</text>\n",
       "</a>\n",
       "</g>\n",
       "</g>\n",
       "<!-- gen_pf&#45;&#45;n1_pf -->\n",
       "<g id=\"edge1\" class=\"edge\">\n",
       "<title>gen_pf&#45;&#45;n1_pf</title>\n",
       "<path fill=\"none\" stroke=\"black\" d=\"M84.15,-36.01C90.71,-50.49 99.48,-69.86 103.56,-78.88\"/>\n",
       "</g>\n",
       "<!-- Pi_Line_pf -->\n",
       "<g id=\"node4\" class=\"node\">\n",
       "<title>Pi_Line_pf</title>\n",
       "<g id=\"a_node4\"><a xlink:title=\"Attributes:&#10;C_parallel: 0.000083&#10;G_parallel: 0.000001&#10;L_series: 0.001383&#10;R_series: 0.073152&#10;base_Voltage: 24000.000000&#10;current_vector: (0,0)&#10;(0,0)&#10;i_intf: (0,0)&#10;name: Pi_Line_pf&#10;p_branch_vector: 0&#10;0&#10;p_inj: 0.000000&#10;q_branch_vector: 0&#10;0&#10;q_inj: 0.000000&#10;right_vector: &#10;uid: Pi_Line_pf&#10;v_intf: (0,0)\">\n",
       "<path fill=\"transparent\" stroke=\"transparent\" stroke-width=\"2\" d=\"M181.11,-159.85C181.11,-159.85 117.11,-159.85 117.11,-159.85 111.11,-159.85 105.11,-153.85 105.11,-147.85 105.11,-147.85 105.11,-135.85 105.11,-135.85 105.11,-129.85 111.11,-123.85 117.11,-123.85 117.11,-123.85 181.11,-123.85 181.11,-123.85 187.11,-123.85 193.11,-129.85 193.11,-135.85 193.11,-135.85 193.11,-147.85 193.11,-147.85 193.11,-153.85 187.11,-159.85 181.11,-159.85\"/>\n",
       "<text text-anchor=\"start\" x=\"115.61\" y=\"-144.25\" font-family=\"Times-Roman\" font-weight=\"bold\" font-size=\"12.00\">Pi_Line_pf</text>\n",
       "<text text-anchor=\"start\" x=\"113.11\" y=\"-133.85\" font-family=\"Times-Roman\" font-size=\"10.00\" fill=\"#474747\">SP::Ph1::PiLine</text>\n",
       "</a>\n",
       "</g>\n",
       "</g>\n",
       "<!-- Pi_Line_pf&#45;&#45;n1_pf -->\n",
       "<g id=\"edge2\" class=\"edge\">\n",
       "<title>Pi_Line_pf&#45;&#45;n1_pf</title>\n",
       "<path fill=\"none\" stroke=\"black\" d=\"M135.65,-123.83C126.52,-111.61 115.11,-96.33 109.42,-88.7\"/>\n",
       "</g>\n",
       "<!-- Pi_Line_pf&#45;&#45;n2_pf -->\n",
       "<g id=\"edge3\" class=\"edge\">\n",
       "<title>Pi_Line_pf&#45;&#45;n2_pf</title>\n",
       "<path fill=\"none\" stroke=\"black\" d=\"M168.52,-159.92C179.14,-169.82 191.4,-181.23 197.74,-187.14\"/>\n",
       "</g>\n",
       "<!-- Injection 1 -->\n",
       "<g id=\"node5\" class=\"node\">\n",
       "<title>Injection 1</title>\n",
       "<g id=\"a_node5\"><a xlink:title=\"Attributes:&#10;V_ref: 0+0i&#10;V_set: 1.000000&#10;V_set_pu: 1.000000&#10;f_src: 0.000000&#10;i_intf: (0,0)&#10;name: Injection 1&#10;p_inj: 0.000000&#10;q_inj: 0.000000&#10;right_vector: &#10;uid: Injection 1&#10;v_intf: (0,0)\">\n",
       "<path fill=\"#ededed\" stroke=\"black\" stroke-width=\"2\" d=\"M302.42,-268.28C302.42,-268.28 184.42,-268.28 184.42,-268.28 178.42,-268.28 172.42,-262.28 172.42,-256.28 172.42,-256.28 172.42,-244.28 172.42,-244.28 172.42,-238.28 178.42,-232.28 184.42,-232.28 184.42,-232.28 302.42,-232.28 302.42,-232.28 308.42,-232.28 314.42,-238.28 314.42,-244.28 314.42,-244.28 314.42,-256.28 314.42,-256.28 314.42,-262.28 308.42,-268.28 302.42,-268.28\"/>\n",
       "<text text-anchor=\"start\" x=\"207.92\" y=\"-252.68\" font-family=\"Times-Roman\" font-weight=\"bold\" font-size=\"12.00\">Injection 1</text>\n",
       "<text text-anchor=\"start\" x=\"180.42\" y=\"-242.28\" font-family=\"Times-Roman\" font-size=\"10.00\" fill=\"#474747\">SP::Ph1::NetworkInjection</text>\n",
       "</a>\n",
       "</g>\n",
       "</g>\n",
       "<!-- Injection 1&#45;&#45;n2_pf -->\n",
       "<g id=\"edge4\" class=\"edge\">\n",
       "<title>Injection 1&#45;&#45;n2_pf</title>\n",
       "<path fill=\"none\" stroke=\"black\" d=\"M230.78,-232.22C221.85,-219.45 210.54,-203.28 205.16,-195.59\"/>\n",
       "</g>\n",
       "</g>\n",
       "</svg>\n"
      ],
      "text/plain": [
       "<dpsimpy.SystemTopology at 0x7f92e8ec8fb0>"
      ]
     },
     "execution_count": 28,
     "metadata": {},
     "output_type": "execute_result"
    }
   ],
   "source": [
    "test_system = CIMpyToDPsim.CIMpyToDPsim(network, 1)\n",
    "test_system\n",
    "\n",
    "\n"
   ]
  },
  {
   "attachments": {},
   "cell_type": "markdown",
   "metadata": {},
   "source": [
    "## Declare DPSim Topology for SP simulations"
   ]
  },
  {
   "cell_type": "code",
   "execution_count": 29,
   "metadata": {},
   "outputs": [],
   "source": [
    "def sp_reducedOrderSG_SMIB_fault(sim_pf, gen_pf, gen_model, final_time=20, time_step=0.001):\n",
    "    \n",
    "    # ## Extract relevant powerflow results\n",
    "    init_electrical_power = gen_pf.get_apparent_power()\n",
    "    init_mechanical_power = gen_pf.get_apparent_power().real\n",
    "\n",
    "    ### DPsim SP simulation\n",
    "    name = \"SP_ReducedOrderSG_SMIB_\" + gen_model\n",
    "    dpsimpy.Logger.set_log_dir(\"logs/\" + name)\n",
    "    \n",
    "    ### Nodes\n",
    "    gnd = dpsimpy.sp.SimNode.gnd\n",
    "    n1 = dpsimpy.sp.SimNode('n1', dpsimpy.PhaseType.Single) \n",
    "    n1.set_initial_voltage(sim_pf.get_idobj_attr(n1_pf.name(), 'v').get()[0])\n",
    "\n",
    "    n2 = dpsimpy.sp.SimNode('n2', dpsimpy.PhaseType.Single)\n",
    "    n2.set_initial_voltage(sim_pf.get_idobj_attr(n2_pf.name(), 'v').get()[0])\n",
    "\n",
    "\n",
    "    ### Components\n",
    "\n",
    "    # syncrhon generator\n",
    "    gen = None\n",
    "    if (gen_model==\"3Order\"):\n",
    "        gen = dpsimpy.sp.ph1.SynchronGenerator3OrderVBR('gen', dpsimpy.LogLevel.debug)\n",
    "        gen.set_operational_parameters_per_unit(nom_power=nom_power, nom_voltage=nominal_voltage_mv, nom_frequency=frequency, \n",
    "                                                H=H, Ld=Ld, Lq=Lq, L0=L0, Ld_t=Ld_t, Td0_t=Td0_t)\n",
    "    elif (gen_model==\"4Order\"):\n",
    "        gen = dpsimpy.sp.ph1.SynchronGenerator4OrderVBR('gen', dpsimpy.LogLevel.debug)\n",
    "        gen.set_operational_parameters_per_unit(nom_power=nom_power, nom_voltage=nominal_voltage_mv, nom_frequency=frequency, \n",
    "                                                H=H, Ld=Ld, Lq=Lq, L0=L0, Ld_t=Ld_t, Lq_t=Lq_t, Td0_t=Td0_t, Tq0_t=Tq0_t)\t\t\n",
    "    elif (gen_model==\"6aOrder\"):\n",
    "        gen = dpsimpy.sp.ph1.SynchronGenerator6aOrderVBR('gen', dpsimpy.LogLevel.debug)\n",
    "        gen.set_operational_parameters_per_unit(nom_power=nom_power, nom_voltage=nominal_voltage_mv, nom_frequency=frequency, \n",
    "                                                H=H, Ld=Ld, Lq=Lq, L0=L0, Ld_t=Ld_t, Lq_t=Lq_t, Td0_t=Td0_t, Tq0_t=Tq0_t,\n",
    "                                                Ld_s=Ld_s, Lq_s=Lq_s, Td0_s=Td0_s, Tq0_s=Tq0_s, Taa=Taa)\t\n",
    "    elif (gen_model==\"6bOrder\"):\n",
    "        gen = dpsimpy.sp.ph1.SynchronGenerator6bOrderVBR('gen', dpsimpy.LogLevel.debug)\n",
    "        gen.set_operational_parameters_per_unit(nom_power=nom_power, nom_voltage=nominal_voltage_mv, nom_frequency=frequency, \n",
    "                                                H=H, Ld=Ld, Lq=Lq, L0=L0, Ld_t=Ld_t, Lq_t=Lq_t, Td0_t=Td0_t, Tq0_t=Tq0_t,\n",
    "                                                Ld_s=Ld_s, Lq_s=Lq_s, Td0_s=Td0_s, Tq0_s=Tq0_s)\t\t\n",
    "    gen.set_initial_values(init_complex_electrical_power=init_electrical_power, init_mechanical_power=init_mechanical_power, \n",
    "                           init_complex_terminal_voltage=sim_pf.get_idobj_attr(n1_pf.name(), 'v').get()[0][0])\n",
    "\n",
    "    # Switch\n",
    "    switch = dpsimpy.sp.ph1.Switch('Fault', dpsimpy.LogLevel.debug)\n",
    "    switch.set_parameters(switch_open, switch_closed)\n",
    "    switch.open()\n",
    "\n",
    "    # pi line\n",
    "    pi_line = dpsimpy.sp.ph1.PiLine('PiLine', dpsimpy.LogLevel.debug)\n",
    "    pi_line.set_parameters(R=line_resistance,\n",
    "                           L=line_inductance,\n",
    "                           C=line_capacitance,\n",
    "                           G=line_conductance)\n",
    "\n",
    "    # Slack\n",
    "    slack = dpsimpy.sp.ph1.NetworkInjection('slack', dpsimpy.LogLevel.debug)\n",
    "    slack.set_parameters(V_ref=nominal_voltage_mv)\n",
    "    \n",
    "    ### Connections\n",
    "    gen.connect([n1])\n",
    "    switch.connect([gnd, n1])\n",
    "    pi_line.connect([n1, n2])\n",
    "    slack.connect([n2])\n",
    "    \n",
    "    ### Define system topology\n",
    "    system = dpsimpy.SystemTopology(frequency, [n1, n2], [gen, pi_line, slack, switch])\n",
    "\n",
    "    \n",
    "    ### Logging\n",
    "    logger = dpsimpy.Logger(name)\n",
    "    logger.log_attribute('n1.v', 'v', n1)\n",
    "    logger.log_attribute('n2.v', 'v', n2)\n",
    "    logger.log_attribute('Te', 'Te', gen)\n",
    "    logger.log_attribute('delta', 'delta', gen)\n",
    "    logger.log_attribute('w_r', 'w_r', gen)\n",
    "    logger.log_attribute('Vdq0', 'Vdq0', gen)\n",
    "    logger.log_attribute('Idq0', 'Idq0', gen)\n",
    "    logger.log_attribute('i_gen', 'i_intf', gen)\n",
    "    if (gen_model==\"6aOrder\" or gen_model==\"6bOrder\"):\n",
    "        logger.log_attribute(\"Edq0_s\", \"Edq_s\", gen)\n",
    "        logger.log_attribute(\"Edq0_t\", \"Edq_t\", gen)\n",
    "    else:\n",
    "        logger.log_attribute(\"Edq0\", \"Edq_t\", gen)\n",
    "    \n",
    "    ### Simulation\n",
    "    sim = dpsimpy.Simulation(name, dpsimpy.LogLevel.debug)\n",
    "    sim.set_system(system)\n",
    "    sim.do_init_from_nodes_and_terminals(True)\n",
    "    sim.set_domain(dpsimpy.Domain.SP)\n",
    "    sim.set_direct_solver_implementation(dpsimpy.DirectLinearSolverImpl.SparseLU)\n",
    "    sim.set_time_step(time_step)\n",
    "    sim.set_final_time(final_time)\n",
    "    sim.do_system_matrix_recomputation(True)\n",
    "    \n",
    "    sw_event_1 = dpsimpy.event.SwitchEvent(1.0, switch, True)\n",
    "    sim.add_event(sw_event_1)\n",
    "    \n",
    "    sw_event_2 = dpsimpy.event.SwitchEvent(1.1, switch, False)\n",
    "    sim.add_event(sw_event_2)\n",
    "\n",
    "    sim.add_logger(logger)\n",
    "    sim.run()\n",
    "    \n",
    "    return system, sim, init_electrical_power"
   ]
  },
  {
   "attachments": {},
   "cell_type": "markdown",
   "metadata": {},
   "source": [
    "## Run DPSim simulations (SP Domain)"
   ]
  },
  {
   "attachments": {},
   "cell_type": "markdown",
   "metadata": {},
   "source": [
    "### 3th Order Model"
   ]
  },
  {
   "cell_type": "code",
   "execution_count": 30,
   "metadata": {},
   "outputs": [
    {
     "name": "stdout",
     "output_type": "stream",
     "text": [
      "1.000000e+00: Handle event time\n",
      "1.100000e+00: Handle event time\n"
     ]
    },
    {
     "name": "stderr",
     "output_type": "stream",
     "text": [
      "[12:33:55.391489 PiLine warning] Zero value for Conductance, setting default value of G=1e-06 [S]\n",
      "[12:33:55.394323 SP_ReducedOrderSG_SMIB_3Order info] Initialize simulation: SP_ReducedOrderSG_SMIB_3Order\n",
      "[12:33:55.394491 MnaSolverFactory info] creating SparseLUAdapter solver implementation\n",
      "[12:33:55.396805 SP_ReducedOrderSG_SMIB_3Order_Solver warning] Linear solver configuration is not used!\n",
      "[12:33:55.397653 SP_ReducedOrderSG_SMIB_3Order info] Scheduling tasks.\n",
      "[12:33:55.398022 SP_ReducedOrderSG_SMIB_3Order info] Scheduling done.\n",
      "[12:33:55.398025 SP_ReducedOrderSG_SMIB_3Order info] Opening interfaces.\n",
      "[12:33:55.398027 SP_ReducedOrderSG_SMIB_3Order info] Start synchronization with remotes on interfaces\n",
      "[12:33:55.398028 SP_ReducedOrderSG_SMIB_3Order info] Synchronized simulation start with remotes\n",
      "[12:33:55.398031 SP_ReducedOrderSG_SMIB_3Order info] Start simulation: SP_ReducedOrderSG_SMIB_3Order\n",
      "[12:33:55.398034 SP_ReducedOrderSG_SMIB_3Order info] Time step: 1.000000e-03\n",
      "[12:33:55.398037 SP_ReducedOrderSG_SMIB_3Order info] Final time: 2.000000e+01\n",
      "[12:34:03.842693 SP_ReducedOrderSG_SMIB_3Order info] Simulation calculation time: 8.444625\n",
      "[12:34:03.849272 SP_ReducedOrderSG_SMIB_3Order info] Simulation finished.\n"
     ]
    }
   ],
   "source": [
    "system_sp, sim_sp, power= sp_reducedOrderSG_SMIB_fault(sim_pf, gen_pf, \"3Order\")\n"
   ]
  },
  {
   "cell_type": "code",
   "execution_count": 31,
   "metadata": {},
   "outputs": [
    {
     "name": "stdout",
     "output_type": "stream",
     "text": [
      "(303124712.7639775, 0.14370873108818763)\n",
      "(300000000+43411881.8786273j)\n"
     ]
    },
    {
     "data": {
      "text/plain": [
       "(24385.98087839718+6353.261886499494j)"
      ]
     },
     "execution_count": 31,
     "metadata": {},
     "output_type": "execute_result"
    }
   ],
   "source": [
    "print(cmath.polar(power))\n",
    "print(power)\n",
    "sim_pf.get_idobj_attr(n1_pf.name(), 'v').get()[0][0]\n"
   ]
  },
  {
   "cell_type": "code",
   "execution_count": 32,
   "metadata": {},
   "outputs": [
    {
     "data": {
      "image/svg+xml": [
       "<?xml version=\"1.0\" encoding=\"UTF-8\" standalone=\"no\"?>\n",
       "<!DOCTYPE svg PUBLIC \"-//W3C//DTD SVG 1.1//EN\"\n",
       " \"http://www.w3.org/Graphics/SVG/1.1/DTD/svg11.dtd\">\n",
       "<!-- Generated by graphviz version 2.44.0 (0)\n",
       " -->\n",
       "<!-- Title: topology Pages: 1 -->\n",
       "<svg width=\"387pt\" height=\"232pt\"\n",
       " viewBox=\"0.00 0.00 386.74 231.63\" xmlns=\"http://www.w3.org/2000/svg\" xmlns:xlink=\"http://www.w3.org/1999/xlink\">\n",
       "<g id=\"graph0\" class=\"graph\" transform=\"scale(1 1) rotate(0) translate(4 227.63)\">\n",
       "<title>topology</title>\n",
       "<polygon fill=\"white\" stroke=\"transparent\" points=\"-4,4 -4,-227.63 382.74,-227.63 382.74,4 -4,4\"/>\n",
       "<!-- n1 -->\n",
       "<g id=\"node1\" class=\"node\">\n",
       "<title>n1</title>\n",
       "<g id=\"a_node1\"><a xlink:title=\"n1\">\n",
       "<ellipse fill=\"black\" stroke=\"black\" cx=\"114.58\" cy=\"-95.66\" rx=\"5.4\" ry=\"5.4\"/>\n",
       "</a>\n",
       "</g>\n",
       "<text text-anchor=\"start\" x=\"52.18\" y=\"-103.66\" font-family=\"Times-Roman\" font-weight=\"bold\" font-size=\"12.00\">n1</text>\n",
       "<text text-anchor=\"start\" x=\"12.18\" y=\"-93.26\" font-family=\"Times-Roman\" font-size=\"10.00\" fill=\"#474747\">(25.20 kV &gt; 14.60°)</text>\n",
       "</g>\n",
       "<!-- n2 -->\n",
       "<g id=\"node2\" class=\"node\">\n",
       "<title>n2</title>\n",
       "<g id=\"a_node2\"><a xlink:title=\"n2\">\n",
       "<ellipse fill=\"red\" stroke=\"black\" cx=\"248.37\" cy=\"-163.89\" rx=\"5.4\" ry=\"5.4\"/>\n",
       "</a>\n",
       "</g>\n",
       "<text text-anchor=\"start\" x=\"188.97\" y=\"-171.89\" font-family=\"Times-Roman\" font-weight=\"bold\" font-size=\"12.00\">n2</text>\n",
       "<text text-anchor=\"start\" x=\"151.97\" y=\"-161.49\" font-family=\"Times-Roman\" font-size=\"10.00\" fill=\"#474747\">(24.00 kV &gt; 0.00°)</text>\n",
       "</g>\n",
       "<!-- gen -->\n",
       "<g id=\"node3\" class=\"node\">\n",
       "<title>gen</title>\n",
       "<g id=\"a_node3\"><a xlink:title=\"Attributes:&#10;Edq_t: &#160;&#160;&#160;&#160;&#160;&#160;&#160;0&#10;0.942668&#10;Ef: 1.507191&#10;H: 3.700000&#10;Idq0: 0.356143&#10;0.358662&#10;L0: 0.150000&#10;Ld: 1.809900&#10;Ld_s: 0.000000&#10;Ld_t: 0.299900&#10;Lq: 1.760000&#10;Lq_s: 0.000000&#10;Lq_t: 0.000000&#10;Taa: 0.000000&#10;Td0_s: 0.000000&#10;Td0_t: 8.066900&#10;Te: 0.524256&#10;Theta: 7538.769500&#10;Tm: 0.540541&#10;Tq0_s: 0.000000&#10;Tq0_t: 0.000000&#10;Vdq0: 0.631245&#10;0.835864&#10;delta: 0.894919&#10;i_intf: (11613.9,1318.51)&#10;initElecPower: 3e+08+4.3e+07i&#10;name: gen&#10;right_vector: 56692.8&#10; &#160;&#160;&#160;&#160;&#160;0&#10; &#160;&#160;&#160;&#160;&#160;0&#10; &#160;&#160;&#160;&#160;&#160;0&#10; &#45;45460&#10; &#160;&#160;&#160;&#160;&#160;0&#10; &#160;&#160;&#160;&#160;&#160;0&#10; &#160;&#160;&#160;&#160;&#160;0&#10;uid: gen&#10;v_intf: (24368.9,6173.05)&#10;w_r: 1.000972\">\n",
       "<path fill=\"#ededed\" stroke=\"black\" stroke-width=\"2\" d=\"M196.21,-36C196.21,-36 14.21,-36 14.21,-36 8.21,-36 2.21,-30 2.21,-24 2.21,-24 2.21,-12 2.21,-12 2.21,-6 8.21,0 14.21,0 14.21,0 196.21,0 196.21,0 202.21,0 208.21,-6 208.21,-12 208.21,-12 208.21,-24 208.21,-24 208.21,-30 202.21,-36 196.21,-36\"/>\n",
       "<text text-anchor=\"start\" x=\"92.71\" y=\"-20.4\" font-family=\"Times-Roman\" font-weight=\"bold\" font-size=\"12.00\">gen</text>\n",
       "<text text-anchor=\"start\" x=\"10.21\" y=\"-10\" font-family=\"Times-Roman\" font-size=\"10.00\" fill=\"#474747\">SP::Ph1::SynchronGenerator3OrderVBR</text>\n",
       "</a>\n",
       "</g>\n",
       "</g>\n",
       "<!-- gen&#45;&#45;n1 -->\n",
       "<g id=\"edge1\" class=\"edge\">\n",
       "<title>gen&#45;&#45;n1</title>\n",
       "<path fill=\"none\" stroke=\"black\" d=\"M107.38,-36.01C109.5,-53.58 112.59,-79.21 113.93,-90.26\"/>\n",
       "</g>\n",
       "<!-- PiLine -->\n",
       "<g id=\"node4\" class=\"node\">\n",
       "<title>PiLine</title>\n",
       "<g id=\"a_node4\"><a xlink:title=\"Attributes:&#10;C_parallel: 0.000083&#10;G_parallel: 0.000001&#10;L_series: 0.001383&#10;R_series: 0.073152&#10;base_Voltage: 0.000000&#10;current_vector: (0,0)&#10;(0,0)&#10;i_intf: (&#45;12054.3,&#45;951.154)&#10;name: PiLine&#10;p_branch_vector: 0&#10;0&#10;p_inj: 0.000000&#10;q_branch_vector: 0&#10;0&#10;q_inj: 0.000000&#10;right_vector: 0&#10;0&#10;0&#10;0&#10;0&#10;0&#10;0&#10;0&#10;uid: PiLine&#10;v_intf: (&#45;385.981,&#45;6353.26)\">\n",
       "<path fill=\"transparent\" stroke=\"transparent\" stroke-width=\"2\" d=\"M214.8,-148.92C214.8,-148.92 150.8,-148.92 150.8,-148.92 144.8,-148.92 138.8,-142.92 138.8,-136.92 138.8,-136.92 138.8,-124.92 138.8,-124.92 138.8,-118.92 144.8,-112.92 150.8,-112.92 150.8,-112.92 214.8,-112.92 214.8,-112.92 220.8,-112.92 226.8,-118.92 226.8,-124.92 226.8,-124.92 226.8,-136.92 226.8,-136.92 226.8,-142.92 220.8,-148.92 214.8,-148.92\"/>\n",
       "<text text-anchor=\"start\" x=\"162.3\" y=\"-133.32\" font-family=\"Times-Roman\" font-weight=\"bold\" font-size=\"12.00\">PiLine</text>\n",
       "<text text-anchor=\"start\" x=\"146.8\" y=\"-122.92\" font-family=\"Times-Roman\" font-size=\"10.00\" fill=\"#474747\">SP::Ph1::PiLine</text>\n",
       "</a>\n",
       "</g>\n",
       "</g>\n",
       "<!-- PiLine&#45;&#45;n1 -->\n",
       "<g id=\"edge2\" class=\"edge\">\n",
       "<title>PiLine&#45;&#45;n1</title>\n",
       "<path fill=\"none\" stroke=\"black\" d=\"M147.89,-112.88C136.88,-107.18 125.97,-101.55 119.78,-98.35\"/>\n",
       "</g>\n",
       "<!-- PiLine&#45;&#45;n2 -->\n",
       "<g id=\"edge3\" class=\"edge\">\n",
       "<title>PiLine&#45;&#45;n2</title>\n",
       "<path fill=\"none\" stroke=\"black\" d=\"M218.65,-148.95C228.46,-153.88 237.9,-158.62 243.41,-161.4\"/>\n",
       "</g>\n",
       "<!-- slack -->\n",
       "<g id=\"node5\" class=\"node\">\n",
       "<title>slack</title>\n",
       "<g id=\"a_node5\"><a xlink:title=\"Attributes:&#10;V_ref: 2.4e+04+0i&#10;V_set: 0.000000&#10;V_set_pu: 1.000000&#10;f_src: 0.000000&#10;i_intf: (11710.8,558.538)&#10;name: slack&#10;p_inj: 0.000000&#10;q_inj: 0.000000&#10;right_vector: &#160;&#160;&#160;&#160;0&#10; &#160;&#160;&#160;0&#10; &#160;&#160;&#160;0&#10;24000&#10; &#160;&#160;&#160;0&#10; &#160;&#160;&#160;0&#10; &#160;&#160;&#160;0&#10; &#160;&#160;&#160;0&#10;uid: slack&#10;v_intf: (24000,0)\">\n",
       "<path fill=\"#ededed\" stroke=\"black\" stroke-width=\"2\" d=\"M366.74,-223.63C366.74,-223.63 248.74,-223.63 248.74,-223.63 242.74,-223.63 236.74,-217.63 236.74,-211.63 236.74,-211.63 236.74,-199.63 236.74,-199.63 236.74,-193.63 242.74,-187.63 248.74,-187.63 248.74,-187.63 366.74,-187.63 366.74,-187.63 372.74,-187.63 378.74,-193.63 378.74,-199.63 378.74,-199.63 378.74,-211.63 378.74,-211.63 378.74,-217.63 372.74,-223.63 366.74,-223.63\"/>\n",
       "<text text-anchor=\"start\" x=\"290.24\" y=\"-208.03\" font-family=\"Times-Roman\" font-weight=\"bold\" font-size=\"12.00\">slack</text>\n",
       "<text text-anchor=\"start\" x=\"244.74\" y=\"-197.63\" font-family=\"Times-Roman\" font-size=\"10.00\" fill=\"#474747\">SP::Ph1::NetworkInjection</text>\n",
       "</a>\n",
       "</g>\n",
       "</g>\n",
       "<!-- slack&#45;&#45;n2 -->\n",
       "<g id=\"edge4\" class=\"edge\">\n",
       "<title>slack&#45;&#45;n2</title>\n",
       "<path fill=\"none\" stroke=\"black\" d=\"M281.87,-187.44C270.87,-179.71 259.16,-171.48 252.92,-167.09\"/>\n",
       "</g>\n",
       "<!-- Fault -->\n",
       "<g id=\"node6\" class=\"node\">\n",
       "<title>Fault</title>\n",
       "<g id=\"a_node6\"><a xlink:title=\"Attributes:&#10;R_closed: 0.001038&#10;R_open: 1000000.000000&#10;i_intf: (0,0)&#10;is_closed: 0&#10;name: Fault&#10;right_vector: &#10;uid: Fault&#10;v_intf: (0,0)\">\n",
       "<path fill=\"#ededed\" stroke=\"black\" stroke-width=\"2\" d=\"M79,-150.38C79,-150.38 12,-150.38 12,-150.38 6,-150.38 0,-144.38 0,-138.38 0,-138.38 0,-126.38 0,-126.38 0,-120.38 6,-114.38 12,-114.38 12,-114.38 79,-114.38 79,-114.38 85,-114.38 91,-120.38 91,-126.38 91,-126.38 91,-138.38 91,-138.38 91,-144.38 85,-150.38 79,-150.38\"/>\n",
       "<text text-anchor=\"start\" x=\"28.5\" y=\"-134.78\" font-family=\"Times-Roman\" font-weight=\"bold\" font-size=\"12.00\">Fault</text>\n",
       "<text text-anchor=\"start\" x=\"8\" y=\"-124.38\" font-family=\"Times-Roman\" font-size=\"10.00\" fill=\"#474747\">SP::Ph1::Switch</text>\n",
       "</a>\n",
       "</g>\n",
       "</g>\n",
       "<!-- Fault&#45;&#45;n1 -->\n",
       "<g id=\"edge5\" class=\"edge\">\n",
       "<title>Fault&#45;&#45;n1</title>\n",
       "<path fill=\"none\" stroke=\"black\" d=\"M79.63,-114.24C91.33,-108.02 103.08,-101.77 109.54,-98.34\"/>\n",
       "</g>\n",
       "</g>\n",
       "</svg>\n"
      ],
      "text/plain": [
       "<dpsimpy.SystemTopology at 0x7f92ebdd05b0>"
      ]
     },
     "execution_count": 32,
     "metadata": {},
     "output_type": "execute_result"
    }
   ],
   "source": [
    "log_name = \"SP_ReducedOrderSG_SMIB_\" + \"3Order\"\n",
    "system_sp\n"
   ]
  },
  {
   "cell_type": "code",
   "execution_count": 33,
   "metadata": {},
   "outputs": [
    {
     "name": "stdout",
     "output_type": "stream",
     "text": [
      "YXes\n"
     ]
    }
   ],
   "source": [
    "\n",
    "\n",
    "SyncGenerator = system_sp.components[0]\n",
    "type(SyncGenerator)\n",
    "\n",
    "if \"SynchronGenerator\" and \"Order\" in str(type(system_sp.components[0])):\n",
    "    print(\"YXes\")"
   ]
  },
  {
   "attachments": {},
   "cell_type": "markdown",
   "metadata": {},
   "source": [
    "### DPSim to CIMpy manually"
   ]
  },
  {
   "cell_type": "code",
   "execution_count": 35,
   "metadata": {},
   "outputs": [
    {
     "data": {
      "text/plain": [
       "{'meta_info': {'urls': {},\n",
       "  'namespaces': {'rdf': 'http://www.w3.org/1999/02/22-rdf-syntax-ns#'}},\n",
       " 'topology': {'Node1': <cimpy.cgmes_v2_4_15.TopologicalNode.TopologicalNode at 0x7f92e8e300d0>,\n",
       "  'Node1-sv': <cimpy.cgmes_v2_4_15.SvVoltage.SvVoltage at 0x7f92e8e30100>,\n",
       "  'Node2': <cimpy.cgmes_v2_4_15.TopologicalNode.TopologicalNode at 0x7f92ec6314c0>,\n",
       "  'Node2-sv': <cimpy.cgmes_v2_4_15.SvVoltage.SvVoltage at 0x7f934ef4aee0>,\n",
       "  'Terminal_1_ACLineSegment': <cimpy.cgmes_v2_4_15.Terminal.Terminal at 0x7f92edbcb820>,\n",
       "  'Terminal_2_ACLineSegment': <cimpy.cgmes_v2_4_15.Terminal.Terminal at 0x7f92e8e300a0>,\n",
       "  'ACLineSegment': <cimpy.cgmes_v2_4_15.ACLineSegment.ACLineSegment at 0x7f92e8e30220>,\n",
       "  'Terminal Injection 1': <cimpy.cgmes_v2_4_15.Terminal.Terminal at 0x7f92e8e30160>,\n",
       "  'Regulating Control 1': <cimpy.cgmes_v2_4_15.RegulatingControl.RegulatingControl at 0x7f92e8e30f40>,\n",
       "  'Injection 1': <cimpy.cgmes_v2_4_15.ExternalNetworkInjection.ExternalNetworkInjection at 0x7f92e8e30310>,\n",
       "  'Terminal_gen': <cimpy.cgmes_v2_4_15.Terminal.Terminal at 0x7f92e8e302e0>,\n",
       "  'RegulatingControlgen': <cimpy.cgmes_v2_4_15.RegulatingControl.RegulatingControl at 0x7f92e8e302b0>,\n",
       "  'GeneratingUnit_gen': <cimpy.cgmes_v2_4_15.GeneratingUnit.GeneratingUnit at 0x7f92e8e30280>,\n",
       "  'gen': <cimpy.cgmes_v2_4_15.SynchronousMachine.SynchronousMachine at 0x7f92e8e30250>,\n",
       "  'gen_TimeConstantReactance': <cimpy.cgmes_v2_4_15.SynchronousMachineTimeConstantReactance.SynchronousMachineTimeConstantReactance at 0x7f92e8e30fd0>}}"
      ]
     },
     "execution_count": 35,
     "metadata": {},
     "output_type": "execute_result"
    }
   ],
   "source": [
    "network_sp = dict(meta_info={}, topology={})\n",
    "network_sp[\"meta_info\"]= dict(urls = {}, namespaces = {\"rdf\": 'http://www.w3.org/1999/02/22-rdf-syntax-ns#'})\n",
    "\n",
    "\n",
    "from cimpy import utils\n",
    "from cimpy.cgmes_v2_4_15 import BaseVoltage\n",
    "import numpy\n",
    "import cmath\n",
    "\n",
    "B1 = BaseVoltage()\n",
    "\n",
    "network_sp = utils.add_TopologicalNode(network_sp, \"cgmes_v2_4_15\", B1, 0, 0, \"Node1\")\n",
    "network_sp = utils.add_TopologicalNode(network_sp, \"cgmes_v2_4_15\", B1,0 ,0, \"Node2\")\n",
    "\n",
    "# PiLine Parameters, Piline -> ACLineSegment\n",
    "name = system_sp.components[1].name()\n",
    "r = float(str(system_sp.components[1].attr(\"R_series\")))\n",
    "x= float(str(system_sp.components[1].attr(\"L_series\"))) * (2*numpy.pi*frequency)\n",
    "bch= float(str(system_sp.components[1].attr(\"C_parallel\"))) * (2*numpy.pi*frequency)\n",
    "gch = float(str(system_pf.components[1].attr(\"G_parallel\")))\n",
    "network_sp = utils.add_ACLineSegment(network_sp, \"cgmes_v2_4_15\", \"Node1\", \"Node2\", r, x, bch, gch, name )\n",
    "\n",
    "network_sp = utils.add_external_network_injection(network_sp, \"cgmes_v2_4_15\", \"Node2\", 1)\n",
    "\n",
    "# Synchronous Machine Parameters\n",
    "p = system_sp.components[0].attr(\"initElecPower\").derive_real()\n",
    "q = system_sp.components[0].attr(\"initElecPower\").derive_imag()\n",
    "ratedS = system_sp.components[0].attr(\"initElecPower\").derive_mag()\n",
    "ratedU = float(str(system_pf.components[0].attr(\"base_Voltage\")))\n",
    "targetValue = float(str(system_pf.components[0].attr(\"V_set\")))\n",
    "initialP = float(str(system_pf.components[0].attr(\"P_set_pu\")))\n",
    "\n",
    "Sync_generator_name = system_sp.components[0].name()\n",
    "# Add Synchronous Machine to the network\n",
    "network_sp = utils.add_SynchronousMachine(network_sp, \"cgmes_v2_4_15\", \"Node1\", p, q, ratedS, ratedU, targetValue, initialP, Sync_generator_name)\n",
    "\n",
    "\n",
    "# Synchronous Machine TimeConstantReactance Parameters\n",
    "Sync_Generator = system_sp.components[0]\n",
    "\n",
    "inertia = Sync_Generator.attr(\"H\")\n",
    "statorResistance = 0   # because it is not modelled in DPsim\n",
    "statorLeakageReactance = Sync_Generator.attr(\"Td0_t\")\n",
    "tpdo = Sync_Generator.attr(\"Td0_t\")\n",
    "tpqo = Sync_Generator.attr(\"Tq0_t\")\n",
    "tppdo = Sync_Generator.attr(\"Td0_s\")\n",
    "tppqo = Sync_Generator.attr(\"Tq0_s\")\n",
    "xDirectSubtrans = Sync_Generator.attr(\"Ld_s\")\n",
    "xDirectSync = Sync_Generator.attr(\"Ld\")\n",
    "xDirectTrans = Sync_Generator.attr(\"Ld_t\")\n",
    "xQuadSubtrans = Sync_Generator.attr(\"Lq_s\")\n",
    "xQuadSync = Sync_Generator.attr(\"Lq\")\n",
    "xQuadTrans = Sync_Generator.attr(\"Lq_t\")\n",
    "# Extend SynchronousMachine with dynamic Parameters\n",
    "network_sp= utils.extend_SynchronousMachineTimeConstantReactance(network_sp, \"cgmes_v2_4_15\", network_sp[\"topology\"][Sync_generator_name], 0, inertia,\n",
    "            statorResistance, statorLeakageReactance, tpdo, tpqo, tppdo, tppqo, xDirectSubtrans, xDirectSync, xDirectTrans, xQuadSubtrans, xQuadSync, xQuadTrans)\n",
    "network_sp"
   ]
  },
  {
   "cell_type": "code",
   "execution_count": 36,
   "metadata": {},
   "outputs": [
    {
     "name": "stdout",
     "output_type": "stream",
     "text": [
      "Attribute list for object with name gen:\n",
      "name                          type                size           value                         \n",
      "-----------------------------------------------------------------------------------------------\n",
      "Edq_t                         MatrixReal          2x1            [...]                         \n",
      "Ef                            Real                               1.507191                      \n",
      "H                             Real                               3.700000                      \n",
      "Idq0                          MatrixReal          2x1            [...]                         \n",
      "L0                            Real                               0.150000                      \n",
      "Ld                            Real                               1.809900                      \n",
      "Ld_s                          Real                               0.000000                      \n",
      "Ld_t                          Real                               0.299900                      \n",
      "Lq                            Real                               1.760000                      \n",
      "Lq_s                          Real                               0.000000                      \n",
      "Lq_t                          Real                               0.000000                      \n",
      "Taa                           Real                               0.000000                      \n",
      "Td0_s                         Real                               0.000000                      \n",
      "Td0_t                         Real                               8.066900                      \n",
      "Te                            Real                               0.524256                      \n",
      "Theta                         Real                               7538.769500                   \n",
      "Tm                            Real                               0.540541                      \n",
      "Tq0_s                         Real                               0.000000                      \n",
      "Tq0_t                         Real                               0.000000                      \n",
      "Vdq0                          MatrixReal          2x1            [...]                         \n",
      "delta                         Real                               0.894919                      \n",
      "i_intf                        MatrixComplex       1x1            [...]                         \n",
      "initElecPower                 Complex                            303124712.763978<0.143709     \n",
      "name                          String                             \"gen\"                         \n",
      "right_vector                  MatrixReal          8x1            [...]                         \n",
      "uid                           String                             \"gen\"                         \n",
      "v_intf                        MatrixComplex       1x1            [...]                         \n",
      "w_r                           Real                               1.000972                      \n",
      "\n",
      "1.0499999999999998\n"
     ]
    },
    {
     "data": {
      "text/plain": [
       "(1+1j)"
      ]
     },
     "execution_count": 36,
     "metadata": {},
     "output_type": "execute_result"
    }
   ],
   "source": [
    "print(system_sp.components[0])\n",
    "print(numpy.linalg.norm(system_sp.components[0].InitVoltage))\n",
    "complex(1,1)\n"
   ]
  },
  {
   "cell_type": "markdown",
   "metadata": {},
   "source": [
    "### DPSim to CIMpy automatically\n"
   ]
  },
  {
   "cell_type": "code",
   "execution_count": 37,
   "metadata": {},
   "outputs": [],
   "source": [
    "network_sp =  DPsimToCIMpy.DPsimToCIMpy(system_sp, sim_sp)"
   ]
  },
  {
   "cell_type": "code",
   "execution_count": 38,
   "metadata": {},
   "outputs": [
    {
     "name": "stdout",
     "output_type": "stream",
     "text": [
      "here <class 'cimpy.cgmes_v2_4_15.SynchronousMachineTimeConstantReactance.SynchronousMachineTimeConstantReactance'>\n",
      "<class 'float'>\n",
      "here <class 'cimpy.cgmes_v2_4_15.SvVoltage.SvVoltage'>\n",
      "here <class 'cimpy.cgmes_v2_4_15.SvVoltage.SvVoltage'>\n",
      "Attribute list for object with name gen_TimeConstantReactance:\n",
      "name                          type                size           value                         \n",
      "-----------------------------------------------------------------------------------------------\n",
      "Edq_t                         MatrixReal          2x1            [...]                         \n",
      "Ef                            Real                               0.000000                      \n",
      "H                             Real                               3.700000                      \n",
      "Idq0                          MatrixReal          2x1            [...]                         \n",
      "L0                            Real                               0.150000                      \n",
      "Ld                            Real                               1.809900                      \n",
      "Ld_s                          Real                               0.000000                      \n",
      "Ld_t                          Real                               0.299900                      \n",
      "Lq                            Real                               1.760000                      \n",
      "Lq_s                          Real                               0.000000                      \n",
      "Lq_t                          Real                               0.000000                      \n",
      "Taa                           Real                               0.000000                      \n",
      "Td0_s                         Real                               0.000000                      \n",
      "Td0_t                         Real                               8.066900                      \n",
      "Te                            Real                               0.000000                      \n",
      "Theta                         Real                               0.000000                      \n",
      "Tm                            Real                               0.000000                      \n",
      "Tq0_s                         Real                               0.000000                      \n",
      "Tq0_t                         Real                               0.000000                      \n",
      "Vdq0                          MatrixReal          2x1            [...]                         \n",
      "delta                         Real                               0.000000                      \n",
      "i_intf                        MatrixComplex       1x1            [...]                         \n",
      "initElecPower                 Complex                            303124712.763977<0.143709     \n",
      "name                          String                             \"gen_TimeConstantReactance\"   \n",
      "right_vector                  MatrixReal          0x0            [...]                         \n",
      "uid                           String                             \"gen_TimeConstantReactance\"   \n",
      "v_intf                        MatrixComplex       1x1            [...]                         \n",
      "w_r                           Real                               0.000000                      \n",
      "\n"
     ]
    }
   ],
   "source": [
    "import cimpy\n",
    "\n",
    "res = network_sp[\"topology\"]\n",
    "for i in res:\n",
    "    if 'SynchronousMachineTimeConstantReactance' in str(type(res[i])):\n",
    "        print(\"here\", type(res[i]))\n",
    "        nom_power = float(str(res[i].SynchronousMachine.ratedS))\n",
    "        nom_voltage = float(str(res[i].SynchronousMachine.ratedU))\n",
    "        L0 = 0.15\n",
    "        H=float(str(res[i].inertia))\n",
    "        Ld=float(str(res[i].xDirectSync))\n",
    "        Lq=float(str(res[i].xQuadSync))\n",
    "        Ld_t=float(str(res[i].xDirectTrans))\n",
    "        Td0_t=float(str(res[i].tpdo))\n",
    "        print(type(0.15))\n",
    "        gen = dpsimpy.sp.ph1.SynchronGenerator3OrderVBR(res[i].mRID, dpsimpy.LogLevel.debug)\n",
    "        gen.set_operational_parameters_per_unit(nom_power=nom_power, nom_voltage=nom_voltage, nom_frequency=frequency, H=H,\n",
    "                                                        Ld=Ld, Lq=Lq, L0=L0, Ld_t=Ld_t, Td0_t=Td0_t)\n",
    "        init_electrical_power = complex( float(str(res[i].SynchronousMachine.p )), float(str(res[i].SynchronousMachine.q )))\n",
    "        init_mechanical_power = res[i].SynchronousMachine.p\n",
    "        for obj in res.values():\n",
    "            if isinstance(obj, cimpy.cgmes_v2_4_15.SvVoltage):\n",
    "                print(\"here\", type(obj))\n",
    "                for term in obj.TopologicalNode.Terminal:\n",
    "                    if term.ConductingEquipment.mRID == res[i].SynchronousMachine.mRID:\n",
    "                        betrag = getattr(obj, \"v\", 0)\n",
    "                        phase = getattr(obj, \"angle\", 0)\n",
    "                        init_complex_terminal_voltage = betrag * cmath.exp(1j * phase)\n",
    "                        break\n",
    "\n",
    "        gen.set_initial_values(init_complex_electrical_power=init_electrical_power, init_mechanical_power=init_mechanical_power, \n",
    "                      init_complex_terminal_voltage=init_complex_terminal_voltage)\n",
    "\n",
    "print(gen)"
   ]
  },
  {
   "cell_type": "code",
   "execution_count": 39,
   "metadata": {},
   "outputs": [
    {
     "name": "stdout",
     "output_type": "stream",
     "text": [
      "Attribute list for object with name gen:\n",
      "name                          type                size           value                         \n",
      "-----------------------------------------------------------------------------------------------\n",
      "Edq_t                         MatrixReal          2x1            [...]                         \n",
      "Ef                            Real                               1.507191                      \n",
      "H                             Real                               3.700000                      \n",
      "Idq0                          MatrixReal          2x1            [...]                         \n",
      "L0                            Real                               0.150000                      \n",
      "Ld                            Real                               1.809900                      \n",
      "Ld_s                          Real                               0.000000                      \n",
      "Ld_t                          Real                               0.299900                      \n",
      "Lq                            Real                               1.760000                      \n",
      "Lq_s                          Real                               0.000000                      \n",
      "Lq_t                          Real                               0.000000                      \n",
      "Taa                           Real                               0.000000                      \n",
      "Td0_s                         Real                               0.000000                      \n",
      "Td0_t                         Real                               8.066900                      \n",
      "Te                            Real                               0.524256                      \n",
      "Theta                         Real                               7538.769500                   \n",
      "Tm                            Real                               0.540541                      \n",
      "Tq0_s                         Real                               0.000000                      \n",
      "Tq0_t                         Real                               0.000000                      \n",
      "Vdq0                          MatrixReal          2x1            [...]                         \n",
      "delta                         Real                               0.894919                      \n",
      "i_intf                        MatrixComplex       1x1            [...]                         \n",
      "initElecPower                 Complex                            303124712.763978<0.143709     \n",
      "name                          String                             \"gen\"                         \n",
      "right_vector                  MatrixReal          8x1            [...]                         \n",
      "uid                           String                             \"gen\"                         \n",
      "v_intf                        MatrixComplex       1x1            [...]                         \n",
      "w_r                           Real                               1.000972                      \n",
      "\n"
     ]
    }
   ],
   "source": [
    "print(system_sp.components[0])"
   ]
  },
  {
   "cell_type": "code",
   "execution_count": null,
   "metadata": {},
   "outputs": [
    {
     "ename": "TypeError",
     "evalue": "set_initial_values(): incompatible function arguments. The following argument types are supported:\n    1. (self: dpsimpy.sp.ph1.ReducedOrderSynchronGeneratorVBR, init_complex_electrical_power: complex, init_mechanical_power: float, init_complex_terminal_voltage: complex) -> None\n\nInvoked with: <dpsimpy.sp.ph1.SynchronGenerator3OrderVBR object at 0x7fef784180f0>; kwargs: init_complex_electrical_power=(300000000+43411881.878627j), init_mechanical_power=300000000.000000, init_complex_terminal_voltage=24000.0",
     "output_type": "error",
     "traceback": [
      "\u001b[0;31m---------------------------------------------------------------------------\u001b[0m",
      "\u001b[0;31mTypeError\u001b[0m                                 Traceback (most recent call last)",
      "\u001b[1;32m/home/mmo-cya/dpsim/examples/Notebooks/Circuits/example_dpsim.ipynb Cell 58\u001b[0m in \u001b[0;36m<module>\u001b[0;34m\u001b[0m\n\u001b[0;32m----> <a href='vscode-notebook-cell://ssh-remote%2Bfedora-mmo-1.acs-lab.eonerc.rwth-aachen.de/home/mmo-cya/dpsim/examples/Notebooks/Circuits/example_dpsim.ipynb#Y110sdnNjb2RlLXJlbW90ZQ%3D%3D?line=0'>1</a>\u001b[0m CIMpyToDPsim\u001b[39m.\u001b[39;49mCIMpyToDPsim(network_sp, \u001b[39m2\u001b[39;49m)\n\u001b[1;32m      <a href='vscode-notebook-cell://ssh-remote%2Bfedora-mmo-1.acs-lab.eonerc.rwth-aachen.de/home/mmo-cya/dpsim/examples/Notebooks/Circuits/example_dpsim.ipynb#Y110sdnNjb2RlLXJlbW90ZQ%3D%3D?line=1'>2</a>\u001b[0m \u001b[39mprint\u001b[39m(system_sp\u001b[39m.\u001b[39mcomponents[\u001b[39m1\u001b[39m]\u001b[39m.\u001b[39mattr(\u001b[39m\"\u001b[39m\u001b[39mL_series\u001b[39m\u001b[39m\"\u001b[39m))\n\u001b[1;32m      <a href='vscode-notebook-cell://ssh-remote%2Bfedora-mmo-1.acs-lab.eonerc.rwth-aachen.de/home/mmo-cya/dpsim/examples/Notebooks/Circuits/example_dpsim.ipynb#Y110sdnNjb2RlLXJlbW90ZQ%3D%3D?line=2'>3</a>\u001b[0m \u001b[39mprint\u001b[39m(\u001b[39mfloat\u001b[39m(\u001b[39mstr\u001b[39m(system_sp\u001b[39m.\u001b[39mcomponents[\u001b[39m1\u001b[39m]\u001b[39m.\u001b[39mattr(\u001b[39m\"\u001b[39m\u001b[39mL_series\u001b[39m\u001b[39m\"\u001b[39m)))\u001b[39m*\u001b[39m\u001b[39m1\u001b[39m)\n",
      "File \u001b[0;32m~/cimpy/cimpy/CIMpyToDPsim.py:193\u001b[0m, in \u001b[0;36mCIMpyToDPsim\u001b[0;34m(CIM_network, domain, gen_model)\u001b[0m\n\u001b[1;32m    191\u001b[0m                 nom_voltage \u001b[39m=\u001b[39m \u001b[39mgetattr\u001b[39m(obj, \u001b[39m\"\u001b[39m\u001b[39mv\u001b[39m\u001b[39m\"\u001b[39m, \u001b[39m0\u001b[39m)\n\u001b[1;32m    192\u001b[0m                 \u001b[39mbreak\u001b[39;00m\n\u001b[0;32m--> 193\u001b[0m gen\u001b[39m.\u001b[39;49mset_initial_values(init_complex_electrical_power\u001b[39m=\u001b[39;49minit_electrical_power, init_mechanical_power\u001b[39m=\u001b[39;49minit_mechanical_power, \n\u001b[1;32m    194\u001b[0m                init_complex_terminal_voltage\u001b[39m=\u001b[39;49mnom_voltage)\n\u001b[1;32m    196\u001b[0m Components_Dict[gen\u001b[39m.\u001b[39mname()] \u001b[39m=\u001b[39m {\u001b[39m\"\u001b[39m\u001b[39mElement\u001b[39m\u001b[39m\"\u001b[39m: gen, \u001b[39m\"\u001b[39m\u001b[39mNodes\u001b[39m\u001b[39m\"\u001b[39m: [], \u001b[39m\"\u001b[39m\u001b[39mSync_Machine\u001b[39m\u001b[39m\"\u001b[39m: res[i]\u001b[39m.\u001b[39mSynchronousMachine}\n\u001b[1;32m    197\u001b[0m SynchronousMachineTCR_Dict[gen\u001b[39m.\u001b[39mname()] \u001b[39m=\u001b[39m {res[i]\u001b[39m.\u001b[39mSynchronousMachine}            \u001b[39m# Saves the connented SynchronousMachine\u001b[39;00m\n",
      "\u001b[0;31mTypeError\u001b[0m: set_initial_values(): incompatible function arguments. The following argument types are supported:\n    1. (self: dpsimpy.sp.ph1.ReducedOrderSynchronGeneratorVBR, init_complex_electrical_power: complex, init_mechanical_power: float, init_complex_terminal_voltage: complex) -> None\n\nInvoked with: <dpsimpy.sp.ph1.SynchronGenerator3OrderVBR object at 0x7fef784180f0>; kwargs: init_complex_electrical_power=(300000000+43411881.878627j), init_mechanical_power=300000000.000000, init_complex_terminal_voltage=24000.0"
     ]
    },
    {
     "ename": "",
     "evalue": "",
     "output_type": "error",
     "traceback": [
      "\u001b[1;31mCannot execute code, session has been disposed. Please try restarting the Kernel."
     ]
    },
    {
     "ename": "",
     "evalue": "",
     "output_type": "error",
     "traceback": [
      "\u001b[1;31mThe Kernel crashed while executing code in the the current cell or a previous cell. Please review the code in the cell(s) to identify a possible cause of the failure. Click <a href='https://aka.ms/vscodeJupyterKernelCrash'>here</a> for more info. View Jupyter <a href='command:jupyter.viewOutput'>log</a> for further details."
     ]
    },
    {
     "ename": "",
     "evalue": "",
     "output_type": "error",
     "traceback": [
      "\u001b[1;31mCannot execute code, session has been disposed. Please try restarting the Kernel."
     ]
    },
    {
     "ename": "",
     "evalue": "",
     "output_type": "error",
     "traceback": [
      "\u001b[1;31mThe Kernel crashed while executing code in the the current cell or a previous cell. Please review the code in the cell(s) to identify a possible cause of the failure. Click <a href='https://aka.ms/vscodeJupyterKernelCrash'>here</a> for more info. View Jupyter <a href='command:jupyter.viewOutput'>log</a> for further details."
     ]
    },
    {
     "ename": "",
     "evalue": "",
     "output_type": "error",
     "traceback": [
      "\u001b[1;31mCannot execute code, session has been disposed. Please try restarting the Kernel."
     ]
    },
    {
     "ename": "",
     "evalue": "",
     "output_type": "error",
     "traceback": [
      "\u001b[1;31mThe Kernel crashed while executing code in the the current cell or a previous cell. Please review the code in the cell(s) to identify a possible cause of the failure. Click <a href='https://aka.ms/vscodeJupyterKernelCrash'>here</a> for more info. View Jupyter <a href='command:jupyter.viewOutput'>log</a> for further details."
     ]
    },
    {
     "ename": "",
     "evalue": "",
     "output_type": "error",
     "traceback": [
      "\u001b[1;31mCannot execute code, session has been disposed. Please try restarting the Kernel."
     ]
    },
    {
     "ename": "",
     "evalue": "",
     "output_type": "error",
     "traceback": [
      "\u001b[1;31mThe Kernel crashed while executing code in the the current cell or a previous cell. Please review the code in the cell(s) to identify a possible cause of the failure. Click <a href='https://aka.ms/vscodeJupyterKernelCrash'>here</a> for more info. View Jupyter <a href='command:jupyter.viewOutput'>log</a> for further details."
     ]
    },
    {
     "ename": "",
     "evalue": "",
     "output_type": "error",
     "traceback": [
      "\u001b[1;31mCannot execute code, session has been disposed. Please try restarting the Kernel."
     ]
    },
    {
     "ename": "",
     "evalue": "",
     "output_type": "error",
     "traceback": [
      "\u001b[1;31mThe Kernel crashed while executing code in the the current cell or a previous cell. Please review the code in the cell(s) to identify a possible cause of the failure. Click <a href='https://aka.ms/vscodeJupyterKernelCrash'>here</a> for more info. View Jupyter <a href='command:jupyter.viewOutput'>log</a> for further details."
     ]
    },
    {
     "ename": "",
     "evalue": "",
     "output_type": "error",
     "traceback": [
      "\u001b[1;31mCannot execute code, session has been disposed. Please try restarting the Kernel."
     ]
    },
    {
     "ename": "",
     "evalue": "",
     "output_type": "error",
     "traceback": [
      "\u001b[1;31mThe Kernel crashed while executing code in the the current cell or a previous cell. Please review the code in the cell(s) to identify a possible cause of the failure. Click <a href='https://aka.ms/vscodeJupyterKernelCrash'>here</a> for more info. View Jupyter <a href='command:jupyter.viewOutput'>log</a> for further details."
     ]
    },
    {
     "ename": "",
     "evalue": "",
     "output_type": "error",
     "traceback": [
      "\u001b[1;31mCannot execute code, session has been disposed. Please try restarting the Kernel."
     ]
    },
    {
     "ename": "",
     "evalue": "",
     "output_type": "error",
     "traceback": [
      "\u001b[1;31mThe Kernel crashed while executing code in the the current cell or a previous cell. Please review the code in the cell(s) to identify a possible cause of the failure. Click <a href='https://aka.ms/vscodeJupyterKernelCrash'>here</a> for more info. View Jupyter <a href='command:jupyter.viewOutput'>log</a> for further details."
     ]
    },
    {
     "ename": "",
     "evalue": "",
     "output_type": "error",
     "traceback": [
      "\u001b[1;31mCannot execute code, session has been disposed. Please try restarting the Kernel."
     ]
    },
    {
     "ename": "",
     "evalue": "",
     "output_type": "error",
     "traceback": [
      "\u001b[1;31mThe Kernel crashed while executing code in the the current cell or a previous cell. Please review the code in the cell(s) to identify a possible cause of the failure. Click <a href='https://aka.ms/vscodeJupyterKernelCrash'>here</a> for more info. View Jupyter <a href='command:jupyter.viewOutput'>log</a> for further details."
     ]
    },
    {
     "ename": "",
     "evalue": "",
     "output_type": "error",
     "traceback": [
      "\u001b[1;31mCannot execute code, session has been disposed. Please try restarting the Kernel."
     ]
    },
    {
     "ename": "",
     "evalue": "",
     "output_type": "error",
     "traceback": [
      "\u001b[1;31mThe Kernel crashed while executing code in the the current cell or a previous cell. Please review the code in the cell(s) to identify a possible cause of the failure. Click <a href='https://aka.ms/vscodeJupyterKernelCrash'>here</a> for more info. View Jupyter <a href='command:jupyter.viewOutput'>log</a> for further details."
     ]
    }
   ],
   "source": [
    "CIMpyToDPsim.CIMpyToDPsim(network_sp, 2)\n",
    "print(system_sp.components[1].attr(\"L_series\"))\n",
    "print(float(str(system_sp.components[1].attr(\"L_series\")))*1)"
   ]
  },
  {
   "cell_type": "code",
   "execution_count": null,
   "metadata": {},
   "outputs": [
    {
     "name": "stdout",
     "output_type": "stream",
     "text": [
      "Injection 1 is Injection 1\n",
      "Injection 1 is connected with n2\n"
     ]
    },
    {
     "data": {
      "text/plain": [
       "0.073152"
      ]
     },
     "execution_count": 39,
     "metadata": {},
     "output_type": "execute_result"
    }
   ],
   "source": [
    "res = network_sp[\"topology\"]\n",
    "for i in res:\n",
    "    if 'ExternalNetworkInjection' in str(type(res[i])):\n",
    "        print(i,\"is\", res[i].mRID)\n",
    "        print(i,\"is connected with\", res[i].Terminals[0].TopologicalNode.mRID)\n",
    "           \n",
    "        \n",
    "#print(resistance)\n",
    "\n",
    "\n",
    "network_sp[\"topology\"][\"PiLine\"].r\n"
   ]
  },
  {
   "cell_type": "code",
   "execution_count": null,
   "metadata": {},
   "outputs": [
    {
     "data": {
      "text/plain": [
       "{'meta_info': {'namespaces': {'rdf': 'http://www.w3.org/1999/02/22-rdf-syntax-ns#',\n",
       "   'cim': 'http://iec.ch/TC57/2013/CIM-schema-cim16#',\n",
       "   'md': 'http://iec.ch/TC57/61970-552/ModelDescription/1#',\n",
       "   'entsoe': 'http://entsoe.eu/CIM/SchemaExtension/3/1#'},\n",
       "  'urls': {},\n",
       "  'author': 'DPsim'},\n",
       " 'topology': {}}"
      ]
     },
     "execution_count": 40,
     "metadata": {},
     "output_type": "execute_result"
    }
   ],
   "source": [
    "network124 = {'meta_info': {\n",
    "                'namespaces': {\n",
    "                'rdf': 'http://www.w3.org/1999/02/22-rdf-syntax-ns#',\n",
    "                'cim': 'http://iec.ch/TC57/2013/CIM-schema-cim16#',\n",
    "                'md': 'http://iec.ch/TC57/61970-552/ModelDescription/1#',\n",
    "                'entsoe': 'http://entsoe.eu/CIM/SchemaExtension/3/1#'},            \n",
    "                'urls': {}, \n",
    "                'author': 'DPsim'},\n",
    "                'topology': {}\n",
    "                }\n",
    "network124"
   ]
  },
  {
   "cell_type": "markdown",
   "metadata": {},
   "source": [
    "### DPSim Object with cimexport Test\n"
   ]
  },
  {
   "cell_type": "code",
   "execution_count": null,
   "metadata": {},
   "outputs": [
    {
     "name": "stderr",
     "output_type": "stream",
     "text": [
      "File ./_Topology.xml already exists. Delete file or change file name to serialize CGMES classes.\n",
      "[ERROR:] File ./_Topology.xml already exists. Delete file or change file name to serialize CGMES classes.\n"
     ]
    },
    {
     "ename": "NameError",
     "evalue": "name 'exit' is not defined",
     "output_type": "error",
     "traceback": [
      "\u001b[0;31m---------------------------------------------------------------------------\u001b[0m",
      "\u001b[0;31mNameError\u001b[0m                                 Traceback (most recent call last)",
      "\u001b[1;32m/home/mmo-cya/dpsim/examples/Notebooks/Circuits/example_dpsim.ipynb Cell 62\u001b[0m in \u001b[0;36m<module>\u001b[0;34m\u001b[0m\n\u001b[1;32m      <a href='vscode-notebook-cell://ssh-remote%2Bfedora-mmo-1.acs-lab.eonerc.rwth-aachen.de/home/mmo-cya/dpsim/examples/Notebooks/Circuits/example_dpsim.ipynb#Y114sdnNjb2RlLXJlbW90ZQ%3D%3D?line=3'>4</a>\u001b[0m \u001b[39mimport\u001b[39;00m \u001b[39mpickle\u001b[39;00m\n\u001b[1;32m      <a href='vscode-notebook-cell://ssh-remote%2Bfedora-mmo-1.acs-lab.eonerc.rwth-aachen.de/home/mmo-cya/dpsim/examples/Notebooks/Circuits/example_dpsim.ipynb#Y114sdnNjb2RlLXJlbW90ZQ%3D%3D?line=5'>6</a>\u001b[0m activeProfileList \u001b[39m=\u001b[39m [\u001b[39m'\u001b[39m\u001b[39mTP\u001b[39m\u001b[39m'\u001b[39m]              \n\u001b[0;32m----> <a href='vscode-notebook-cell://ssh-remote%2Bfedora-mmo-1.acs-lab.eonerc.rwth-aachen.de/home/mmo-cya/dpsim/examples/Notebooks/Circuits/example_dpsim.ipynb#Y114sdnNjb2RlLXJlbW90ZQ%3D%3D?line=6'>7</a>\u001b[0m cimpy\u001b[39m.\u001b[39;49mcim_export(network_sp, \u001b[39m\"\u001b[39;49m\u001b[39m./\u001b[39;49m\u001b[39m\"\u001b[39;49m, \u001b[39m'\u001b[39;49m\u001b[39mcgmes_v2_4_15\u001b[39;49m\u001b[39m'\u001b[39;49m, activeProfileList )\n",
      "File \u001b[0;32m~/cimpy/cimpy/cimexport.py:334\u001b[0m, in \u001b[0;36mcim_export\u001b[0;34m(import_result, file_name, version, activeProfileList)\u001b[0m\n\u001b[1;32m    330\u001b[0m         logger\u001b[39m.\u001b[39merror(\u001b[39m'\u001b[39m\u001b[39mFile \u001b[39m\u001b[39m{}\u001b[39;00m\u001b[39m already exists. Delete file or change file name to serialize CGMES \u001b[39m\u001b[39m'\u001b[39m\n\u001b[1;32m    331\u001b[0m                        \u001b[39m'\u001b[39m\u001b[39mclasses.\u001b[39m\u001b[39m'\u001b[39m\u001b[39m.\u001b[39mformat(full_file_name))\n\u001b[1;32m    332\u001b[0m         \u001b[39mprint\u001b[39m(\u001b[39m'\u001b[39m\u001b[39m[ERROR:] File \u001b[39m\u001b[39m{}\u001b[39;00m\u001b[39m already exists. Delete file or change file name to serialize CGMES \u001b[39m\u001b[39m'\u001b[39m\n\u001b[1;32m    333\u001b[0m                        \u001b[39m'\u001b[39m\u001b[39mclasses.\u001b[39m\u001b[39m'\u001b[39m\u001b[39m.\u001b[39mformat(full_file_name), file\u001b[39m=\u001b[39msys\u001b[39m.\u001b[39mstderr)\n\u001b[0;32m--> 334\u001b[0m         exit(\u001b[39m-\u001b[39m\u001b[39m1\u001b[39m)\n\u001b[1;32m    336\u001b[0m logger\u001b[39m.\u001b[39minfo(\u001b[39m'\u001b[39m\u001b[39mEnd export procedure. Elapsed time: \u001b[39m\u001b[39m{}\u001b[39;00m\u001b[39m'\u001b[39m\u001b[39m.\u001b[39mformat(time() \u001b[39m-\u001b[39m t0))\n",
      "\u001b[0;31mNameError\u001b[0m: name 'exit' is not defined"
     ]
    }
   ],
   "source": [
    "import cimpy\n",
    "from pathlib import Path\n",
    "import pytest_check as check\n",
    "import pickle\n",
    "\n",
    "activeProfileList = ['TP']              \n",
    "cimpy.cim_export(network_sp, \"./\", 'cgmes_v2_4_15', activeProfileList )\n",
    "\n",
    "#ref_dict_path = Path('./CIGREMV_import_reference_cgmes_v2_4_15.p')\n",
    "#check_dict_pickle = pickle.load(open(ref_dict_path, 'rb'))\n",
    "\n",
    "#for elem in import_resolved:\n",
    "#    check.is_in(elem, check_dict_pickle)"
   ]
  },
  {
   "attachments": {},
   "cell_type": "markdown",
   "metadata": {},
   "source": [
    "#### Read Results DPSim"
   ]
  },
  {
   "cell_type": "code",
   "execution_count": null,
   "metadata": {},
   "outputs": [],
   "source": [
    "# read Simulink log file\n",
    "\n",
    "file_path = os.getcwd() + \"/logs/\" + log_name + \"/\" + log_name + \".csv\"\n",
    "ts_dpsim_3Order = read_timeseries_dpsim(file_path)"
   ]
  },
  {
   "attachments": {},
   "cell_type": "markdown",
   "metadata": {},
   "source": [
    "#### Plot and validate results"
   ]
  },
  {
   "attachments": {},
   "cell_type": "markdown",
   "metadata": {},
   "source": [
    "##### Electrical torque"
   ]
  },
  {
   "cell_type": "code",
   "execution_count": null,
   "metadata": {},
   "outputs": [],
   "source": [
    "varname_dpsim = \"Te\"\n",
    "varname_psat = \"p\"\n",
    "\n",
    "rmse_torque = plot_variable(titles, varname_dpsim, varname_psat, ts_dpsim_3Order, ts_psat_3Order, nominal_values, ylabels)"
   ]
  },
  {
   "attachments": {},
   "cell_type": "markdown",
   "metadata": {},
   "source": [
    "##### $E_q^{'}$"
   ]
  },
  {
   "cell_type": "code",
   "execution_count": null,
   "metadata": {},
   "outputs": [],
   "source": [
    "varname_dpsim = \"Edq0_1\"\n",
    "varname_psat = \"eq_t\"\n",
    "\n",
    "rmse_eq = plot_variable(titles, varname_dpsim, varname_psat, ts_dpsim_3Order, ts_psat_3Order, nominal_values, ylabels)"
   ]
  },
  {
   "attachments": {},
   "cell_type": "markdown",
   "metadata": {},
   "source": [
    "##### $V_d$"
   ]
  },
  {
   "cell_type": "code",
   "execution_count": null,
   "metadata": {},
   "outputs": [],
   "source": [
    "varname_dpsim = \"Vdq0_0\"\n",
    "varname_psat = \"vd\"\n",
    "\n",
    "rmse_vd = plot_variable(titles, varname_dpsim, varname_psat, ts_dpsim_3Order, ts_psat_3Order, nominal_values, ylabels)"
   ]
  },
  {
   "attachments": {},
   "cell_type": "markdown",
   "metadata": {},
   "source": [
    "##### $V_q$"
   ]
  },
  {
   "cell_type": "code",
   "execution_count": null,
   "metadata": {},
   "outputs": [],
   "source": [
    "varname_dpsim = \"Vdq0_1\"\n",
    "varname_psat = \"vq\"\n",
    "\n",
    "rmse_vq = plot_variable(titles, varname_dpsim, varname_psat, ts_dpsim_3Order, ts_psat_3Order, nominal_values, ylabels)"
   ]
  },
  {
   "attachments": {},
   "cell_type": "markdown",
   "metadata": {},
   "source": [
    "##### $I_d$"
   ]
  },
  {
   "cell_type": "code",
   "execution_count": null,
   "metadata": {},
   "outputs": [],
   "source": [
    "varname_dpsim = \"Idq0_0\"\n",
    "varname_psat = \"id\"\n",
    "\n",
    "rmse_id = plot_variable(titles, varname_dpsim, varname_psat, ts_dpsim_3Order, ts_psat_3Order, nominal_values, ylabels)"
   ]
  },
  {
   "attachments": {},
   "cell_type": "markdown",
   "metadata": {},
   "source": [
    "##### $I_q$"
   ]
  },
  {
   "cell_type": "code",
   "execution_count": null,
   "metadata": {},
   "outputs": [],
   "source": [
    "varname_dpsim = \"Idq0_1\"\n",
    "varname_psat = \"iq\"\n",
    "\n",
    "rmse_iq = plot_variable(titles, varname_dpsim, varname_psat, ts_dpsim_3Order, ts_psat_3Order, nominal_values, ylabels)"
   ]
  },
  {
   "attachments": {},
   "cell_type": "markdown",
   "metadata": {},
   "source": [
    "##### Delta"
   ]
  },
  {
   "cell_type": "code",
   "execution_count": null,
   "metadata": {},
   "outputs": [],
   "source": [
    "varname_dpsim = \"delta\"\n",
    "varname_psat = \"delta\"\n",
    "\n",
    "rmse_delta = plot_variable(titles, varname_dpsim, varname_psat, ts_dpsim_3Order, ts_psat_3Order, nominal_values, ylabels)"
   ]
  },
  {
   "attachments": {},
   "cell_type": "markdown",
   "metadata": {},
   "source": [
    "##### Mechanical Omega"
   ]
  },
  {
   "cell_type": "code",
   "execution_count": null,
   "metadata": {},
   "outputs": [],
   "source": [
    "varname_dpsim = \"w_r\"\n",
    "varname_psat = \"omega\"\n",
    "\n",
    "rmse_omega = plot_variable(titles, varname_dpsim, varname_psat, ts_dpsim_3Order, ts_psat_3Order, nominal_values, ylabels)"
   ]
  },
  {
   "attachments": {},
   "cell_type": "markdown",
   "metadata": {},
   "source": [
    "##### Grid voltages"
   ]
  },
  {
   "cell_type": "code",
   "execution_count": null,
   "metadata": {},
   "outputs": [],
   "source": [
    "varname_dpsim = \"n1.v\"\n",
    "varname_psat = \"V_Bus1\"\n",
    "\n",
    "rmse_v1_abs = plot_node_volt_abs(varname_dpsim, varname_psat, ts_dpsim_3Order, ts_psat_3Order, nominal_grid_voltage, ylabels)"
   ]
  },
  {
   "cell_type": "code",
   "execution_count": null,
   "metadata": {},
   "outputs": [],
   "source": [
    "varname_dpsim = \"n1.v\"\n",
    "varname_psat = \"theta_bus1\"\n",
    "\n",
    "rmse_v1_angle = plot_node_volt_angle(varname_dpsim, varname_psat, ts_dpsim_3Order, ts_psat_3Order, nominal_grid_voltage, ylabels)"
   ]
  },
  {
   "cell_type": "code",
   "execution_count": null,
   "metadata": {},
   "outputs": [],
   "source": [
    "varname_dpsim = \"n2.v\"\n",
    "varname_psat = \"V_Bus3\"\n",
    "\n",
    "rmse_v2_abs = plot_node_volt_abs(varname_dpsim, varname_psat, ts_dpsim_3Order, ts_psat_3Order, nominal_grid_voltage, ylabels)"
   ]
  },
  {
   "cell_type": "code",
   "execution_count": null,
   "metadata": {},
   "outputs": [],
   "source": [
    "varname_dpsim = \"n2.v\"\n",
    "varname_psat = \"theta_bus3\"\n",
    "\n",
    "rmse_v2_angle = plot_node_volt_angle(varname_dpsim, varname_psat, ts_dpsim_3Order, ts_psat_3Order, nominal_grid_voltage, ylabels)"
   ]
  },
  {
   "attachments": {},
   "cell_type": "markdown",
   "metadata": {},
   "source": [
    "#### Assert"
   ]
  },
  {
   "cell_type": "code",
   "execution_count": null,
   "metadata": {},
   "outputs": [],
   "source": [
    "tol = 1.3 # %\n",
    "tol_id = 7 # %\n",
    "tol_deg_v1 = 0.16 # deg\n",
    "tol_deg_v2 = 1e-12 # deg\n",
    "\n",
    "assert(rmse_torque<tol)\n",
    "assert(rmse_eq<tol)\n",
    "assert(rmse_vd<tol)\n",
    "assert(rmse_vq<tol)\n",
    "assert(rmse_id<tol_id)\n",
    "assert(rmse_iq<tol)\n",
    "assert(rmse_delta<tol)\n",
    "assert(rmse_omega<tol)\n",
    "assert(rmse_v1_abs<tol)\n",
    "assert(rmse_v2_abs<tol)\n",
    "assert(rmse_v1_angle<tol_deg_v1)\n",
    "assert(rmse_v2_angle<tol_deg_v2)"
   ]
  },
  {
   "attachments": {},
   "cell_type": "markdown",
   "metadata": {},
   "source": [
    "### 4th Order Model"
   ]
  },
  {
   "cell_type": "code",
   "execution_count": null,
   "metadata": {},
   "outputs": [],
   "source": [
    "log_name = sp_reducedOrderSG_SMIB_fault(sim_pf, gen_pf, \"4Order\")"
   ]
  },
  {
   "attachments": {},
   "cell_type": "markdown",
   "metadata": {},
   "source": [
    "#### Read Results DPSim"
   ]
  },
  {
   "cell_type": "code",
   "execution_count": null,
   "metadata": {},
   "outputs": [],
   "source": [
    "# read Simulink log file\n",
    "\n",
    "file_path = os.getcwd() + \"/logs/\" + log_name + \"/\" + log_name + \".csv\"\n",
    "ts_dpsim_4Order = read_timeseries_dpsim(file_path)"
   ]
  },
  {
   "attachments": {},
   "cell_type": "markdown",
   "metadata": {},
   "source": [
    "#### Plot and validate results"
   ]
  },
  {
   "attachments": {},
   "cell_type": "markdown",
   "metadata": {},
   "source": [
    "##### Electrical torque"
   ]
  },
  {
   "cell_type": "code",
   "execution_count": null,
   "metadata": {},
   "outputs": [],
   "source": [
    "varname_dpsim = \"Te\"\n",
    "varname_psat = \"p\"\n",
    "\n",
    "rmse_torque = plot_variable(titles, varname_dpsim, varname_psat, ts_dpsim_4Order, ts_psat_4Order, nominal_values, ylabels)"
   ]
  },
  {
   "attachments": {},
   "cell_type": "markdown",
   "metadata": {},
   "source": [
    "##### $E_d^{'}$"
   ]
  },
  {
   "cell_type": "code",
   "execution_count": null,
   "metadata": {},
   "outputs": [],
   "source": [
    "varname_dpsim = \"Edq0_0\"\n",
    "varname_psat = \"ed_t\"\n",
    "\n",
    "rmse_ed = plot_variable(titles, varname_dpsim, varname_psat, ts_dpsim_4Order, ts_psat_4Order, nominal_values, ylabels)"
   ]
  },
  {
   "attachments": {},
   "cell_type": "markdown",
   "metadata": {},
   "source": [
    "##### $E_q^{'}$"
   ]
  },
  {
   "cell_type": "code",
   "execution_count": null,
   "metadata": {},
   "outputs": [],
   "source": [
    "varname_dpsim = \"Edq0_1\"\n",
    "varname_psat = \"eq_t\"\n",
    "\n",
    "rmse_eq = plot_variable(titles, varname_dpsim, varname_psat, ts_dpsim_4Order, ts_psat_4Order, nominal_values, ylabels)"
   ]
  },
  {
   "attachments": {},
   "cell_type": "markdown",
   "metadata": {},
   "source": [
    "##### $V_d$"
   ]
  },
  {
   "cell_type": "code",
   "execution_count": null,
   "metadata": {},
   "outputs": [],
   "source": [
    "varname_dpsim = \"Vdq0_0\"\n",
    "varname_psat = \"vd\"\n",
    "\n",
    "rmse_vd = plot_variable(titles, varname_dpsim, varname_psat, ts_dpsim_4Order, ts_psat_4Order, nominal_values, ylabels)"
   ]
  },
  {
   "attachments": {},
   "cell_type": "markdown",
   "metadata": {},
   "source": [
    "##### $V_q$"
   ]
  },
  {
   "cell_type": "code",
   "execution_count": null,
   "metadata": {},
   "outputs": [],
   "source": [
    "varname_dpsim = \"Vdq0_1\"\n",
    "varname_psat = \"vq\"\n",
    "\n",
    "rmse_vq = plot_variable(titles, varname_dpsim, varname_psat, ts_dpsim_4Order, ts_psat_4Order, nominal_values, ylabels)"
   ]
  },
  {
   "attachments": {},
   "cell_type": "markdown",
   "metadata": {},
   "source": [
    "##### $I_d$"
   ]
  },
  {
   "cell_type": "code",
   "execution_count": null,
   "metadata": {},
   "outputs": [],
   "source": [
    "varname_dpsim = \"Idq0_0\"\n",
    "varname_psat = \"id\"\n",
    "\n",
    "rmse_id = plot_variable(titles, varname_dpsim, varname_psat, ts_dpsim_4Order, ts_psat_4Order, nominal_values, ylabels)"
   ]
  },
  {
   "attachments": {},
   "cell_type": "markdown",
   "metadata": {},
   "source": [
    "##### $I_q$"
   ]
  },
  {
   "cell_type": "code",
   "execution_count": null,
   "metadata": {},
   "outputs": [],
   "source": [
    "varname_dpsim = \"Idq0_1\"\n",
    "varname_psat = \"iq\"\n",
    "\n",
    "rmse_iq = plot_variable(titles, varname_dpsim, varname_psat, ts_dpsim_4Order, ts_psat_4Order, nominal_values, ylabels)"
   ]
  },
  {
   "attachments": {},
   "cell_type": "markdown",
   "metadata": {},
   "source": [
    "##### Delta"
   ]
  },
  {
   "cell_type": "code",
   "execution_count": null,
   "metadata": {},
   "outputs": [],
   "source": [
    "varname_dpsim = \"delta\"\n",
    "varname_psat = \"delta\"\n",
    "\n",
    "rmse_delta = plot_variable(titles, varname_dpsim, varname_psat, ts_dpsim_4Order, ts_psat_4Order, nominal_values, ylabels)"
   ]
  },
  {
   "attachments": {},
   "cell_type": "markdown",
   "metadata": {},
   "source": [
    "##### Mechanical Omega"
   ]
  },
  {
   "cell_type": "code",
   "execution_count": null,
   "metadata": {},
   "outputs": [],
   "source": [
    "varname_dpsim = \"w_r\"\n",
    "varname_psat = \"omega\"\n",
    "\n",
    "rmse_omega = plot_variable(titles, varname_dpsim, varname_psat, ts_dpsim_4Order, ts_psat_4Order, nominal_values, ylabels)"
   ]
  },
  {
   "attachments": {},
   "cell_type": "markdown",
   "metadata": {},
   "source": [
    "##### Grid voltages"
   ]
  },
  {
   "cell_type": "code",
   "execution_count": null,
   "metadata": {},
   "outputs": [],
   "source": [
    "varname_dpsim = \"n1.v\"\n",
    "varname_psat = \"V_Bus1\"\n",
    "\n",
    "rmse_v1_abs = plot_node_volt_abs(varname_dpsim, varname_psat, ts_dpsim_4Order, ts_psat_4Order, nominal_grid_voltage, ylabels)"
   ]
  },
  {
   "cell_type": "code",
   "execution_count": null,
   "metadata": {},
   "outputs": [],
   "source": [
    "varname_dpsim = \"n1.v\"\n",
    "varname_psat = \"theta_bus1\"\n",
    "\n",
    "rmse_v1_angle = plot_node_volt_angle(varname_dpsim, varname_psat, ts_dpsim_4Order, ts_psat_4Order, nominal_grid_voltage, ylabels)"
   ]
  },
  {
   "cell_type": "code",
   "execution_count": null,
   "metadata": {},
   "outputs": [],
   "source": [
    "varname_dpsim = \"n2.v\"\n",
    "varname_psat = \"V_Bus3\"\n",
    "\n",
    "rmse_v2_abs = plot_node_volt_abs(varname_dpsim, varname_psat, ts_dpsim_4Order, ts_psat_4Order, nominal_grid_voltage, ylabels)"
   ]
  },
  {
   "cell_type": "code",
   "execution_count": null,
   "metadata": {},
   "outputs": [],
   "source": [
    "varname_dpsim = \"n2.v\"\n",
    "varname_psat = \"theta_bus3\"\n",
    "\n",
    "rmse_v2_angle = plot_node_volt_angle(varname_dpsim, varname_psat, ts_dpsim_4Order, ts_psat_4Order, nominal_grid_voltage, ylabels)"
   ]
  },
  {
   "attachments": {},
   "cell_type": "markdown",
   "metadata": {},
   "source": [
    "#### Assert"
   ]
  },
  {
   "cell_type": "code",
   "execution_count": null,
   "metadata": {},
   "outputs": [],
   "source": [
    "tol = 1 # %\n",
    "tol_id = 6 # %\n",
    "tol_iq = 2.3 # %\n",
    "tol_deg_v1 = 0.2 # deg\n",
    "tol_deg_v2 = 1e-12 # deg\n",
    "\n",
    "assert(rmse_torque<tol)\n",
    "assert(rmse_ed<tol)\n",
    "assert(rmse_eq<tol)\n",
    "assert(rmse_vd<tol)\n",
    "assert(rmse_vq<tol)\n",
    "assert(rmse_id<tol_id)\n",
    "assert(rmse_iq<tol_iq)\n",
    "assert(rmse_delta<tol)\n",
    "assert(rmse_omega<tol)\n",
    "assert(rmse_v1_abs<tol)\n",
    "assert(rmse_v2_abs<tol)\n",
    "assert(rmse_v1_angle<tol_deg_v1)\n",
    "assert(rmse_v2_angle<tol_deg_v2)"
   ]
  },
  {
   "attachments": {},
   "cell_type": "markdown",
   "metadata": {},
   "source": [
    "### 6th Order Model (Marconato's model)"
   ]
  },
  {
   "cell_type": "code",
   "execution_count": null,
   "metadata": {},
   "outputs": [],
   "source": [
    "log_name = sp_reducedOrderSG_SMIB_fault(sim_pf, gen_pf, \"6aOrder\")"
   ]
  },
  {
   "attachments": {},
   "cell_type": "markdown",
   "metadata": {},
   "source": [
    "#### Read DPSim results"
   ]
  },
  {
   "cell_type": "code",
   "execution_count": null,
   "metadata": {},
   "outputs": [],
   "source": [
    "# read Simulink log file\n",
    "\n",
    "file_path = os.getcwd() + \"/logs/\" + log_name + \"/\" + log_name + \".csv\"\n",
    "ts_dpsim_6aOrder = read_timeseries_dpsim(file_path)"
   ]
  },
  {
   "attachments": {},
   "cell_type": "markdown",
   "metadata": {},
   "source": [
    "#### Plot and validate results"
   ]
  },
  {
   "attachments": {},
   "cell_type": "markdown",
   "metadata": {},
   "source": [
    "##### Electrical Torque"
   ]
  },
  {
   "cell_type": "code",
   "execution_count": null,
   "metadata": {},
   "outputs": [],
   "source": [
    "varname_dpsim = \"Te\"\n",
    "varname_psat = \"p\"\n",
    "\n",
    "rmse_torque = plot_variable(titles, varname_dpsim, varname_psat, ts_dpsim_6aOrder, ts_psat_6Order, nominal_values, ylabels)"
   ]
  },
  {
   "attachments": {},
   "cell_type": "markdown",
   "metadata": {},
   "source": [
    "##### $E_d^{'}$"
   ]
  },
  {
   "cell_type": "code",
   "execution_count": null,
   "metadata": {},
   "outputs": [],
   "source": [
    "varname_dpsim = \"Edq0_t_0\"\n",
    "varname_psat = \"ed_t\"\n",
    "\n",
    "rmse_ed = plot_variable(titles, varname_dpsim, varname_psat, ts_dpsim_6aOrder, ts_psat_6Order, nominal_values, ylabels)"
   ]
  },
  {
   "attachments": {},
   "cell_type": "markdown",
   "metadata": {},
   "source": [
    "##### $E_q^{'}$"
   ]
  },
  {
   "cell_type": "code",
   "execution_count": null,
   "metadata": {},
   "outputs": [],
   "source": [
    "varname_dpsim = \"Edq0_t_1\"\n",
    "varname_psat = \"eq_t\"\n",
    "\n",
    "rmse_eq = plot_variable(titles, varname_dpsim, varname_psat, ts_dpsim_6aOrder, ts_psat_6Order, nominal_values, ylabels)"
   ]
  },
  {
   "attachments": {},
   "cell_type": "markdown",
   "metadata": {},
   "source": [
    "##### $E_d^{''}$"
   ]
  },
  {
   "cell_type": "code",
   "execution_count": null,
   "metadata": {},
   "outputs": [],
   "source": [
    "varname_dpsim = \"Edq0_s_0\"\n",
    "varname_psat = \"ed_s\"\n",
    "\n",
    "rmse_ed_s = plot_variable(titles, varname_dpsim, varname_psat, ts_dpsim_6aOrder, ts_psat_6Order, nominal_values, ylabels)"
   ]
  },
  {
   "attachments": {},
   "cell_type": "markdown",
   "metadata": {},
   "source": [
    "##### $E_q^{''}$"
   ]
  },
  {
   "cell_type": "code",
   "execution_count": null,
   "metadata": {},
   "outputs": [],
   "source": [
    "varname_dpsim = \"Edq0_s_1\"\n",
    "varname_psat = \"eq_s\"\n",
    "\n",
    "rmse_eq_s = plot_variable(titles, varname_dpsim, varname_psat, ts_dpsim_6aOrder, ts_psat_6Order, nominal_values, ylabels)"
   ]
  },
  {
   "attachments": {},
   "cell_type": "markdown",
   "metadata": {},
   "source": [
    "##### $V_d$"
   ]
  },
  {
   "cell_type": "code",
   "execution_count": null,
   "metadata": {},
   "outputs": [],
   "source": [
    "varname_dpsim = \"Vdq0_0\"\n",
    "varname_psat = \"vd\"\n",
    "\n",
    "rmse_vd = plot_variable(titles, varname_dpsim, varname_psat, ts_dpsim_6aOrder, ts_psat_6Order, nominal_values, ylabels)"
   ]
  },
  {
   "attachments": {},
   "cell_type": "markdown",
   "metadata": {},
   "source": [
    "##### $V_q$"
   ]
  },
  {
   "cell_type": "code",
   "execution_count": null,
   "metadata": {},
   "outputs": [],
   "source": [
    "varname_dpsim = \"Vdq0_1\"\n",
    "varname_psat = \"vq\"\n",
    "\n",
    "rmse_vq = plot_variable(titles, varname_dpsim, varname_psat, ts_dpsim_6aOrder, ts_psat_6Order, nominal_values, ylabels)"
   ]
  },
  {
   "attachments": {},
   "cell_type": "markdown",
   "metadata": {},
   "source": [
    "##### $I_d$"
   ]
  },
  {
   "cell_type": "code",
   "execution_count": null,
   "metadata": {},
   "outputs": [],
   "source": [
    "varname_dpsim = \"Idq0_0\"\n",
    "varname_psat = \"id\"\n",
    "\n",
    "rmse_id = plot_variable(titles, varname_dpsim, varname_psat, ts_dpsim_6aOrder, ts_psat_6Order, nominal_values, ylabels)"
   ]
  },
  {
   "attachments": {},
   "cell_type": "markdown",
   "metadata": {},
   "source": [
    "##### $I_q$"
   ]
  },
  {
   "cell_type": "code",
   "execution_count": null,
   "metadata": {},
   "outputs": [],
   "source": [
    "varname_dpsim = \"Idq0_1\"\n",
    "varname_psat = \"iq\"\n",
    "\n",
    "rmse_iq = plot_variable(titles, varname_dpsim, varname_psat, ts_dpsim_6aOrder, ts_psat_6Order, nominal_values, ylabels)"
   ]
  },
  {
   "attachments": {},
   "cell_type": "markdown",
   "metadata": {},
   "source": [
    "##### Delta"
   ]
  },
  {
   "cell_type": "code",
   "execution_count": null,
   "metadata": {},
   "outputs": [],
   "source": [
    "varname_dpsim = \"delta\"\n",
    "varname_psat = \"delta\"\n",
    "\n",
    "rmse_delta = plot_variable(titles, varname_dpsim, varname_psat, ts_dpsim_6aOrder, ts_psat_6Order, nominal_values, ylabels)"
   ]
  },
  {
   "attachments": {},
   "cell_type": "markdown",
   "metadata": {},
   "source": [
    "##### Mechanical omega"
   ]
  },
  {
   "cell_type": "code",
   "execution_count": null,
   "metadata": {},
   "outputs": [],
   "source": [
    "varname_dpsim = \"w_r\"\n",
    "varname_psat = \"omega\"\n",
    "\n",
    "rmse_omega = plot_variable(titles, varname_dpsim, varname_psat, ts_dpsim_6aOrder, ts_psat_6Order, nominal_values, ylabels)"
   ]
  },
  {
   "attachments": {},
   "cell_type": "markdown",
   "metadata": {},
   "source": [
    "##### Grid voltages"
   ]
  },
  {
   "cell_type": "code",
   "execution_count": null,
   "metadata": {},
   "outputs": [],
   "source": [
    "varname_dpsim = \"n1.v\"\n",
    "varname_psat = \"V_Bus1\"\n",
    "\n",
    "rmse_v1_abs = plot_node_volt_abs(varname_dpsim, varname_psat, ts_dpsim_6aOrder, ts_psat_6Order, nominal_grid_voltage, ylabels)"
   ]
  },
  {
   "cell_type": "code",
   "execution_count": null,
   "metadata": {},
   "outputs": [],
   "source": [
    "varname_dpsim = \"n1.v\"\n",
    "varname_psat = \"theta_bus1\"\n",
    "\n",
    "rmse_v1_angle = plot_node_volt_angle(varname_dpsim, varname_psat, ts_dpsim_6aOrder, ts_psat_6Order, nominal_grid_voltage, ylabels)"
   ]
  },
  {
   "cell_type": "code",
   "execution_count": null,
   "metadata": {},
   "outputs": [],
   "source": [
    "varname_dpsim = \"n2.v\"\n",
    "varname_psat = \"V_Bus3\"\n",
    "\n",
    "rmse_v2_abs = plot_node_volt_abs(varname_dpsim, varname_psat, ts_dpsim_6aOrder, ts_psat_6Order, nominal_grid_voltage, ylabels)"
   ]
  },
  {
   "cell_type": "code",
   "execution_count": null,
   "metadata": {},
   "outputs": [],
   "source": [
    "varname_dpsim = \"n2.v\"\n",
    "varname_psat = \"theta_bus3\"\n",
    "\n",
    "rmse_v2_angle = plot_node_volt_angle(varname_dpsim, varname_psat, ts_dpsim_6aOrder, ts_psat_6Order, nominal_grid_voltage, ylabels)"
   ]
  },
  {
   "attachments": {},
   "cell_type": "markdown",
   "metadata": {},
   "source": [
    "### Assert"
   ]
  },
  {
   "cell_type": "code",
   "execution_count": null,
   "metadata": {},
   "outputs": [],
   "source": [
    "tol = 1.3 #%\n",
    "tol_id = 7.3\n",
    "tol_iq = 4.8\n",
    "tol_deg_v1 = 0.13 # deg\n",
    "tol_deg_v2 = 1e-12 # deg\n",
    "\n",
    "assert(rmse_torque<tol)\n",
    "assert(rmse_ed<tol)\n",
    "assert(rmse_eq<tol)\n",
    "assert(rmse_ed_s<tol)\n",
    "assert(rmse_eq_s<tol)\n",
    "assert(rmse_vd<tol)\n",
    "assert(rmse_vq<tol)\n",
    "assert(rmse_id<tol_id)\n",
    "assert(rmse_iq<tol_iq)\n",
    "assert(rmse_delta<tol)\n",
    "assert(rmse_omega<tol)\n",
    "assert(rmse_v1_abs<tol)\n",
    "assert(rmse_v2_abs<tol)\n",
    "assert(rmse_v1_angle<tol_deg_v1)\n",
    "assert(rmse_v2_angle<tol_deg_v2)"
   ]
  },
  {
   "attachments": {},
   "cell_type": "markdown",
   "metadata": {},
   "source": [
    "### Validation 6th Order Model (Anderson-Fouad's model)"
   ]
  },
  {
   "cell_type": "code",
   "execution_count": null,
   "metadata": {},
   "outputs": [],
   "source": [
    "log_name = sp_reducedOrderSG_SMIB_fault(sim_pf, gen_pf, \"6bOrder\")"
   ]
  },
  {
   "attachments": {},
   "cell_type": "markdown",
   "metadata": {},
   "source": [
    "#### Read DPSim Results"
   ]
  },
  {
   "cell_type": "code",
   "execution_count": null,
   "metadata": {},
   "outputs": [],
   "source": [
    "# read Simulink log file\n",
    "\n",
    "file_path = os.getcwd() + \"/logs/\" + log_name + \"/\" + log_name + \".csv\"\n",
    "ts_dpsim_6bOrder = read_timeseries_dpsim(file_path)"
   ]
  },
  {
   "attachments": {},
   "cell_type": "markdown",
   "metadata": {},
   "source": [
    "#### Plot and validate results"
   ]
  },
  {
   "attachments": {},
   "cell_type": "markdown",
   "metadata": {},
   "source": [
    "##### Electrical Torque"
   ]
  },
  {
   "cell_type": "code",
   "execution_count": null,
   "metadata": {},
   "outputs": [],
   "source": [
    "varname_dpsim = \"Te\"\n",
    "varname_psat = \"p\"\n",
    "\n",
    "rmse_torque = plot_variable(titles, varname_dpsim, varname_psat, ts_dpsim_6bOrder, ts_psat_6Order, nominal_values, ylabels)"
   ]
  },
  {
   "attachments": {},
   "cell_type": "markdown",
   "metadata": {},
   "source": [
    "##### $V_d$"
   ]
  },
  {
   "cell_type": "code",
   "execution_count": null,
   "metadata": {},
   "outputs": [],
   "source": [
    "varname_dpsim = \"Vdq0_0\"\n",
    "varname_psat = \"vd\"\n",
    "\n",
    "rmse_vd = plot_variable(titles, varname_dpsim, varname_psat, ts_dpsim_6bOrder, ts_psat_6Order, nominal_values, ylabels)"
   ]
  },
  {
   "attachments": {},
   "cell_type": "markdown",
   "metadata": {},
   "source": [
    "##### $V_q$"
   ]
  },
  {
   "cell_type": "code",
   "execution_count": null,
   "metadata": {},
   "outputs": [],
   "source": [
    "varname_dpsim = \"Vdq0_1\"\n",
    "varname_psat = \"vq\"\n",
    "\n",
    "rmse_vq = plot_variable(titles, varname_dpsim, varname_psat, ts_dpsim_6bOrder, ts_psat_6Order, nominal_values, ylabels)"
   ]
  },
  {
   "attachments": {},
   "cell_type": "markdown",
   "metadata": {},
   "source": [
    "##### $I_d$"
   ]
  },
  {
   "cell_type": "code",
   "execution_count": null,
   "metadata": {},
   "outputs": [],
   "source": [
    "varname_dpsim = \"Idq0_0\"\n",
    "varname_psat = \"id\"\n",
    "\n",
    "rmse_id = plot_variable(titles, varname_dpsim, varname_psat, ts_dpsim_6bOrder, ts_psat_6Order, nominal_values, ylabels)"
   ]
  },
  {
   "attachments": {},
   "cell_type": "markdown",
   "metadata": {},
   "source": [
    "##### $I_q$"
   ]
  },
  {
   "cell_type": "code",
   "execution_count": null,
   "metadata": {},
   "outputs": [],
   "source": [
    "varname_dpsim = \"Idq0_1\"\n",
    "varname_psat = \"iq\"\n",
    "\n",
    "rmse_iq = plot_variable(titles, varname_dpsim, varname_psat, ts_dpsim_6bOrder, ts_psat_6Order, nominal_values, ylabels)"
   ]
  },
  {
   "attachments": {},
   "cell_type": "markdown",
   "metadata": {},
   "source": [
    "##### Delta"
   ]
  },
  {
   "cell_type": "code",
   "execution_count": null,
   "metadata": {},
   "outputs": [],
   "source": [
    "varname_dpsim = \"delta\"\n",
    "varname_psat = \"delta\"\n",
    "\n",
    "rmse_delta = plot_variable(titles, varname_dpsim, varname_psat, ts_dpsim_6bOrder, ts_psat_6Order, nominal_values, ylabels)"
   ]
  },
  {
   "attachments": {},
   "cell_type": "markdown",
   "metadata": {},
   "source": [
    "##### Mechanical omega"
   ]
  },
  {
   "cell_type": "code",
   "execution_count": null,
   "metadata": {},
   "outputs": [],
   "source": [
    "varname_dpsim = \"w_r\"\n",
    "varname_psat = \"omega\"\n",
    "\n",
    "rmse_omega = plot_variable(titles, varname_dpsim, varname_psat, ts_dpsim_6bOrder, ts_psat_6Order, nominal_values, ylabels)"
   ]
  },
  {
   "attachments": {},
   "cell_type": "markdown",
   "metadata": {},
   "source": [
    "##### Grid voltages"
   ]
  },
  {
   "cell_type": "code",
   "execution_count": null,
   "metadata": {},
   "outputs": [],
   "source": [
    "varname_dpsim = \"n1.v\"\n",
    "varname_psat = \"V_Bus1\"\n",
    "\n",
    "rmse_v1_abs = plot_node_volt_abs(varname_dpsim, varname_psat, ts_dpsim_6bOrder, ts_psat_6Order, nominal_grid_voltage, ylabels)"
   ]
  },
  {
   "cell_type": "code",
   "execution_count": null,
   "metadata": {},
   "outputs": [],
   "source": [
    "varname_dpsim = \"n1.v\"\n",
    "varname_psat = \"theta_bus1\"\n",
    "\n",
    "rmse_v1_angle = plot_node_volt_angle(varname_dpsim, varname_psat, ts_dpsim_6bOrder, ts_psat_6Order, nominal_grid_voltage, ylabels)"
   ]
  },
  {
   "cell_type": "code",
   "execution_count": null,
   "metadata": {},
   "outputs": [],
   "source": [
    "varname_dpsim = \"n2.v\"\n",
    "varname_psat = \"V_Bus3\"\n",
    "\n",
    "rmse_v2_abs = plot_node_volt_abs(varname_dpsim, varname_psat, ts_dpsim_6bOrder, ts_psat_6Order, nominal_grid_voltage, ylabels)"
   ]
  },
  {
   "cell_type": "code",
   "execution_count": null,
   "metadata": {},
   "outputs": [],
   "source": [
    "varname_dpsim = \"n2.v\"\n",
    "varname_psat = \"theta_bus3\"\n",
    "\n",
    "rmse_v2_angle = plot_node_volt_angle(varname_dpsim, varname_psat, ts_dpsim_6bOrder, ts_psat_6Order, nominal_grid_voltage, ylabels)"
   ]
  },
  {
   "attachments": {},
   "cell_type": "markdown",
   "metadata": {},
   "source": [
    "##### Assert"
   ]
  },
  {
   "cell_type": "code",
   "execution_count": null,
   "metadata": {},
   "outputs": [],
   "source": [
    "tol = 1 #%\n",
    "tol_id = 7.6 #%\n",
    "tol_iq = 5.2 #%\n",
    "tol_torque = 1.8\n",
    "tol_deg_v1 = 0.25 # deg\n",
    "tol_deg_v2 = 1e-12 # deg\n",
    "\n",
    "assert(rmse_torque<tol_torque)\n",
    "assert(rmse_vd<tol)\n",
    "assert(rmse_vq<tol)\n",
    "assert(rmse_id<tol_id)\n",
    "assert(rmse_iq<tol_iq)\n",
    "assert(rmse_delta<tol)\n",
    "assert(rmse_omega<tol)\n",
    "assert(rmse_v1_abs<tol)\n",
    "assert(rmse_v2_abs<tol)\n",
    "assert(rmse_v1_angle<tol_deg_v1)\n",
    "assert(rmse_v2_angle<tol_deg_v2)"
   ]
  }
 ],
 "metadata": {
  "kernelspec": {
   "display_name": "Python 3 (ipykernel)",
   "language": "python",
   "name": "python3"
  },
  "language_info": {
   "codemirror_mode": {
    "name": "ipython",
    "version": 3
   },
   "file_extension": ".py",
   "mimetype": "text/x-python",
   "name": "python",
   "nbconvert_exporter": "python",
   "pygments_lexer": "ipython3",
   "version": "3.9.13"
  },
  "vscode": {
   "interpreter": {
    "hash": "e7370f93d1d0cde622a1f8e1c04877d8463912d04d973331ad4851f04de6915a"
   },
   "tests": {
    "skip": false
   }
  }
 },
 "nbformat": 4,
 "nbformat_minor": 4
}
