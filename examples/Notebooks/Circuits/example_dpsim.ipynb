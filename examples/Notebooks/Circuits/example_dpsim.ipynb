{
 "cells": [
  {
   "attachments": {},
   "cell_type": "markdown",
   "metadata": {},
   "source": [
    "# Validation Reduced-Order SG VBR models & controllers with SMIB System"
   ]
  },
  {
   "attachments": {},
   "cell_type": "markdown",
   "metadata": {},
   "source": [
    "## Import dpsimpy"
   ]
  },
  {
   "cell_type": "code",
   "execution_count": 1,
   "metadata": {},
   "outputs": [],
   "source": [
    "import sys\n",
    "sys.path.insert(0,'/home/mmo-cya/dpsim/build')\n",
    "#sys.path.remove('/home/mmo/git/lund-anm-control')\n",
    "import dpsimpy\n",
    "\n"
   ]
  },
  {
   "attachments": {},
   "cell_type": "markdown",
   "metadata": {},
   "source": [
    "## Load PSAT Results"
   ]
  },
  {
   "cell_type": "code",
   "execution_count": 2,
   "metadata": {},
   "outputs": [
    {
     "name": "stdout",
     "output_type": "stream",
     "text": [
      "column number: 11\n",
      "results length: 20003\n",
      "real column names: ['delta', 'omega', 'eq_t', 'theta_bus1', 'theta_bus3', 'V_Bus1', 'V_Bus3', 'vf', 'pm', 'p', 'q']\n",
      "complex column names: []\n",
      "column number: 12\n",
      "results length: 20003\n",
      "real column names: ['delta', 'omega', 'eq_t', 'ed_t', 'theta_bus1', 'theta_bus3', 'V_Bus1', 'V_Bus3', 'vf', 'pm', 'p', 'q']\n",
      "complex column names: []\n",
      "column number: 14\n",
      "results length: 20003\n",
      "real column names: ['delta', 'omega', 'eq_t', 'ed_t', 'eq_s', 'ed_s', 'theta_bus1', 'theta_bus3', 'V_Bus1', 'V_Bus3', 'vf', 'pm', 'p', 'q']\n",
      "complex column names: []\n"
     ]
    }
   ],
   "source": [
    "from villas.dataprocessing.readtools import *\n",
    "from villas.dataprocessing.timeseries import *\n",
    "import os\n",
    "import urllib.request\n",
    "\n",
    "if not os.path.exists('reference-results'):\n",
    "    os.mkdir('reference-results')\n",
    "\n",
    "url = 'https://raw.githubusercontent.com/dpsim-simulator/reference-results/master/PSAT/SMIB-Fault/PSAT_3OrderSyGen_SMIB_Fault_100mS_TS_1mS.out.txt'\n",
    "local_file_3Order = 'reference-results/PSAT_3OrderSyGen_SMIB_Fault_100mS_TS_1mS.out'\n",
    "urllib.request.urlretrieve(url, local_file_3Order) \n",
    "ts_psat_3Order = read_timeseries_dpsim(local_file_3Order)\n",
    "\n",
    "url = 'https://raw.githubusercontent.com/dpsim-simulator/reference-results/master/PSAT/SMIB-Fault/PSAT_4OrderSyGen_SMIB_Fault_100mS_TS_1mS.out.txt'\n",
    "local_file_4Order = 'reference-results/PSAT_4OrderSyGen_SMIB_Fault_100mS_TS_1mS.out'\n",
    "urllib.request.urlretrieve(url, local_file_4Order)\n",
    "ts_psat_4Order = read_timeseries_dpsim(local_file_4Order)\n",
    "\n",
    "url = 'https://raw.githubusercontent.com/dpsim-simulator/reference-results/master/PSAT/SMIB-Fault/PSAT_6OrderSyGen_SMIB_Fault_100mS_TS_1mS.out.txt'\n",
    "local_file_6Order = 'reference-results/PSAT_6OrderSyGen_SMIB_Fault_100mS_TS_1mS.out'\n",
    "urllib.request.urlretrieve(url, local_file_6Order)\n",
    "ts_psat_6Order = read_timeseries_dpsim(local_file_6Order)"
   ]
  },
  {
   "attachments": {},
   "cell_type": "markdown",
   "metadata": {},
   "source": [
    "## Calculate $V_d$, $V_q$, $I_d$ and $I_q$ in PSAT"
   ]
  },
  {
   "attachments": {},
   "cell_type": "markdown",
   "metadata": {},
   "source": [
    "### 3th Order Model"
   ]
  },
  {
   "cell_type": "code",
   "execution_count": 3,
   "metadata": {},
   "outputs": [],
   "source": [
    "#calculate vd and vq\n",
    "angle = ts_psat_3Order['delta'].values - ts_psat_3Order['theta_bus1'].values\n",
    "V_bus1 = ts_psat_3Order['V_Bus1'].values\n",
    "vd = V_bus1 * np.sin(angle)\n",
    "ts_psat_3Order['vd'] = TimeSeries('vd', ts_psat_3Order['V_Bus1'].time, vd)\n",
    "vq = V_bus1 * np.cos(angle)\n",
    "ts_psat_3Order['vq'] = TimeSeries('vq', ts_psat_3Order['V_Bus1'].time, vq)\n",
    "\n",
    "#calculate id and iq in PSAT\n",
    "Xd_t = 0.299900\n",
    "Xq = 1.7600\n",
    "i_d = (ts_psat_3Order['eq_t'].values - ts_psat_3Order['vq'].values) / Xd_t\n",
    "ts_psat_3Order['id'] = TimeSeries('id', ts_psat_3Order['eq_t'].time, i_d)\n",
    "i_q = ts_psat_3Order['vd'].values / Xq\n",
    "ts_psat_3Order['iq'] = TimeSeries('iq', ts_psat_3Order['vd'].time, i_q)"
   ]
  },
  {
   "attachments": {},
   "cell_type": "markdown",
   "metadata": {},
   "source": [
    "### 4th Order Model"
   ]
  },
  {
   "cell_type": "code",
   "execution_count": 4,
   "metadata": {},
   "outputs": [],
   "source": [
    "#calculate vd and vq\n",
    "angle = ts_psat_4Order['delta'].values - ts_psat_4Order['theta_bus1'].values\n",
    "V_bus1 = ts_psat_4Order['V_Bus1'].values\n",
    "vd = V_bus1 * np.sin(angle)\n",
    "ts_psat_4Order['vd'] = TimeSeries('vd', ts_psat_4Order['V_Bus1'].time, vd)\n",
    "vq = V_bus1 * np.cos(angle)\n",
    "ts_psat_4Order['vq'] = TimeSeries('vq', ts_psat_4Order['V_Bus1'].time, vq)\n",
    "    \n",
    "#calculate id and iq in PSAT\n",
    "Xd = 0.299900\n",
    "Xq = 0.650000\n",
    "i_d = (ts_psat_4Order['eq_t'].values - ts_psat_4Order['vq'].values) / Xd\n",
    "ts_psat_4Order['id'] = TimeSeries('id', ts_psat_4Order['eq_t'].time, i_d)\n",
    "i_q = -(ts_psat_4Order['ed_t'].values - ts_psat_4Order['vd'].values) / Xq\n",
    "ts_psat_4Order['iq'] = TimeSeries('iq', ts_psat_4Order['ed_t'].time, i_q)"
   ]
  },
  {
   "attachments": {},
   "cell_type": "markdown",
   "metadata": {},
   "source": [
    "### 6th Order Model (Marconato's model)"
   ]
  },
  {
   "cell_type": "code",
   "execution_count": 5,
   "metadata": {},
   "outputs": [],
   "source": [
    "#calculate vd and vq\n",
    "angle = ts_psat_6Order['delta'].values - ts_psat_6Order['theta_bus1'].values\n",
    "V_bus1 = ts_psat_6Order['V_Bus1'].values\n",
    "vd = V_bus1 * np.sin(angle)\n",
    "ts_psat_6Order['vd'] = TimeSeries('vd', ts_psat_6Order['V_Bus1'].time, vd)\n",
    "vq = V_bus1 * np.cos(angle)\n",
    "ts_psat_6Order['vq'] = TimeSeries('vq', ts_psat_6Order['V_Bus1'].time, vq)\n",
    "\n",
    "#calculate id and iq in PSAT\\n\",\n",
    "Xd_s = 0.2299\n",
    "Xq_s = 0.2500\n",
    "i_d = (ts_psat_6Order['eq_s'].values - ts_psat_6Order['vq'].values) / Xd_s\n",
    "ts_psat_6Order['id'] = TimeSeries('id', ts_psat_6Order['eq_s'].time, i_d)\n",
    "i_q = -(ts_psat_6Order['ed_s'].values - ts_psat_6Order['vd'].values) / Xq_s\n",
    "ts_psat_6Order['iq'] = TimeSeries('iq', ts_psat_6Order['ed_s'].time, i_q)"
   ]
  },
  {
   "attachments": {},
   "cell_type": "markdown",
   "metadata": {},
   "source": [
    "## Define nominal values"
   ]
  },
  {
   "cell_type": "code",
   "execution_count": 6,
   "metadata": {},
   "outputs": [],
   "source": [
    "# nominal values (per unit)\n",
    "nominal_values = {}\n",
    "nominal_values['Te'] = 0.540541\n",
    "nominal_values['Edq0_0'] = 0.403062     #4th order model\n",
    "nominal_values['Edq0_1'] = 0.944802     #3th and 4th order model\n",
    "nominal_values['Edq0_t_0'] = 0.392200   #6 order model\n",
    "nominal_values['Edq0_t_1'] = 0.946405   #6 order model\n",
    "nominal_values['Edq0_s_0'] = 0.548309   #6 order model\n",
    "nominal_values['Edq0_s_1'] = 0.918731   #6 order model\n",
    "nominal_values['Vdq0_0'] = 0.639089\n",
    "nominal_values['Vdq0_1'] = 0.833106\n",
    "nominal_values['Idq0_0'] = 0.372443\n",
    "nominal_values['Idq0_1'] = 0.363119\n",
    "nominal_values['delta'] = 0.909230\n",
    "nominal_values['w_r'] = 1.0\n",
    "\n",
    "nominal_grid_voltage = 24e3\n",
    "\n",
    "#\n",
    "titles = {}\n",
    "titles['Te'] = 'Electrical Torque'\n",
    "titles['Edq0_0'] = 'd-component of the voltage behind the transient reactance'\n",
    "titles['Edq0_1'] = 'q-component of the voltage behind the transient reactance'\n",
    "titles['Edq0_t_0'] = 'd-component of the voltage behind the transient reactance'\n",
    "titles['Edq0_t_1'] = 'd-component of the voltage behind the transient reactance'\n",
    "titles['Edq0_s_0'] = 'd-component of the voltage behind the sub-transient reactance'\n",
    "titles['Edq0_s_1'] = 'd-component of the voltage behind the sub-transient reactance'\n",
    "titles['Vdq0_0'] = 'd-component of the terminal voltage'\n",
    "titles['Vdq0_1'] = 'q-component of the terminal voltage'\n",
    "titles['Idq0_0'] = 'd-component of the terminal current'\n",
    "titles['Idq0_1'] = 'q-component of the terminal current'\n",
    "titles['delta'] = 'Delta'\n",
    "titles['w_r'] = 'Mechanical Omega'\n",
    "\n",
    "#\n",
    "ylabels = {}\n",
    "ylabels['Te'] = 'Torque (p.u.)'\n",
    "ylabels['Edq0_0'] = 'Ed_t (p.u.)'\n",
    "ylabels['Edq0_1'] = 'Eq_t (p.u.)'\n",
    "ylabels['Edq0_t_0'] = 'Ed_t (p.u.)'\n",
    "ylabels['Edq0_t_1'] = 'Eq_t (p.u.)'\n",
    "ylabels['Edq0_s_0'] = 'Ed_s (p.u.)'\n",
    "ylabels['Edq0_s_1'] = 'Eq_s (p.u.)'\n",
    "ylabels['Vdq0_0'] = 'Vd (p.u.)'\n",
    "ylabels['Vdq0_1'] = 'Vq (p.u.)'\n",
    "ylabels['Idq0_0'] = 'Id (p.u.)'\n",
    "ylabels['Idq0_1'] = 'Iq (p.u.)'\n",
    "ylabels['delta'] = 'Delta (rad)'\n",
    "ylabels['w_r'] = 'w_r (p.u.)'"
   ]
  },
  {
   "attachments": {},
   "cell_type": "markdown",
   "metadata": {},
   "source": [
    "## Declare plot function"
   ]
  },
  {
   "cell_type": "code",
   "execution_count": 7,
   "metadata": {},
   "outputs": [],
   "source": [
    "import matplotlib.pyplot as plt\n",
    "\n",
    "timestep_common = 10e-6\n",
    "t_begin = 0\n",
    "t_end = 10\n",
    "begin_idx = int(t_begin/timestep_common)\n",
    "end_idx= int(t_end/timestep_common)\n",
    "time = np.linspace(t_begin, t_end, num=end_idx-begin_idx)\n",
    "\n",
    "#plot parameters\n",
    "width = 12\n",
    "height = 4\n",
    "\n",
    "def plot_variable(title, varname_dpsim, varname_psat, ts_dpsim, ts_psat, nominal_values, ylabels):\n",
    "    fig1 = plt.figure(figsize=(width, height))\n",
    "    dpsim_values = ts_dpsim[varname_dpsim].interpolate(timestep_common).values[begin_idx:end_idx]\n",
    "    psat_values = ts_psat[varname_psat].interpolate(timestep_common).values[begin_idx:end_idx]\n",
    "    plt.plot(time, dpsim_values, label='DPSim')\n",
    "    plt.plot(time, psat_values, '--', label='PSAT')\n",
    "    plt.legend(loc='lower right')\n",
    "    plt.xlabel('time (s)')\n",
    "    plt.ylabel(ylabels[varname_dpsim])\n",
    "    plt.grid()\n",
    "    plt.xlim([t_begin, t_end])\n",
    "    plt.show\n",
    "    \n",
    "    #calculate RMSE\n",
    "    nom_value = nominal_values[varname_dpsim]\n",
    "    rmse = np.sqrt(((dpsim_values - psat_values) ** 2).mean())\n",
    "    print('RMSE {:s}  = {:.6f} (pu), which is {:.3f}% of the nominal value = {:.3f} (pu) '.format(varname_dpsim, rmse, rmse/nom_value*100, nom_value))\n",
    "        \n",
    "    return rmse/nom_value*100\n",
    "\n",
    "def plot_node_volt_abs(varname_dpsim, varname_psat, ts_dpsim, ts_psat, nominal_voltage, ylabels):\n",
    "    \n",
    "    #convert dpsim voltage to magnitude value and per-unit for comparison with psat\n",
    "    dpsim_values_abs_pu = ts_dpsim[varname_dpsim].interpolate(timestep_common).abs().values[begin_idx:end_idx]/nominal_voltage\n",
    "    psat_values = ts_psat[varname_psat].interpolate(timestep_common).values[begin_idx:end_idx]\n",
    "    \n",
    "    fig1 = plt.figure(figsize=(width, height))\n",
    "    plt.plot(time, dpsim_values_abs_pu, label='DPSim')\n",
    "    plt.plot(time, psat_values, '--', label='PSAT')\n",
    "    plt.legend(loc='lower right')\n",
    "    plt.xlabel('time (s)')\n",
    "    plt.show\n",
    "      \n",
    "     #calculate RMSE\n",
    "    rmse = np.sqrt(((dpsim_values_abs_pu - psat_values) ** 2).mean())\n",
    "    print('RMSE {:s}  = {:.6f} (pu), which is {:.3f}% of the nominal value = {:.3f} (pu) '.format(varname_dpsim, rmse, rmse/1.0*100, 1.0))\n",
    "        \n",
    "    return rmse/1.0*100\n",
    "\n",
    "\n",
    "def plot_node_volt_angle(varname_dpsim, varname_psat, ts_dpsim, ts_psat, nominal_voltage, ylabels):\n",
    "    #limit rmse to post-fault evaluation\n",
    "    t_post_begin=1.1\n",
    "    t_post_end=t_end\n",
    "    begin_post_idx = int(t_post_begin/timestep_common)\n",
    "    end_post_idx= int(t_post_end/timestep_common)\n",
    "    time_post = np.linspace(begin_post_idx, end_post_idx, num=end_post_idx-begin_post_idx)\n",
    "    \n",
    "    dpsim_values = ts_dpsim[varname_dpsim].interpolate(timestep_common).phase().values[begin_idx:end_idx]\n",
    "    dpsim_values_post = dpsim_values[begin_post_idx:end_post_idx]\n",
    "    psat_values = ts_psat[varname_psat].interpolate(timestep_common).values[begin_idx:end_idx]/np.pi*180\n",
    "    psat_values_post = psat_values[begin_post_idx:end_post_idx]\n",
    "    \n",
    "    fig2 = plt.figure(figsize=(width, height))\n",
    "    plt.plot(time, dpsim_values, label='DPSim')\n",
    "    plt.plot(time, psat_values, '--', label='PSAT')\n",
    "    plt.legend(loc='lower right')\n",
    "    plt.xlabel('time (s)')\n",
    "    plt.show\n",
    "    \n",
    "     #calculate RMSE\n",
    "    rmse = np.sqrt(((dpsim_values_post - psat_values_post) ** 2).mean())\n",
    "    print('RMSE Post-Fault {:s}  = {:.6f} (deg)'.format(varname_dpsim, rmse))\n",
    "        \n",
    "    return rmse"
   ]
  },
  {
   "attachments": {},
   "cell_type": "markdown",
   "metadata": {},
   "source": [
    "## Parametrization"
   ]
  },
  {
   "cell_type": "code",
   "execution_count": 8,
   "metadata": {},
   "outputs": [],
   "source": [
    "from math import sqrt, pi\n",
    "\n",
    "### Power System\n",
    "nominal_voltage_hv = 230e3\n",
    "nominal_voltage_mv = 24e3\n",
    "ratio = nominal_voltage_mv/nominal_voltage_hv\n",
    "frequency = 60\n",
    "omega = 2 * pi * frequency\n",
    "\n",
    "### Generator\n",
    "nom_power = 555e6\n",
    "set_point_active_power = 300e6\n",
    "set_point_voltage = 1.05*nominal_voltage_mv\n",
    "H = 3.7\n",
    "Td0_t = 8.0669\n",
    "Td0_s = 0.0300\n",
    "Td_t = 1.3368\n",
    "Td_s = 0.0230\n",
    "Ld_t = 0.2999\n",
    "Ld_s = 0.2299\n",
    "Tq0_t = 0.9991\n",
    "Tq0_s = 0.0700\n",
    "Lq_t = 0.6500\n",
    "Lq_s = 0.2500\n",
    "Ld = 1.8099\n",
    "Lq = 1.7600\n",
    "L0 = 0.15\n",
    "Taa = 0\n",
    "\n",
    "### Excitation system\n",
    "Ka = 46\n",
    "Ta = 0.06\n",
    "Ke = -0.0435\n",
    "Te = 0.46\n",
    "Kf = 0.1\n",
    "Tf = 1\n",
    "Tr = 0.02\n",
    "\n",
    "### Turbine Goverour\n",
    "OmegaRef = 1.0\n",
    "R = 0.02\n",
    "Tmax = 1.2\n",
    "Tmin = 0.3\n",
    "Ts = 0.1\n",
    "Tc = 0.45\n",
    "T3 = 0.0\n",
    "T4 = 12.0\n",
    "T5 = 50.0\n",
    "        \n",
    "### PiLine parameters calculated from CIGRE Benchmark system\n",
    "line_length = 100\n",
    "line_resistance = 1.27e-4 * 529 * line_length * pow(ratio,2)\n",
    "line_inductance = 9.05e-4 * 529 / omega * line_length * pow(ratio,2)\n",
    "line_capacitance = (1.81e-3 / 529) / omega * line_length / pow(ratio,2)\n",
    "line_conductance = 0\n",
    "\n",
    "### Switch\n",
    "switch_closed = 0.001 * (24*24/555)\n",
    "switch_open = 1e6"
   ]
  },
  {
   "attachments": {},
   "cell_type": "markdown",
   "metadata": {},
   "source": [
    "## Run powerflow for Initialization"
   ]
  },
  {
   "cell_type": "code",
   "execution_count": 9,
   "metadata": {},
   "outputs": [
    {
     "name": "stderr",
     "output_type": "stream",
     "text": [
      "[14:41:01.665062 Pi_Line_pf warning] Zero value for Conductance, setting default value of G=1e-06 [S]\n",
      "[14:41:01.666310 SP_ReducedOrderSG_SMIB_PF_ info] Initialize simulation: SP_ReducedOrderSG_SMIB_PF_\n",
      "[14:41:01.668102 SP_ReducedOrderSG_SMIB_PF_ info] Scheduling tasks.\n",
      "[14:41:01.668321 SP_ReducedOrderSG_SMIB_PF_ info] Scheduling done.\n",
      "[14:41:01.668325 SP_ReducedOrderSG_SMIB_PF_ info] Opening interfaces.\n",
      "[14:41:01.668326 SP_ReducedOrderSG_SMIB_PF_ info] Start synchronization with remotes on interfaces\n",
      "[14:41:01.668328 SP_ReducedOrderSG_SMIB_PF_ info] Synchronized simulation start with remotes\n",
      "[14:41:01.668331 SP_ReducedOrderSG_SMIB_PF_ info] Start simulation: SP_ReducedOrderSG_SMIB_PF_\n",
      "[14:41:01.668336 SP_ReducedOrderSG_SMIB_PF_ info] Time step: 1.000000e-01\n",
      "[14:41:01.668339 SP_ReducedOrderSG_SMIB_PF_ info] Final time: 5.000000e-01\n",
      "[14:41:01.670088 SP_ReducedOrderSG_SMIB_PF_ info] Simulation calculation time: 0.001745\n",
      "[14:41:01.670134 SP_ReducedOrderSG_SMIB_PF_ info] Simulation finished.\n"
     ]
    }
   ],
   "source": [
    "sim_name_pf = \"SP_ReducedOrderSG_SMIB_\" + \"PF_\"\n",
    "dpsimpy.Logger.set_log_dir(\"logs/\" + sim_name_pf)\n",
    "\n",
    "### Nodes\n",
    "gnd_pf = dpsimpy.sp.SimNode.gnd\n",
    "n1_pf  = dpsimpy.sp.SimNode('n1_pf', dpsimpy.PhaseType.Single)\n",
    "n2_pf  = dpsimpy.sp.SimNode('n2_pf', dpsimpy.PhaseType.Single)\n",
    "\n",
    "### Components\n",
    "\n",
    "# syncrhon generator\n",
    "gen_pf = dpsimpy.sp.ph1.SynchronGenerator('gen_pf', dpsimpy.LogLevel.debug)\n",
    "gen_pf.set_parameters(rated_apparent_power=nom_power, rated_voltage=nominal_voltage_mv, \n",
    "                      set_point_active_power=set_point_active_power, set_point_voltage=set_point_voltage, \n",
    "                      powerflow_bus_type=dpsimpy.PowerflowBusType.PV)\n",
    "\n",
    "gen_pf.set_base_voltage(nominal_voltage_mv)\n",
    "gen_pf.modify_power_flow_bus_type(dpsimpy.PowerflowBusType.PV)\n",
    "\n",
    "# Grid bus as Slack\n",
    "extnet_pf = dpsimpy.sp.ph1.NetworkInjection(\"Slack\", dpsimpy.LogLevel.debug)\n",
    "extnet_pf.set_parameters(nominal_voltage_mv)\n",
    "extnet_pf.set_base_voltage(nominal_voltage_mv)\n",
    "extnet_pf.modify_power_flow_bus_type(dpsimpy.PowerflowBusType.VD)\n",
    "\n",
    "# PiLine\n",
    "pi_line_pf = dpsimpy.sp.ph1.PiLine('Pi_Line_pf', dpsimpy.LogLevel.debug)\n",
    "pi_line_pf.set_parameters(R=line_resistance, L=line_inductance, C=line_capacitance, G=line_conductance)\n",
    "pi_line_pf.set_base_voltage(nominal_voltage_mv)\n",
    "\n",
    "### Connections\n",
    "gen_pf.connect([n1_pf])\n",
    "pi_line_pf.connect([n2_pf, n1_pf])\n",
    "extnet_pf.connect([n2_pf])\n",
    "\n",
    "### Define system topology\n",
    "system_pf = dpsimpy.SystemTopology(frequency, [n1_pf, n2_pf], [gen_pf, pi_line_pf, extnet_pf])\n",
    "\n",
    "# Logging\n",
    "logger_pf = dpsimpy.Logger(sim_name_pf)\n",
    "logger_pf.log_attribute('n1.v', 'v', n1_pf)\n",
    "logger_pf.log_attribute('n2.v', 'v', n2_pf)\n",
    "logger_pf.log_attribute('p_inj', 'p_inj', extnet_pf)\n",
    "logger_pf.log_attribute('q_inj', 'q_inj', extnet_pf)\n",
    "\n",
    "sim_pf = dpsimpy.Simulation(sim_name_pf, dpsimpy.LogLevel.debug)\n",
    "sim_pf.set_system(system_pf)\n",
    "sim_pf.set_domain(dpsimpy.Domain.SP)\n",
    "sim_pf.set_solver(dpsimpy.Solver.NRP)\n",
    "sim_pf.set_solver_component_behaviour(dpsimpy.SolverBehaviour.Initialization)\n",
    "sim_pf.set_time_step(0.1)\n",
    "sim_pf.set_final_time(0.5)\n",
    "sim_pf.add_logger(logger_pf)\n",
    "sim_pf.run()"
   ]
  },
  {
   "cell_type": "code",
   "execution_count": 10,
   "metadata": {},
   "outputs": [
    {
     "data": {
      "image/svg+xml": [
       "<?xml version=\"1.0\" encoding=\"UTF-8\" standalone=\"no\"?>\n",
       "<!DOCTYPE svg PUBLIC \"-//W3C//DTD SVG 1.1//EN\"\n",
       " \"http://www.w3.org/Graphics/SVG/1.1/DTD/svg11.dtd\">\n",
       "<!-- Generated by graphviz version 2.44.0 (0)\n",
       " -->\n",
       "<!-- Title: topology Pages: 1 -->\n",
       "<svg width=\"322pt\" height=\"276pt\"\n",
       " viewBox=\"0.00 0.00 322.42 276.28\" xmlns=\"http://www.w3.org/2000/svg\" xmlns:xlink=\"http://www.w3.org/1999/xlink\">\n",
       "<g id=\"graph0\" class=\"graph\" transform=\"scale(1 1) rotate(0) translate(4 272.28)\">\n",
       "<title>topology</title>\n",
       "<polygon fill=\"white\" stroke=\"transparent\" points=\"-4,4 -4,-272.28 318.42,-272.28 318.42,4 -4,4\"/>\n",
       "<!-- n1_pf -->\n",
       "<g id=\"node1\" class=\"node\">\n",
       "<title>n1_pf</title>\n",
       "<g id=\"a_node1\"><a xlink:title=\"n1_pf\">\n",
       "<ellipse fill=\"red\" stroke=\"black\" cx=\"105.83\" cy=\"-83.9\" rx=\"5.4\" ry=\"5.4\"/>\n",
       "</a>\n",
       "</g>\n",
       "<text text-anchor=\"start\" x=\"63.43\" y=\"-93.7\" font-family=\"Times-Roman\" font-weight=\"bold\" font-size=\"12.00\">n1_pf</text>\n",
       "</g>\n",
       "<!-- n2_pf -->\n",
       "<g id=\"node2\" class=\"node\">\n",
       "<title>n2_pf</title>\n",
       "<g id=\"a_node2\"><a xlink:title=\"n2_pf\">\n",
       "<ellipse fill=\"red\" stroke=\"black\" cx=\"202.05\" cy=\"-191.14\" rx=\"5.4\" ry=\"5.4\"/>\n",
       "</a>\n",
       "</g>\n",
       "<text text-anchor=\"start\" x=\"159.65\" y=\"-200.94\" font-family=\"Times-Roman\" font-weight=\"bold\" font-size=\"12.00\">n2_pf</text>\n",
       "</g>\n",
       "<!-- gen_pf -->\n",
       "<g id=\"node3\" class=\"node\">\n",
       "<title>gen_pf</title>\n",
       "<g id=\"a_node3\"><a xlink:title=\"Attributes:&#10;P_set: 300000000.000000&#10;P_set_pu: 0.300000&#10;Q_set: 43411881.878627&#10;Q_set_pu: 0.043412&#10;V_set: 25200.000000&#10;V_set_pu: 1.050000&#10;base_Voltage: 24000.000000&#10;i_intf: (0,0)&#10;name: gen_pf&#10;uid: gen_pf&#10;v_intf: (0,0)\">\n",
       "<path fill=\"#ededed\" stroke=\"black\" stroke-width=\"2\" d=\"M140,-36C140,-36 12,-36 12,-36 6,-36 0,-30 0,-24 0,-24 0,-12 0,-12 0,-6 6,0 12,0 12,0 140,0 140,0 146,0 152,-6 152,-12 152,-12 152,-24 152,-24 152,-30 146,-36 140,-36\"/>\n",
       "<text text-anchor=\"start\" x=\"53.5\" y=\"-20.4\" font-family=\"Times-Roman\" font-weight=\"bold\" font-size=\"12.00\">gen_pf</text>\n",
       "<text text-anchor=\"start\" x=\"8\" y=\"-10\" font-family=\"Times-Roman\" font-size=\"10.00\" fill=\"#474747\">SP::Ph1::SynchronGenerator</text>\n",
       "</a>\n",
       "</g>\n",
       "</g>\n",
       "<!-- gen_pf&#45;&#45;n1_pf -->\n",
       "<g id=\"edge1\" class=\"edge\">\n",
       "<title>gen_pf&#45;&#45;n1_pf</title>\n",
       "<path fill=\"none\" stroke=\"black\" d=\"M84.15,-36.01C90.71,-50.49 99.48,-69.86 103.56,-78.88\"/>\n",
       "</g>\n",
       "<!-- Pi_Line_pf -->\n",
       "<g id=\"node4\" class=\"node\">\n",
       "<title>Pi_Line_pf</title>\n",
       "<g id=\"a_node4\"><a xlink:title=\"Attributes:&#10;C_parallel: 0.000083&#10;G_parallel: 0.000001&#10;L_series: 0.001383&#10;R_series: 0.073152&#10;base_Voltage: 24000.000000&#10;current_vector: (&#45;6959.57,&#45;331.44)&#10; (6901.95,770.362)&#10;i_intf: (0,0)&#10;name: Pi_Line_pf&#10;p_branch_vector: &#45;2.89304e+08&#10; &#160;&#160;&#160;&#160;&#160;&#160;3e+08&#10;p_inj: &#45;289303719.546237&#10;q_branch_vector: 1.37777e+07&#10;4.34119e+07&#10;q_inj: 13777704.263525&#10;right_vector: &#10;uid: Pi_Line_pf&#10;v_intf: (0,0)\">\n",
       "<path fill=\"transparent\" stroke=\"transparent\" stroke-width=\"2\" d=\"M181.11,-159.85C181.11,-159.85 117.11,-159.85 117.11,-159.85 111.11,-159.85 105.11,-153.85 105.11,-147.85 105.11,-147.85 105.11,-135.85 105.11,-135.85 105.11,-129.85 111.11,-123.85 117.11,-123.85 117.11,-123.85 181.11,-123.85 181.11,-123.85 187.11,-123.85 193.11,-129.85 193.11,-135.85 193.11,-135.85 193.11,-147.85 193.11,-147.85 193.11,-153.85 187.11,-159.85 181.11,-159.85\"/>\n",
       "<text text-anchor=\"start\" x=\"115.61\" y=\"-144.25\" font-family=\"Times-Roman\" font-weight=\"bold\" font-size=\"12.00\">Pi_Line_pf</text>\n",
       "<text text-anchor=\"start\" x=\"113.11\" y=\"-133.85\" font-family=\"Times-Roman\" font-size=\"10.00\" fill=\"#474747\">SP::Ph1::PiLine</text>\n",
       "</a>\n",
       "</g>\n",
       "</g>\n",
       "<!-- Pi_Line_pf&#45;&#45;n1_pf -->\n",
       "<g id=\"edge3\" class=\"edge\">\n",
       "<title>Pi_Line_pf&#45;&#45;n1_pf</title>\n",
       "<path fill=\"none\" stroke=\"black\" d=\"M135.65,-123.83C126.52,-111.61 115.11,-96.33 109.42,-88.7\"/>\n",
       "</g>\n",
       "<!-- Pi_Line_pf&#45;&#45;n2_pf -->\n",
       "<g id=\"edge2\" class=\"edge\">\n",
       "<title>Pi_Line_pf&#45;&#45;n2_pf</title>\n",
       "<path fill=\"none\" stroke=\"black\" d=\"M168.52,-159.92C179.14,-169.82 191.4,-181.23 197.74,-187.14\"/>\n",
       "</g>\n",
       "<!-- Slack -->\n",
       "<g id=\"node5\" class=\"node\">\n",
       "<title>Slack</title>\n",
       "<g id=\"a_node5\"><a xlink:title=\"Attributes:&#10;V_ref: 0+0i&#10;V_set: 24000.000000&#10;V_set_pu: 1.000000&#10;f_src: 0.000000&#10;i_intf: (0,0)&#10;name: Slack&#10;p_inj: &#45;289303719.546237&#10;q_inj: 13777704.263525&#10;right_vector: &#10;uid: Slack&#10;v_intf: (0,0)\">\n",
       "<path fill=\"#ededed\" stroke=\"black\" stroke-width=\"2\" d=\"M302.42,-268.28C302.42,-268.28 184.42,-268.28 184.42,-268.28 178.42,-268.28 172.42,-262.28 172.42,-256.28 172.42,-256.28 172.42,-244.28 172.42,-244.28 172.42,-238.28 178.42,-232.28 184.42,-232.28 184.42,-232.28 302.42,-232.28 302.42,-232.28 308.42,-232.28 314.42,-238.28 314.42,-244.28 314.42,-244.28 314.42,-256.28 314.42,-256.28 314.42,-262.28 308.42,-268.28 302.42,-268.28\"/>\n",
       "<text text-anchor=\"start\" x=\"224.92\" y=\"-252.68\" font-family=\"Times-Roman\" font-weight=\"bold\" font-size=\"12.00\">Slack</text>\n",
       "<text text-anchor=\"start\" x=\"180.42\" y=\"-242.28\" font-family=\"Times-Roman\" font-size=\"10.00\" fill=\"#474747\">SP::Ph1::NetworkInjection</text>\n",
       "</a>\n",
       "</g>\n",
       "</g>\n",
       "<!-- Slack&#45;&#45;n2_pf -->\n",
       "<g id=\"edge4\" class=\"edge\">\n",
       "<title>Slack&#45;&#45;n2_pf</title>\n",
       "<path fill=\"none\" stroke=\"black\" d=\"M230.78,-232.22C221.85,-219.45 210.54,-203.28 205.16,-195.59\"/>\n",
       "</g>\n",
       "</g>\n",
       "</svg>\n"
      ],
      "text/plain": [
       "<dpsimpy.SystemTopology at 0x7ffb68c93970>"
      ]
     },
     "execution_count": 10,
     "metadata": {},
     "output_type": "execute_result"
    }
   ],
   "source": [
    "system_pf"
   ]
  },
  {
   "cell_type": "code",
   "execution_count": 11,
   "metadata": {},
   "outputs": [
    {
     "data": {
      "text/plain": [
       "{'Pi_Line_pf': 'SP::Ph1::PiLine',\n",
       " 'Slack': 'SP::Ph1::NetworkInjection',\n",
       " 'gen_pf': 'SP::Ph1::SynchronGenerator',\n",
       " 'n1_pf': 'SimNode<std::complex<double> >',\n",
       " 'n2_pf': 'SimNode<std::complex<double> >'}"
      ]
     },
     "execution_count": 11,
     "metadata": {},
     "output_type": "execute_result"
    }
   ],
   "source": [
    "system_pf.list_idobjects()\n",
    "\n"
   ]
  },
  {
   "cell_type": "code",
   "execution_count": 12,
   "metadata": {},
   "outputs": [
    {
     "name": "stdout",
     "output_type": "stream",
     "text": [
      "SP::Ph1::PiLine\n",
      "<class 'str'>\n"
     ]
    }
   ],
   "source": [
    "print(system_pf.list_idobjects()['Pi_Line_pf'])\n",
    "print(type(system_pf.list_idobjects()['Pi_Line_pf']))"
   ]
  },
  {
   "cell_type": "code",
   "execution_count": 13,
   "metadata": {},
   "outputs": [
    {
     "data": {
      "text/plain": [
       "[<dpsimpy.sp.ph1.SynchronGenerator at 0x7ffbe0221db0>,\n",
       " <dpsimpy.sp.ph1.PiLine at 0x7ffb687730b0>,\n",
       " <dpsimpy.sp.ph1.NetworkInjection at 0x7ffb6a1017f0>]"
      ]
     },
     "execution_count": 13,
     "metadata": {},
     "output_type": "execute_result"
    }
   ],
   "source": [
    "system_pf.components"
   ]
  },
  {
   "cell_type": "code",
   "execution_count": 14,
   "metadata": {},
   "outputs": [
    {
     "name": "stdout",
     "output_type": "stream",
     "text": [
      "Attribute list for object with name gen_pf:\n",
      "name                          type                size           value                         \n",
      "-----------------------------------------------------------------------------------------------\n",
      "P_set                         Real                               300000000.000000              \n",
      "P_set_pu                      Real                               0.300000                      \n",
      "Q_set                         Real                               43411881.878627               \n",
      "Q_set_pu                      Real                               0.043412                      \n",
      "V_set                         Real                               25200.000000                  \n",
      "V_set_pu                      Real                               1.050000                      \n",
      "base_Voltage                  Real                               24000.000000                  \n",
      "i_intf                        MatrixComplex       1x1            [...]                         \n",
      "name                          String                             \"gen_pf\"                      \n",
      "uid                           String                             \"gen_pf\"                      \n",
      "v_intf                        MatrixComplex       1x1            [...]                         \n",
      "\n"
     ]
    }
   ],
   "source": [
    "print(system_pf.components[0])"
   ]
  },
  {
   "cell_type": "code",
   "execution_count": 15,
   "metadata": {},
   "outputs": [
    {
     "data": {
      "text/plain": [
       "0.073152"
      ]
     },
     "execution_count": 15,
     "metadata": {},
     "output_type": "execute_result"
    }
   ],
   "source": [
    "system_pf.components[1].attr(\"R_series\")"
   ]
  },
  {
   "cell_type": "code",
   "execution_count": 16,
   "metadata": {},
   "outputs": [
    {
     "data": {
      "text/plain": [
       "0.073152"
      ]
     },
     "execution_count": 16,
     "metadata": {},
     "output_type": "execute_result"
    }
   ],
   "source": [
    "sim_pf.get_idobj_attr('Pi_Line_pf', 'R_series')"
   ]
  },
  {
   "cell_type": "code",
   "execution_count": 17,
   "metadata": {},
   "outputs": [
    {
     "name": "stdout",
     "output_type": "stream",
     "text": [
      "Attribute list for object with name n1_pf:\n",
      "name                          type                size           value                         \n",
      "-----------------------------------------------------------------------------------------------\n",
      "name                          String                             \"n1_pf\"                       \n",
      "s                             MatrixComplex       1x1            [...]                         \n",
      "uid                           String                             \"n1_pf\"                       \n",
      "v                             MatrixComplex       1x1            [...]                         \n",
      "voltage_init                  MatrixComplex       1x1            [...]                         \n",
      "\n"
     ]
    }
   ],
   "source": [
    "# sim_pf.get_idobj_attr(comp_name, 'P').get() * w_mw\n",
    "print(system_pf.nodes[0])"
   ]
  },
  {
   "cell_type": "code",
   "execution_count": 18,
   "metadata": {},
   "outputs": [
    {
     "name": "stdout",
     "output_type": "stream",
     "text": [
      "Attribute list for object with name Name:\n",
      "name                          type                size           value                         \n",
      "-----------------------------------------------------------------------------------------------\n",
      "L                             Real                               0.000000                      \n",
      "R                             Real                               0.000000                      \n",
      "S                             Real                               0.000000                      \n",
      "base_Voltage                  Real                               0.000000                      \n",
      "current_vector                MatrixComplex       2x1            [...]                         \n",
      "i_intf                        MatrixComplex       1x1            [...]                         \n",
      "name                          String                             \"Name\"                        \n",
      "nominal_voltage_end1          Real                               0.000000                      \n",
      "nominal_voltage_end2          Real                               0.000000                      \n",
      "p_branch_vector               MatrixReal          2x1            [...]                         \n",
      "p_inj                         Real                               0.000000                      \n",
      "q_branch_vector               MatrixReal          2x1            [...]                         \n",
      "q_inj                         Real                               0.000000                      \n",
      "ratio                         Complex                            0.000000<0.000000             \n",
      "right_vector                  MatrixReal          0x0            [...]                         \n",
      "uid                           String                             \"Name\"                        \n",
      "v_intf                        MatrixComplex       1x1            [...]                         \n",
      "\n"
     ]
    }
   ],
   "source": [
    "system_pf.components_at_node\n",
    "T = dpsimpy.sp.ph1.Transformer(\"Name\")\n",
    "print(T)"
   ]
  },
  {
   "cell_type": "code",
   "execution_count": 19,
   "metadata": {},
   "outputs": [
    {
     "name": "stdout",
     "output_type": "stream",
     "text": [
      "{'Pi_Line_pf': 'SP::Ph1::PiLine', 'Slack': 'SP::Ph1::NetworkInjection', 'gen_pf': 'SP::Ph1::SynchronGenerator', 'n1_pf': 'SimNode<std::complex<double> >', 'n2_pf': 'SimNode<std::complex<double> >'}\n",
      "[24385.9808784+6353.2618865j]\n"
     ]
    },
    {
     "data": {
      "text/plain": [
       "0.7853981633974483"
      ]
     },
     "execution_count": 19,
     "metadata": {},
     "output_type": "execute_result"
    }
   ],
   "source": [
    "print(system_pf.list_idobjects())\n",
    "cv = sim_pf.get_idobj_attr(n1_pf.name(), 'v').get()[0]\n",
    "import numpy as np\n",
    "print(cv)\n",
    "np.linalg.norm(cv)\n",
    "type(cv)\n",
    "cmath.phase(cv)\n",
    "cmath.phase(complex(1,1))\n"
   ]
  },
  {
   "cell_type": "code",
   "execution_count": 20,
   "metadata": {},
   "outputs": [
    {
     "data": {
      "text/plain": [
       "(-6959.57,-331.44)\n",
       " (6901.95,770.362)"
      ]
     },
     "execution_count": 20,
     "metadata": {},
     "output_type": "execute_result"
    }
   ],
   "source": [
    "system_pf.components[1].attr(\"current_vector\")"
   ]
  },
  {
   "cell_type": "markdown",
   "metadata": {},
   "source": [
    "### Validation DPSim to CIM\n"
   ]
  },
  {
   "cell_type": "code",
   "execution_count": 21,
   "metadata": {},
   "outputs": [
    {
     "data": {
      "image/svg+xml": [
       "<?xml version=\"1.0\" encoding=\"UTF-8\" standalone=\"no\"?>\n",
       "<!DOCTYPE svg PUBLIC \"-//W3C//DTD SVG 1.1//EN\"\n",
       " \"http://www.w3.org/Graphics/SVG/1.1/DTD/svg11.dtd\">\n",
       "<!-- Generated by graphviz version 2.44.0 (0)\n",
       " -->\n",
       "<!-- Title: topology Pages: 1 -->\n",
       "<svg width=\"322pt\" height=\"276pt\"\n",
       " viewBox=\"0.00 0.00 322.42 276.28\" xmlns=\"http://www.w3.org/2000/svg\" xmlns:xlink=\"http://www.w3.org/1999/xlink\">\n",
       "<g id=\"graph0\" class=\"graph\" transform=\"scale(1 1) rotate(0) translate(4 272.28)\">\n",
       "<title>topology</title>\n",
       "<polygon fill=\"white\" stroke=\"transparent\" points=\"-4,4 -4,-272.28 318.42,-272.28 318.42,4 -4,4\"/>\n",
       "<!-- n1_pf -->\n",
       "<g id=\"node1\" class=\"node\">\n",
       "<title>n1_pf</title>\n",
       "<g id=\"a_node1\"><a xlink:title=\"n1_pf\">\n",
       "<ellipse fill=\"red\" stroke=\"black\" cx=\"105.83\" cy=\"-83.9\" rx=\"5.4\" ry=\"5.4\"/>\n",
       "</a>\n",
       "</g>\n",
       "<text text-anchor=\"start\" x=\"63.43\" y=\"-93.7\" font-family=\"Times-Roman\" font-weight=\"bold\" font-size=\"12.00\">n1_pf</text>\n",
       "</g>\n",
       "<!-- n2_pf -->\n",
       "<g id=\"node2\" class=\"node\">\n",
       "<title>n2_pf</title>\n",
       "<g id=\"a_node2\"><a xlink:title=\"n2_pf\">\n",
       "<ellipse fill=\"red\" stroke=\"black\" cx=\"202.05\" cy=\"-191.14\" rx=\"5.4\" ry=\"5.4\"/>\n",
       "</a>\n",
       "</g>\n",
       "<text text-anchor=\"start\" x=\"159.65\" y=\"-200.94\" font-family=\"Times-Roman\" font-weight=\"bold\" font-size=\"12.00\">n2_pf</text>\n",
       "</g>\n",
       "<!-- gen_pf -->\n",
       "<g id=\"node3\" class=\"node\">\n",
       "<title>gen_pf</title>\n",
       "<g id=\"a_node3\"><a xlink:title=\"Attributes:&#10;P_set: 300000000.000000&#10;P_set_pu: 0.000000&#10;Q_set: 43411881.878627&#10;Q_set_pu: 0.000000&#10;V_set: 25200.000000&#10;V_set_pu: 0.000000&#10;base_Voltage: 24000.000000&#10;i_intf: (0,0)&#10;name: gen_pf&#10;uid: gen_pf&#10;v_intf: (0,0)\">\n",
       "<path fill=\"#ededed\" stroke=\"black\" stroke-width=\"2\" d=\"M140,-36C140,-36 12,-36 12,-36 6,-36 0,-30 0,-24 0,-24 0,-12 0,-12 0,-6 6,0 12,0 12,0 140,0 140,0 146,0 152,-6 152,-12 152,-12 152,-24 152,-24 152,-30 146,-36 140,-36\"/>\n",
       "<text text-anchor=\"start\" x=\"53.5\" y=\"-20.4\" font-family=\"Times-Roman\" font-weight=\"bold\" font-size=\"12.00\">gen_pf</text>\n",
       "<text text-anchor=\"start\" x=\"8\" y=\"-10\" font-family=\"Times-Roman\" font-size=\"10.00\" fill=\"#474747\">SP::Ph1::SynchronGenerator</text>\n",
       "</a>\n",
       "</g>\n",
       "</g>\n",
       "<!-- gen_pf&#45;&#45;n1_pf -->\n",
       "<g id=\"edge1\" class=\"edge\">\n",
       "<title>gen_pf&#45;&#45;n1_pf</title>\n",
       "<path fill=\"none\" stroke=\"black\" d=\"M84.15,-36.01C90.71,-50.49 99.48,-69.86 103.56,-78.88\"/>\n",
       "</g>\n",
       "<!-- Pi_Line_pf -->\n",
       "<g id=\"node4\" class=\"node\">\n",
       "<title>Pi_Line_pf</title>\n",
       "<g id=\"a_node4\"><a xlink:title=\"Attributes:&#10;C_parallel: 0.000083&#10;G_parallel: 0.000001&#10;L_series: 0.001383&#10;R_series: 0.073152&#10;base_Voltage: 24000.000000&#10;current_vector: (0,0)&#10;(0,0)&#10;i_intf: (0,0)&#10;name: Pi_Line_pf&#10;p_branch_vector: 0&#10;0&#10;p_inj: 0.000000&#10;q_branch_vector: 0&#10;0&#10;q_inj: 0.000000&#10;right_vector: &#10;uid: Pi_Line_pf&#10;v_intf: (0,0)\">\n",
       "<path fill=\"transparent\" stroke=\"transparent\" stroke-width=\"2\" d=\"M181.11,-159.85C181.11,-159.85 117.11,-159.85 117.11,-159.85 111.11,-159.85 105.11,-153.85 105.11,-147.85 105.11,-147.85 105.11,-135.85 105.11,-135.85 105.11,-129.85 111.11,-123.85 117.11,-123.85 117.11,-123.85 181.11,-123.85 181.11,-123.85 187.11,-123.85 193.11,-129.85 193.11,-135.85 193.11,-135.85 193.11,-147.85 193.11,-147.85 193.11,-153.85 187.11,-159.85 181.11,-159.85\"/>\n",
       "<text text-anchor=\"start\" x=\"115.61\" y=\"-144.25\" font-family=\"Times-Roman\" font-weight=\"bold\" font-size=\"12.00\">Pi_Line_pf</text>\n",
       "<text text-anchor=\"start\" x=\"113.11\" y=\"-133.85\" font-family=\"Times-Roman\" font-size=\"10.00\" fill=\"#474747\">SP::Ph1::PiLine</text>\n",
       "</a>\n",
       "</g>\n",
       "</g>\n",
       "<!-- Pi_Line_pf&#45;&#45;n1_pf -->\n",
       "<g id=\"edge2\" class=\"edge\">\n",
       "<title>Pi_Line_pf&#45;&#45;n1_pf</title>\n",
       "<path fill=\"none\" stroke=\"black\" d=\"M135.65,-123.83C126.52,-111.61 115.11,-96.33 109.42,-88.7\"/>\n",
       "</g>\n",
       "<!-- Pi_Line_pf&#45;&#45;n2_pf -->\n",
       "<g id=\"edge3\" class=\"edge\">\n",
       "<title>Pi_Line_pf&#45;&#45;n2_pf</title>\n",
       "<path fill=\"none\" stroke=\"black\" d=\"M168.52,-159.92C179.14,-169.82 191.4,-181.23 197.74,-187.14\"/>\n",
       "</g>\n",
       "<!-- Injection 1 -->\n",
       "<g id=\"node5\" class=\"node\">\n",
       "<title>Injection 1</title>\n",
       "<g id=\"a_node5\"><a xlink:title=\"Attributes:&#10;V_ref: 0+0i&#10;V_set: 24000.000000&#10;V_set_pu: 1.000000&#10;f_src: 0.000000&#10;i_intf: (0,0)&#10;name: Injection 1&#10;p_inj: 0.000000&#10;q_inj: 0.000000&#10;right_vector: &#10;uid: Injection 1&#10;v_intf: (0,0)\">\n",
       "<path fill=\"#ededed\" stroke=\"black\" stroke-width=\"2\" d=\"M302.42,-268.28C302.42,-268.28 184.42,-268.28 184.42,-268.28 178.42,-268.28 172.42,-262.28 172.42,-256.28 172.42,-256.28 172.42,-244.28 172.42,-244.28 172.42,-238.28 178.42,-232.28 184.42,-232.28 184.42,-232.28 302.42,-232.28 302.42,-232.28 308.42,-232.28 314.42,-238.28 314.42,-244.28 314.42,-244.28 314.42,-256.28 314.42,-256.28 314.42,-262.28 308.42,-268.28 302.42,-268.28\"/>\n",
       "<text text-anchor=\"start\" x=\"207.92\" y=\"-252.68\" font-family=\"Times-Roman\" font-weight=\"bold\" font-size=\"12.00\">Injection 1</text>\n",
       "<text text-anchor=\"start\" x=\"180.42\" y=\"-242.28\" font-family=\"Times-Roman\" font-size=\"10.00\" fill=\"#474747\">SP::Ph1::NetworkInjection</text>\n",
       "</a>\n",
       "</g>\n",
       "</g>\n",
       "<!-- Injection 1&#45;&#45;n2_pf -->\n",
       "<g id=\"edge4\" class=\"edge\">\n",
       "<title>Injection 1&#45;&#45;n2_pf</title>\n",
       "<path fill=\"none\" stroke=\"black\" d=\"M230.78,-232.22C221.85,-219.45 210.54,-203.28 205.16,-195.59\"/>\n",
       "</g>\n",
       "</g>\n",
       "</svg>\n"
      ],
      "text/plain": [
       "<dpsimpy.SystemTopology at 0x7ffb65444ab0>"
      ]
     },
     "execution_count": 21,
     "metadata": {},
     "output_type": "execute_result"
    }
   ],
   "source": [
    "from cimpy import DPsimToCIMpy              ## Für Martin\n",
    "from cimpy import CIMpyToDPsim\n",
    "from cimpy.CIMpyToDPsim import Domain\n",
    "\n",
    "network2test = DPsimToCIMpy.DPsimToCIMpy(system_pf, sim_pf)\n",
    "net, K = CIMpyToDPsim.CIMpyToDPsim(network2test, Domain.PF)\n",
    "net\n"
   ]
  },
  {
   "cell_type": "code",
   "execution_count": 22,
   "metadata": {},
   "outputs": [
    {
     "data": {
      "image/svg+xml": [
       "<?xml version=\"1.0\" encoding=\"UTF-8\" standalone=\"no\"?>\n",
       "<!DOCTYPE svg PUBLIC \"-//W3C//DTD SVG 1.1//EN\"\n",
       " \"http://www.w3.org/Graphics/SVG/1.1/DTD/svg11.dtd\">\n",
       "<!-- Generated by graphviz version 2.44.0 (0)\n",
       " -->\n",
       "<!-- Title: topology Pages: 1 -->\n",
       "<svg width=\"322pt\" height=\"276pt\"\n",
       " viewBox=\"0.00 0.00 322.42 276.28\" xmlns=\"http://www.w3.org/2000/svg\" xmlns:xlink=\"http://www.w3.org/1999/xlink\">\n",
       "<g id=\"graph0\" class=\"graph\" transform=\"scale(1 1) rotate(0) translate(4 272.28)\">\n",
       "<title>topology</title>\n",
       "<polygon fill=\"white\" stroke=\"transparent\" points=\"-4,4 -4,-272.28 318.42,-272.28 318.42,4 -4,4\"/>\n",
       "<!-- n1_pf -->\n",
       "<g id=\"node1\" class=\"node\">\n",
       "<title>n1_pf</title>\n",
       "<g id=\"a_node1\"><a xlink:title=\"n1_pf\">\n",
       "<ellipse fill=\"red\" stroke=\"black\" cx=\"105.83\" cy=\"-83.9\" rx=\"5.4\" ry=\"5.4\"/>\n",
       "</a>\n",
       "</g>\n",
       "<text text-anchor=\"start\" x=\"63.43\" y=\"-93.7\" font-family=\"Times-Roman\" font-weight=\"bold\" font-size=\"12.00\">n1_pf</text>\n",
       "</g>\n",
       "<!-- n2_pf -->\n",
       "<g id=\"node2\" class=\"node\">\n",
       "<title>n2_pf</title>\n",
       "<g id=\"a_node2\"><a xlink:title=\"n2_pf\">\n",
       "<ellipse fill=\"red\" stroke=\"black\" cx=\"202.05\" cy=\"-191.14\" rx=\"5.4\" ry=\"5.4\"/>\n",
       "</a>\n",
       "</g>\n",
       "<text text-anchor=\"start\" x=\"159.65\" y=\"-200.94\" font-family=\"Times-Roman\" font-weight=\"bold\" font-size=\"12.00\">n2_pf</text>\n",
       "</g>\n",
       "<!-- gen_pf -->\n",
       "<g id=\"node3\" class=\"node\">\n",
       "<title>gen_pf</title>\n",
       "<g id=\"a_node3\"><a xlink:title=\"Attributes:&#10;P_set: 300000000.000000&#10;P_set_pu: 0.300000&#10;Q_set: 43411881.878627&#10;Q_set_pu: 0.043412&#10;V_set: 25200.000000&#10;V_set_pu: 1.050000&#10;base_Voltage: 24000.000000&#10;i_intf: (0,0)&#10;name: gen_pf&#10;uid: gen_pf&#10;v_intf: (0,0)\">\n",
       "<path fill=\"#ededed\" stroke=\"black\" stroke-width=\"2\" d=\"M140,-36C140,-36 12,-36 12,-36 6,-36 0,-30 0,-24 0,-24 0,-12 0,-12 0,-6 6,0 12,0 12,0 140,0 140,0 146,0 152,-6 152,-12 152,-12 152,-24 152,-24 152,-30 146,-36 140,-36\"/>\n",
       "<text text-anchor=\"start\" x=\"53.5\" y=\"-20.4\" font-family=\"Times-Roman\" font-weight=\"bold\" font-size=\"12.00\">gen_pf</text>\n",
       "<text text-anchor=\"start\" x=\"8\" y=\"-10\" font-family=\"Times-Roman\" font-size=\"10.00\" fill=\"#474747\">SP::Ph1::SynchronGenerator</text>\n",
       "</a>\n",
       "</g>\n",
       "</g>\n",
       "<!-- gen_pf&#45;&#45;n1_pf -->\n",
       "<g id=\"edge1\" class=\"edge\">\n",
       "<title>gen_pf&#45;&#45;n1_pf</title>\n",
       "<path fill=\"none\" stroke=\"black\" d=\"M84.15,-36.01C90.71,-50.49 99.48,-69.86 103.56,-78.88\"/>\n",
       "</g>\n",
       "<!-- Pi_Line_pf -->\n",
       "<g id=\"node4\" class=\"node\">\n",
       "<title>Pi_Line_pf</title>\n",
       "<g id=\"a_node4\"><a xlink:title=\"Attributes:&#10;C_parallel: 0.000083&#10;G_parallel: 0.000001&#10;L_series: 0.001383&#10;R_series: 0.073152&#10;base_Voltage: 24000.000000&#10;current_vector: (&#45;6959.57,&#45;331.44)&#10; (6901.95,770.362)&#10;i_intf: (0,0)&#10;name: Pi_Line_pf&#10;p_branch_vector: &#45;2.89304e+08&#10; &#160;&#160;&#160;&#160;&#160;&#160;3e+08&#10;p_inj: &#45;289303719.546237&#10;q_branch_vector: 1.37777e+07&#10;4.34119e+07&#10;q_inj: 13777704.263525&#10;right_vector: &#10;uid: Pi_Line_pf&#10;v_intf: (0,0)\">\n",
       "<path fill=\"transparent\" stroke=\"transparent\" stroke-width=\"2\" d=\"M181.11,-159.85C181.11,-159.85 117.11,-159.85 117.11,-159.85 111.11,-159.85 105.11,-153.85 105.11,-147.85 105.11,-147.85 105.11,-135.85 105.11,-135.85 105.11,-129.85 111.11,-123.85 117.11,-123.85 117.11,-123.85 181.11,-123.85 181.11,-123.85 187.11,-123.85 193.11,-129.85 193.11,-135.85 193.11,-135.85 193.11,-147.85 193.11,-147.85 193.11,-153.85 187.11,-159.85 181.11,-159.85\"/>\n",
       "<text text-anchor=\"start\" x=\"115.61\" y=\"-144.25\" font-family=\"Times-Roman\" font-weight=\"bold\" font-size=\"12.00\">Pi_Line_pf</text>\n",
       "<text text-anchor=\"start\" x=\"113.11\" y=\"-133.85\" font-family=\"Times-Roman\" font-size=\"10.00\" fill=\"#474747\">SP::Ph1::PiLine</text>\n",
       "</a>\n",
       "</g>\n",
       "</g>\n",
       "<!-- Pi_Line_pf&#45;&#45;n1_pf -->\n",
       "<g id=\"edge3\" class=\"edge\">\n",
       "<title>Pi_Line_pf&#45;&#45;n1_pf</title>\n",
       "<path fill=\"none\" stroke=\"black\" d=\"M135.65,-123.83C126.52,-111.61 115.11,-96.33 109.42,-88.7\"/>\n",
       "</g>\n",
       "<!-- Pi_Line_pf&#45;&#45;n2_pf -->\n",
       "<g id=\"edge2\" class=\"edge\">\n",
       "<title>Pi_Line_pf&#45;&#45;n2_pf</title>\n",
       "<path fill=\"none\" stroke=\"black\" d=\"M168.52,-159.92C179.14,-169.82 191.4,-181.23 197.74,-187.14\"/>\n",
       "</g>\n",
       "<!-- Slack -->\n",
       "<g id=\"node5\" class=\"node\">\n",
       "<title>Slack</title>\n",
       "<g id=\"a_node5\"><a xlink:title=\"Attributes:&#10;V_ref: 0+0i&#10;V_set: 24000.000000&#10;V_set_pu: 1.000000&#10;f_src: 0.000000&#10;i_intf: (0,0)&#10;name: Slack&#10;p_inj: &#45;289303719.546237&#10;q_inj: 13777704.263525&#10;right_vector: &#10;uid: Slack&#10;v_intf: (0,0)\">\n",
       "<path fill=\"#ededed\" stroke=\"black\" stroke-width=\"2\" d=\"M302.42,-268.28C302.42,-268.28 184.42,-268.28 184.42,-268.28 178.42,-268.28 172.42,-262.28 172.42,-256.28 172.42,-256.28 172.42,-244.28 172.42,-244.28 172.42,-238.28 178.42,-232.28 184.42,-232.28 184.42,-232.28 302.42,-232.28 302.42,-232.28 308.42,-232.28 314.42,-238.28 314.42,-244.28 314.42,-244.28 314.42,-256.28 314.42,-256.28 314.42,-262.28 308.42,-268.28 302.42,-268.28\"/>\n",
       "<text text-anchor=\"start\" x=\"224.92\" y=\"-252.68\" font-family=\"Times-Roman\" font-weight=\"bold\" font-size=\"12.00\">Slack</text>\n",
       "<text text-anchor=\"start\" x=\"180.42\" y=\"-242.28\" font-family=\"Times-Roman\" font-size=\"10.00\" fill=\"#474747\">SP::Ph1::NetworkInjection</text>\n",
       "</a>\n",
       "</g>\n",
       "</g>\n",
       "<!-- Slack&#45;&#45;n2_pf -->\n",
       "<g id=\"edge4\" class=\"edge\">\n",
       "<title>Slack&#45;&#45;n2_pf</title>\n",
       "<path fill=\"none\" stroke=\"black\" d=\"M230.78,-232.22C221.85,-219.45 210.54,-203.28 205.16,-195.59\"/>\n",
       "</g>\n",
       "</g>\n",
       "</svg>\n"
      ],
      "text/plain": [
       "<dpsimpy.SystemTopology at 0x7ffb68c93970>"
      ]
     },
     "execution_count": 22,
     "metadata": {},
     "output_type": "execute_result"
    }
   ],
   "source": [
    "system_pf"
   ]
  },
  {
   "cell_type": "markdown",
   "metadata": {},
   "source": []
  },
  {
   "attachments": {},
   "cell_type": "markdown",
   "metadata": {},
   "source": [
    "### DPSim to CIMpy"
   ]
  },
  {
   "cell_type": "code",
   "execution_count": 23,
   "metadata": {},
   "outputs": [
    {
     "data": {
      "text/plain": [
       "{'meta_info': {},\n",
       " 'topology': {'n1_pf': <cimpy.cgmes_v2_4_15.TopologicalNode.TopologicalNode at 0x7ffb92e837c0>,\n",
       "  'n1_pf-sv': <cimpy.cgmes_v2_4_15.SvVoltage.SvVoltage at 0x7ffb92e839a0>,\n",
       "  'n2_pf': <cimpy.cgmes_v2_4_15.TopologicalNode.TopologicalNode at 0x7ffb92e83310>,\n",
       "  'n2_pf-sv': <cimpy.cgmes_v2_4_15.SvVoltage.SvVoltage at 0x7ffb92e832b0>,\n",
       "  'Terminal_1_Pi_Line_pf': <cimpy.cgmes_v2_4_15.Terminal.Terminal at 0x7ffb92e83a90>,\n",
       "  'Terminal_2_Pi_Line_pf': <cimpy.cgmes_v2_4_15.Terminal.Terminal at 0x7ffb65003b50>,\n",
       "  'Pi_Line_pf': <cimpy.cgmes_v2_4_15.ACLineSegment.ACLineSegment at 0x7ffb65003b20>,\n",
       "  'Terminal Injection 1': <cimpy.cgmes_v2_4_15.Terminal.Terminal at 0x7ffb92e834c0>,\n",
       "  'Regulating Control 1': <cimpy.cgmes_v2_4_15.RegulatingControl.RegulatingControl at 0x7ffb92e835b0>,\n",
       "  'Injection 1': <cimpy.cgmes_v2_4_15.ExternalNetworkInjection.ExternalNetworkInjection at 0x7ffb650036a0>,\n",
       "  'Terminal_gen_pf': <cimpy.cgmes_v2_4_15.Terminal.Terminal at 0x7ffb65003670>,\n",
       "  'RegulatingControlgen_pf': <cimpy.cgmes_v2_4_15.RegulatingControl.RegulatingControl at 0x7ffb65003640>,\n",
       "  'GeneratingUnit_gen_pf': <cimpy.cgmes_v2_4_15.GeneratingUnit.GeneratingUnit at 0x7ffb65003610>,\n",
       "  'gen_pf': <cimpy.cgmes_v2_4_15.SynchronousMachine.SynchronousMachine at 0x7ffb650035e0>}}"
      ]
     },
     "execution_count": 23,
     "metadata": {},
     "output_type": "execute_result"
    }
   ],
   "source": [
    "network = dict(meta_info={}, topology={})\n",
    "import numpy\n",
    "from cimpy import CIMpyToDPsim\n",
    "from cimpy import utils\n",
    "from cimpy.cgmes_v2_4_15 import BaseVoltage\n",
    "\n",
    "B1 = utils.create_BaseVoltage(24000)\n",
    "\n",
    "network = utils.add_TopologicalNode(network, \"cgmes_v2_4_15\", B1,0,0, \"n1_pf\")\n",
    "network = utils.add_TopologicalNode(network, \"cgmes_v2_4_15\", B1,0,0, \"n2_pf\")\n",
    "\n",
    "# PiLine Parameters\n",
    "name = system_pf.components[1].name()\n",
    "\n",
    "r = float(str(system_pf.components[1].attr(\"R_series\")))\n",
    "x= float(str(system_pf.components[1].attr(\"L_series\"))) * (2*numpy.pi*frequency)\n",
    "bch= float(str(system_pf.components[1].attr(\"C_parallel\"))) * (2*numpy.pi*frequency)\n",
    "gch = float(str(system_pf.components[1].attr(\"G_parallel\")))\n",
    "\n",
    "\n",
    "network = utils.add_ACLineSegment(network, \"cgmes_v2_4_15\", \"n1_pf\", \"n2_pf\", r, x, bch, gch, B1,name)\n",
    "\n",
    "network = utils.add_external_network_injection(network, \"cgmes_v2_4_15\", \"n2_pf\", 1)\n",
    "\n",
    "# Generator Parameters\n",
    "p = float(str(system_pf.components[0].attr(\"P_set\")))\n",
    "q = float(str(system_pf.components[0].attr(\"Q_set\")))\n",
    "\n",
    "ratedS = sqrt(p*p+q*q)\n",
    "ratedU = float(str(system_pf.components[0].attr(\"base_Voltage\")))\n",
    "targetValue = float(str(system_pf.components[0].attr(\"V_set\")))\n",
    "initialP = float(str(system_pf.components[0].attr(\"P_set_pu\")))\n",
    "\n",
    "name = system_pf.components[0].name()\n",
    "network = utils.add_SynchronousMachine(network, \"cgmes_v2_4_15\", \"n1_pf\", p, q, ratedS, ratedU, targetValue, initialP, name)\n",
    "network "
   ]
  },
  {
   "cell_type": "code",
   "execution_count": 24,
   "metadata": {},
   "outputs": [
    {
     "data": {
      "image/svg+xml": [
       "<?xml version=\"1.0\" encoding=\"UTF-8\" standalone=\"no\"?>\n",
       "<!DOCTYPE svg PUBLIC \"-//W3C//DTD SVG 1.1//EN\"\n",
       " \"http://www.w3.org/Graphics/SVG/1.1/DTD/svg11.dtd\">\n",
       "<!-- Generated by graphviz version 2.44.0 (0)\n",
       " -->\n",
       "<!-- Title: topology Pages: 1 -->\n",
       "<svg width=\"322pt\" height=\"276pt\"\n",
       " viewBox=\"0.00 0.00 322.42 276.28\" xmlns=\"http://www.w3.org/2000/svg\" xmlns:xlink=\"http://www.w3.org/1999/xlink\">\n",
       "<g id=\"graph0\" class=\"graph\" transform=\"scale(1 1) rotate(0) translate(4 272.28)\">\n",
       "<title>topology</title>\n",
       "<polygon fill=\"white\" stroke=\"transparent\" points=\"-4,4 -4,-272.28 318.42,-272.28 318.42,4 -4,4\"/>\n",
       "<!-- n1_pf -->\n",
       "<g id=\"node1\" class=\"node\">\n",
       "<title>n1_pf</title>\n",
       "<g id=\"a_node1\"><a xlink:title=\"n1_pf\">\n",
       "<ellipse fill=\"red\" stroke=\"black\" cx=\"105.83\" cy=\"-83.9\" rx=\"5.4\" ry=\"5.4\"/>\n",
       "</a>\n",
       "</g>\n",
       "<text text-anchor=\"start\" x=\"63.43\" y=\"-93.7\" font-family=\"Times-Roman\" font-weight=\"bold\" font-size=\"12.00\">n1_pf</text>\n",
       "</g>\n",
       "<!-- n2_pf -->\n",
       "<g id=\"node2\" class=\"node\">\n",
       "<title>n2_pf</title>\n",
       "<g id=\"a_node2\"><a xlink:title=\"n2_pf\">\n",
       "<ellipse fill=\"red\" stroke=\"black\" cx=\"202.05\" cy=\"-191.14\" rx=\"5.4\" ry=\"5.4\"/>\n",
       "</a>\n",
       "</g>\n",
       "<text text-anchor=\"start\" x=\"159.65\" y=\"-200.94\" font-family=\"Times-Roman\" font-weight=\"bold\" font-size=\"12.00\">n2_pf</text>\n",
       "</g>\n",
       "<!-- gen_pf -->\n",
       "<g id=\"node3\" class=\"node\">\n",
       "<title>gen_pf</title>\n",
       "<g id=\"a_node3\"><a xlink:title=\"Attributes:&#10;P_set: 300000000.000000&#10;P_set_pu: 0.300000&#10;Q_set: 43411881.878627&#10;Q_set_pu: 0.043412&#10;V_set: 25200.000000&#10;V_set_pu: 1.050000&#10;base_Voltage: 24000.000000&#10;i_intf: (0,0)&#10;name: gen_pf&#10;uid: gen_pf&#10;v_intf: (0,0)\">\n",
       "<path fill=\"#ededed\" stroke=\"black\" stroke-width=\"2\" d=\"M140,-36C140,-36 12,-36 12,-36 6,-36 0,-30 0,-24 0,-24 0,-12 0,-12 0,-6 6,0 12,0 12,0 140,0 140,0 146,0 152,-6 152,-12 152,-12 152,-24 152,-24 152,-30 146,-36 140,-36\"/>\n",
       "<text text-anchor=\"start\" x=\"53.5\" y=\"-20.4\" font-family=\"Times-Roman\" font-weight=\"bold\" font-size=\"12.00\">gen_pf</text>\n",
       "<text text-anchor=\"start\" x=\"8\" y=\"-10\" font-family=\"Times-Roman\" font-size=\"10.00\" fill=\"#474747\">SP::Ph1::SynchronGenerator</text>\n",
       "</a>\n",
       "</g>\n",
       "</g>\n",
       "<!-- gen_pf&#45;&#45;n1_pf -->\n",
       "<g id=\"edge1\" class=\"edge\">\n",
       "<title>gen_pf&#45;&#45;n1_pf</title>\n",
       "<path fill=\"none\" stroke=\"black\" d=\"M84.15,-36.01C90.71,-50.49 99.48,-69.86 103.56,-78.88\"/>\n",
       "</g>\n",
       "<!-- Pi_Line_pf -->\n",
       "<g id=\"node4\" class=\"node\">\n",
       "<title>Pi_Line_pf</title>\n",
       "<g id=\"a_node4\"><a xlink:title=\"Attributes:&#10;C_parallel: 0.000083&#10;G_parallel: 0.000001&#10;L_series: 0.001383&#10;R_series: 0.073152&#10;base_Voltage: 24000.000000&#10;current_vector: (&#45;6959.57,&#45;331.44)&#10; (6901.95,770.362)&#10;i_intf: (0,0)&#10;name: Pi_Line_pf&#10;p_branch_vector: &#45;2.89304e+08&#10; &#160;&#160;&#160;&#160;&#160;&#160;3e+08&#10;p_inj: &#45;289303719.546237&#10;q_branch_vector: 1.37777e+07&#10;4.34119e+07&#10;q_inj: 13777704.263525&#10;right_vector: &#10;uid: Pi_Line_pf&#10;v_intf: (0,0)\">\n",
       "<path fill=\"transparent\" stroke=\"transparent\" stroke-width=\"2\" d=\"M181.11,-159.85C181.11,-159.85 117.11,-159.85 117.11,-159.85 111.11,-159.85 105.11,-153.85 105.11,-147.85 105.11,-147.85 105.11,-135.85 105.11,-135.85 105.11,-129.85 111.11,-123.85 117.11,-123.85 117.11,-123.85 181.11,-123.85 181.11,-123.85 187.11,-123.85 193.11,-129.85 193.11,-135.85 193.11,-135.85 193.11,-147.85 193.11,-147.85 193.11,-153.85 187.11,-159.85 181.11,-159.85\"/>\n",
       "<text text-anchor=\"start\" x=\"115.61\" y=\"-144.25\" font-family=\"Times-Roman\" font-weight=\"bold\" font-size=\"12.00\">Pi_Line_pf</text>\n",
       "<text text-anchor=\"start\" x=\"113.11\" y=\"-133.85\" font-family=\"Times-Roman\" font-size=\"10.00\" fill=\"#474747\">SP::Ph1::PiLine</text>\n",
       "</a>\n",
       "</g>\n",
       "</g>\n",
       "<!-- Pi_Line_pf&#45;&#45;n1_pf -->\n",
       "<g id=\"edge3\" class=\"edge\">\n",
       "<title>Pi_Line_pf&#45;&#45;n1_pf</title>\n",
       "<path fill=\"none\" stroke=\"black\" d=\"M135.65,-123.83C126.52,-111.61 115.11,-96.33 109.42,-88.7\"/>\n",
       "</g>\n",
       "<!-- Pi_Line_pf&#45;&#45;n2_pf -->\n",
       "<g id=\"edge2\" class=\"edge\">\n",
       "<title>Pi_Line_pf&#45;&#45;n2_pf</title>\n",
       "<path fill=\"none\" stroke=\"black\" d=\"M168.52,-159.92C179.14,-169.82 191.4,-181.23 197.74,-187.14\"/>\n",
       "</g>\n",
       "<!-- Slack -->\n",
       "<g id=\"node5\" class=\"node\">\n",
       "<title>Slack</title>\n",
       "<g id=\"a_node5\"><a xlink:title=\"Attributes:&#10;V_ref: 0+0i&#10;V_set: 24000.000000&#10;V_set_pu: 1.000000&#10;f_src: 0.000000&#10;i_intf: (0,0)&#10;name: Slack&#10;p_inj: &#45;289303719.546237&#10;q_inj: 13777704.263525&#10;right_vector: &#10;uid: Slack&#10;v_intf: (0,0)\">\n",
       "<path fill=\"#ededed\" stroke=\"black\" stroke-width=\"2\" d=\"M302.42,-268.28C302.42,-268.28 184.42,-268.28 184.42,-268.28 178.42,-268.28 172.42,-262.28 172.42,-256.28 172.42,-256.28 172.42,-244.28 172.42,-244.28 172.42,-238.28 178.42,-232.28 184.42,-232.28 184.42,-232.28 302.42,-232.28 302.42,-232.28 308.42,-232.28 314.42,-238.28 314.42,-244.28 314.42,-244.28 314.42,-256.28 314.42,-256.28 314.42,-262.28 308.42,-268.28 302.42,-268.28\"/>\n",
       "<text text-anchor=\"start\" x=\"224.92\" y=\"-252.68\" font-family=\"Times-Roman\" font-weight=\"bold\" font-size=\"12.00\">Slack</text>\n",
       "<text text-anchor=\"start\" x=\"180.42\" y=\"-242.28\" font-family=\"Times-Roman\" font-size=\"10.00\" fill=\"#474747\">SP::Ph1::NetworkInjection</text>\n",
       "</a>\n",
       "</g>\n",
       "</g>\n",
       "<!-- Slack&#45;&#45;n2_pf -->\n",
       "<g id=\"edge4\" class=\"edge\">\n",
       "<title>Slack&#45;&#45;n2_pf</title>\n",
       "<path fill=\"none\" stroke=\"black\" d=\"M230.78,-232.22C221.85,-219.45 210.54,-203.28 205.16,-195.59\"/>\n",
       "</g>\n",
       "</g>\n",
       "</svg>\n"
      ],
      "text/plain": [
       "<dpsimpy.SystemTopology at 0x7ffb68c93970>"
      ]
     },
     "execution_count": 24,
     "metadata": {},
     "output_type": "execute_result"
    }
   ],
   "source": [
    "system_pf"
   ]
  },
  {
   "cell_type": "code",
   "execution_count": 25,
   "metadata": {},
   "outputs": [
    {
     "name": "stderr",
     "output_type": "stream",
     "text": [
      "Warning: some nodes with margin (3.20,3.20) touch - falling back to straight line edges\n"
     ]
    },
    {
     "data": {
      "image/svg+xml": [
       "<?xml version=\"1.0\" encoding=\"UTF-8\" standalone=\"no\"?>\n",
       "<!DOCTYPE svg PUBLIC \"-//W3C//DTD SVG 1.1//EN\"\n",
       " \"http://www.w3.org/Graphics/SVG/1.1/DTD/svg11.dtd\">\n",
       "<!-- Generated by graphviz version 2.44.0 (0)\n",
       " -->\n",
       "<!-- Title: topology Pages: 1 -->\n",
       "<svg width=\"435pt\" height=\"99pt\"\n",
       " viewBox=\"0.00 0.00 434.93 99.25\" xmlns=\"http://www.w3.org/2000/svg\" xmlns:xlink=\"http://www.w3.org/1999/xlink\">\n",
       "<g id=\"graph0\" class=\"graph\" transform=\"scale(1 1) rotate(0) translate(4 95.25)\">\n",
       "<title>topology</title>\n",
       "<polygon fill=\"white\" stroke=\"transparent\" points=\"-4,4 -4,-95.25 430.93,-95.25 430.93,4 -4,4\"/>\n",
       "<!-- n1_pf -->\n",
       "<g id=\"node1\" class=\"node\">\n",
       "<title>n1_pf</title>\n",
       "<g id=\"a_node1\"><a xlink:title=\"n1_pf\">\n",
       "<ellipse fill=\"red\" stroke=\"black\" cx=\"148.09\" cy=\"-18.4\" rx=\"5.4\" ry=\"5.4\"/>\n",
       "</a>\n",
       "</g>\n",
       "<text text-anchor=\"start\" x=\"153.49\" y=\"-4.4\" font-family=\"Times-Roman\" font-weight=\"bold\" font-size=\"12.00\">n1_pf</text>\n",
       "</g>\n",
       "<!-- n2_pf -->\n",
       "<g id=\"node2\" class=\"node\">\n",
       "<title>n2_pf</title>\n",
       "<g id=\"a_node2\"><a xlink:title=\"n2_pf\">\n",
       "<ellipse fill=\"red\" stroke=\"black\" cx=\"290.08\" cy=\"-43.45\" rx=\"5.4\" ry=\"5.4\"/>\n",
       "</a>\n",
       "</g>\n",
       "<text text-anchor=\"start\" x=\"247.68\" y=\"-53.25\" font-family=\"Times-Roman\" font-weight=\"bold\" font-size=\"12.00\">n2_pf</text>\n",
       "</g>\n",
       "<!-- Pi_Line_pf -->\n",
       "<g id=\"node3\" class=\"node\">\n",
       "<title>Pi_Line_pf</title>\n",
       "<g id=\"a_node3\"><a xlink:title=\"Attributes:&#10;C_parallel: 0.000083&#10;G_parallel: 0.000001&#10;L_series: 0.001383&#10;R_series: 0.073152&#10;base_Voltage: 24000.000000&#10;current_vector: (0,0)&#10;(0,0)&#10;i_intf: (0,0)&#10;name: Pi_Line_pf&#10;p_branch_vector: 0&#10;0&#10;p_inj: 0.000000&#10;q_branch_vector: 0&#10;0&#10;q_inj: 0.000000&#10;right_vector: &#10;uid: Pi_Line_pf&#10;v_intf: (0,0)\">\n",
       "<path fill=\"transparent\" stroke=\"transparent\" stroke-width=\"2\" d=\"M252.13,-43.01C252.13,-43.01 188.13,-43.01 188.13,-43.01 182.13,-43.01 176.13,-37.01 176.13,-31.01 176.13,-31.01 176.13,-19.01 176.13,-19.01 176.13,-13.01 182.13,-7.01 188.13,-7.01 188.13,-7.01 252.13,-7.01 252.13,-7.01 258.13,-7.01 264.13,-13.01 264.13,-19.01 264.13,-19.01 264.13,-31.01 264.13,-31.01 264.13,-37.01 258.13,-43.01 252.13,-43.01\"/>\n",
       "<text text-anchor=\"start\" x=\"186.63\" y=\"-27.41\" font-family=\"Times-Roman\" font-weight=\"bold\" font-size=\"12.00\">Pi_Line_pf</text>\n",
       "<text text-anchor=\"start\" x=\"184.13\" y=\"-17.01\" font-family=\"Times-Roman\" font-size=\"10.00\" fill=\"#474747\">SP::Ph1::PiLine</text>\n",
       "</a>\n",
       "</g>\n",
       "</g>\n",
       "<!-- Pi_Line_pf&#45;&#45;n1_pf -->\n",
       "<g id=\"edge1\" class=\"edge\">\n",
       "<title>Pi_Line_pf&#45;&#45;n1_pf</title>\n",
       "<path fill=\"none\" stroke=\"black\" d=\"M175.74,-20.94C166.93,-20.13 158.84,-19.39 153.71,-18.92\"/>\n",
       "</g>\n",
       "<!-- Pi_Line_pf&#45;&#45;n2_pf -->\n",
       "<g id=\"edge2\" class=\"edge\">\n",
       "<title>Pi_Line_pf&#45;&#45;n2_pf</title>\n",
       "<path fill=\"none\" stroke=\"black\" d=\"M264.43,-36.69C272.45,-38.8 279.77,-40.73 284.52,-41.98\"/>\n",
       "</g>\n",
       "<!-- Injection 1 -->\n",
       "<g id=\"node4\" class=\"node\">\n",
       "<title>Injection 1</title>\n",
       "<g id=\"a_node4\"><a xlink:title=\"Attributes:&#10;V_ref: 0+0i&#10;V_set: 24000.000000&#10;V_set_pu: 1.000000&#10;f_src: 0.000000&#10;i_intf: (0,0)&#10;name: Injection 1&#10;p_inj: 0.000000&#10;q_inj: 0.000000&#10;right_vector: &#10;uid: Injection 1&#10;v_intf: (0,0)\">\n",
       "<path fill=\"#ededed\" stroke=\"black\" stroke-width=\"2\" d=\"M414.93,-91.25C414.93,-91.25 296.93,-91.25 296.93,-91.25 290.93,-91.25 284.93,-85.25 284.93,-79.25 284.93,-79.25 284.93,-67.25 284.93,-67.25 284.93,-61.25 290.93,-55.25 296.93,-55.25 296.93,-55.25 414.93,-55.25 414.93,-55.25 420.93,-55.25 426.93,-61.25 426.93,-67.25 426.93,-67.25 426.93,-79.25 426.93,-79.25 426.93,-85.25 420.93,-91.25 414.93,-91.25\"/>\n",
       "<text text-anchor=\"start\" x=\"320.43\" y=\"-75.65\" font-family=\"Times-Roman\" font-weight=\"bold\" font-size=\"12.00\">Injection 1</text>\n",
       "<text text-anchor=\"start\" x=\"292.93\" y=\"-65.25\" font-family=\"Times-Roman\" font-size=\"10.00\" fill=\"#474747\">SP::Ph1::NetworkInjection</text>\n",
       "</a>\n",
       "</g>\n",
       "</g>\n",
       "<!-- Injection 1&#45;&#45;n2_pf -->\n",
       "<g id=\"edge3\" class=\"edge\">\n",
       "<title>Injection 1&#45;&#45;n2_pf</title>\n",
       "<path fill=\"none\" stroke=\"black\" d=\"M316.11,-55.23C307.65,-51.4 299.84,-47.87 295.02,-45.69\"/>\n",
       "</g>\n",
       "<!-- gen_pf -->\n",
       "<g id=\"node5\" class=\"node\">\n",
       "<title>gen_pf</title>\n",
       "<g id=\"a_node5\"><a xlink:title=\"Attributes:&#10;P_set: 300000000.000000&#10;P_set_pu: 0.000000&#10;Q_set: 43411881.878627&#10;Q_set_pu: 0.000000&#10;V_set: 25200.000000&#10;V_set_pu: 0.000000&#10;base_Voltage: 24000.000000&#10;i_intf: (0,0)&#10;name: gen_pf&#10;uid: gen_pf&#10;v_intf: (0,0)\">\n",
       "<path fill=\"#ededed\" stroke=\"black\" stroke-width=\"2\" d=\"M140,-41.77C140,-41.77 12,-41.77 12,-41.77 6,-41.77 0,-35.77 0,-29.77 0,-29.77 0,-17.77 0,-17.77 0,-11.77 6,-5.77 12,-5.77 12,-5.77 140,-5.77 140,-5.77 146,-5.77 152,-11.77 152,-17.77 152,-17.77 152,-29.77 152,-29.77 152,-35.77 146,-41.77 140,-41.77\"/>\n",
       "<text text-anchor=\"start\" x=\"53.5\" y=\"-26.17\" font-family=\"Times-Roman\" font-weight=\"bold\" font-size=\"12.00\">gen_pf</text>\n",
       "<text text-anchor=\"start\" x=\"8\" y=\"-15.77\" font-family=\"Times-Roman\" font-size=\"10.00\" fill=\"#474747\">SP::Ph1::SynchronGenerator</text>\n",
       "</a>\n",
       "</g>\n",
       "</g>\n",
       "<!-- gen_pf&#45;&#45;n1_pf -->\n",
       "<g id=\"edge4\" class=\"edge\">\n",
       "<title>gen_pf&#45;&#45;n1_pf</title>\n",
       "<path fill=\"none\" stroke=\"black\" d=\"M148.04,-18.4C148.05,-18.4 148.07,-18.4 148.07,-18.4\"/>\n",
       "</g>\n",
       "</g>\n",
       "</svg>\n"
      ],
      "text/plain": [
       "<dpsimpy.SystemTopology at 0x7ffb6871a470>"
      ]
     },
     "execution_count": 25,
     "metadata": {},
     "output_type": "execute_result"
    }
   ],
   "source": [
    "test_system, compsp = CIMpyToDPsim.CIMpyToDPsim(network, Domain.PF)\n",
    "test_system\n"
   ]
  },
  {
   "attachments": {},
   "cell_type": "markdown",
   "metadata": {},
   "source": [
    "## Declare DPSim Topology for SP simulations"
   ]
  },
  {
   "cell_type": "code",
   "execution_count": 26,
   "metadata": {},
   "outputs": [],
   "source": [
    "def sp_reducedOrderSG_SMIB_fault(sim_pf, gen_pf, gen_model, final_time=20, time_step=0.001):\n",
    "    \n",
    "    # ## Extract relevant powerflow results\n",
    "    init_electrical_power = gen_pf.get_apparent_power()\n",
    "    init_mechanical_power = gen_pf.get_apparent_power().real\n",
    "\n",
    "    ### DPsim SP simulation\n",
    "    name = \"SP_ReducedOrderSG_SMIB_\" + gen_model\n",
    "    dpsimpy.Logger.set_log_dir(\"logs/\" + name)\n",
    "    \n",
    "    ### Nodes\n",
    "    gnd = dpsimpy.sp.SimNode.gnd\n",
    "    n1 = dpsimpy.sp.SimNode('n1', dpsimpy.PhaseType.Single) \n",
    "    n1.set_initial_voltage(sim_pf.get_idobj_attr(n1_pf.name(), 'v').get()[0])\n",
    "\n",
    "    n2 = dpsimpy.sp.SimNode('n2', dpsimpy.PhaseType.Single)\n",
    "    n2.set_initial_voltage(sim_pf.get_idobj_attr(n2_pf.name(), 'v').get()[0])\n",
    "\n",
    "\n",
    "    ### Components\n",
    "\n",
    "    # syncrhon generator\n",
    "    gen = None\n",
    "    if (gen_model==\"3Order\"):\n",
    "        gen = dpsimpy.sp.ph1.SynchronGenerator3OrderVBR('gen', dpsimpy.LogLevel.debug)\n",
    "        gen.set_operational_parameters_per_unit(nom_power=nom_power, nom_voltage=nominal_voltage_mv, nom_frequency=frequency, \n",
    "                                                H=H, Ld=Ld, Lq=Lq, L0=L0, Ld_t=Ld_t, Td0_t=Td0_t)\n",
    "    elif (gen_model==\"4Order\"):\n",
    "        gen = dpsimpy.sp.ph1.SynchronGenerator4OrderVBR('gen', dpsimpy.LogLevel.debug)\n",
    "        gen.set_operational_parameters_per_unit(nom_power=nom_power, nom_voltage=nominal_voltage_mv, nom_frequency=frequency, \n",
    "                                                H=H, Ld=Ld, Lq=Lq, L0=L0, Ld_t=Ld_t, Lq_t=Lq_t, Td0_t=Td0_t, Tq0_t=Tq0_t)\t\t\n",
    "    elif (gen_model==\"6aOrder\"):\n",
    "        gen = dpsimpy.sp.ph1.SynchronGenerator6aOrderVBR('gen', dpsimpy.LogLevel.debug)\n",
    "        gen.set_operational_parameters_per_unit(nom_power=nom_power, nom_voltage=nominal_voltage_mv, nom_frequency=frequency, \n",
    "                                                H=H, Ld=Ld, Lq=Lq, L0=L0, Ld_t=Ld_t, Lq_t=Lq_t, Td0_t=Td0_t, Tq0_t=Tq0_t,\n",
    "                                                Ld_s=Ld_s, Lq_s=Lq_s, Td0_s=Td0_s, Tq0_s=Tq0_s, Taa=Taa)\t\n",
    "    elif (gen_model==\"6bOrder\"):\n",
    "        gen = dpsimpy.sp.ph1.SynchronGenerator6bOrderVBR('gen', dpsimpy.LogLevel.debug)\n",
    "        gen.set_operational_parameters_per_unit(nom_power=nom_power, nom_voltage=nominal_voltage_mv, nom_frequency=frequency, \n",
    "                                                H=H, Ld=Ld, Lq=Lq, L0=L0, Ld_t=Ld_t, Lq_t=Lq_t, Td0_t=Td0_t, Tq0_t=Tq0_t,\n",
    "                                                Ld_s=Ld_s, Lq_s=Lq_s, Td0_s=Td0_s, Tq0_s=Tq0_s)\t\t\n",
    "    gen.set_initial_values(init_complex_electrical_power=init_electrical_power, init_mechanical_power=init_mechanical_power, \n",
    "                           init_complex_terminal_voltage=sim_pf.get_idobj_attr(n1_pf.name(), 'v').get()[0][0])\n",
    "\n",
    "    # Switch\n",
    "    switch = dpsimpy.sp.ph1.Switch('Fault', dpsimpy.LogLevel.debug)\n",
    "    switch.set_parameters(switch_open, switch_closed)\n",
    "    switch.open()\n",
    "\n",
    "    # pi line\n",
    "    pi_line = dpsimpy.sp.ph1.PiLine('PiLine', dpsimpy.LogLevel.debug)\n",
    "    pi_line.set_parameters(R=line_resistance,\n",
    "                           L=line_inductance,\n",
    "                           C=line_capacitance,\n",
    "                           G=line_conductance)\n",
    "\n",
    "    # Slack\n",
    "    slack = dpsimpy.sp.ph1.NetworkInjection('slack', dpsimpy.LogLevel.debug)\n",
    "    slack.set_parameters(V_ref=nominal_voltage_mv)\n",
    "    \n",
    "    ### Connections\n",
    "    gen.connect([n1])\n",
    "    switch.connect([gnd, n1])\n",
    "    pi_line.connect([n1, n2])\n",
    "    slack.connect([n2])\n",
    "    \n",
    "    ### Define system topology\n",
    "    system = dpsimpy.SystemTopology(frequency, [n1, n2], [gen, pi_line, slack, switch])\n",
    "\n",
    "    \n",
    "    ### Logging\n",
    "    logger = dpsimpy.Logger(name)\n",
    "    logger.log_attribute('n1.v', 'v', n1)\n",
    "    logger.log_attribute('n2.v', 'v', n2)\n",
    "    logger.log_attribute('Te', 'Te', gen)\n",
    "    logger.log_attribute('delta', 'delta', gen)\n",
    "    logger.log_attribute('w_r', 'w_r', gen)\n",
    "    logger.log_attribute('Vdq0', 'Vdq0', gen)\n",
    "    logger.log_attribute('Idq0', 'Idq0', gen)\n",
    "    logger.log_attribute('i_gen', 'i_intf', gen)\n",
    "    if (gen_model==\"6aOrder\" or gen_model==\"6bOrder\"):\n",
    "        logger.log_attribute(\"Edq0_s\", \"Edq_s\", gen)\n",
    "        logger.log_attribute(\"Edq0_t\", \"Edq_t\", gen)\n",
    "    else:\n",
    "        logger.log_attribute(\"Edq0\", \"Edq_t\", gen)\n",
    "    \n",
    "    ### Simulation\n",
    "    sim = dpsimpy.Simulation(name, dpsimpy.LogLevel.debug)\n",
    "    sim.set_system(system)\n",
    "    sim.do_init_from_nodes_and_terminals(True)\n",
    "    sim.set_domain(dpsimpy.Domain.SP)\n",
    "    sim.set_direct_solver_implementation(dpsimpy.DirectLinearSolverImpl.SparseLU)\n",
    "    sim.set_time_step(time_step)\n",
    "    sim.set_final_time(final_time)\n",
    "    sim.do_system_matrix_recomputation(True)\n",
    "    \n",
    "    sw_event_1 = dpsimpy.event.SwitchEvent(1.0, switch, True)\n",
    "    sim.add_event(sw_event_1)\n",
    "    \n",
    "    sw_event_2 = dpsimpy.event.SwitchEvent(1.1, switch, False)\n",
    "    sim.add_event(sw_event_2)\n",
    "\n",
    "    sim.add_logger(logger)\n",
    "    sim.run()\n",
    "    \n",
    "    return system, sim, init_electrical_power"
   ]
  },
  {
   "attachments": {},
   "cell_type": "markdown",
   "metadata": {},
   "source": [
    "## Run DPSim simulations (SP Domain)"
   ]
  },
  {
   "attachments": {},
   "cell_type": "markdown",
   "metadata": {},
   "source": [
    "### 3th Order Model"
   ]
  },
  {
   "cell_type": "code",
   "execution_count": 27,
   "metadata": {},
   "outputs": [
    {
     "name": "stdout",
     "output_type": "stream",
     "text": [
      "1.000000e+00: Handle event time\n"
     ]
    },
    {
     "name": "stderr",
     "output_type": "stream",
     "text": [
      "[14:41:02.002959 PiLine warning] Zero value for Conductance, setting default value of G=1e-06 [S]\n",
      "[14:41:02.006639 SP_ReducedOrderSG_SMIB_3Order info] Initialize simulation: SP_ReducedOrderSG_SMIB_3Order\n",
      "[14:41:02.006790 MnaSolverFactory info] creating SparseLUAdapter solver implementation\n",
      "[14:41:02.009731 SP_ReducedOrderSG_SMIB_3Order_Solver warning] Linear solver configuration is not used!\n",
      "[14:41:02.010549 SP_ReducedOrderSG_SMIB_3Order info] Scheduling tasks.\n",
      "[14:41:02.010941 SP_ReducedOrderSG_SMIB_3Order info] Scheduling done.\n",
      "[14:41:02.010944 SP_ReducedOrderSG_SMIB_3Order info] Opening interfaces.\n",
      "[14:41:02.010946 SP_ReducedOrderSG_SMIB_3Order info] Start synchronization with remotes on interfaces\n",
      "[14:41:02.010947 SP_ReducedOrderSG_SMIB_3Order info] Synchronized simulation start with remotes\n",
      "[14:41:02.010950 SP_ReducedOrderSG_SMIB_3Order info] Start simulation: SP_ReducedOrderSG_SMIB_3Order\n",
      "[14:41:02.010954 SP_ReducedOrderSG_SMIB_3Order info] Time step: 1.000000e-03\n",
      "[14:41:02.010956 SP_ReducedOrderSG_SMIB_3Order info] Final time: 2.000000e+01\n",
      "[14:41:10.834767 SP_ReducedOrderSG_SMIB_3Order info] Simulation calculation time: 8.823763\n",
      "[14:41:10.845098 SP_ReducedOrderSG_SMIB_3Order info] Simulation finished.\n"
     ]
    },
    {
     "name": "stdout",
     "output_type": "stream",
     "text": [
      "1.100000e+00: Handle event time\n"
     ]
    }
   ],
   "source": [
    "system_sp, sim_sp, power= sp_reducedOrderSG_SMIB_fault(sim_pf, gen_pf, \"3Order\")\n"
   ]
  },
  {
   "cell_type": "code",
   "execution_count": 28,
   "metadata": {},
   "outputs": [
    {
     "name": "stdout",
     "output_type": "stream",
     "text": [
      "(303124712.7639775, 0.14370873108818763)\n",
      "(300000000+43411881.8786273j)\n"
     ]
    },
    {
     "data": {
      "text/plain": [
       "(24385.98087839718+6353.261886499494j)"
      ]
     },
     "execution_count": 28,
     "metadata": {},
     "output_type": "execute_result"
    }
   ],
   "source": [
    "print(cmath.polar(power))\n",
    "print(power)\n",
    "sim_pf.get_idobj_attr(n1_pf.name(), 'v').get()[0][0]\n"
   ]
  },
  {
   "cell_type": "code",
   "execution_count": 29,
   "metadata": {},
   "outputs": [
    {
     "data": {
      "image/svg+xml": [
       "<?xml version=\"1.0\" encoding=\"UTF-8\" standalone=\"no\"?>\n",
       "<!DOCTYPE svg PUBLIC \"-//W3C//DTD SVG 1.1//EN\"\n",
       " \"http://www.w3.org/Graphics/SVG/1.1/DTD/svg11.dtd\">\n",
       "<!-- Generated by graphviz version 2.44.0 (0)\n",
       " -->\n",
       "<!-- Title: topology Pages: 1 -->\n",
       "<svg width=\"387pt\" height=\"232pt\"\n",
       " viewBox=\"0.00 0.00 386.74 231.63\" xmlns=\"http://www.w3.org/2000/svg\" xmlns:xlink=\"http://www.w3.org/1999/xlink\">\n",
       "<g id=\"graph0\" class=\"graph\" transform=\"scale(1 1) rotate(0) translate(4 227.63)\">\n",
       "<title>topology</title>\n",
       "<polygon fill=\"white\" stroke=\"transparent\" points=\"-4,4 -4,-227.63 382.74,-227.63 382.74,4 -4,4\"/>\n",
       "<!-- n1 -->\n",
       "<g id=\"node1\" class=\"node\">\n",
       "<title>n1</title>\n",
       "<g id=\"a_node1\"><a xlink:title=\"n1\">\n",
       "<ellipse fill=\"black\" stroke=\"black\" cx=\"114.58\" cy=\"-95.66\" rx=\"5.4\" ry=\"5.4\"/>\n",
       "</a>\n",
       "</g>\n",
       "<text text-anchor=\"start\" x=\"52.18\" y=\"-103.66\" font-family=\"Times-Roman\" font-weight=\"bold\" font-size=\"12.00\">n1</text>\n",
       "<text text-anchor=\"start\" x=\"12.18\" y=\"-93.26\" font-family=\"Times-Roman\" font-size=\"10.00\" fill=\"#474747\">(25.20 kV &gt; 14.60°)</text>\n",
       "</g>\n",
       "<!-- n2 -->\n",
       "<g id=\"node2\" class=\"node\">\n",
       "<title>n2</title>\n",
       "<g id=\"a_node2\"><a xlink:title=\"n2\">\n",
       "<ellipse fill=\"red\" stroke=\"black\" cx=\"248.37\" cy=\"-163.89\" rx=\"5.4\" ry=\"5.4\"/>\n",
       "</a>\n",
       "</g>\n",
       "<text text-anchor=\"start\" x=\"188.97\" y=\"-171.89\" font-family=\"Times-Roman\" font-weight=\"bold\" font-size=\"12.00\">n2</text>\n",
       "<text text-anchor=\"start\" x=\"151.97\" y=\"-161.49\" font-family=\"Times-Roman\" font-size=\"10.00\" fill=\"#474747\">(24.00 kV &gt; 0.00°)</text>\n",
       "</g>\n",
       "<!-- gen -->\n",
       "<g id=\"node3\" class=\"node\">\n",
       "<title>gen</title>\n",
       "<g id=\"a_node3\"><a xlink:title=\"Attributes:&#10;Edq_t: &#160;&#160;&#160;&#160;&#160;&#160;&#160;0&#10;0.942668&#10;Ef: 1.507191&#10;H: 3.700000&#10;Idq0: 0.356143&#10;0.358662&#10;L0: 0.150000&#10;Ld: 1.809900&#10;Ld_s: 0.000000&#10;Ld_t: 0.299900&#10;Lq: 1.760000&#10;Lq_s: 0.000000&#10;Lq_t: 0.000000&#10;Taa: 0.000000&#10;Td0_s: 0.000000&#10;Td0_t: 8.066900&#10;Te: 0.524256&#10;Theta: 7538.769500&#10;Tm: 0.540541&#10;Tq0_s: 0.000000&#10;Tq0_t: 0.000000&#10;Vdq0: 0.631245&#10;0.835864&#10;delta: 0.894919&#10;i_intf: (11613.9,1318.51)&#10;initElecPower: 3e+08+4.3e+07i&#10;name: gen&#10;right_vector: 56692.8&#10; &#160;&#160;&#160;&#160;&#160;0&#10; &#160;&#160;&#160;&#160;&#160;0&#10; &#160;&#160;&#160;&#160;&#160;0&#10; &#45;45460&#10; &#160;&#160;&#160;&#160;&#160;0&#10; &#160;&#160;&#160;&#160;&#160;0&#10; &#160;&#160;&#160;&#160;&#160;0&#10;uid: gen&#10;v_intf: (24368.9,6173.05)&#10;w_r: 1.000972\">\n",
       "<path fill=\"#ededed\" stroke=\"black\" stroke-width=\"2\" d=\"M196.21,-36C196.21,-36 14.21,-36 14.21,-36 8.21,-36 2.21,-30 2.21,-24 2.21,-24 2.21,-12 2.21,-12 2.21,-6 8.21,0 14.21,0 14.21,0 196.21,0 196.21,0 202.21,0 208.21,-6 208.21,-12 208.21,-12 208.21,-24 208.21,-24 208.21,-30 202.21,-36 196.21,-36\"/>\n",
       "<text text-anchor=\"start\" x=\"92.71\" y=\"-20.4\" font-family=\"Times-Roman\" font-weight=\"bold\" font-size=\"12.00\">gen</text>\n",
       "<text text-anchor=\"start\" x=\"10.21\" y=\"-10\" font-family=\"Times-Roman\" font-size=\"10.00\" fill=\"#474747\">SP::Ph1::SynchronGenerator3OrderVBR</text>\n",
       "</a>\n",
       "</g>\n",
       "</g>\n",
       "<!-- gen&#45;&#45;n1 -->\n",
       "<g id=\"edge1\" class=\"edge\">\n",
       "<title>gen&#45;&#45;n1</title>\n",
       "<path fill=\"none\" stroke=\"black\" d=\"M107.38,-36.01C109.5,-53.58 112.59,-79.21 113.93,-90.26\"/>\n",
       "</g>\n",
       "<!-- PiLine -->\n",
       "<g id=\"node4\" class=\"node\">\n",
       "<title>PiLine</title>\n",
       "<g id=\"a_node4\"><a xlink:title=\"Attributes:&#10;C_parallel: 0.000083&#10;G_parallel: 0.000001&#10;L_series: 0.001383&#10;R_series: 0.073152&#10;base_Voltage: 0.000000&#10;current_vector: (0,0)&#10;(0,0)&#10;i_intf: (&#45;12054.3,&#45;951.154)&#10;name: PiLine&#10;p_branch_vector: 0&#10;0&#10;p_inj: 0.000000&#10;q_branch_vector: 0&#10;0&#10;q_inj: 0.000000&#10;right_vector: 0&#10;0&#10;0&#10;0&#10;0&#10;0&#10;0&#10;0&#10;uid: PiLine&#10;v_intf: (&#45;385.981,&#45;6353.26)\">\n",
       "<path fill=\"transparent\" stroke=\"transparent\" stroke-width=\"2\" d=\"M214.8,-148.92C214.8,-148.92 150.8,-148.92 150.8,-148.92 144.8,-148.92 138.8,-142.92 138.8,-136.92 138.8,-136.92 138.8,-124.92 138.8,-124.92 138.8,-118.92 144.8,-112.92 150.8,-112.92 150.8,-112.92 214.8,-112.92 214.8,-112.92 220.8,-112.92 226.8,-118.92 226.8,-124.92 226.8,-124.92 226.8,-136.92 226.8,-136.92 226.8,-142.92 220.8,-148.92 214.8,-148.92\"/>\n",
       "<text text-anchor=\"start\" x=\"162.3\" y=\"-133.32\" font-family=\"Times-Roman\" font-weight=\"bold\" font-size=\"12.00\">PiLine</text>\n",
       "<text text-anchor=\"start\" x=\"146.8\" y=\"-122.92\" font-family=\"Times-Roman\" font-size=\"10.00\" fill=\"#474747\">SP::Ph1::PiLine</text>\n",
       "</a>\n",
       "</g>\n",
       "</g>\n",
       "<!-- PiLine&#45;&#45;n1 -->\n",
       "<g id=\"edge2\" class=\"edge\">\n",
       "<title>PiLine&#45;&#45;n1</title>\n",
       "<path fill=\"none\" stroke=\"black\" d=\"M147.89,-112.88C136.88,-107.18 125.97,-101.55 119.78,-98.35\"/>\n",
       "</g>\n",
       "<!-- PiLine&#45;&#45;n2 -->\n",
       "<g id=\"edge3\" class=\"edge\">\n",
       "<title>PiLine&#45;&#45;n2</title>\n",
       "<path fill=\"none\" stroke=\"black\" d=\"M218.65,-148.95C228.46,-153.88 237.9,-158.62 243.41,-161.4\"/>\n",
       "</g>\n",
       "<!-- slack -->\n",
       "<g id=\"node5\" class=\"node\">\n",
       "<title>slack</title>\n",
       "<g id=\"a_node5\"><a xlink:title=\"Attributes:&#10;V_ref: 2.4e+04+0i&#10;V_set: 0.000000&#10;V_set_pu: 1.000000&#10;f_src: 0.000000&#10;i_intf: (11710.8,558.538)&#10;name: slack&#10;p_inj: 0.000000&#10;q_inj: 0.000000&#10;right_vector: &#160;&#160;&#160;&#160;0&#10; &#160;&#160;&#160;0&#10; &#160;&#160;&#160;0&#10;24000&#10; &#160;&#160;&#160;0&#10; &#160;&#160;&#160;0&#10; &#160;&#160;&#160;0&#10; &#160;&#160;&#160;0&#10;uid: slack&#10;v_intf: (24000,0)\">\n",
       "<path fill=\"#ededed\" stroke=\"black\" stroke-width=\"2\" d=\"M366.74,-223.63C366.74,-223.63 248.74,-223.63 248.74,-223.63 242.74,-223.63 236.74,-217.63 236.74,-211.63 236.74,-211.63 236.74,-199.63 236.74,-199.63 236.74,-193.63 242.74,-187.63 248.74,-187.63 248.74,-187.63 366.74,-187.63 366.74,-187.63 372.74,-187.63 378.74,-193.63 378.74,-199.63 378.74,-199.63 378.74,-211.63 378.74,-211.63 378.74,-217.63 372.74,-223.63 366.74,-223.63\"/>\n",
       "<text text-anchor=\"start\" x=\"290.24\" y=\"-208.03\" font-family=\"Times-Roman\" font-weight=\"bold\" font-size=\"12.00\">slack</text>\n",
       "<text text-anchor=\"start\" x=\"244.74\" y=\"-197.63\" font-family=\"Times-Roman\" font-size=\"10.00\" fill=\"#474747\">SP::Ph1::NetworkInjection</text>\n",
       "</a>\n",
       "</g>\n",
       "</g>\n",
       "<!-- slack&#45;&#45;n2 -->\n",
       "<g id=\"edge4\" class=\"edge\">\n",
       "<title>slack&#45;&#45;n2</title>\n",
       "<path fill=\"none\" stroke=\"black\" d=\"M281.87,-187.44C270.87,-179.71 259.16,-171.48 252.92,-167.09\"/>\n",
       "</g>\n",
       "<!-- Fault -->\n",
       "<g id=\"node6\" class=\"node\">\n",
       "<title>Fault</title>\n",
       "<g id=\"a_node6\"><a xlink:title=\"Attributes:&#10;R_closed: 0.001038&#10;R_open: 1000000.000000&#10;i_intf: (0,0)&#10;is_closed: 0&#10;name: Fault&#10;right_vector: &#10;uid: Fault&#10;v_intf: (0,0)\">\n",
       "<path fill=\"#ededed\" stroke=\"black\" stroke-width=\"2\" d=\"M79,-150.38C79,-150.38 12,-150.38 12,-150.38 6,-150.38 0,-144.38 0,-138.38 0,-138.38 0,-126.38 0,-126.38 0,-120.38 6,-114.38 12,-114.38 12,-114.38 79,-114.38 79,-114.38 85,-114.38 91,-120.38 91,-126.38 91,-126.38 91,-138.38 91,-138.38 91,-144.38 85,-150.38 79,-150.38\"/>\n",
       "<text text-anchor=\"start\" x=\"28.5\" y=\"-134.78\" font-family=\"Times-Roman\" font-weight=\"bold\" font-size=\"12.00\">Fault</text>\n",
       "<text text-anchor=\"start\" x=\"8\" y=\"-124.38\" font-family=\"Times-Roman\" font-size=\"10.00\" fill=\"#474747\">SP::Ph1::Switch</text>\n",
       "</a>\n",
       "</g>\n",
       "</g>\n",
       "<!-- Fault&#45;&#45;n1 -->\n",
       "<g id=\"edge5\" class=\"edge\">\n",
       "<title>Fault&#45;&#45;n1</title>\n",
       "<path fill=\"none\" stroke=\"black\" d=\"M79.63,-114.24C91.33,-108.02 103.08,-101.77 109.54,-98.34\"/>\n",
       "</g>\n",
       "</g>\n",
       "</svg>\n"
      ],
      "text/plain": [
       "<dpsimpy.SystemTopology at 0x7ffb6871d130>"
      ]
     },
     "execution_count": 29,
     "metadata": {},
     "output_type": "execute_result"
    }
   ],
   "source": [
    "log_name = \"SP_ReducedOrderSG_SMIB_\" + \"3Order\"\n",
    "system_sp\n"
   ]
  },
  {
   "cell_type": "code",
   "execution_count": 30,
   "metadata": {},
   "outputs": [
    {
     "name": "stdout",
     "output_type": "stream",
     "text": [
      "YXes\n"
     ]
    }
   ],
   "source": [
    "\n",
    "\n",
    "SyncGenerator = system_sp.components[0]\n",
    "type(SyncGenerator)\n",
    "\n",
    "if \"SynchronGenerator\" and \"Order\" in str(type(system_sp.components[0])):\n",
    "    print(\"YXes\")"
   ]
  },
  {
   "attachments": {},
   "cell_type": "markdown",
   "metadata": {},
   "source": [
    "### DPSim to CIMpy manually"
   ]
  },
  {
   "cell_type": "code",
   "execution_count": 31,
   "metadata": {},
   "outputs": [
    {
     "data": {
      "text/plain": [
       "{'meta_info': {'urls': {},\n",
       "  'namespaces': {'rdf': 'http://www.w3.org/1999/02/22-rdf-syntax-ns#'}},\n",
       " 'topology': {'Node1': <cimpy.cgmes_v2_4_15.TopologicalNode.TopologicalNode at 0x7ffb92e83d30>,\n",
       "  'Node1-sv': <cimpy.cgmes_v2_4_15.SvVoltage.SvVoltage at 0x7ffb92e83700>,\n",
       "  'Node2': <cimpy.cgmes_v2_4_15.TopologicalNode.TopologicalNode at 0x7ffb92e83fa0>,\n",
       "  'Node2-sv': <cimpy.cgmes_v2_4_15.SvVoltage.SvVoltage at 0x7ffb65003dc0>,\n",
       "  'Terminal_1_ACLineSegment': <cimpy.cgmes_v2_4_15.Terminal.Terminal at 0x7ffb65003280>,\n",
       "  'Terminal_2_ACLineSegment': <cimpy.cgmes_v2_4_15.Terminal.Terminal at 0x7ffb65003eb0>,\n",
       "  'ACLineSegment': <cimpy.cgmes_v2_4_15.ACLineSegment.ACLineSegment at 0x7ffb65003a90>,\n",
       "  'Terminal Injection 1': <cimpy.cgmes_v2_4_15.Terminal.Terminal at 0x7ffb65003520>,\n",
       "  'Regulating Control 1': <cimpy.cgmes_v2_4_15.RegulatingControl.RegulatingControl at 0x7ffb65003a60>,\n",
       "  'Injection 1': <cimpy.cgmes_v2_4_15.ExternalNetworkInjection.ExternalNetworkInjection at 0x7ffb650037c0>,\n",
       "  'Terminal_gen': <cimpy.cgmes_v2_4_15.Terminal.Terminal at 0x7ffb65003730>,\n",
       "  'RegulatingControlgen': <cimpy.cgmes_v2_4_15.RegulatingControl.RegulatingControl at 0x7ffb65003790>,\n",
       "  'GeneratingUnit_gen': <cimpy.cgmes_v2_4_15.GeneratingUnit.GeneratingUnit at 0x7ffb65003760>,\n",
       "  'gen': <cimpy.cgmes_v2_4_15.SynchronousMachine.SynchronousMachine at 0x7ffb65003850>,\n",
       "  'gen_TimeConstantReactance': <cimpy.cgmes_v2_4_15.SynchronousMachineTimeConstantReactance.SynchronousMachineTimeConstantReactance at 0x7ffb65003910>}}"
      ]
     },
     "execution_count": 31,
     "metadata": {},
     "output_type": "execute_result"
    }
   ],
   "source": [
    "network_sp = dict(meta_info={}, topology={})\n",
    "network_sp[\"meta_info\"]= dict(urls = {}, namespaces = {\"rdf\": 'http://www.w3.org/1999/02/22-rdf-syntax-ns#'})\n",
    "\n",
    "\n",
    "from cimpy import utils\n",
    "from cimpy.cgmes_v2_4_15 import BaseVoltage\n",
    "import numpy\n",
    "import cmath\n",
    "\n",
    "B1 = BaseVoltage()\n",
    "\n",
    "network_sp = utils.add_TopologicalNode(network_sp, \"cgmes_v2_4_15\", B1, 0, 0, \"Node1\")\n",
    "network_sp = utils.add_TopologicalNode(network_sp, \"cgmes_v2_4_15\", B1,0 ,0, \"Node2\")\n",
    "\n",
    "# PiLine Parameters, Piline -> ACLineSegment\n",
    "name = system_sp.components[1].name()\n",
    "r = float(str(system_sp.components[1].attr(\"R_series\")))\n",
    "x= float(str(system_sp.components[1].attr(\"L_series\"))) * (2*numpy.pi*frequency)\n",
    "bch= float(str(system_sp.components[1].attr(\"C_parallel\"))) * (2*numpy.pi*frequency)\n",
    "gch = float(str(system_pf.components[1].attr(\"G_parallel\")))\n",
    "network_sp = utils.add_ACLineSegment(network_sp, \"cgmes_v2_4_15\", \"Node1\", \"Node2\", r, x, bch, gch, name )\n",
    "\n",
    "network_sp = utils.add_external_network_injection(network_sp, \"cgmes_v2_4_15\", \"Node2\", 1)\n",
    "\n",
    "# Synchronous Machine Parameters\n",
    "p = system_sp.components[0].attr(\"initElecPower\").derive_real()\n",
    "q = system_sp.components[0].attr(\"initElecPower\").derive_imag()\n",
    "ratedS = system_sp.components[0].attr(\"initElecPower\").derive_mag()\n",
    "ratedU = float(str(system_pf.components[0].attr(\"base_Voltage\")))\n",
    "targetValue = float(str(system_pf.components[0].attr(\"V_set\")))\n",
    "initialP = float(str(system_pf.components[0].attr(\"P_set_pu\")))\n",
    "\n",
    "Sync_generator_name = system_sp.components[0].name()\n",
    "# Add Synchronous Machine to the network\n",
    "network_sp = utils.add_SynchronousMachine(network_sp, \"cgmes_v2_4_15\", \"Node1\", p, q, ratedS, ratedU, targetValue, initialP, Sync_generator_name)\n",
    "\n",
    "\n",
    "# Synchronous Machine TimeConstantReactance Parameters\n",
    "Sync_Generator = system_sp.components[0]\n",
    "\n",
    "inertia = Sync_Generator.attr(\"H\")\n",
    "statorResistance = 0   # because it is not modelled in DPsim\n",
    "statorLeakageReactance = Sync_Generator.attr(\"Td0_t\")\n",
    "tpdo = Sync_Generator.attr(\"Td0_t\")\n",
    "tpqo = Sync_Generator.attr(\"Tq0_t\")\n",
    "tppdo = Sync_Generator.attr(\"Td0_s\")\n",
    "tppqo = Sync_Generator.attr(\"Tq0_s\")\n",
    "xDirectSubtrans = Sync_Generator.attr(\"Ld_s\")\n",
    "xDirectSync = Sync_Generator.attr(\"Ld\")\n",
    "xDirectTrans = Sync_Generator.attr(\"Ld_t\")\n",
    "xQuadSubtrans = Sync_Generator.attr(\"Lq_s\")\n",
    "xQuadSync = Sync_Generator.attr(\"Lq\")\n",
    "xQuadTrans = Sync_Generator.attr(\"Lq_t\")\n",
    "# Extend SynchronousMachine with dynamic Parameters\n",
    "network_sp= utils.extend_SynchronousMachineTimeConstantReactance(network_sp, \"cgmes_v2_4_15\", network_sp[\"topology\"][Sync_generator_name], 0, inertia,\n",
    "            statorResistance, statorLeakageReactance, tpdo, tpqo, tppdo, tppqo, xDirectSubtrans, xDirectSync, xDirectTrans, xQuadSubtrans, xQuadSync, xQuadTrans)\n",
    "network_sp"
   ]
  },
  {
   "cell_type": "markdown",
   "metadata": {},
   "source": [
    "### Validation DPsim to CIMpy and back :: SP System\n"
   ]
  },
  {
   "cell_type": "code",
   "execution_count": 32,
   "metadata": {},
   "outputs": [
    {
     "data": {
      "text/plain": [
       "{'class': [0, 1],\n",
       " 'governorSCD': [0],\n",
       " 'maxP': [0],\n",
       " 'maxQ': [0],\n",
       " 'minP': [0],\n",
       " 'minQ': [0],\n",
       " 'ikSecond': [0],\n",
       " 'maxInitialSymShCCurrent': [0],\n",
       " 'maxR0ToX0Ratio': [0],\n",
       " 'maxR1ToX1Ratio': [0],\n",
       " 'maxZ0ToZ1Ratio': [0],\n",
       " 'minInitialSymShCCurrent': [0],\n",
       " 'minR0ToX0Ratio': [0],\n",
       " 'minR1ToX1Ratio': [0],\n",
       " 'minZ0ToZ1Ratio': [0],\n",
       " 'voltageFactor': [0],\n",
       " 'referencePriority': [1],\n",
       " 'p': [1],\n",
       " 'q': [1]}"
      ]
     },
     "execution_count": 32,
     "metadata": {},
     "output_type": "execute_result"
    }
   ],
   "source": [
    "network_sp =  DPsimToCIMpy.DPsimToCIMpy(system_sp, sim_sp)\n",
    "network_sp['topology']['Injection 1'].possibleProfileList\n"
   ]
  },
  {
   "cell_type": "code",
   "execution_count": 33,
   "metadata": {},
   "outputs": [
    {
     "data": {
      "image/svg+xml": [
       "<?xml version=\"1.0\" encoding=\"UTF-8\" standalone=\"no\"?>\n",
       "<!DOCTYPE svg PUBLIC \"-//W3C//DTD SVG 1.1//EN\"\n",
       " \"http://www.w3.org/Graphics/SVG/1.1/DTD/svg11.dtd\">\n",
       "<!-- Generated by graphviz version 2.44.0 (0)\n",
       " -->\n",
       "<!-- Title: topology Pages: 1 -->\n",
       "<svg width=\"352pt\" height=\"276pt\"\n",
       " viewBox=\"0.00 0.00 352.42 276.28\" xmlns=\"http://www.w3.org/2000/svg\" xmlns:xlink=\"http://www.w3.org/1999/xlink\">\n",
       "<g id=\"graph0\" class=\"graph\" transform=\"scale(1 1) rotate(0) translate(4 272.28)\">\n",
       "<title>topology</title>\n",
       "<polygon fill=\"white\" stroke=\"transparent\" points=\"-4,4 -4,-272.28 348.42,-272.28 348.42,4 -4,4\"/>\n",
       "<!-- n1 -->\n",
       "<g id=\"node1\" class=\"node\">\n",
       "<title>n1</title>\n",
       "<g id=\"a_node1\"><a xlink:title=\"n1\">\n",
       "<ellipse fill=\"red\" stroke=\"black\" cx=\"135.83\" cy=\"-83.9\" rx=\"5.4\" ry=\"5.4\"/>\n",
       "</a>\n",
       "</g>\n",
       "<text text-anchor=\"start\" x=\"113.43\" y=\"-93.7\" font-family=\"Times-Roman\" font-weight=\"bold\" font-size=\"12.00\">n1</text>\n",
       "</g>\n",
       "<!-- n2 -->\n",
       "<g id=\"node2\" class=\"node\">\n",
       "<title>n2</title>\n",
       "<g id=\"a_node2\"><a xlink:title=\"n2\">\n",
       "<ellipse fill=\"red\" stroke=\"black\" cx=\"232.05\" cy=\"-191.14\" rx=\"5.4\" ry=\"5.4\"/>\n",
       "</a>\n",
       "</g>\n",
       "<text text-anchor=\"start\" x=\"209.65\" y=\"-200.94\" font-family=\"Times-Roman\" font-weight=\"bold\" font-size=\"12.00\">n2</text>\n",
       "</g>\n",
       "<!-- gen_TimeConstantReactance -->\n",
       "<g id=\"node3\" class=\"node\">\n",
       "<title>gen_TimeConstantReactance</title>\n",
       "<g id=\"a_node3\"><a xlink:title=\"Attributes:&#10;Edq_t: 0&#10;0&#10;Ef: 0.000000&#10;H: 3.700000&#10;Idq0: 0&#10;0&#10;L0: 0.150000&#10;Ld: 1.809900&#10;Ld_s: 0.000000&#10;Ld_t: 0.299900&#10;Lq: 1.760000&#10;Lq_s: 0.000000&#10;Lq_t: 0.000000&#10;Taa: 0.000000&#10;Td0_s: 0.000000&#10;Td0_t: 8.066900&#10;Te: 0.000000&#10;Theta: 0.000000&#10;Tm: 0.000000&#10;Tq0_s: 0.000000&#10;Tq0_t: 0.000000&#10;Vdq0: 0&#10;0&#10;delta: 0.000000&#10;i_intf: (0,0)&#10;initElecPower: 3e+08+4.3e+07i&#10;name: gen_TimeConstantReactance&#10;right_vector: &#10;uid: gen_TimeConstantReactance&#10;v_intf: (0,0)&#10;w_r: 0.000000\">\n",
       "<path fill=\"#ededed\" stroke=\"black\" stroke-width=\"2\" d=\"M200,-36C200,-36 12,-36 12,-36 6,-36 0,-30 0,-24 0,-24 0,-12 0,-12 0,-6 6,0 12,0 12,0 200,0 200,0 206,0 212,-6 212,-12 212,-12 212,-24 212,-24 212,-30 206,-36 200,-36\"/>\n",
       "<text text-anchor=\"start\" x=\"8\" y=\"-20.4\" font-family=\"Times-Roman\" font-weight=\"bold\" font-size=\"12.00\">gen_TimeConstantReactance</text>\n",
       "<text text-anchor=\"start\" x=\"11\" y=\"-10\" font-family=\"Times-Roman\" font-size=\"10.00\" fill=\"#474747\">SP::Ph1::SynchronGenerator3OrderVBR</text>\n",
       "</a>\n",
       "</g>\n",
       "</g>\n",
       "<!-- gen_TimeConstantReactance&#45;&#45;n1 -->\n",
       "<g id=\"edge1\" class=\"edge\">\n",
       "<title>gen_TimeConstantReactance&#45;&#45;n1</title>\n",
       "<path fill=\"none\" stroke=\"black\" d=\"M114.15,-36.01C120.71,-50.49 129.48,-69.86 133.56,-78.88\"/>\n",
       "</g>\n",
       "<!-- PiLine -->\n",
       "<g id=\"node4\" class=\"node\">\n",
       "<title>PiLine</title>\n",
       "<g id=\"a_node4\"><a xlink:title=\"Attributes:&#10;C_parallel: 0.000083&#10;G_parallel: 0.000001&#10;L_series: 0.001383&#10;R_series: 0.073152&#10;base_Voltage: 0.000000&#10;current_vector: (0,0)&#10;(0,0)&#10;i_intf: (0,0)&#10;name: PiLine&#10;p_branch_vector: 0&#10;0&#10;p_inj: 0.000000&#10;q_branch_vector: 0&#10;0&#10;q_inj: 0.000000&#10;right_vector: &#10;uid: PiLine&#10;v_intf: (0,0)\">\n",
       "<path fill=\"transparent\" stroke=\"transparent\" stroke-width=\"2\" d=\"M211.11,-159.85C211.11,-159.85 147.11,-159.85 147.11,-159.85 141.11,-159.85 135.11,-153.85 135.11,-147.85 135.11,-147.85 135.11,-135.85 135.11,-135.85 135.11,-129.85 141.11,-123.85 147.11,-123.85 147.11,-123.85 211.11,-123.85 211.11,-123.85 217.11,-123.85 223.11,-129.85 223.11,-135.85 223.11,-135.85 223.11,-147.85 223.11,-147.85 223.11,-153.85 217.11,-159.85 211.11,-159.85\"/>\n",
       "<text text-anchor=\"start\" x=\"158.61\" y=\"-144.25\" font-family=\"Times-Roman\" font-weight=\"bold\" font-size=\"12.00\">PiLine</text>\n",
       "<text text-anchor=\"start\" x=\"143.11\" y=\"-133.85\" font-family=\"Times-Roman\" font-size=\"10.00\" fill=\"#474747\">SP::Ph1::PiLine</text>\n",
       "</a>\n",
       "</g>\n",
       "</g>\n",
       "<!-- PiLine&#45;&#45;n1 -->\n",
       "<g id=\"edge2\" class=\"edge\">\n",
       "<title>PiLine&#45;&#45;n1</title>\n",
       "<path fill=\"none\" stroke=\"black\" d=\"M165.65,-123.83C156.52,-111.61 145.11,-96.33 139.42,-88.7\"/>\n",
       "</g>\n",
       "<!-- PiLine&#45;&#45;n2 -->\n",
       "<g id=\"edge3\" class=\"edge\">\n",
       "<title>PiLine&#45;&#45;n2</title>\n",
       "<path fill=\"none\" stroke=\"black\" d=\"M198.52,-159.92C209.14,-169.82 221.4,-181.23 227.74,-187.14\"/>\n",
       "</g>\n",
       "<!-- Injection 1 -->\n",
       "<g id=\"node5\" class=\"node\">\n",
       "<title>Injection 1</title>\n",
       "<g id=\"a_node5\"><a xlink:title=\"Attributes:&#10;V_ref: 2.4e+04+0i&#10;V_set: 0.000000&#10;V_set_pu: 1.000000&#10;f_src: 0.000000&#10;i_intf: (0,0)&#10;name: Injection 1&#10;p_inj: 0.000000&#10;q_inj: 0.000000&#10;right_vector: &#10;uid: Injection 1&#10;v_intf: (0,0)\">\n",
       "<path fill=\"#ededed\" stroke=\"black\" stroke-width=\"2\" d=\"M332.42,-268.28C332.42,-268.28 214.42,-268.28 214.42,-268.28 208.42,-268.28 202.42,-262.28 202.42,-256.28 202.42,-256.28 202.42,-244.28 202.42,-244.28 202.42,-238.28 208.42,-232.28 214.42,-232.28 214.42,-232.28 332.42,-232.28 332.42,-232.28 338.42,-232.28 344.42,-238.28 344.42,-244.28 344.42,-244.28 344.42,-256.28 344.42,-256.28 344.42,-262.28 338.42,-268.28 332.42,-268.28\"/>\n",
       "<text text-anchor=\"start\" x=\"237.92\" y=\"-252.68\" font-family=\"Times-Roman\" font-weight=\"bold\" font-size=\"12.00\">Injection 1</text>\n",
       "<text text-anchor=\"start\" x=\"210.42\" y=\"-242.28\" font-family=\"Times-Roman\" font-size=\"10.00\" fill=\"#474747\">SP::Ph1::NetworkInjection</text>\n",
       "</a>\n",
       "</g>\n",
       "</g>\n",
       "<!-- Injection 1&#45;&#45;n2 -->\n",
       "<g id=\"edge4\" class=\"edge\">\n",
       "<title>Injection 1&#45;&#45;n2</title>\n",
       "<path fill=\"none\" stroke=\"black\" d=\"M260.78,-232.22C251.85,-219.45 240.54,-203.28 235.16,-195.59\"/>\n",
       "</g>\n",
       "</g>\n",
       "</svg>\n"
      ],
      "text/plain": [
       "<dpsimpy.SystemTopology at 0x7ffb6507bb70>"
      ]
     },
     "execution_count": 33,
     "metadata": {},
     "output_type": "execute_result"
    }
   ],
   "source": [
    "system_new, component=  CIMpyToDPsim.CIMpyToDPsim(network_sp, Domain.SP, \"3Order\")\n",
    "system_new\n"
   ]
  },
  {
   "cell_type": "code",
   "execution_count": 34,
   "metadata": {},
   "outputs": [
    {
     "data": {
      "image/svg+xml": [
       "<?xml version=\"1.0\" encoding=\"UTF-8\" standalone=\"no\"?>\n",
       "<!DOCTYPE svg PUBLIC \"-//W3C//DTD SVG 1.1//EN\"\n",
       " \"http://www.w3.org/Graphics/SVG/1.1/DTD/svg11.dtd\">\n",
       "<!-- Generated by graphviz version 2.44.0 (0)\n",
       " -->\n",
       "<!-- Title: topology Pages: 1 -->\n",
       "<svg width=\"387pt\" height=\"232pt\"\n",
       " viewBox=\"0.00 0.00 386.74 231.63\" xmlns=\"http://www.w3.org/2000/svg\" xmlns:xlink=\"http://www.w3.org/1999/xlink\">\n",
       "<g id=\"graph0\" class=\"graph\" transform=\"scale(1 1) rotate(0) translate(4 227.63)\">\n",
       "<title>topology</title>\n",
       "<polygon fill=\"white\" stroke=\"transparent\" points=\"-4,4 -4,-227.63 382.74,-227.63 382.74,4 -4,4\"/>\n",
       "<!-- n1 -->\n",
       "<g id=\"node1\" class=\"node\">\n",
       "<title>n1</title>\n",
       "<g id=\"a_node1\"><a xlink:title=\"n1\">\n",
       "<ellipse fill=\"black\" stroke=\"black\" cx=\"114.58\" cy=\"-95.66\" rx=\"5.4\" ry=\"5.4\"/>\n",
       "</a>\n",
       "</g>\n",
       "<text text-anchor=\"start\" x=\"52.18\" y=\"-103.66\" font-family=\"Times-Roman\" font-weight=\"bold\" font-size=\"12.00\">n1</text>\n",
       "<text text-anchor=\"start\" x=\"12.18\" y=\"-93.26\" font-family=\"Times-Roman\" font-size=\"10.00\" fill=\"#474747\">(25.20 kV &gt; 14.60°)</text>\n",
       "</g>\n",
       "<!-- n2 -->\n",
       "<g id=\"node2\" class=\"node\">\n",
       "<title>n2</title>\n",
       "<g id=\"a_node2\"><a xlink:title=\"n2\">\n",
       "<ellipse fill=\"red\" stroke=\"black\" cx=\"248.37\" cy=\"-163.89\" rx=\"5.4\" ry=\"5.4\"/>\n",
       "</a>\n",
       "</g>\n",
       "<text text-anchor=\"start\" x=\"188.97\" y=\"-171.89\" font-family=\"Times-Roman\" font-weight=\"bold\" font-size=\"12.00\">n2</text>\n",
       "<text text-anchor=\"start\" x=\"151.97\" y=\"-161.49\" font-family=\"Times-Roman\" font-size=\"10.00\" fill=\"#474747\">(24.00 kV &gt; 0.00°)</text>\n",
       "</g>\n",
       "<!-- gen -->\n",
       "<g id=\"node3\" class=\"node\">\n",
       "<title>gen</title>\n",
       "<g id=\"a_node3\"><a xlink:title=\"Attributes:&#10;Edq_t: &#160;&#160;&#160;&#160;&#160;&#160;&#160;0&#10;0.942668&#10;Ef: 1.507191&#10;H: 3.700000&#10;Idq0: 0.356143&#10;0.358662&#10;L0: 0.150000&#10;Ld: 1.809900&#10;Ld_s: 0.000000&#10;Ld_t: 0.299900&#10;Lq: 1.760000&#10;Lq_s: 0.000000&#10;Lq_t: 0.000000&#10;Taa: 0.000000&#10;Td0_s: 0.000000&#10;Td0_t: 8.066900&#10;Te: 0.524256&#10;Theta: 7538.769500&#10;Tm: 0.540541&#10;Tq0_s: 0.000000&#10;Tq0_t: 0.000000&#10;Vdq0: 0.631245&#10;0.835864&#10;delta: 0.894919&#10;i_intf: (11613.9,1318.51)&#10;initElecPower: 3e+08+4.3e+07i&#10;name: gen&#10;right_vector: 56692.8&#10; &#160;&#160;&#160;&#160;&#160;0&#10; &#160;&#160;&#160;&#160;&#160;0&#10; &#160;&#160;&#160;&#160;&#160;0&#10; &#45;45460&#10; &#160;&#160;&#160;&#160;&#160;0&#10; &#160;&#160;&#160;&#160;&#160;0&#10; &#160;&#160;&#160;&#160;&#160;0&#10;uid: gen&#10;v_intf: (24368.9,6173.05)&#10;w_r: 1.000972\">\n",
       "<path fill=\"#ededed\" stroke=\"black\" stroke-width=\"2\" d=\"M196.21,-36C196.21,-36 14.21,-36 14.21,-36 8.21,-36 2.21,-30 2.21,-24 2.21,-24 2.21,-12 2.21,-12 2.21,-6 8.21,0 14.21,0 14.21,0 196.21,0 196.21,0 202.21,0 208.21,-6 208.21,-12 208.21,-12 208.21,-24 208.21,-24 208.21,-30 202.21,-36 196.21,-36\"/>\n",
       "<text text-anchor=\"start\" x=\"92.71\" y=\"-20.4\" font-family=\"Times-Roman\" font-weight=\"bold\" font-size=\"12.00\">gen</text>\n",
       "<text text-anchor=\"start\" x=\"10.21\" y=\"-10\" font-family=\"Times-Roman\" font-size=\"10.00\" fill=\"#474747\">SP::Ph1::SynchronGenerator3OrderVBR</text>\n",
       "</a>\n",
       "</g>\n",
       "</g>\n",
       "<!-- gen&#45;&#45;n1 -->\n",
       "<g id=\"edge1\" class=\"edge\">\n",
       "<title>gen&#45;&#45;n1</title>\n",
       "<path fill=\"none\" stroke=\"black\" d=\"M107.38,-36.01C109.5,-53.58 112.59,-79.21 113.93,-90.26\"/>\n",
       "</g>\n",
       "<!-- PiLine -->\n",
       "<g id=\"node4\" class=\"node\">\n",
       "<title>PiLine</title>\n",
       "<g id=\"a_node4\"><a xlink:title=\"Attributes:&#10;C_parallel: 0.000083&#10;G_parallel: 0.000001&#10;L_series: 0.001383&#10;R_series: 0.073152&#10;base_Voltage: 0.000000&#10;current_vector: (0,0)&#10;(0,0)&#10;i_intf: (&#45;12054.3,&#45;951.154)&#10;name: PiLine&#10;p_branch_vector: 0&#10;0&#10;p_inj: 0.000000&#10;q_branch_vector: 0&#10;0&#10;q_inj: 0.000000&#10;right_vector: 0&#10;0&#10;0&#10;0&#10;0&#10;0&#10;0&#10;0&#10;uid: PiLine&#10;v_intf: (&#45;385.981,&#45;6353.26)\">\n",
       "<path fill=\"transparent\" stroke=\"transparent\" stroke-width=\"2\" d=\"M214.8,-148.92C214.8,-148.92 150.8,-148.92 150.8,-148.92 144.8,-148.92 138.8,-142.92 138.8,-136.92 138.8,-136.92 138.8,-124.92 138.8,-124.92 138.8,-118.92 144.8,-112.92 150.8,-112.92 150.8,-112.92 214.8,-112.92 214.8,-112.92 220.8,-112.92 226.8,-118.92 226.8,-124.92 226.8,-124.92 226.8,-136.92 226.8,-136.92 226.8,-142.92 220.8,-148.92 214.8,-148.92\"/>\n",
       "<text text-anchor=\"start\" x=\"162.3\" y=\"-133.32\" font-family=\"Times-Roman\" font-weight=\"bold\" font-size=\"12.00\">PiLine</text>\n",
       "<text text-anchor=\"start\" x=\"146.8\" y=\"-122.92\" font-family=\"Times-Roman\" font-size=\"10.00\" fill=\"#474747\">SP::Ph1::PiLine</text>\n",
       "</a>\n",
       "</g>\n",
       "</g>\n",
       "<!-- PiLine&#45;&#45;n1 -->\n",
       "<g id=\"edge2\" class=\"edge\">\n",
       "<title>PiLine&#45;&#45;n1</title>\n",
       "<path fill=\"none\" stroke=\"black\" d=\"M147.89,-112.88C136.88,-107.18 125.97,-101.55 119.78,-98.35\"/>\n",
       "</g>\n",
       "<!-- PiLine&#45;&#45;n2 -->\n",
       "<g id=\"edge3\" class=\"edge\">\n",
       "<title>PiLine&#45;&#45;n2</title>\n",
       "<path fill=\"none\" stroke=\"black\" d=\"M218.65,-148.95C228.46,-153.88 237.9,-158.62 243.41,-161.4\"/>\n",
       "</g>\n",
       "<!-- slack -->\n",
       "<g id=\"node5\" class=\"node\">\n",
       "<title>slack</title>\n",
       "<g id=\"a_node5\"><a xlink:title=\"Attributes:&#10;V_ref: 2.4e+04+0i&#10;V_set: 0.000000&#10;V_set_pu: 1.000000&#10;f_src: 0.000000&#10;i_intf: (11710.8,558.538)&#10;name: slack&#10;p_inj: 0.000000&#10;q_inj: 0.000000&#10;right_vector: &#160;&#160;&#160;&#160;0&#10; &#160;&#160;&#160;0&#10; &#160;&#160;&#160;0&#10;24000&#10; &#160;&#160;&#160;0&#10; &#160;&#160;&#160;0&#10; &#160;&#160;&#160;0&#10; &#160;&#160;&#160;0&#10;uid: slack&#10;v_intf: (24000,0)\">\n",
       "<path fill=\"#ededed\" stroke=\"black\" stroke-width=\"2\" d=\"M366.74,-223.63C366.74,-223.63 248.74,-223.63 248.74,-223.63 242.74,-223.63 236.74,-217.63 236.74,-211.63 236.74,-211.63 236.74,-199.63 236.74,-199.63 236.74,-193.63 242.74,-187.63 248.74,-187.63 248.74,-187.63 366.74,-187.63 366.74,-187.63 372.74,-187.63 378.74,-193.63 378.74,-199.63 378.74,-199.63 378.74,-211.63 378.74,-211.63 378.74,-217.63 372.74,-223.63 366.74,-223.63\"/>\n",
       "<text text-anchor=\"start\" x=\"290.24\" y=\"-208.03\" font-family=\"Times-Roman\" font-weight=\"bold\" font-size=\"12.00\">slack</text>\n",
       "<text text-anchor=\"start\" x=\"244.74\" y=\"-197.63\" font-family=\"Times-Roman\" font-size=\"10.00\" fill=\"#474747\">SP::Ph1::NetworkInjection</text>\n",
       "</a>\n",
       "</g>\n",
       "</g>\n",
       "<!-- slack&#45;&#45;n2 -->\n",
       "<g id=\"edge4\" class=\"edge\">\n",
       "<title>slack&#45;&#45;n2</title>\n",
       "<path fill=\"none\" stroke=\"black\" d=\"M281.87,-187.44C270.87,-179.71 259.16,-171.48 252.92,-167.09\"/>\n",
       "</g>\n",
       "<!-- Fault -->\n",
       "<g id=\"node6\" class=\"node\">\n",
       "<title>Fault</title>\n",
       "<g id=\"a_node6\"><a xlink:title=\"Attributes:&#10;R_closed: 0.001038&#10;R_open: 1000000.000000&#10;i_intf: (0,0)&#10;is_closed: 0&#10;name: Fault&#10;right_vector: &#10;uid: Fault&#10;v_intf: (0,0)\">\n",
       "<path fill=\"#ededed\" stroke=\"black\" stroke-width=\"2\" d=\"M79,-150.38C79,-150.38 12,-150.38 12,-150.38 6,-150.38 0,-144.38 0,-138.38 0,-138.38 0,-126.38 0,-126.38 0,-120.38 6,-114.38 12,-114.38 12,-114.38 79,-114.38 79,-114.38 85,-114.38 91,-120.38 91,-126.38 91,-126.38 91,-138.38 91,-138.38 91,-144.38 85,-150.38 79,-150.38\"/>\n",
       "<text text-anchor=\"start\" x=\"28.5\" y=\"-134.78\" font-family=\"Times-Roman\" font-weight=\"bold\" font-size=\"12.00\">Fault</text>\n",
       "<text text-anchor=\"start\" x=\"8\" y=\"-124.38\" font-family=\"Times-Roman\" font-size=\"10.00\" fill=\"#474747\">SP::Ph1::Switch</text>\n",
       "</a>\n",
       "</g>\n",
       "</g>\n",
       "<!-- Fault&#45;&#45;n1 -->\n",
       "<g id=\"edge5\" class=\"edge\">\n",
       "<title>Fault&#45;&#45;n1</title>\n",
       "<path fill=\"none\" stroke=\"black\" d=\"M79.63,-114.24C91.33,-108.02 103.08,-101.77 109.54,-98.34\"/>\n",
       "</g>\n",
       "</g>\n",
       "</svg>\n"
      ],
      "text/plain": [
       "<dpsimpy.SystemTopology at 0x7ffb6871d130>"
      ]
     },
     "execution_count": 34,
     "metadata": {},
     "output_type": "execute_result"
    }
   ],
   "source": [
    "system_sp"
   ]
  },
  {
   "cell_type": "code",
   "execution_count": 35,
   "metadata": {},
   "outputs": [
    {
     "data": {
      "text/plain": [
       "{'meta_info': {'namespaces': {'rdf': 'http://www.w3.org/1999/02/22-rdf-syntax-ns#',\n",
       "   'cim': 'http://iec.ch/TC57/2013/CIM-schema-cim16#',\n",
       "   'md': 'http://iec.ch/TC57/61970-552/ModelDescription/1#',\n",
       "   'entsoe': 'http://entsoe.eu/CIM/SchemaExtension/3/1#'},\n",
       "  'urls': {},\n",
       "  'author': 'DPsim'},\n",
       " 'topology': {}}"
      ]
     },
     "execution_count": 35,
     "metadata": {},
     "output_type": "execute_result"
    }
   ],
   "source": [
    "network124 = {'meta_info': {\n",
    "                'namespaces': {\n",
    "                'rdf': 'http://www.w3.org/1999/02/22-rdf-syntax-ns#',\n",
    "                'cim': 'http://iec.ch/TC57/2013/CIM-schema-cim16#',\n",
    "                'md': 'http://iec.ch/TC57/61970-552/ModelDescription/1#',\n",
    "                'entsoe': 'http://entsoe.eu/CIM/SchemaExtension/3/1#'},            \n",
    "                'urls': {}, \n",
    "                'author': 'DPsim'},\n",
    "                'topology': {}\n",
    "                }\n",
    "network124"
   ]
  },
  {
   "cell_type": "markdown",
   "metadata": {},
   "source": [
    "### DPSim Object with cimexport Test\n"
   ]
  },
  {
   "cell_type": "code",
   "execution_count": 36,
   "metadata": {},
   "outputs": [
    {
     "name": "stderr",
     "output_type": "stream",
     "text": [
      "File ./_Topology.xml already exists. Delete file or change file name to serialize CGMES classes.\n",
      "[ERROR:] File ./_Topology.xml already exists. Delete file or change file name to serialize CGMES classes.\n"
     ]
    },
    {
     "ename": "NameError",
     "evalue": "name 'exit' is not defined",
     "output_type": "error",
     "traceback": [
      "\u001b[0;31m---------------------------------------------------------------------------\u001b[0m",
      "\u001b[0;31mNameError\u001b[0m                                 Traceback (most recent call last)",
      "\u001b[1;32m/home/mmo-cya/dpsim/examples/Notebooks/Circuits/example_dpsim.ipynb Cell 59\u001b[0m in \u001b[0;36m<module>\u001b[0;34m\u001b[0m\n\u001b[1;32m      <a href='vscode-notebook-cell://ssh-remote%2Bfedora-mmo-1.acs-lab.eonerc.rwth-aachen.de/home/mmo-cya/dpsim/examples/Notebooks/Circuits/example_dpsim.ipynb#Y112sdnNjb2RlLXJlbW90ZQ%3D%3D?line=3'>4</a>\u001b[0m \u001b[39mimport\u001b[39;00m \u001b[39mpickle\u001b[39;00m\n\u001b[1;32m      <a href='vscode-notebook-cell://ssh-remote%2Bfedora-mmo-1.acs-lab.eonerc.rwth-aachen.de/home/mmo-cya/dpsim/examples/Notebooks/Circuits/example_dpsim.ipynb#Y112sdnNjb2RlLXJlbW90ZQ%3D%3D?line=5'>6</a>\u001b[0m activeProfileList \u001b[39m=\u001b[39m [\u001b[39m'\u001b[39m\u001b[39mTP\u001b[39m\u001b[39m'\u001b[39m]              \n\u001b[0;32m----> <a href='vscode-notebook-cell://ssh-remote%2Bfedora-mmo-1.acs-lab.eonerc.rwth-aachen.de/home/mmo-cya/dpsim/examples/Notebooks/Circuits/example_dpsim.ipynb#Y112sdnNjb2RlLXJlbW90ZQ%3D%3D?line=6'>7</a>\u001b[0m cimpy\u001b[39m.\u001b[39;49mcim_export(network_sp, \u001b[39m\"\u001b[39;49m\u001b[39m./\u001b[39;49m\u001b[39m\"\u001b[39;49m, \u001b[39m'\u001b[39;49m\u001b[39mcgmes_v2_4_15\u001b[39;49m\u001b[39m'\u001b[39;49m, activeProfileList )\n",
      "File \u001b[0;32m~/cimpy/cimpy/cimexport.py:334\u001b[0m, in \u001b[0;36mcim_export\u001b[0;34m(import_result, file_name, version, activeProfileList)\u001b[0m\n\u001b[1;32m    330\u001b[0m         logger\u001b[39m.\u001b[39merror(\u001b[39m'\u001b[39m\u001b[39mFile \u001b[39m\u001b[39m{}\u001b[39;00m\u001b[39m already exists. Delete file or change file name to serialize CGMES \u001b[39m\u001b[39m'\u001b[39m\n\u001b[1;32m    331\u001b[0m                        \u001b[39m'\u001b[39m\u001b[39mclasses.\u001b[39m\u001b[39m'\u001b[39m\u001b[39m.\u001b[39mformat(full_file_name))\n\u001b[1;32m    332\u001b[0m         \u001b[39mprint\u001b[39m(\u001b[39m'\u001b[39m\u001b[39m[ERROR:] File \u001b[39m\u001b[39m{}\u001b[39;00m\u001b[39m already exists. Delete file or change file name to serialize CGMES \u001b[39m\u001b[39m'\u001b[39m\n\u001b[1;32m    333\u001b[0m                        \u001b[39m'\u001b[39m\u001b[39mclasses.\u001b[39m\u001b[39m'\u001b[39m\u001b[39m.\u001b[39mformat(full_file_name), file\u001b[39m=\u001b[39msys\u001b[39m.\u001b[39mstderr)\n\u001b[0;32m--> 334\u001b[0m         exit(\u001b[39m-\u001b[39m\u001b[39m1\u001b[39m)\n\u001b[1;32m    336\u001b[0m logger\u001b[39m.\u001b[39minfo(\u001b[39m'\u001b[39m\u001b[39mEnd export procedure. Elapsed time: \u001b[39m\u001b[39m{}\u001b[39;00m\u001b[39m'\u001b[39m\u001b[39m.\u001b[39mformat(time() \u001b[39m-\u001b[39m t0))\n",
      "\u001b[0;31mNameError\u001b[0m: name 'exit' is not defined"
     ]
    }
   ],
   "source": [
    "import cimpy\n",
    "from pathlib import Path\n",
    "import pytest_check as check\n",
    "import pickle\n",
    "\n",
    "activeProfileList = ['TP']              \n",
    "cimpy.cim_export(network_sp, \"./\", 'cgmes_v2_4_15', activeProfileList )\n",
    "\n",
    "#ref_dict_path = Path('./CIGREMV_import_reference_cgmes_v2_4_15.p')\n",
    "#check_dict_pickle = pickle.load(open(ref_dict_path, 'rb'))\n",
    "\n",
    "#for elem in import_resolved:\n",
    "#    check.is_in(elem, check_dict_pickle)"
   ]
  },
  {
   "attachments": {},
   "cell_type": "markdown",
   "metadata": {},
   "source": [
    "#### Read Results DPSim"
   ]
  },
  {
   "cell_type": "code",
   "execution_count": 37,
   "metadata": {},
   "outputs": [
    {
     "name": "stdout",
     "output_type": "stream",
     "text": [
      "column number: 12\n",
      "results length: 20000\n",
      "real column names: ['Edq0_0', 'Edq0_1', 'Idq0_0', 'Idq0_1', 'Te', 'Vdq0_0', 'Vdq0_1', 'delta', 'w_r']\n",
      "complex column names: ['i_gen', 'n1.v', 'n2.v']\n"
     ]
    }
   ],
   "source": [
    "# read Simulink log file\n",
    "\n",
    "file_path = os.getcwd() + \"/logs/\" + log_name + \"/\" + log_name + \".csv\"\n",
    "ts_dpsim_3Order = read_timeseries_dpsim(file_path)"
   ]
  },
  {
   "attachments": {},
   "cell_type": "markdown",
   "metadata": {},
   "source": [
    "#### Plot and validate results"
   ]
  },
  {
   "attachments": {},
   "cell_type": "markdown",
   "metadata": {},
   "source": [
    "##### Electrical torque"
   ]
  },
  {
   "cell_type": "code",
   "execution_count": 38,
   "metadata": {},
   "outputs": [
    {
     "name": "stdout",
     "output_type": "stream",
     "text": [
      "RMSE Te  = 0.006995 (pu), which is 1.294% of the nominal value = 0.541 (pu) \n"
     ]
    },
    {
     "data": {
      "image/png": "[encoded data removed]",
      "text/plain": [
       "<Figure size 864x288 with 1 Axes>"
      ]
     },
     "metadata": {
      "needs_background": "light"
     },
     "output_type": "display_data"
    }
   ],
   "source": [
    "varname_dpsim = \"Te\"\n",
    "varname_psat = \"p\"\n",
    "\n",
    "rmse_torque = plot_variable(titles, varname_dpsim, varname_psat, ts_dpsim_3Order, ts_psat_3Order, nominal_values, ylabels)"
   ]
  },
  {
   "attachments": {},
   "cell_type": "markdown",
   "metadata": {},
   "source": [
    "##### $E_q^{'}$"
   ]
  },
  {
   "cell_type": "code",
   "execution_count": 39,
   "metadata": {},
   "outputs": [
    {
     "name": "stdout",
     "output_type": "stream",
     "text": [
      "RMSE Edq0_1  = 0.000183 (pu), which is 0.019% of the nominal value = 0.945 (pu) \n"
     ]
    },
    {
     "data": {
      "image/png": "[encoded data removed]",
      "text/plain": [
       "<Figure size 864x288 with 1 Axes>"
      ]
     },
     "metadata": {
      "needs_background": "light"
     },
     "output_type": "display_data"
    }
   ],
   "source": [
    "varname_dpsim = \"Edq0_1\"\n",
    "varname_psat = \"eq_t\"\n",
    "\n",
    "rmse_eq = plot_variable(titles, varname_dpsim, varname_psat, ts_dpsim_3Order, ts_psat_3Order, nominal_values, ylabels)"
   ]
  },
  {
   "attachments": {},
   "cell_type": "markdown",
   "metadata": {},
   "source": [
    "##### $V_d$"
   ]
  },
  {
   "cell_type": "code",
   "execution_count": 40,
   "metadata": {},
   "outputs": [
    {
     "name": "stdout",
     "output_type": "stream",
     "text": [
      "RMSE Vdq0_0  = 0.006256 (pu), which is 0.979% of the nominal value = 0.639 (pu) \n"
     ]
    },
    {
     "data": {
      "image/png": "[encoded data removed]",
      "text/plain": [
       "<Figure size 864x288 with 1 Axes>"
      ]
     },
     "metadata": {
      "needs_background": "light"
     },
     "output_type": "display_data"
    }
   ],
   "source": [
    "varname_dpsim = \"Vdq0_0\"\n",
    "varname_psat = \"vd\"\n",
    "\n",
    "rmse_vd = plot_variable(titles, varname_dpsim, varname_psat, ts_dpsim_3Order, ts_psat_3Order, nominal_values, ylabels)"
   ]
  },
  {
   "attachments": {},
   "cell_type": "markdown",
   "metadata": {},
   "source": [
    "##### $V_q$"
   ]
  },
  {
   "cell_type": "code",
   "execution_count": 41,
   "metadata": {},
   "outputs": [
    {
     "name": "stdout",
     "output_type": "stream",
     "text": [
      "RMSE Vdq0_1  = 0.006747 (pu), which is 0.810% of the nominal value = 0.833 (pu) \n"
     ]
    },
    {
     "data": {
      "image/png": "[encoded data removed]",
      "text/plain": [
       "<Figure size 864x288 with 1 Axes>"
      ]
     },
     "metadata": {
      "needs_background": "light"
     },
     "output_type": "display_data"
    }
   ],
   "source": [
    "varname_dpsim = \"Vdq0_1\"\n",
    "varname_psat = \"vq\"\n",
    "\n",
    "rmse_vq = plot_variable(titles, varname_dpsim, varname_psat, ts_dpsim_3Order, ts_psat_3Order, nominal_values, ylabels)"
   ]
  },
  {
   "attachments": {},
   "cell_type": "markdown",
   "metadata": {},
   "source": [
    "##### $I_d$"
   ]
  },
  {
   "cell_type": "code",
   "execution_count": 42,
   "metadata": {},
   "outputs": [
    {
     "name": "stdout",
     "output_type": "stream",
     "text": [
      "RMSE Idq0_0  = 0.022487 (pu), which is 6.038% of the nominal value = 0.372 (pu) \n"
     ]
    },
    {
     "data": {
      "image/png": "[encoded data removed]",
      "text/plain": [
       "<Figure size 864x288 with 1 Axes>"
      ]
     },
     "metadata": {
      "needs_background": "light"
     },
     "output_type": "display_data"
    }
   ],
   "source": [
    "varname_dpsim = \"Idq0_0\"\n",
    "varname_psat = \"id\"\n",
    "\n",
    "rmse_id = plot_variable(titles, varname_dpsim, varname_psat, ts_dpsim_3Order, ts_psat_3Order, nominal_values, ylabels)"
   ]
  },
  {
   "attachments": {},
   "cell_type": "markdown",
   "metadata": {},
   "source": [
    "##### $I_q$"
   ]
  },
  {
   "cell_type": "code",
   "execution_count": 43,
   "metadata": {},
   "outputs": [
    {
     "name": "stdout",
     "output_type": "stream",
     "text": [
      "RMSE Idq0_1  = 0.003555 (pu), which is 0.979% of the nominal value = 0.363 (pu) \n"
     ]
    },
    {
     "data": {
      "image/png": "[encoded data removed]",
      "text/plain": [
       "<Figure size 864x288 with 1 Axes>"
      ]
     },
     "metadata": {
      "needs_background": "light"
     },
     "output_type": "display_data"
    }
   ],
   "source": [
    "varname_dpsim = \"Idq0_1\"\n",
    "varname_psat = \"iq\"\n",
    "\n",
    "rmse_iq = plot_variable(titles, varname_dpsim, varname_psat, ts_dpsim_3Order, ts_psat_3Order, nominal_values, ylabels)"
   ]
  },
  {
   "attachments": {},
   "cell_type": "markdown",
   "metadata": {},
   "source": [
    "##### Delta"
   ]
  },
  {
   "cell_type": "code",
   "execution_count": 44,
   "metadata": {},
   "outputs": [
    {
     "name": "stdout",
     "output_type": "stream",
     "text": [
      "RMSE delta  = 0.005919 (pu), which is 0.651% of the nominal value = 0.909 (pu) \n"
     ]
    },
    {
     "data": {
      "image/png": "[encoded data removed]",
      "text/plain": [
       "<Figure size 864x288 with 1 Axes>"
      ]
     },
     "metadata": {
      "needs_background": "light"
     },
     "output_type": "display_data"
    }
   ],
   "source": [
    "varname_dpsim = \"delta\"\n",
    "varname_psat = \"delta\"\n",
    "\n",
    "rmse_delta = plot_variable(titles, varname_dpsim, varname_psat, ts_dpsim_3Order, ts_psat_3Order, nominal_values, ylabels)"
   ]
  },
  {
   "attachments": {},
   "cell_type": "markdown",
   "metadata": {},
   "source": [
    "##### Mechanical Omega"
   ]
  },
  {
   "cell_type": "code",
   "execution_count": 45,
   "metadata": {},
   "outputs": [
    {
     "name": "stdout",
     "output_type": "stream",
     "text": [
      "RMSE w_r  = 0.000101 (pu), which is 0.010% of the nominal value = 1.000 (pu) \n"
     ]
    },
    {
     "data": {
      "image/png": "[encoded data removed]",
      "text/plain": [
       "<Figure size 864x288 with 1 Axes>"
      ]
     },
     "metadata": {
      "needs_background": "light"
     },
     "output_type": "display_data"
    }
   ],
   "source": [
    "varname_dpsim = \"w_r\"\n",
    "varname_psat = \"omega\"\n",
    "\n",
    "rmse_omega = plot_variable(titles, varname_dpsim, varname_psat, ts_dpsim_3Order, ts_psat_3Order, nominal_values, ylabels)"
   ]
  },
  {
   "attachments": {},
   "cell_type": "markdown",
   "metadata": {},
   "source": [
    "##### Grid voltages"
   ]
  },
  {
   "cell_type": "code",
   "execution_count": 46,
   "metadata": {},
   "outputs": [
    {
     "name": "stdout",
     "output_type": "stream",
     "text": [
      "RMSE n1.v  = 0.008480 (pu), which is 0.848% of the nominal value = 1.000 (pu) \n"
     ]
    },
    {
     "data": {
      "image/png": "[encoded data removed]",
      "text/plain": [
       "<Figure size 864x288 with 1 Axes>"
      ]
     },
     "metadata": {
      "needs_background": "light"
     },
     "output_type": "display_data"
    }
   ],
   "source": [
    "varname_dpsim = \"n1.v\"\n",
    "varname_psat = \"V_Bus1\"\n",
    "\n",
    "rmse_v1_abs = plot_node_volt_abs(varname_dpsim, varname_psat, ts_dpsim_3Order, ts_psat_3Order, nominal_grid_voltage, ylabels)"
   ]
  },
  {
   "cell_type": "code",
   "execution_count": 47,
   "metadata": {},
   "outputs": [
    {
     "name": "stdout",
     "output_type": "stream",
     "text": [
      "RMSE Post-Fault n1.v  = 0.154882 (deg)\n"
     ]
    },
    {
     "data": {
      "image/png": "[encoded data removed]",
      "text/plain": [
       "<Figure size 864x288 with 1 Axes>"
      ]
     },
     "metadata": {
      "needs_background": "light"
     },
     "output_type": "display_data"
    }
   ],
   "source": [
    "varname_dpsim = \"n1.v\"\n",
    "varname_psat = \"theta_bus1\"\n",
    "\n",
    "rmse_v1_angle = plot_node_volt_angle(varname_dpsim, varname_psat, ts_dpsim_3Order, ts_psat_3Order, nominal_grid_voltage, ylabels)"
   ]
  },
  {
   "cell_type": "code",
   "execution_count": 48,
   "metadata": {},
   "outputs": [
    {
     "name": "stdout",
     "output_type": "stream",
     "text": [
      "RMSE n2.v  = 0.000000 (pu), which is 0.000% of the nominal value = 1.000 (pu) \n"
     ]
    },
    {
     "data": {
      "image/png": "[encoded data removed]",
      "text/plain": [
       "<Figure size 864x288 with 1 Axes>"
      ]
     },
     "metadata": {
      "needs_background": "light"
     },
     "output_type": "display_data"
    }
   ],
   "source": [
    "varname_dpsim = \"n2.v\"\n",
    "varname_psat = \"V_Bus3\"\n",
    "\n",
    "rmse_v2_abs = plot_node_volt_abs(varname_dpsim, varname_psat, ts_dpsim_3Order, ts_psat_3Order, nominal_grid_voltage, ylabels)"
   ]
  },
  {
   "cell_type": "code",
   "execution_count": 49,
   "metadata": {},
   "outputs": [
    {
     "name": "stdout",
     "output_type": "stream",
     "text": [
      "RMSE Post-Fault n2.v  = 0.000000 (deg)\n"
     ]
    },
    {
     "data": {
      "image/png": "[encoded data removed]",
      "text/plain": [
       "<Figure size 864x288 with 1 Axes>"
      ]
     },
     "metadata": {
      "needs_background": "light"
     },
     "output_type": "display_data"
    }
   ],
   "source": [
    "varname_dpsim = \"n2.v\"\n",
    "varname_psat = \"theta_bus3\"\n",
    "\n",
    "rmse_v2_angle = plot_node_volt_angle(varname_dpsim, varname_psat, ts_dpsim_3Order, ts_psat_3Order, nominal_grid_voltage, ylabels)"
   ]
  },
  {
   "attachments": {},
   "cell_type": "markdown",
   "metadata": {},
   "source": [
    "#### Assert"
   ]
  },
  {
   "cell_type": "code",
   "execution_count": null,
   "metadata": {},
   "outputs": [],
   "source": [
    "tol = 1.3 # %\n",
    "tol_id = 7 # %\n",
    "tol_deg_v1 = 0.16 # deg\n",
    "tol_deg_v2 = 1e-12 # deg\n",
    "\n",
    "assert(rmse_torque<tol)\n",
    "assert(rmse_eq<tol)\n",
    "assert(rmse_vd<tol)\n",
    "assert(rmse_vq<tol)\n",
    "assert(rmse_id<tol_id)\n",
    "assert(rmse_iq<tol)\n",
    "assert(rmse_delta<tol)\n",
    "assert(rmse_omega<tol)\n",
    "assert(rmse_v1_abs<tol)\n",
    "assert(rmse_v2_abs<tol)\n",
    "assert(rmse_v1_angle<tol_deg_v1)\n",
    "assert(rmse_v2_angle<tol_deg_v2)"
   ]
  },
  {
   "attachments": {},
   "cell_type": "markdown",
   "metadata": {},
   "source": [
    "### 4th Order Model"
   ]
  },
  {
   "cell_type": "code",
   "execution_count": null,
   "metadata": {},
   "outputs": [
    {
     "name": "stdout",
     "output_type": "stream",
     "text": [
      "1.000000e+00: Handle event time\n"
     ]
    },
    {
     "name": "stderr",
     "output_type": "stream",
     "text": [
      "[15:54:57.286898 PiLine warning] Zero value for Conductance, setting default value of G=1e-06 [S]\n",
      "[15:54:57.288533 SP_ReducedOrderSG_SMIB_4Order info] Initialize simulation: SP_ReducedOrderSG_SMIB_4Order\n",
      "[15:54:57.288680 MnaSolverFactory info] creating SparseLUAdapter solver implementation\n",
      "[15:54:57.290122 SP_ReducedOrderSG_SMIB_4Order_Solver warning] Linear solver configuration is not used!\n",
      "[15:54:57.290967 SP_ReducedOrderSG_SMIB_4Order info] Scheduling tasks.\n",
      "[15:54:57.291368 SP_ReducedOrderSG_SMIB_4Order info] Scheduling done.\n",
      "[15:54:57.291372 SP_ReducedOrderSG_SMIB_4Order info] Opening interfaces.\n",
      "[15:54:57.291373 SP_ReducedOrderSG_SMIB_4Order info] Start synchronization with remotes on interfaces\n",
      "[15:54:57.291375 SP_ReducedOrderSG_SMIB_4Order info] Synchronized simulation start with remotes\n",
      "[15:54:57.291377 SP_ReducedOrderSG_SMIB_4Order info] Start simulation: SP_ReducedOrderSG_SMIB_4Order\n",
      "[15:54:57.291381 SP_ReducedOrderSG_SMIB_4Order info] Time step: 1.000000e-03\n",
      "[15:54:57.291383 SP_ReducedOrderSG_SMIB_4Order info] Final time: 2.000000e+01\n",
      "[15:55:05.689013 SP_ReducedOrderSG_SMIB_4Order info] Simulation calculation time: 8.397582\n",
      "[15:55:05.689464 SP_ReducedOrderSG_SMIB_4Order info] Simulation finished.\n"
     ]
    },
    {
     "name": "stdout",
     "output_type": "stream",
     "text": [
      "1.100000e+00: Handle event time\n"
     ]
    }
   ],
   "source": [
    "log_name = sp_reducedOrderSG_SMIB_fault(sim_pf, gen_pf, \"4Order\")"
   ]
  },
  {
   "attachments": {},
   "cell_type": "markdown",
   "metadata": {},
   "source": [
    "#### Read Results DPSim"
   ]
  },
  {
   "cell_type": "code",
   "execution_count": null,
   "metadata": {},
   "outputs": [
    {
     "ename": "TypeError",
     "evalue": "can only concatenate str (not \"tuple\") to str",
     "output_type": "error",
     "traceback": [
      "\u001b[0;31m---------------------------------------------------------------------------\u001b[0m",
      "\u001b[0;31mTypeError\u001b[0m                                 Traceback (most recent call last)",
      "\u001b[1;32m/home/mmo-cya/dpsim/examples/Notebooks/Circuits/example_dpsim.ipynb Cell 93\u001b[0m in \u001b[0;36m<module>\u001b[0;34m\u001b[0m\n\u001b[1;32m      <a href='vscode-notebook-cell://ssh-remote%2Bfedora-mmo-1.acs-lab.eonerc.rwth-aachen.de/home/mmo-cya/dpsim/examples/Notebooks/Circuits/example_dpsim.ipynb#Y161sdnNjb2RlLXJlbW90ZQ%3D%3D?line=0'>1</a>\u001b[0m \u001b[39m# read Simulink log file\u001b[39;00m\n\u001b[0;32m----> <a href='vscode-notebook-cell://ssh-remote%2Bfedora-mmo-1.acs-lab.eonerc.rwth-aachen.de/home/mmo-cya/dpsim/examples/Notebooks/Circuits/example_dpsim.ipynb#Y161sdnNjb2RlLXJlbW90ZQ%3D%3D?line=2'>3</a>\u001b[0m file_path \u001b[39m=\u001b[39m os\u001b[39m.\u001b[39;49mgetcwd() \u001b[39m+\u001b[39;49m \u001b[39m\"\u001b[39;49m\u001b[39m/logs/\u001b[39;49m\u001b[39m\"\u001b[39;49m \u001b[39m+\u001b[39;49m log_name \u001b[39m+\u001b[39m \u001b[39m\"\u001b[39m\u001b[39m/\u001b[39m\u001b[39m\"\u001b[39m \u001b[39m+\u001b[39m log_name \u001b[39m+\u001b[39m \u001b[39m\"\u001b[39m\u001b[39m.csv\u001b[39m\u001b[39m\"\u001b[39m\n\u001b[1;32m      <a href='vscode-notebook-cell://ssh-remote%2Bfedora-mmo-1.acs-lab.eonerc.rwth-aachen.de/home/mmo-cya/dpsim/examples/Notebooks/Circuits/example_dpsim.ipynb#Y161sdnNjb2RlLXJlbW90ZQ%3D%3D?line=3'>4</a>\u001b[0m ts_dpsim_4Order \u001b[39m=\u001b[39m read_timeseries_dpsim(file_path)\n",
      "\u001b[0;31mTypeError\u001b[0m: can only concatenate str (not \"tuple\") to str"
     ]
    }
   ],
   "source": [
    "# read Simulink log file\n",
    "\n",
    "file_path = os.getcwd() + \"/logs/\" + log_name + \"/\" + log_name + \".csv\"\n",
    "ts_dpsim_4Order = read_timeseries_dpsim(file_path)"
   ]
  },
  {
   "attachments": {},
   "cell_type": "markdown",
   "metadata": {},
   "source": [
    "#### Plot and validate results"
   ]
  },
  {
   "attachments": {},
   "cell_type": "markdown",
   "metadata": {},
   "source": [
    "##### Electrical torque"
   ]
  },
  {
   "cell_type": "code",
   "execution_count": null,
   "metadata": {},
   "outputs": [],
   "source": [
    "varname_dpsim = \"Te\"\n",
    "varname_psat = \"p\"\n",
    "\n",
    "rmse_torque = plot_variable(titles, varname_dpsim, varname_psat, ts_dpsim_4Order, ts_psat_4Order, nominal_values, ylabels)"
   ]
  },
  {
   "attachments": {},
   "cell_type": "markdown",
   "metadata": {},
   "source": [
    "##### $E_d^{'}$"
   ]
  },
  {
   "cell_type": "code",
   "execution_count": null,
   "metadata": {},
   "outputs": [],
   "source": [
    "varname_dpsim = \"Edq0_0\"\n",
    "varname_psat = \"ed_t\"\n",
    "\n",
    "rmse_ed = plot_variable(titles, varname_dpsim, varname_psat, ts_dpsim_4Order, ts_psat_4Order, nominal_values, ylabels)"
   ]
  },
  {
   "attachments": {},
   "cell_type": "markdown",
   "metadata": {},
   "source": [
    "##### $E_q^{'}$"
   ]
  },
  {
   "cell_type": "code",
   "execution_count": null,
   "metadata": {},
   "outputs": [],
   "source": [
    "varname_dpsim = \"Edq0_1\"\n",
    "varname_psat = \"eq_t\"\n",
    "\n",
    "rmse_eq = plot_variable(titles, varname_dpsim, varname_psat, ts_dpsim_4Order, ts_psat_4Order, nominal_values, ylabels)"
   ]
  },
  {
   "attachments": {},
   "cell_type": "markdown",
   "metadata": {},
   "source": [
    "##### $V_d$"
   ]
  },
  {
   "cell_type": "code",
   "execution_count": null,
   "metadata": {},
   "outputs": [],
   "source": [
    "varname_dpsim = \"Vdq0_0\"\n",
    "varname_psat = \"vd\"\n",
    "\n",
    "rmse_vd = plot_variable(titles, varname_dpsim, varname_psat, ts_dpsim_4Order, ts_psat_4Order, nominal_values, ylabels)"
   ]
  },
  {
   "attachments": {},
   "cell_type": "markdown",
   "metadata": {},
   "source": [
    "##### $V_q$"
   ]
  },
  {
   "cell_type": "code",
   "execution_count": null,
   "metadata": {},
   "outputs": [],
   "source": [
    "varname_dpsim = \"Vdq0_1\"\n",
    "varname_psat = \"vq\"\n",
    "\n",
    "rmse_vq = plot_variable(titles, varname_dpsim, varname_psat, ts_dpsim_4Order, ts_psat_4Order, nominal_values, ylabels)"
   ]
  },
  {
   "attachments": {},
   "cell_type": "markdown",
   "metadata": {},
   "source": [
    "##### $I_d$"
   ]
  },
  {
   "cell_type": "code",
   "execution_count": null,
   "metadata": {},
   "outputs": [],
   "source": [
    "varname_dpsim = \"Idq0_0\"\n",
    "varname_psat = \"id\"\n",
    "\n",
    "rmse_id = plot_variable(titles, varname_dpsim, varname_psat, ts_dpsim_4Order, ts_psat_4Order, nominal_values, ylabels)"
   ]
  },
  {
   "attachments": {},
   "cell_type": "markdown",
   "metadata": {},
   "source": [
    "##### $I_q$"
   ]
  },
  {
   "cell_type": "code",
   "execution_count": null,
   "metadata": {},
   "outputs": [],
   "source": [
    "varname_dpsim = \"Idq0_1\"\n",
    "varname_psat = \"iq\"\n",
    "\n",
    "rmse_iq = plot_variable(titles, varname_dpsim, varname_psat, ts_dpsim_4Order, ts_psat_4Order, nominal_values, ylabels)"
   ]
  },
  {
   "attachments": {},
   "cell_type": "markdown",
   "metadata": {},
   "source": [
    "##### Delta"
   ]
  },
  {
   "cell_type": "code",
   "execution_count": null,
   "metadata": {},
   "outputs": [],
   "source": [
    "varname_dpsim = \"delta\"\n",
    "varname_psat = \"delta\"\n",
    "\n",
    "rmse_delta = plot_variable(titles, varname_dpsim, varname_psat, ts_dpsim_4Order, ts_psat_4Order, nominal_values, ylabels)"
   ]
  },
  {
   "attachments": {},
   "cell_type": "markdown",
   "metadata": {},
   "source": [
    "##### Mechanical Omega"
   ]
  },
  {
   "cell_type": "code",
   "execution_count": null,
   "metadata": {},
   "outputs": [],
   "source": [
    "varname_dpsim = \"w_r\"\n",
    "varname_psat = \"omega\"\n",
    "\n",
    "rmse_omega = plot_variable(titles, varname_dpsim, varname_psat, ts_dpsim_4Order, ts_psat_4Order, nominal_values, ylabels)"
   ]
  },
  {
   "attachments": {},
   "cell_type": "markdown",
   "metadata": {},
   "source": [
    "##### Grid voltages"
   ]
  },
  {
   "cell_type": "code",
   "execution_count": null,
   "metadata": {},
   "outputs": [],
   "source": [
    "varname_dpsim = \"n1.v\"\n",
    "varname_psat = \"V_Bus1\"\n",
    "\n",
    "rmse_v1_abs = plot_node_volt_abs(varname_dpsim, varname_psat, ts_dpsim_4Order, ts_psat_4Order, nominal_grid_voltage, ylabels)"
   ]
  },
  {
   "cell_type": "code",
   "execution_count": null,
   "metadata": {},
   "outputs": [],
   "source": [
    "varname_dpsim = \"n1.v\"\n",
    "varname_psat = \"theta_bus1\"\n",
    "\n",
    "rmse_v1_angle = plot_node_volt_angle(varname_dpsim, varname_psat, ts_dpsim_4Order, ts_psat_4Order, nominal_grid_voltage, ylabels)"
   ]
  },
  {
   "cell_type": "code",
   "execution_count": null,
   "metadata": {},
   "outputs": [],
   "source": [
    "varname_dpsim = \"n2.v\"\n",
    "varname_psat = \"V_Bus3\"\n",
    "\n",
    "rmse_v2_abs = plot_node_volt_abs(varname_dpsim, varname_psat, ts_dpsim_4Order, ts_psat_4Order, nominal_grid_voltage, ylabels)"
   ]
  },
  {
   "cell_type": "code",
   "execution_count": null,
   "metadata": {},
   "outputs": [],
   "source": [
    "varname_dpsim = \"n2.v\"\n",
    "varname_psat = \"theta_bus3\"\n",
    "\n",
    "rmse_v2_angle = plot_node_volt_angle(varname_dpsim, varname_psat, ts_dpsim_4Order, ts_psat_4Order, nominal_grid_voltage, ylabels)"
   ]
  },
  {
   "attachments": {},
   "cell_type": "markdown",
   "metadata": {},
   "source": [
    "#### Assert"
   ]
  },
  {
   "cell_type": "code",
   "execution_count": null,
   "metadata": {},
   "outputs": [],
   "source": [
    "tol = 1 # %\n",
    "tol_id = 6 # %\n",
    "tol_iq = 2.3 # %\n",
    "tol_deg_v1 = 0.2 # deg\n",
    "tol_deg_v2 = 1e-12 # deg\n",
    "\n",
    "assert(rmse_torque<tol)\n",
    "assert(rmse_ed<tol)\n",
    "assert(rmse_eq<tol)\n",
    "assert(rmse_vd<tol)\n",
    "assert(rmse_vq<tol)\n",
    "assert(rmse_id<tol_id)\n",
    "assert(rmse_iq<tol_iq)\n",
    "assert(rmse_delta<tol)\n",
    "assert(rmse_omega<tol)\n",
    "assert(rmse_v1_abs<tol)\n",
    "assert(rmse_v2_abs<tol)\n",
    "assert(rmse_v1_angle<tol_deg_v1)\n",
    "assert(rmse_v2_angle<tol_deg_v2)"
   ]
  },
  {
   "attachments": {},
   "cell_type": "markdown",
   "metadata": {},
   "source": [
    "### 6th Order Model (Marconato's model)"
   ]
  },
  {
   "cell_type": "code",
   "execution_count": null,
   "metadata": {},
   "outputs": [],
   "source": [
    "log_name = sp_reducedOrderSG_SMIB_fault(sim_pf, gen_pf, \"6aOrder\")"
   ]
  },
  {
   "attachments": {},
   "cell_type": "markdown",
   "metadata": {},
   "source": [
    "#### Read DPSim results"
   ]
  },
  {
   "cell_type": "code",
   "execution_count": null,
   "metadata": {},
   "outputs": [],
   "source": [
    "# read Simulink log file\n",
    "\n",
    "file_path = os.getcwd() + \"/logs/\" + log_name + \"/\" + log_name + \".csv\"\n",
    "ts_dpsim_6aOrder = read_timeseries_dpsim(file_path)"
   ]
  },
  {
   "attachments": {},
   "cell_type": "markdown",
   "metadata": {},
   "source": [
    "#### Plot and validate results"
   ]
  },
  {
   "attachments": {},
   "cell_type": "markdown",
   "metadata": {},
   "source": [
    "##### Electrical Torque"
   ]
  },
  {
   "cell_type": "code",
   "execution_count": null,
   "metadata": {},
   "outputs": [],
   "source": [
    "varname_dpsim = \"Te\"\n",
    "varname_psat = \"p\"\n",
    "\n",
    "rmse_torque = plot_variable(titles, varname_dpsim, varname_psat, ts_dpsim_6aOrder, ts_psat_6Order, nominal_values, ylabels)"
   ]
  },
  {
   "attachments": {},
   "cell_type": "markdown",
   "metadata": {},
   "source": [
    "##### $E_d^{'}$"
   ]
  },
  {
   "cell_type": "code",
   "execution_count": null,
   "metadata": {},
   "outputs": [],
   "source": [
    "varname_dpsim = \"Edq0_t_0\"\n",
    "varname_psat = \"ed_t\"\n",
    "\n",
    "rmse_ed = plot_variable(titles, varname_dpsim, varname_psat, ts_dpsim_6aOrder, ts_psat_6Order, nominal_values, ylabels)"
   ]
  },
  {
   "attachments": {},
   "cell_type": "markdown",
   "metadata": {},
   "source": [
    "##### $E_q^{'}$"
   ]
  },
  {
   "cell_type": "code",
   "execution_count": null,
   "metadata": {},
   "outputs": [],
   "source": [
    "varname_dpsim = \"Edq0_t_1\"\n",
    "varname_psat = \"eq_t\"\n",
    "\n",
    "rmse_eq = plot_variable(titles, varname_dpsim, varname_psat, ts_dpsim_6aOrder, ts_psat_6Order, nominal_values, ylabels)"
   ]
  },
  {
   "attachments": {},
   "cell_type": "markdown",
   "metadata": {},
   "source": [
    "##### $E_d^{''}$"
   ]
  },
  {
   "cell_type": "code",
   "execution_count": null,
   "metadata": {},
   "outputs": [],
   "source": [
    "varname_dpsim = \"Edq0_s_0\"\n",
    "varname_psat = \"ed_s\"\n",
    "\n",
    "rmse_ed_s = plot_variable(titles, varname_dpsim, varname_psat, ts_dpsim_6aOrder, ts_psat_6Order, nominal_values, ylabels)"
   ]
  },
  {
   "attachments": {},
   "cell_type": "markdown",
   "metadata": {},
   "source": [
    "##### $E_q^{''}$"
   ]
  },
  {
   "cell_type": "code",
   "execution_count": null,
   "metadata": {},
   "outputs": [],
   "source": [
    "varname_dpsim = \"Edq0_s_1\"\n",
    "varname_psat = \"eq_s\"\n",
    "\n",
    "rmse_eq_s = plot_variable(titles, varname_dpsim, varname_psat, ts_dpsim_6aOrder, ts_psat_6Order, nominal_values, ylabels)"
   ]
  },
  {
   "attachments": {},
   "cell_type": "markdown",
   "metadata": {},
   "source": [
    "##### $V_d$"
   ]
  },
  {
   "cell_type": "code",
   "execution_count": null,
   "metadata": {},
   "outputs": [],
   "source": [
    "varname_dpsim = \"Vdq0_0\"\n",
    "varname_psat = \"vd\"\n",
    "\n",
    "rmse_vd = plot_variable(titles, varname_dpsim, varname_psat, ts_dpsim_6aOrder, ts_psat_6Order, nominal_values, ylabels)"
   ]
  },
  {
   "attachments": {},
   "cell_type": "markdown",
   "metadata": {},
   "source": [
    "##### $V_q$"
   ]
  },
  {
   "cell_type": "code",
   "execution_count": null,
   "metadata": {},
   "outputs": [],
   "source": [
    "varname_dpsim = \"Vdq0_1\"\n",
    "varname_psat = \"vq\"\n",
    "\n",
    "rmse_vq = plot_variable(titles, varname_dpsim, varname_psat, ts_dpsim_6aOrder, ts_psat_6Order, nominal_values, ylabels)"
   ]
  },
  {
   "attachments": {},
   "cell_type": "markdown",
   "metadata": {},
   "source": [
    "##### $I_d$"
   ]
  },
  {
   "cell_type": "code",
   "execution_count": null,
   "metadata": {},
   "outputs": [],
   "source": [
    "varname_dpsim = \"Idq0_0\"\n",
    "varname_psat = \"id\"\n",
    "\n",
    "rmse_id = plot_variable(titles, varname_dpsim, varname_psat, ts_dpsim_6aOrder, ts_psat_6Order, nominal_values, ylabels)"
   ]
  },
  {
   "attachments": {},
   "cell_type": "markdown",
   "metadata": {},
   "source": [
    "##### $I_q$"
   ]
  },
  {
   "cell_type": "code",
   "execution_count": null,
   "metadata": {},
   "outputs": [],
   "source": [
    "varname_dpsim = \"Idq0_1\"\n",
    "varname_psat = \"iq\"\n",
    "\n",
    "rmse_iq = plot_variable(titles, varname_dpsim, varname_psat, ts_dpsim_6aOrder, ts_psat_6Order, nominal_values, ylabels)"
   ]
  },
  {
   "attachments": {},
   "cell_type": "markdown",
   "metadata": {},
   "source": [
    "##### Delta"
   ]
  },
  {
   "cell_type": "code",
   "execution_count": null,
   "metadata": {},
   "outputs": [],
   "source": [
    "varname_dpsim = \"delta\"\n",
    "varname_psat = \"delta\"\n",
    "\n",
    "rmse_delta = plot_variable(titles, varname_dpsim, varname_psat, ts_dpsim_6aOrder, ts_psat_6Order, nominal_values, ylabels)"
   ]
  },
  {
   "attachments": {},
   "cell_type": "markdown",
   "metadata": {},
   "source": [
    "##### Mechanical omega"
   ]
  },
  {
   "cell_type": "code",
   "execution_count": null,
   "metadata": {},
   "outputs": [],
   "source": [
    "varname_dpsim = \"w_r\"\n",
    "varname_psat = \"omega\"\n",
    "\n",
    "rmse_omega = plot_variable(titles, varname_dpsim, varname_psat, ts_dpsim_6aOrder, ts_psat_6Order, nominal_values, ylabels)"
   ]
  },
  {
   "attachments": {},
   "cell_type": "markdown",
   "metadata": {},
   "source": [
    "##### Grid voltages"
   ]
  },
  {
   "cell_type": "code",
   "execution_count": null,
   "metadata": {},
   "outputs": [],
   "source": [
    "varname_dpsim = \"n1.v\"\n",
    "varname_psat = \"V_Bus1\"\n",
    "\n",
    "rmse_v1_abs = plot_node_volt_abs(varname_dpsim, varname_psat, ts_dpsim_6aOrder, ts_psat_6Order, nominal_grid_voltage, ylabels)"
   ]
  },
  {
   "cell_type": "code",
   "execution_count": null,
   "metadata": {},
   "outputs": [],
   "source": [
    "varname_dpsim = \"n1.v\"\n",
    "varname_psat = \"theta_bus1\"\n",
    "\n",
    "rmse_v1_angle = plot_node_volt_angle(varname_dpsim, varname_psat, ts_dpsim_6aOrder, ts_psat_6Order, nominal_grid_voltage, ylabels)"
   ]
  },
  {
   "cell_type": "code",
   "execution_count": null,
   "metadata": {},
   "outputs": [],
   "source": [
    "varname_dpsim = \"n2.v\"\n",
    "varname_psat = \"V_Bus3\"\n",
    "\n",
    "rmse_v2_abs = plot_node_volt_abs(varname_dpsim, varname_psat, ts_dpsim_6aOrder, ts_psat_6Order, nominal_grid_voltage, ylabels)"
   ]
  },
  {
   "cell_type": "code",
   "execution_count": null,
   "metadata": {},
   "outputs": [],
   "source": [
    "varname_dpsim = \"n2.v\"\n",
    "varname_psat = \"theta_bus3\"\n",
    "\n",
    "rmse_v2_angle = plot_node_volt_angle(varname_dpsim, varname_psat, ts_dpsim_6aOrder, ts_psat_6Order, nominal_grid_voltage, ylabels)"
   ]
  },
  {
   "attachments": {},
   "cell_type": "markdown",
   "metadata": {},
   "source": [
    "### Assert"
   ]
  },
  {
   "cell_type": "code",
   "execution_count": null,
   "metadata": {},
   "outputs": [],
   "source": [
    "tol = 1.3 #%\n",
    "tol_id = 7.3\n",
    "tol_iq = 4.8\n",
    "tol_deg_v1 = 0.13 # deg\n",
    "tol_deg_v2 = 1e-12 # deg\n",
    "\n",
    "assert(rmse_torque<tol)\n",
    "assert(rmse_ed<tol)\n",
    "assert(rmse_eq<tol)\n",
    "assert(rmse_ed_s<tol)\n",
    "assert(rmse_eq_s<tol)\n",
    "assert(rmse_vd<tol)\n",
    "assert(rmse_vq<tol)\n",
    "assert(rmse_id<tol_id)\n",
    "assert(rmse_iq<tol_iq)\n",
    "assert(rmse_delta<tol)\n",
    "assert(rmse_omega<tol)\n",
    "assert(rmse_v1_abs<tol)\n",
    "assert(rmse_v2_abs<tol)\n",
    "assert(rmse_v1_angle<tol_deg_v1)\n",
    "assert(rmse_v2_angle<tol_deg_v2)"
   ]
  },
  {
   "attachments": {},
   "cell_type": "markdown",
   "metadata": {},
   "source": [
    "### Validation 6th Order Model (Anderson-Fouad's model)"
   ]
  },
  {
   "cell_type": "code",
   "execution_count": null,
   "metadata": {},
   "outputs": [],
   "source": [
    "log_name = sp_reducedOrderSG_SMIB_fault(sim_pf, gen_pf, \"6bOrder\")"
   ]
  },
  {
   "attachments": {},
   "cell_type": "markdown",
   "metadata": {},
   "source": [
    "#### Read DPSim Results"
   ]
  },
  {
   "cell_type": "code",
   "execution_count": null,
   "metadata": {},
   "outputs": [],
   "source": [
    "# read Simulink log file\n",
    "\n",
    "file_path = os.getcwd() + \"/logs/\" + log_name + \"/\" + log_name + \".csv\"\n",
    "ts_dpsim_6bOrder = read_timeseries_dpsim(file_path)"
   ]
  },
  {
   "attachments": {},
   "cell_type": "markdown",
   "metadata": {},
   "source": [
    "#### Plot and validate results"
   ]
  },
  {
   "attachments": {},
   "cell_type": "markdown",
   "metadata": {},
   "source": [
    "##### Electrical Torque"
   ]
  },
  {
   "cell_type": "code",
   "execution_count": null,
   "metadata": {},
   "outputs": [],
   "source": [
    "varname_dpsim = \"Te\"\n",
    "varname_psat = \"p\"\n",
    "\n",
    "rmse_torque = plot_variable(titles, varname_dpsim, varname_psat, ts_dpsim_6bOrder, ts_psat_6Order, nominal_values, ylabels)"
   ]
  },
  {
   "attachments": {},
   "cell_type": "markdown",
   "metadata": {},
   "source": [
    "##### $V_d$"
   ]
  },
  {
   "cell_type": "code",
   "execution_count": null,
   "metadata": {},
   "outputs": [],
   "source": [
    "varname_dpsim = \"Vdq0_0\"\n",
    "varname_psat = \"vd\"\n",
    "\n",
    "rmse_vd = plot_variable(titles, varname_dpsim, varname_psat, ts_dpsim_6bOrder, ts_psat_6Order, nominal_values, ylabels)"
   ]
  },
  {
   "attachments": {},
   "cell_type": "markdown",
   "metadata": {},
   "source": [
    "##### $V_q$"
   ]
  },
  {
   "cell_type": "code",
   "execution_count": null,
   "metadata": {},
   "outputs": [],
   "source": [
    "varname_dpsim = \"Vdq0_1\"\n",
    "varname_psat = \"vq\"\n",
    "\n",
    "rmse_vq = plot_variable(titles, varname_dpsim, varname_psat, ts_dpsim_6bOrder, ts_psat_6Order, nominal_values, ylabels)"
   ]
  },
  {
   "attachments": {},
   "cell_type": "markdown",
   "metadata": {},
   "source": [
    "##### $I_d$"
   ]
  },
  {
   "cell_type": "code",
   "execution_count": null,
   "metadata": {},
   "outputs": [],
   "source": [
    "varname_dpsim = \"Idq0_0\"\n",
    "varname_psat = \"id\"\n",
    "\n",
    "rmse_id = plot_variable(titles, varname_dpsim, varname_psat, ts_dpsim_6bOrder, ts_psat_6Order, nominal_values, ylabels)"
   ]
  },
  {
   "attachments": {},
   "cell_type": "markdown",
   "metadata": {},
   "source": [
    "##### $I_q$"
   ]
  },
  {
   "cell_type": "code",
   "execution_count": null,
   "metadata": {},
   "outputs": [],
   "source": [
    "varname_dpsim = \"Idq0_1\"\n",
    "varname_psat = \"iq\"\n",
    "\n",
    "rmse_iq = plot_variable(titles, varname_dpsim, varname_psat, ts_dpsim_6bOrder, ts_psat_6Order, nominal_values, ylabels)"
   ]
  },
  {
   "attachments": {},
   "cell_type": "markdown",
   "metadata": {},
   "source": [
    "##### Delta"
   ]
  },
  {
   "cell_type": "code",
   "execution_count": null,
   "metadata": {},
   "outputs": [],
   "source": [
    "varname_dpsim = \"delta\"\n",
    "varname_psat = \"delta\"\n",
    "\n",
    "rmse_delta = plot_variable(titles, varname_dpsim, varname_psat, ts_dpsim_6bOrder, ts_psat_6Order, nominal_values, ylabels)"
   ]
  },
  {
   "attachments": {},
   "cell_type": "markdown",
   "metadata": {},
   "source": [
    "##### Mechanical omega"
   ]
  },
  {
   "cell_type": "code",
   "execution_count": null,
   "metadata": {},
   "outputs": [],
   "source": [
    "varname_dpsim = \"w_r\"\n",
    "varname_psat = \"omega\"\n",
    "\n",
    "rmse_omega = plot_variable(titles, varname_dpsim, varname_psat, ts_dpsim_6bOrder, ts_psat_6Order, nominal_values, ylabels)"
   ]
  },
  {
   "attachments": {},
   "cell_type": "markdown",
   "metadata": {},
   "source": [
    "##### Grid voltages"
   ]
  },
  {
   "cell_type": "code",
   "execution_count": null,
   "metadata": {},
   "outputs": [],
   "source": [
    "varname_dpsim = \"n1.v\"\n",
    "varname_psat = \"V_Bus1\"\n",
    "\n",
    "rmse_v1_abs = plot_node_volt_abs(varname_dpsim, varname_psat, ts_dpsim_6bOrder, ts_psat_6Order, nominal_grid_voltage, ylabels)"
   ]
  },
  {
   "cell_type": "code",
   "execution_count": null,
   "metadata": {},
   "outputs": [],
   "source": [
    "varname_dpsim = \"n1.v\"\n",
    "varname_psat = \"theta_bus1\"\n",
    "\n",
    "rmse_v1_angle = plot_node_volt_angle(varname_dpsim, varname_psat, ts_dpsim_6bOrder, ts_psat_6Order, nominal_grid_voltage, ylabels)"
   ]
  },
  {
   "cell_type": "code",
   "execution_count": null,
   "metadata": {},
   "outputs": [],
   "source": [
    "varname_dpsim = \"n2.v\"\n",
    "varname_psat = \"V_Bus3\"\n",
    "\n",
    "rmse_v2_abs = plot_node_volt_abs(varname_dpsim, varname_psat, ts_dpsim_6bOrder, ts_psat_6Order, nominal_grid_voltage, ylabels)"
   ]
  },
  {
   "cell_type": "code",
   "execution_count": null,
   "metadata": {},
   "outputs": [],
   "source": [
    "varname_dpsim = \"n2.v\"\n",
    "varname_psat = \"theta_bus3\"\n",
    "\n",
    "rmse_v2_angle = plot_node_volt_angle(varname_dpsim, varname_psat, ts_dpsim_6bOrder, ts_psat_6Order, nominal_grid_voltage, ylabels)"
   ]
  },
  {
   "attachments": {},
   "cell_type": "markdown",
   "metadata": {},
   "source": [
    "##### Assert"
   ]
  },
  {
   "cell_type": "code",
   "execution_count": null,
   "metadata": {},
   "outputs": [],
   "source": [
    "tol = 1 #%\n",
    "tol_id = 7.6 #%\n",
    "tol_iq = 5.2 #%\n",
    "tol_torque = 1.8\n",
    "tol_deg_v1 = 0.25 # deg\n",
    "tol_deg_v2 = 1e-12 # deg\n",
    "\n",
    "assert(rmse_torque<tol_torque)\n",
    "assert(rmse_vd<tol)\n",
    "assert(rmse_vq<tol)\n",
    "assert(rmse_id<tol_id)\n",
    "assert(rmse_iq<tol_iq)\n",
    "assert(rmse_delta<tol)\n",
    "assert(rmse_omega<tol)\n",
    "assert(rmse_v1_abs<tol)\n",
    "assert(rmse_v2_abs<tol)\n",
    "assert(rmse_v1_angle<tol_deg_v1)\n",
    "assert(rmse_v2_angle<tol_deg_v2)"
   ]
  }
 ],
 "metadata": {
  "kernelspec": {
   "display_name": "Python 3 (ipykernel)",
   "language": "python",
   "name": "python3"
  },
  "language_info": {
   "codemirror_mode": {
    "name": "ipython",
    "version": 3
   },
   "file_extension": ".py",
   "mimetype": "text/x-python",
   "name": "python",
   "nbconvert_exporter": "python",
   "pygments_lexer": "ipython3",
   "version": "3.9.13"
  },
  "vscode": {
   "interpreter": {
    "hash": "e7370f93d1d0cde622a1f8e1c04877d8463912d04d973331ad4851f04de6915a"
   },
   "tests": {
    "skip": false
   }
  }
 },
 "nbformat": 4,
 "nbformat_minor": 4
}
